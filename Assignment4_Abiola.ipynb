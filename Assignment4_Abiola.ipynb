{
  "nbformat": 4,
  "nbformat_minor": 0,
  "metadata": {
    "colab": {
      "name": "Assignment4_Abiola.ipynb",
      "provenance": [],
      "toc_visible": true,
      "authorship_tag": "ABX9TyO7apx9k1buR2fIGALoOdvS",
      "include_colab_link": true
    },
    "kernelspec": {
      "name": "python3",
      "display_name": "Python 3"
    }
  },
  "cells": [
    {
      "cell_type": "markdown",
      "metadata": {
        "id": "view-in-github",
        "colab_type": "text"
      },
      "source": [
        "<a href=\"https://colab.research.google.com/github/obeabi/Assignments/blob/master/Assignment4_Abiola.ipynb\" target=\"_parent\"><img src=\"https://colab.research.google.com/assets/colab-badge.svg\" alt=\"Open In Colab\"/></a>"
      ]
    },
    {
      "cell_type": "markdown",
      "metadata": {
        "id": "xeF7Nfqp1Red"
      },
      "source": [
        "# Pyhton Assignment 4\n",
        "## Written by Abiola Obembe\n",
        "### Date: 2020-11-11\n",
        "### Course: ML masters with deployment and deep learning"
      ]
    },
    {
      "cell_type": "markdown",
      "metadata": {
        "id": "pkmSP8ugmH_u"
      },
      "source": [
        "## Question 1"
      ]
    },
    {
      "cell_type": "markdown",
      "metadata": {
        "id": "aLeo77Li1YbN"
      },
      "source": [
        "Question 1.1:\n",
        "\n",
        "Write a Python Program(with class concepts) to find the area of the triangle using the below\n",
        "formula.\n",
        "area = (s*(s-a)*(s-b)*(s-c)) ** 0.5\n",
        "\n",
        "Function to take the length of the sides of triangle from user should be defined in the parent class and function to calculate the area should be defined in subclass.\n"
      ]
    },
    {
      "cell_type": "code",
      "metadata": {
        "id": "ojMGsf901XVR",
        "outputId": "2b19d0cb-ee8e-4e01-9ee8-56ec34399166",
        "colab": {
          "base_uri": "https://localhost:8080/"
        }
      },
      "source": [
        "# Coder Here\n",
        "import math\n",
        "\n",
        "class Triangle(object):\n",
        "\n",
        "  def __init__(self, a, b,c):\n",
        "    self.side_one = a;\n",
        "    self.side_two = b;\n",
        "    self.side_three = c;\n",
        "    \n",
        "\n",
        "  def area(self, s):\n",
        "    \n",
        "    y  = (s*(s-self.side_one)*(s-self.side_two)*(s-self.side_three)) ** 0.5\n",
        "\n",
        "\n",
        "  def __str__(self):\n",
        "    return (\" %d meter %d meter and %d meter, respectively are the dimensions of the three sides of the triangle .\" %(self.side_one, self.side_two, self.side_three ))\n",
        "     \n",
        "    return y\n",
        "\n",
        "  \n",
        "RedTriangle = Triangle(2,3,5)\n",
        "print(RedTriangle)\n",
        "print( \"The area of the traingle is\", RedTriangle.area(15),'m^2')\n"
      ],
      "execution_count": 20,
      "outputs": [
        {
          "output_type": "stream",
          "text": [
            " 2 meter 3 meter and 5 meter, respectively are the dimensions of the three sides of the triangle .\n",
            "The area of the traingle is None m^2\n"
          ],
          "name": "stdout"
        }
      ]
    },
    {
      "cell_type": "markdown",
      "metadata": {
        "id": "lhTGhntzl8gL"
      },
      "source": [
        "\n",
        "Question 1.2:\n",
        "\n",
        " Write a function filter_long_words() that takes a list of words and an integer n and returns the list of words that are longer than n."
      ]
    },
    {
      "cell_type": "code",
      "metadata": {
        "id": "QtxcDAdYDM4o",
        "outputId": "b35231d4-f52b-475b-953b-f1fcb406f374",
        "colab": {
          "base_uri": "https://localhost:8080/"
        }
      },
      "source": [
        "# Code Here\n",
        "def filter_long_words(words_list, n=4):\n",
        "  result_words = []\n",
        "  for wordz in words_list:\n",
        "    if len(wordz) > n:\n",
        "      result_words.append(wordz)\n",
        "  return result_words\n",
        "\n",
        "# Test function\n",
        "\n",
        "wordss = [ 'hi', 'Abiola', 'Shoe', 'Toyota','India', 'Canada', 'pen', 'computer']\n",
        "\n",
        "print(filter_long_words(wordss,4))\n"
      ],
      "execution_count": 21,
      "outputs": [
        {
          "output_type": "stream",
          "text": [
            "['Abiola', 'Toyota', 'India', 'Canada', 'computer']\n"
          ],
          "name": "stdout"
        }
      ]
    },
    {
      "cell_type": "code",
      "metadata": {
        "id": "aB6qXJp6UrSG",
        "outputId": "9ace15b9-60bd-4d35-faef-fc9401c28697",
        "colab": {
          "base_uri": "https://localhost:8080/"
        }
      },
      "source": [
        "# Question 1.2: Alternative solution using python inbuilt fileter function\n",
        "\n",
        "def filter_long_words2(words_list, n=4):\n",
        "    if len(words_list) > n:\n",
        "      return True\n",
        "\n",
        "# Test function\n",
        "\n",
        "list(filter(filter_long_words2, wordss))"
      ],
      "execution_count": 22,
      "outputs": [
        {
          "output_type": "execute_result",
          "data": {
            "text/plain": [
              "['Abiola', 'Toyota', 'India', 'Canada', 'computer']"
            ]
          },
          "metadata": {
            "tags": []
          },
          "execution_count": 22
        }
      ]
    },
    {
      "cell_type": "markdown",
      "metadata": {
        "id": "PAfdwUgwmVQV"
      },
      "source": [
        "## Question 2"
      ]
    },
    {
      "cell_type": "markdown",
      "metadata": {
        "id": "viGbEEj7lvZ6"
      },
      "source": [
        "Question 2.1:\n",
        "\n",
        " Write a Python program using function concept that maps list of words into a list of integers\n",
        "representing the lengths of the corresponding words.\n",
        "Hint: If a list [ ab,cde,erty] is passed on to the python function output should come as [2,3,4]\n",
        "Here 2,3 and 4 are the lengths of the words in the list."
      ]
    },
    {
      "cell_type": "code",
      "metadata": {
        "id": "f9l0jyAZmZAX",
        "outputId": "da8575fc-febd-4ca4-cbd0-db0f0307129a",
        "colab": {
          "base_uri": "https://localhost:8080/"
        }
      },
      "source": [
        "# Code here\n",
        "\n",
        "def map_word_vec(lsts):\n",
        "     out = []\n",
        "     for wordss in lsts:\n",
        "         out.append(len(wordss))\n",
        "\n",
        "     return out\n",
        "\n",
        "\n",
        "  # Test code here\n",
        "squares = ['ab', 'cde', 'erty','aioo45']\n",
        "\n",
        "\n",
        "z = map_word_vec(squares)\n",
        "print(z)"
      ],
      "execution_count": 23,
      "outputs": [
        {
          "output_type": "stream",
          "text": [
            "[2, 3, 4, 6]\n"
          ],
          "name": "stdout"
        }
      ]
    },
    {
      "cell_type": "code",
      "metadata": {
        "id": "EbOgwsDxsvn2",
        "outputId": "1777895d-3a10-4650-d467-074dca5683fe",
        "colab": {
          "base_uri": "https://localhost:8080/"
        }
      },
      "source": [
        "# Convenient alternative using pyhtnon inbuilt map function\n",
        "def map_word_vec2(lsts):\n",
        "     \n",
        "    out= (len(lsts))\n",
        "\n",
        "    return out\n",
        "\n",
        "list(map(map_word_vec2, squares))"
      ],
      "execution_count": 24,
      "outputs": [
        {
          "output_type": "execute_result",
          "data": {
            "text/plain": [
              "[2, 3, 4, 6]"
            ]
          },
          "metadata": {
            "tags": []
          },
          "execution_count": 24
        }
      ]
    },
    {
      "cell_type": "markdown",
      "metadata": {
        "id": "C-oOFGGgoloR"
      },
      "source": [
        "Question 2.2:\n",
        "\n",
        "Write a Python function which takes a character (i.e. a string of length 1) and returns True if\n",
        "it is a vowel, False otherwise."
      ]
    },
    {
      "cell_type": "code",
      "metadata": {
        "id": "V3ysGuwHr89K",
        "outputId": "98eb60c3-e4b1-4ead-9235-f49420ffd599",
        "colab": {
          "base_uri": "https://localhost:8080/"
        }
      },
      "source": [
        "# Code here\n",
        "\n",
        "def vowel_finder(characterString):\n",
        " vowel = [ 'a', 'e', 'i', 'o', 'u']\n",
        "\n",
        " if characterString.lower() in vowel:\n",
        "   y = True\n",
        " else:\n",
        "   y = False\n",
        "\n",
        " return y\n",
        "\n",
        "# Test function here\n",
        "y = vowel_finder('E')\n",
        "print(y)"
      ],
      "execution_count": 25,
      "outputs": [
        {
          "output_type": "stream",
          "text": [
            "True\n"
          ],
          "name": "stdout"
        }
      ]
    }
  ]
}