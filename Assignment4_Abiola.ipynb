{
  "nbformat": 4,
  "nbformat_minor": 0,
  "metadata": {
    "colab": {
      "name": "Assignment4_Abiola.ipynb",
      "provenance": [],
      "toc_visible": true,
      "authorship_tag": "ABX9TyMvG2qkfDEGuvxPYEUki7vp",
      "include_colab_link": true
    },
    "kernelspec": {
      "name": "python3",
      "display_name": "Python 3"
    }
  },
  "cells": [
    {
      "cell_type": "markdown",
      "metadata": {
        "id": "view-in-github",
        "colab_type": "text"
      },
      "source": [
        "<a href=\"https://colab.research.google.com/github/obeabi/Assignments/blob/master/Assignment4_Abiola.ipynb\" target=\"_parent\"><img src=\"https://colab.research.google.com/assets/colab-badge.svg\" alt=\"Open In Colab\"/></a>"
      ]
    },
    {
      "cell_type": "markdown",
      "metadata": {
        "id": "xeF7Nfqp1Red"
      },
      "source": [
        "# Pyhton Assignment 4\n",
        "## Written by Abiola Obembe\n",
        "### Date: 2020-11-11\n",
        "### Course: ML masters with deployment and deep learning"
      ]
    },
    {
      "cell_type": "markdown",
      "metadata": {
        "id": "pkmSP8ugmH_u"
      },
      "source": [
        "## Question 1"
      ]
    },
    {
      "cell_type": "markdown",
      "metadata": {
        "id": "aLeo77Li1YbN"
      },
      "source": [
        "Question 1.1:\n",
        "\n",
        "Write a Python Program(with class concepts) to find the area of the triangle using the below\n",
        "formula.\n",
        "area = (s*(s-a)*(s-b)*(s-c)) ** 0.5\n",
        "\n",
        "Function to take the length of the sides of triangle from user should be defined in the parent class and function to calculate the area should be defined in subclass.\n"
      ]
    },
    {
      "cell_type": "code",
      "metadata": {
        "id": "ojMGsf901XVR",
        "outputId": "7645aed9-adbe-47ee-9ab0-4e3ce0064c2c",
        "colab": {
          "base_uri": "https://localhost:8080/",
          "height": 313
        }
      },
      "source": [
        "# Coder Here\n",
        "import math\n",
        "\n",
        "class Triangle(object):\n",
        "\n",
        "  def __init__(self, a, b,c):\n",
        "    self.a = a;\n",
        "    self.b = b;\n",
        "    self.c = c;\n",
        "    \n",
        "\n",
        "  def area(self, a, b,c):\n",
        "    \n",
        "    y  = (s*(s-a)*(s-b)*(s-c)) ** 0.5\n",
        "     \n",
        "    return y\n",
        "\n",
        "  \n",
        "RedTriangle = Triangle(2,3,5)\n",
        "print( \"The area of the traingle is\", RedTriangle.area(2,3,5))\n"
      ],
      "execution_count": 191,
      "outputs": [
        {
          "output_type": "error",
          "ename": "NameError",
          "evalue": "ignored",
          "traceback": [
            "\u001b[0;31m---------------------------------------------------------------------------\u001b[0m",
            "\u001b[0;31mNameError\u001b[0m                                 Traceback (most recent call last)",
            "\u001b[0;32m<ipython-input-191-d2404daf4a5a>\u001b[0m in \u001b[0;36m<module>\u001b[0;34m()\u001b[0m\n\u001b[1;32m     18\u001b[0m \u001b[0;34m\u001b[0m\u001b[0m\n\u001b[1;32m     19\u001b[0m \u001b[0mRedTriangle\u001b[0m \u001b[0;34m=\u001b[0m \u001b[0mTriangle\u001b[0m\u001b[0;34m(\u001b[0m\u001b[0;36m2\u001b[0m\u001b[0;34m,\u001b[0m\u001b[0;36m3\u001b[0m\u001b[0;34m,\u001b[0m\u001b[0;36m5\u001b[0m\u001b[0;34m)\u001b[0m\u001b[0;34m\u001b[0m\u001b[0;34m\u001b[0m\u001b[0m\n\u001b[0;32m---> 20\u001b[0;31m \u001b[0mprint\u001b[0m\u001b[0;34m(\u001b[0m \u001b[0;34m\"The area of the traingle is\"\u001b[0m\u001b[0;34m,\u001b[0m \u001b[0mRedTriangle\u001b[0m\u001b[0;34m.\u001b[0m\u001b[0marea\u001b[0m\u001b[0;34m(\u001b[0m\u001b[0;36m2\u001b[0m\u001b[0;34m,\u001b[0m\u001b[0;36m3\u001b[0m\u001b[0;34m,\u001b[0m\u001b[0;36m5\u001b[0m\u001b[0;34m)\u001b[0m\u001b[0;34m)\u001b[0m\u001b[0;34m\u001b[0m\u001b[0;34m\u001b[0m\u001b[0m\n\u001b[0m",
            "\u001b[0;32m<ipython-input-191-d2404daf4a5a>\u001b[0m in \u001b[0;36marea\u001b[0;34m(self, a, b, c)\u001b[0m\n\u001b[1;32m     12\u001b[0m   \u001b[0;32mdef\u001b[0m \u001b[0marea\u001b[0m\u001b[0;34m(\u001b[0m\u001b[0mself\u001b[0m\u001b[0;34m,\u001b[0m \u001b[0ma\u001b[0m\u001b[0;34m,\u001b[0m \u001b[0mb\u001b[0m\u001b[0;34m,\u001b[0m\u001b[0mc\u001b[0m\u001b[0;34m)\u001b[0m\u001b[0;34m:\u001b[0m\u001b[0;34m\u001b[0m\u001b[0;34m\u001b[0m\u001b[0m\n\u001b[1;32m     13\u001b[0m \u001b[0;34m\u001b[0m\u001b[0m\n\u001b[0;32m---> 14\u001b[0;31m     \u001b[0my\u001b[0m  \u001b[0;34m=\u001b[0m \u001b[0;34m(\u001b[0m\u001b[0ms\u001b[0m\u001b[0;34m*\u001b[0m\u001b[0;34m(\u001b[0m\u001b[0ms\u001b[0m\u001b[0;34m-\u001b[0m\u001b[0ma\u001b[0m\u001b[0;34m)\u001b[0m\u001b[0;34m*\u001b[0m\u001b[0;34m(\u001b[0m\u001b[0ms\u001b[0m\u001b[0;34m-\u001b[0m\u001b[0mb\u001b[0m\u001b[0;34m)\u001b[0m\u001b[0;34m*\u001b[0m\u001b[0;34m(\u001b[0m\u001b[0ms\u001b[0m\u001b[0;34m-\u001b[0m\u001b[0mc\u001b[0m\u001b[0;34m)\u001b[0m\u001b[0;34m)\u001b[0m \u001b[0;34m**\u001b[0m \u001b[0;36m0.5\u001b[0m\u001b[0;34m\u001b[0m\u001b[0;34m\u001b[0m\u001b[0m\n\u001b[0m\u001b[1;32m     15\u001b[0m \u001b[0;34m\u001b[0m\u001b[0m\n\u001b[1;32m     16\u001b[0m     \u001b[0;32mreturn\u001b[0m \u001b[0my\u001b[0m\u001b[0;34m\u001b[0m\u001b[0;34m\u001b[0m\u001b[0m\n",
            "\u001b[0;31mNameError\u001b[0m: name 's' is not defined"
          ]
        }
      ]
    },
    {
      "cell_type": "markdown",
      "metadata": {
        "id": "lhTGhntzl8gL"
      },
      "source": [
        "\n",
        "Question 1.2:\n",
        "\n",
        " Write a function filter_long_words() that takes a list of words and an integer n and returns the list of words that are longer than n."
      ]
    },
    {
      "cell_type": "code",
      "metadata": {
        "id": "QtxcDAdYDM4o",
        "outputId": "577a6d28-e40d-4a17-c38e-19422d55c68a",
        "colab": {
          "base_uri": "https://localhost:8080/"
        }
      },
      "source": [
        "# Code Here\n",
        "def filter_long_words(words_list, n=4):\n",
        "  result_words = []\n",
        "  for wordz in words_list:\n",
        "    if len(wordz) > n:\n",
        "      result_words.append(wordz)\n",
        "  return result_words\n",
        "\n",
        "# Test function\n",
        "\n",
        "wordss = [ 'hi', 'Abiola', 'Shoe', 'Toyota']\n",
        "\n",
        "print(filter_long_words(wordss,4))\n"
      ],
      "execution_count": 192,
      "outputs": [
        {
          "output_type": "stream",
          "text": [
            "['Abiola', 'Toyota']\n"
          ],
          "name": "stdout"
        }
      ]
    },
    {
      "cell_type": "code",
      "metadata": {
        "id": "aB6qXJp6UrSG",
        "outputId": "799e20d4-c41a-418d-f9f6-dde0deed3ac4",
        "colab": {
          "base_uri": "https://localhost:8080/"
        }
      },
      "source": [
        "# Question 1.2: Alternative solution using python inbuilt fileter function\n",
        "\n",
        "def filter_long_words2(words_list, n=4):\n",
        "    if len(words_list) > n:\n",
        "      return True\n",
        "\n",
        "# Test function\n",
        "\n",
        "list(filter(filter_long_words2, wordss))"
      ],
      "execution_count": 193,
      "outputs": [
        {
          "output_type": "execute_result",
          "data": {
            "text/plain": [
              "['Abiola', 'Toyota']"
            ]
          },
          "metadata": {
            "tags": []
          },
          "execution_count": 193
        }
      ]
    },
    {
      "cell_type": "markdown",
      "metadata": {
        "id": "PAfdwUgwmVQV"
      },
      "source": [
        "## Question 2"
      ]
    },
    {
      "cell_type": "markdown",
      "metadata": {
        "id": "viGbEEj7lvZ6"
      },
      "source": [
        "Question 2.1:\n",
        "\n",
        " Write a Python program using function concept that maps list of words into a list of integers\n",
        "representing the lengths of the corresponding words.\n",
        "Hint: If a list [ ab,cde,erty] is passed on to the python function output should come as [2,3,4]\n",
        "Here 2,3 and 4 are the lengths of the words in the list."
      ]
    },
    {
      "cell_type": "code",
      "metadata": {
        "id": "f9l0jyAZmZAX",
        "outputId": "7b476893-b175-4663-ab81-51f06062cad6",
        "colab": {
          "base_uri": "https://localhost:8080/"
        }
      },
      "source": [
        "# Code here\n",
        "\n",
        "def map_word_vec(lsts):\n",
        "     out = []\n",
        "     for wordss in lsts:\n",
        "         out.append(len(wordss))\n",
        "\n",
        "     return out\n",
        "\n",
        "\n",
        "  # Test code here\n",
        "squares = ['ab', 'cde', 'erty','aioo45']\n",
        "\n",
        "\n",
        "z = map_word_vec(squares)\n",
        "print(z)"
      ],
      "execution_count": 194,
      "outputs": [
        {
          "output_type": "stream",
          "text": [
            "[2, 3, 4, 6]\n"
          ],
          "name": "stdout"
        }
      ]
    },
    {
      "cell_type": "code",
      "metadata": {
        "id": "EbOgwsDxsvn2",
        "outputId": "a9706c94-157a-400b-f252-3da7b49aa04b",
        "colab": {
          "base_uri": "https://localhost:8080/"
        }
      },
      "source": [
        "# Convenient alternative using pyhtnon inbuilt map function\n",
        "def map_word_vec2(lsts):\n",
        "     \n",
        "    out= (len(lsts))\n",
        "\n",
        "    return out\n",
        "\n",
        "list(map(map_word_vec2, squares))"
      ],
      "execution_count": 195,
      "outputs": [
        {
          "output_type": "execute_result",
          "data": {
            "text/plain": [
              "[2, 3, 4, 6]"
            ]
          },
          "metadata": {
            "tags": []
          },
          "execution_count": 195
        }
      ]
    },
    {
      "cell_type": "markdown",
      "metadata": {
        "id": "C-oOFGGgoloR"
      },
      "source": [
        "Question 2.2:\n",
        "\n",
        "Write a Python function which takes a character (i.e. a string of length 1) and returns True if\n",
        "it is a vowel, False otherwise."
      ]
    },
    {
      "cell_type": "code",
      "metadata": {
        "id": "V3ysGuwHr89K",
        "outputId": "469e4371-0be4-4b65-bb1e-08f724e32f33",
        "colab": {
          "base_uri": "https://localhost:8080/"
        }
      },
      "source": [
        "# Code here\n",
        "\n",
        "def vowel_finder(characterString):\n",
        " vowel = [ 'a', 'e', 'i', 'o', 'u']\n",
        "\n",
        " if characterString.lower() in vowel:\n",
        "   y = True\n",
        " else:\n",
        "   y = False\n",
        "\n",
        " return y\n",
        "\n",
        "# Test function here\n",
        "y = vowel_finder('E')\n",
        "print(y)"
      ],
      "execution_count": 196,
      "outputs": [
        {
          "output_type": "stream",
          "text": [
            "True\n"
          ],
          "name": "stdout"
        }
      ]
    }
  ]
}