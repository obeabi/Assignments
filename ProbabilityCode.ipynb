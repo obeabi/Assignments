{
  "nbformat": 4,
  "nbformat_minor": 0,
  "metadata": {
    "colab": {
      "name": "ProbabilityCode.ipynb",
      "provenance": [],
      "authorship_tag": "ABX9TyO+rr/OPkwaZCP8Kk1UPS5h",
      "include_colab_link": true
    },
    "kernelspec": {
      "name": "python3",
      "display_name": "Python 3"
    }
  },
  "cells": [
    {
      "cell_type": "markdown",
      "metadata": {
        "id": "view-in-github",
        "colab_type": "text"
      },
      "source": [
        "<a href=\"https://colab.research.google.com/github/obeabi/Assignments/blob/master/ProbabilityCode.ipynb\" target=\"_parent\"><img src=\"https://colab.research.google.com/assets/colab-badge.svg\" alt=\"Open In Colab\"/></a>"
      ]
    },
    {
      "cell_type": "code",
      "metadata": {
        "id": "VIPGo-E31dQU"
      },
      "source": [
        "import matplotlib.pyplot as plt\r\n",
        "import numpy as np\r\n",
        "from scipy.stats import norm\r\n",
        "np.random.seed(0)"
      ],
      "execution_count": 1,
      "outputs": []
    },
    {
      "cell_type": "code",
      "metadata": {
        "id": "U20ByWBh1pMk"
      },
      "source": [
        "mu = 170\r\n",
        "sd = 7\r\n",
        "x = norm.rvs(loc = mu, scale = sd, size = 100)"
      ],
      "execution_count": 3,
      "outputs": []
    },
    {
      "cell_type": "code",
      "metadata": {
        "colab": {
          "base_uri": "https://localhost:8080/"
        },
        "id": "RIYnMBtR1sm7",
        "outputId": "4957e39b-7bd1-4aaa-c46a-14fd827810e0"
      },
      "source": [
        "# maximum likelihood mean\r\n",
        "print(x.mean())\r\n"
      ],
      "execution_count": 4,
      "outputs": [
        {
          "output_type": "stream",
          "text": [
            "170.41865610874137\n"
          ],
          "name": "stdout"
        }
      ]
    },
    {
      "cell_type": "code",
      "metadata": {
        "colab": {
          "base_uri": "https://localhost:8080/"
        },
        "id": "XxNeWvZM2DER",
        "outputId": "13ecb700-1f67-48be-9d62-e91e06858f4a"
      },
      "source": [
        "# Maximum likehood variance\r\n",
        "print(x.var())"
      ],
      "execution_count": 5,
      "outputs": [
        {
          "output_type": "stream",
          "text": [
            "49.77550434153163\n"
          ],
          "name": "stdout"
        }
      ]
    },
    {
      "cell_type": "code",
      "metadata": {
        "colab": {
          "base_uri": "https://localhost:8080/"
        },
        "id": "O_DD_tfY2FjD",
        "outputId": "1d067c58-372c-4ec7-e73a-6f48c2e0dfdb"
      },
      "source": [
        "# Maximum likelihood standard deviation\r\n",
        "print(x.std())"
      ],
      "execution_count": 7,
      "outputs": [
        {
          "output_type": "stream",
          "text": [
            "7.055175713016057\n"
          ],
          "name": "stdout"
        }
      ]
    },
    {
      "cell_type": "code",
      "metadata": {
        "colab": {
          "base_uri": "https://localhost:8080/"
        },
        "id": "GSJmXr2C2H0l",
        "outputId": "6599493e-2911-4717-ca94-83dbb56a3df1"
      },
      "source": [
        "# unbiased std\r\n",
        "print(x.std(ddof=1))"
      ],
      "execution_count": 8,
      "outputs": [
        {
          "output_type": "stream",
          "text": [
            "7.090718384879512\n"
          ],
          "name": "stdout"
        }
      ]
    },
    {
      "cell_type": "code",
      "metadata": {
        "colab": {
          "base_uri": "https://localhost:8080/"
        },
        "id": "GRPpAQH92OxX",
        "outputId": "04abd7d5-9ddb-4626-9e14-31603871f5b7"
      },
      "source": [
        "# unbiased variance\r\n",
        "print(x.var(ddof=1))"
      ],
      "execution_count": 9,
      "outputs": [
        {
          "output_type": "stream",
          "text": [
            "50.278287213668314\n"
          ],
          "name": "stdout"
        }
      ]
    },
    {
      "cell_type": "code",
      "metadata": {
        "colab": {
          "base_uri": "https://localhost:8080/"
        },
        "id": "YVTXXd9G2067",
        "outputId": "b59b79f6-8303-44f6-f1d7-f415fd9c28a3"
      },
      "source": [
        "# At what height are you in the 95% perecentile\r\n",
        "norm.ppf(0.95, mu, sd)"
      ],
      "execution_count": 10,
      "outputs": [
        {
          "output_type": "execute_result",
          "data": {
            "text/plain": [
              "181.5139753886603"
            ]
          },
          "metadata": {
            "tags": []
          },
          "execution_count": 10
        }
      ]
    },
    {
      "cell_type": "code",
      "metadata": {
        "colab": {
          "base_uri": "https://localhost:8080/"
        },
        "id": "OVOZTFif3EoN",
        "outputId": "05495c8a-66e3-4b84-d156-59c0710ba242"
      },
      "source": [
        "# You are 160 cm what percentile are you\r\n",
        "norm.cdf(160, mu, sd)"
      ],
      "execution_count": 11,
      "outputs": [
        {
          "output_type": "execute_result",
          "data": {
            "text/plain": [
              "0.07656372550983476"
            ]
          },
          "metadata": {
            "tags": []
          },
          "execution_count": 11
        }
      ]
    },
    {
      "cell_type": "code",
      "metadata": {
        "colab": {
          "base_uri": "https://localhost:8080/"
        },
        "id": "k0y2t-BV3TkX",
        "outputId": "979d2c8e-8f01-4cb4-bada-7f6317e06c4c"
      },
      "source": [
        "# You are 180 cm tall what is the probability that someone is taller than you\r\n",
        "1- norm.cdf(180, loc= mu, scale = sd)"
      ],
      "execution_count": 12,
      "outputs": [
        {
          "output_type": "execute_result",
          "data": {
            "text/plain": [
              "0.07656372550983481"
            ]
          },
          "metadata": {
            "tags": []
          },
          "execution_count": 12
        }
      ]
    },
    {
      "cell_type": "code",
      "metadata": {
        "colab": {
          "base_uri": "https://localhost:8080/"
        },
        "id": "NIRHoUd13rqh",
        "outputId": "caf7d0dc-7bea-4841-d780-ed9a79de065d"
      },
      "source": [
        "norm.sf(180, mu, sd)"
      ],
      "execution_count": 13,
      "outputs": [
        {
          "output_type": "execute_result",
          "data": {
            "text/plain": [
              "0.07656372550983476"
            ]
          },
          "metadata": {
            "tags": []
          },
          "execution_count": 13
        }
      ]
    }
  ]
}