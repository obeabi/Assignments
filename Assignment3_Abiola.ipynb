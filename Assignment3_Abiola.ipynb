{
  "nbformat": 4,
  "nbformat_minor": 0,
  "metadata": {
    "colab": {
      "name": "Assignment3_Abiola.ipynb",
      "provenance": [],
      "toc_visible": true,
      "authorship_tag": "ABX9TyOS/qME/qQIfqszD7IYr0rU",
      "include_colab_link": true
    },
    "kernelspec": {
      "name": "python3",
      "display_name": "Python 3"
    }
  },
  "cells": [
    {
      "cell_type": "markdown",
      "metadata": {
        "id": "view-in-github",
        "colab_type": "text"
      },
      "source": [
        "<a href=\"https://colab.research.google.com/github/obeabi/Assignments/blob/master/Assignment3_Abiola.ipynb\" target=\"_parent\"><img src=\"https://colab.research.google.com/assets/colab-badge.svg\" alt=\"Open In Colab\"/></a>"
      ]
    },
    {
      "cell_type": "markdown",
      "metadata": {
        "id": "MeE_WCezm1RT"
      },
      "source": [
        "# Pyhton Assignment 3\n",
        "# Written by Abiola Obembe\n",
        "## Date: 2020-11-05\n",
        "## Course: ML masters with deployment and deep learning\n",
        "---------------------------------------------------------------------------------------------------------------------------------------------------------------------------------------------------------------------------------------------\n",
        "---------- Assignment starts here -------------------------------------------------"
      ]
    },
    {
      "cell_type": "code",
      "metadata": {
        "id": "T7PQT0vwm9JQ",
        "outputId": "b33773bc-1f83-459b-e4bc-c9f00d85944c",
        "colab": {
          "base_uri": "https://localhost:8080/"
        }
      },
      "source": [
        "'''\n",
        " Question 1.1 :Write a Python Program to implement your own myreduce() function which works exactly\n",
        "like Python's built-in function reduce()\n",
        "'''\n",
        "\n",
        "# Built-in function reduce()\n",
        "from functools import reduce\n",
        "lst = [1,2,4,5,8]\n",
        "funcz =  lambda x, y: x+y\n",
        "\n",
        "print( \" The output of the Python's built in function reduce is {}\". format( reduce(funcz, lst)))\n",
        "\n",
        "\n",
        "# My code here\n",
        "def myreduce(operation, data):\n",
        "  if operation == 'add':\n",
        "      sumz = 0\n",
        "      for entry in data:\n",
        "          sumz += entry\n",
        "  elif operation == 'multiply':\n",
        "       sumz = 1\n",
        "       for entry in data:\n",
        "         sumz = sumz * entry\n",
        "  elif operation == 'division':\n",
        "       sumz = 1\n",
        "       for entry in data:\n",
        "         sumz = sumz/entry\n",
        "   \n",
        "\n",
        "  return sumz\n",
        "\n",
        "\n",
        "\n",
        "y = myreduce('add', lst) \n",
        "print( \" The output of my function that mimics the Python's built in function reduce() is {}\". format( y))\n",
        "      "
      ],
      "execution_count": 5,
      "outputs": [
        {
          "output_type": "stream",
          "text": [
            " The output of the Python's built in function reduce is 20\n",
            " The output of my function that mimics the Python's built in function reduce() is 20\n"
          ],
          "name": "stdout"
        }
      ]
    },
    {
      "cell_type": "code",
      "metadata": {
        "id": "U9XlitCmn06E",
        "outputId": "2e743852-bfdc-4d70-9091-6e9c360c2c4c",
        "colab": {
          "base_uri": "https://localhost:8080/"
        }
      },
      "source": [
        "'''\n",
        "Question 1.2 : Write a Python program to implement your own myfilter() function which works exactly\n",
        "like Python's built-in function filter()\n",
        "\n",
        "'''\n",
        "# Built-in function filter() code\n",
        "lst = [1,2,4,5,8]\n",
        "funcz =  lambda x: True if x%2 == 0 else False\n",
        "\n",
        "print( \" The output of the Python's built in function filter() is: \\n \" ,  list( filter(funcz, lst)))\n",
        "\n",
        "\n",
        "# My code here\n",
        "def myfilter(data):\n",
        "    y = []\n",
        "    for entry in data:\n",
        "      if entry % 2 == 0:\n",
        "         y.append(entry)\n",
        "    return y\n",
        "\n",
        "\n",
        "\n",
        "y = myfilter(lst)\n",
        "y \n",
        "print( \" The output of my function that mimics the Python's built-in function filter() is: \\n\" ,  y)\n",
        "\n"
      ],
      "execution_count": 6,
      "outputs": [
        {
          "output_type": "stream",
          "text": [
            " The output of the Python's built in function filter() is: \n",
            "  [2, 4, 8]\n",
            " The output of my function that mimics the Python's built-in function filter() is: \n",
            " [2, 4, 8]\n"
          ],
          "name": "stdout"
        }
      ]
    },
    {
      "cell_type": "markdown",
      "metadata": {
        "id": "oC6EGd4Kt4lM"
      },
      "source": [
        "Question 2:  Implement List comprehensions to produce the following lists.\n",
        "Write List comprehensions to produce the following Lists"
      ]
    },
    {
      "cell_type": "code",
      "metadata": {
        "id": "lc_NwzYBt98n",
        "outputId": "00d3a827-0d39-4a2b-9ebe-4bb07389528c",
        "colab": {
          "base_uri": "https://localhost:8080/"
        }
      },
      "source": [
        "# Write List comprehensions to produce the following Lists: ['A', 'C', 'A', 'D', 'G', 'I', ’L’, ‘ D’] \n",
        "z = [i.upper () for i in 'acadgild']\n",
        "print(z)"
      ],
      "execution_count": 102,
      "outputs": [
        {
          "output_type": "stream",
          "text": [
            "['A', 'C', 'A', 'D', 'G', 'I', 'L', 'D']\n"
          ],
          "name": "stdout"
        }
      ]
    },
    {
      "cell_type": "code",
      "metadata": {
        "id": "bSFp0e3juN0d",
        "outputId": "bbfc473c-5ad3-4556-b0de-a63c9743e384",
        "colab": {
          "base_uri": "https://localhost:8080/"
        }
      },
      "source": [
        "# Write List comprehensions to produce the following Lists: ['x', 'xx', 'xxx', 'xxxx', 'y', 'yy', 'yyy', 'yyyy', 'z', 'zz', 'zzz', 'zzzz']\n",
        "z = [ i*j  for i in  'xyz' for j in [1,2,3,4] ]\n",
        "print(z)"
      ],
      "execution_count": 107,
      "outputs": [
        {
          "output_type": "stream",
          "text": [
            "['x', 'xx', 'xxx', 'xxxx', 'y', 'yy', 'yyy', 'yyyy', 'z', 'zz', 'zzz', 'zzzz']\n"
          ],
          "name": "stdout"
        }
      ]
    },
    {
      "cell_type": "code",
      "metadata": {
        "id": "l0y7xOAFulra",
        "outputId": "20466581-fdf2-44fe-c1b1-28140d625cb7",
        "colab": {
          "base_uri": "https://localhost:8080/"
        }
      },
      "source": [
        "# Write List comprehensions to produce the following Lists: ['x', 'y', 'z', 'xx', 'yy', 'zz', 'xxx', 'yyy', 'zzz', 'xxxx', 'yyyy', 'zzzz']\n",
        "z = [ i*j for j in [1,2,3,4] \n",
        "     for i in 'xyz']\n",
        "print(z)"
      ],
      "execution_count": 110,
      "outputs": [
        {
          "output_type": "stream",
          "text": [
            "['x', 'y', 'z', 'xx', 'yy', 'zz', 'xxx', 'yyy', 'zzz', 'xxxx', 'yyyy', 'zzzz']\n"
          ],
          "name": "stdout"
        }
      ]
    },
    {
      "cell_type": "code",
      "metadata": {
        "id": "tkQJ4rCyu-_q",
        "outputId": "8c621057-a13a-4e73-ae35-218736ae058d",
        "colab": {
          "base_uri": "https://localhost:8080/"
        }
      },
      "source": [
        "# Write List comprehensions to produce the following Lists: [[2], [3], [4], [3], [4], [5], [4], [5], [6]] [[2, 3, 4, 5], [3, 4, 5, 6],\n",
        "# [4, 5, 6, 7], [5, 6, 7, 8]]\n",
        "\n",
        "z = [ [i+j] for i in [1,2,3]\n",
        "     for j in [1,2,3]]\n",
        "\n",
        "\n",
        "      \n",
        "\n",
        "print(z,end = '\\t' )\n",
        "print(z2)\n"
      ],
      "execution_count": 121,
      "outputs": [
        {
          "output_type": "stream",
          "text": [
            "[[2], [3], [4], [3], [4], [5], [4], [5], [6]]\t[[2, 3, 4, 5, 1], [2, 3, 4, 5, 2, 2, 2, 2], [2, 3, 4, 5, 3, 3, 3, 3], [2, 3, 4, 5, 4, 4, 4, 4]]\n"
          ],
          "name": "stdout"
        }
      ]
    },
    {
      "cell_type": "code",
      "metadata": {
        "id": "RDRNB0iLwTYM"
      },
      "source": [
        "# Write List comprehensions to produce the following Lists: [[2], [3], [4], [3], [4], [5], [4], [5], [6]] [[2, 3, 4, 5], [3, 4, 5, 6],\n",
        "# [4, 5, 6, 7], [5, 6, 7, 8]]"
      ],
      "execution_count": null,
      "outputs": []
    },
    {
      "cell_type": "code",
      "metadata": {
        "id": "ZMyXGa96uzRl",
        "outputId": "bdf69fe8-0a49-4ff9-f615-22393a8240b3",
        "colab": {
          "base_uri": "https://localhost:8080/"
        }
      },
      "source": [
        "# Write List comprehensions to produce the following Lists: [(1, 1), (2, 1), (3, 1), (1, 2), (2, 2), (3, 2), (1, 3), (2, 3), (3, 3)]\n",
        "z = [  (j,i) for i in [1,2,3]\n",
        "     for j in [1,2,3]]\n",
        "\n",
        "\n",
        "print(z)"
      ],
      "execution_count": 105,
      "outputs": [
        {
          "output_type": "stream",
          "text": [
            "[(1, 1), (2, 1), (3, 1), (1, 2), (2, 2), (3, 2), (1, 3), (2, 3), (3, 3)]\n"
          ],
          "name": "stdout"
        }
      ]
    },
    {
      "cell_type": "code",
      "metadata": {
        "id": "E3xESjeUyrGA",
        "outputId": "a506d831-3dfb-4e24-94eb-ac145ffd6354",
        "colab": {
          "base_uri": "https://localhost:8080/"
        }
      },
      "source": [
        "[2,3] +[4,5]"
      ],
      "execution_count": 116,
      "outputs": [
        {
          "output_type": "execute_result",
          "data": {
            "text/plain": [
              "[2, 3, 4, 5]"
            ]
          },
          "metadata": {
            "tags": []
          },
          "execution_count": 116
        }
      ]
    }
  ]
}