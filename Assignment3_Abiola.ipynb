{
  "nbformat": 4,
  "nbformat_minor": 0,
  "metadata": {
    "colab": {
      "name": "Assignment3_Abiola.ipynb",
      "provenance": [],
      "toc_visible": true,
      "authorship_tag": "ABX9TyOXC391ZBWICCsWWd/gLOKE",
      "include_colab_link": true
    },
    "kernelspec": {
      "name": "python3",
      "display_name": "Python 3"
    }
  },
  "cells": [
    {
      "cell_type": "markdown",
      "metadata": {
        "id": "view-in-github",
        "colab_type": "text"
      },
      "source": [
        "<a href=\"https://colab.research.google.com/github/obeabi/Assignments/blob/master/Assignment3_Abiola.ipynb\" target=\"_parent\"><img src=\"https://colab.research.google.com/assets/colab-badge.svg\" alt=\"Open In Colab\"/></a>"
      ]
    },
    {
      "cell_type": "markdown",
      "metadata": {
        "id": "MeE_WCezm1RT"
      },
      "source": [
        "# Pyhton Assignment 3\n",
        "# Written by Abiola Obembe\n",
        "## Date: 2020-11-05\n",
        "## Course: ML masters with deployment and deep learning\n",
        "---------------------------------------------------------------------------------------------------------------------------------------------------------------------------------------------------------------------------------------------\n",
        "---------- Assignment starts here -------------------------------------------------"
      ]
    },
    {
      "cell_type": "code",
      "metadata": {
        "id": "T7PQT0vwm9JQ",
        "outputId": "2db65768-81fc-41ad-b2d4-19f37e8a9492",
        "colab": {
          "base_uri": "https://localhost:8080/"
        }
      },
      "source": [
        "'''\n",
        " Question 1.1 :Write a Python Program to implement your own myreduce() function which works exactly\n",
        "like Python's built-in function reduce()\n",
        "'''\n",
        "\n",
        "# Built-in function reduce()\n",
        "from functools import reduce\n",
        "lst = [1,2,4,5,8]\n",
        "funcz =  lambda x, y: x+y\n",
        "\n",
        "print( \" The output of the Python's built in function reduce is {}\". format( reduce(funcz, lst)))\n",
        "\n",
        "\n",
        "# My code here\n",
        "def myreduce(operation, data):\n",
        "  if operation == 'add':\n",
        "      sumz = 0\n",
        "      for entry in data:\n",
        "          sumz += entry\n",
        "  elif operation == 'multiply':\n",
        "       sumz = 1\n",
        "       for entry in data:\n",
        "         sumz = sumz * entry\n",
        "  elif operation == 'division':\n",
        "       sumz = 1\n",
        "       for entry in data:\n",
        "         sumz = sumz/entry\n",
        "   \n",
        "\n",
        "  return sumz\n",
        "\n",
        "\n",
        "\n",
        "y = myreduce('add', lst) \n",
        "print( \" The output of my function that mimics the Python's built in function reduce() is {}\". format( y))\n",
        "      "
      ],
      "execution_count": 27,
      "outputs": [
        {
          "output_type": "stream",
          "text": [
            " The output of the Python's built in function reduce is 20\n",
            " The output of my function that mimics the Python's built in function reduce is 20\n"
          ],
          "name": "stdout"
        }
      ]
    },
    {
      "cell_type": "code",
      "metadata": {
        "id": "U9XlitCmn06E",
        "outputId": "5bab1784-c42c-4ab1-c686-4bfd64990ede",
        "colab": {
          "base_uri": "https://localhost:8080/"
        }
      },
      "source": [
        "'''\n",
        "Question 1.2 : Write a Python program to implement your own myfilter() function which works exactly\n",
        "like Python's built-in function filter()\n",
        "\n",
        "'''\n",
        "# Built-in function filter() code\n",
        "lst = [1,2,4,5,8]\n",
        "funcz =  lambda x: True if x%2 == 0 else False\n",
        "\n",
        "print( \" The output of the Python's built in function filter() is: \\n \" ,  list( filter(funcz, lst)))\n",
        "\n",
        "\n",
        "# My code here\n",
        "def myfilter(data):\n",
        "    y = []\n",
        "    for entry in data:\n",
        "      if entry % 2 == 0:\n",
        "         y.append(entry)\n",
        "    return y\n",
        "\n",
        "\n",
        "\n",
        "y = myfilter(lst)\n",
        "y \n",
        "print( \" The output of my function that mimics the Python's built-in function filter() is: \\n\" ,  y)\n",
        "\n"
      ],
      "execution_count": 57,
      "outputs": [
        {
          "output_type": "stream",
          "text": [
            " The output of the Python's built in function filter() is: \n",
            "  [2, 4, 8]\n",
            " The output of my function that mimics the Python's built-in function filter() is: \n",
            " [2, 4, 8]\n"
          ],
          "name": "stdout"
        }
      ]
    },
    {
      "cell_type": "code",
      "metadata": {
        "id": "7SJJP5GEn8PY"
      },
      "source": [
        "'''\n",
        "Question 2:  Implement List comprehensions to produce the following lists.\n",
        "Write List comprehensions to produce the following Lists\n",
        "['A', 'C', 'A', 'D', 'G', 'I', ’L’, ‘ D’]\n",
        "['x', 'xx', 'xxx', 'xxxx', 'y', 'yy', 'yyy', 'yyyy', 'z', 'zz', 'zzz', 'zzzz']\n",
        "['x', 'y', 'z', 'xx', 'yy', 'zz', 'xxx', 'yyy', 'zzz', 'xxxx', 'yyyy', 'zzzz']\n",
        "[[2], [3], [4], [3], [4], [5], [4], [5], [6]] [[2, 3, 4, 5], [3, 4, 5, 6],\n",
        "[4, 5, 6, 7], [5, 6, 7, 8]]\n",
        "[(1, 1), (2, 1), (3, 1), (1, 2), (2, 2), (3, 2), (1, 3), (2, 3), (3, 3)]\n",
        "\n",
        "'''"
      ],
      "execution_count": null,
      "outputs": []
    }
  ]
}