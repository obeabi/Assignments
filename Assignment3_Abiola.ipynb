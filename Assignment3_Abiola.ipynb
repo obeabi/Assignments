{
  "nbformat": 4,
  "nbformat_minor": 0,
  "metadata": {
    "colab": {
      "name": "Assignment3_Abiola.ipynb",
      "provenance": [],
      "toc_visible": true,
      "authorship_tag": "ABX9TyNZqCErYxUHRPvxpwpQcy1J",
      "include_colab_link": true
    },
    "kernelspec": {
      "name": "python3",
      "display_name": "Python 3"
    }
  },
  "cells": [
    {
      "cell_type": "markdown",
      "metadata": {
        "id": "view-in-github",
        "colab_type": "text"
      },
      "source": [
        "<a href=\"https://colab.research.google.com/github/obeabi/Assignments/blob/master/Assignment3_Abiola.ipynb\" target=\"_parent\"><img src=\"https://colab.research.google.com/assets/colab-badge.svg\" alt=\"Open In Colab\"/></a>"
      ]
    },
    {
      "cell_type": "markdown",
      "metadata": {
        "id": "MeE_WCezm1RT"
      },
      "source": [
        "# Pyhton Assignment 3\n",
        "# Written by Abiola Obembe\n",
        "## Date: 2020-11-05\n",
        "## Course: ML masters with deployment and deep learning\n",
        "---------------------------------------------------------------------------------------------------------------------------------------------------------------------------------------------------------------------------------------------\n",
        "---------- Assignment starts here -------------------------------------------------"
      ]
    },
    {
      "cell_type": "code",
      "metadata": {
        "id": "T7PQT0vwm9JQ",
        "outputId": "2421a5d7-5cda-4f65-e2df-6f2a7cbab049",
        "colab": {
          "base_uri": "https://localhost:8080/"
        }
      },
      "source": [
        "'''\n",
        " Question 1.1 :Write a Python Program to implement your own myreduce() function which works exactly\n",
        "like Python's built-in function reduce()\n",
        "'''\n",
        "\n",
        "# Built-in function reduce()\n",
        "from functools import reduce\n",
        "lst = [1,2,4,5,8]\n",
        "funcz =  lambda x, y: x+y\n",
        "\n",
        "print( \" The output of the Python's built in function reduce is {}\". format( reduce(funcz, lst)))\n",
        "\n",
        "\n",
        "# My code here\n",
        "def myreduce(operation, data):\n",
        "  if operation == 'add':\n",
        "      sumz = 0\n",
        "      for entry in data:\n",
        "          sumz += entry\n",
        "  elif operation == 'multiply':\n",
        "       sumz = 1\n",
        "       for entry in data:\n",
        "         sumz = sumz * entry\n",
        "  elif operation == 'division':\n",
        "       sumz = 1\n",
        "       for entry in data:\n",
        "         sumz = sumz/entry\n",
        "   \n",
        "\n",
        "  return sumz\n",
        "\n",
        "\n",
        "\n",
        "y = myreduce('add', lst) \n",
        "print( \" The output of my function that mimics the Python's built in function reduce() is {}\". format( y))\n",
        "      "
      ],
      "execution_count": 24,
      "outputs": [
        {
          "output_type": "stream",
          "text": [
            " The output of the Python's built in function reduce is 20\n",
            " The output of my function that mimics the Python's built in function reduce() is 20\n"
          ],
          "name": "stdout"
        }
      ]
    },
    {
      "cell_type": "code",
      "metadata": {
        "id": "U9XlitCmn06E",
        "outputId": "127250a1-54f9-4781-a88c-cdfc022606ed",
        "colab": {
          "base_uri": "https://localhost:8080/"
        }
      },
      "source": [
        "'''\n",
        "Question 1.2 : Write a Python program to implement your own myfilter() function which works exactly\n",
        "like Python's built-in function filter()\n",
        "\n",
        "'''\n",
        "# Built-in function filter() code\n",
        "lst = [1,2,4,5,8]\n",
        "funcz =  lambda x: True if x%2 == 0 else False\n",
        "\n",
        "print( \" The output of the Python's built in function filter() is: \\n \" ,  list( filter(funcz, lst)))\n",
        "\n",
        "\n",
        "# My code here\n",
        "def myfilter(data):\n",
        "    y = []\n",
        "    for entry in data:\n",
        "      if entry % 2 == 0:\n",
        "         y.append(entry)\n",
        "    return y\n",
        "\n",
        "\n",
        "\n",
        "y = myfilter(lst)\n",
        "y \n",
        "print( \" The output of my function that mimics the Python's built-in function filter() is: \\n\" ,  y)\n",
        "\n"
      ],
      "execution_count": 25,
      "outputs": [
        {
          "output_type": "stream",
          "text": [
            " The output of the Python's built in function filter() is: \n",
            "  [2, 4, 8]\n",
            " The output of my function that mimics the Python's built-in function filter() is: \n",
            " [2, 4, 8]\n"
          ],
          "name": "stdout"
        }
      ]
    },
    {
      "cell_type": "markdown",
      "metadata": {
        "id": "oC6EGd4Kt4lM"
      },
      "source": [
        "Question 2:  Implement List comprehensions to produce the following lists.\n",
        "Write List comprehensions to produce the following Lists"
      ]
    },
    {
      "cell_type": "code",
      "metadata": {
        "id": "lc_NwzYBt98n",
        "outputId": "ab9898eb-3282-4931-fa1a-1cb0a0913d65",
        "colab": {
          "base_uri": "https://localhost:8080/"
        }
      },
      "source": [
        "# Write List comprehensions to produce the following Lists: ['A', 'C', 'A', 'D', 'G', 'I', ’L’, ‘ D’] \n",
        "z = [i.upper () for i in 'acadgild']\n",
        "print(z)"
      ],
      "execution_count": 26,
      "outputs": [
        {
          "output_type": "stream",
          "text": [
            "['A', 'C', 'A', 'D', 'G', 'I', 'L', 'D']\n"
          ],
          "name": "stdout"
        }
      ]
    },
    {
      "cell_type": "code",
      "metadata": {
        "id": "bSFp0e3juN0d",
        "outputId": "1af42499-7a58-4100-e65b-d185cf06d3a2",
        "colab": {
          "base_uri": "https://localhost:8080/"
        }
      },
      "source": [
        "# Write List comprehensions to produce the following Lists: ['x', 'xx', 'xxx', 'xxxx', 'y', 'yy', 'yyy', 'yyyy', 'z', 'zz', 'zzz', 'zzzz']\n",
        "z = [ i*j  for i in  'xyz' for j in [1,2,3,4] ]\n",
        "print(z)"
      ],
      "execution_count": 27,
      "outputs": [
        {
          "output_type": "stream",
          "text": [
            "['x', 'xx', 'xxx', 'xxxx', 'y', 'yy', 'yyy', 'yyyy', 'z', 'zz', 'zzz', 'zzzz']\n"
          ],
          "name": "stdout"
        }
      ]
    },
    {
      "cell_type": "code",
      "metadata": {
        "id": "l0y7xOAFulra",
        "outputId": "930e7400-9422-4366-e229-6190427bf7f2",
        "colab": {
          "base_uri": "https://localhost:8080/"
        }
      },
      "source": [
        "# Write List comprehensions to produce the following Lists: ['x', 'y', 'z', 'xx', 'yy', 'zz', 'xxx', 'yyy', 'zzz', 'xxxx', 'yyyy', 'zzzz']\n",
        "z = [ i*j for j in [1,2,3,4] \n",
        "     for i in 'xyz']\n",
        "print(z)"
      ],
      "execution_count": 28,
      "outputs": [
        {
          "output_type": "stream",
          "text": [
            "['x', 'y', 'z', 'xx', 'yy', 'zz', 'xxx', 'yyy', 'zzz', 'xxxx', 'yyyy', 'zzzz']\n"
          ],
          "name": "stdout"
        }
      ]
    },
    {
      "cell_type": "code",
      "metadata": {
        "id": "tkQJ4rCyu-_q",
        "outputId": "03dc1ae8-bff8-4b5a-d5e2-8a756262ca13",
        "colab": {
          "base_uri": "https://localhost:8080/"
        }
      },
      "source": [
        "# Write List comprehensions to produce the following Lists: [[2], [3], [4], [3], [4], [5], [4], [5], [6]] [[2, 3, 4, 5], [3, 4, 5, 6],\n",
        "# [4, 5, 6, 7], [5, 6, 7, 8]]\n",
        "\n",
        "z,z2 = [ [i+j] for i in [1,2,3] for j in [1,2,3]], [ row for row in [[2,3,4,5], [3,4,5,6], [4,5,6],[5,6,7,8]]]\n",
        "      \n",
        "\n",
        "print(z,end = '\\t' )\n",
        "print(z2)\n"
      ],
      "execution_count": 29,
      "outputs": [
        {
          "output_type": "stream",
          "text": [
            "[[2], [3], [4], [3], [4], [5], [4], [5], [6]]\t[[2, 3, 4, 5], [3, 4, 5, 6], [4, 5, 6], [5, 6, 7, 8]]\n"
          ],
          "name": "stdout"
        }
      ]
    },
    {
      "cell_type": "code",
      "metadata": {
        "id": "ZMyXGa96uzRl",
        "outputId": "05e7ac68-f813-4d7e-d1d0-7432e5e4319c",
        "colab": {
          "base_uri": "https://localhost:8080/"
        }
      },
      "source": [
        "# Write List comprehensions to produce the following Lists: [(1, 1), (2, 1), (3, 1), (1, 2), (2, 2), (3, 2), (1, 3), (2, 3), (3, 3)]\n",
        "z = [  (j,i) for i in [1,2,3]\n",
        "     for j in [1,2,3]]\n",
        "\n",
        "\n",
        "print(z)"
      ],
      "execution_count": 30,
      "outputs": [
        {
          "output_type": "stream",
          "text": [
            "[(1, 1), (2, 1), (3, 1), (1, 2), (2, 2), (3, 2), (1, 3), (2, 3), (3, 3)]\n"
          ],
          "name": "stdout"
        }
      ]
    }
  ]
}