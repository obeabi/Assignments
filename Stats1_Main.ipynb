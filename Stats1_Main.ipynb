{
  "nbformat": 4,
  "nbformat_minor": 0,
  "metadata": {
    "colab": {
      "name": "Stats1_Main.ipynb",
      "provenance": [],
      "authorship_tag": "ABX9TyPAnbu+RgTPY584Jx8rrzRm",
      "include_colab_link": true
    },
    "kernelspec": {
      "name": "python3",
      "display_name": "Python 3"
    }
  },
  "cells": [
    {
      "cell_type": "markdown",
      "metadata": {
        "id": "view-in-github",
        "colab_type": "text"
      },
      "source": [
        "<a href=\"https://colab.research.google.com/github/obeabi/Assignments/blob/master/Stats1_Main.ipynb\" target=\"_parent\"><img src=\"https://colab.research.google.com/assets/colab-badge.svg\" alt=\"Open In Colab\"/></a>"
      ]
    },
    {
      "cell_type": "markdown",
      "metadata": {
        "id": "-jjKTg8UYlcj"
      },
      "source": [
        "# Pyhton Stats Assignment 1\r\n",
        "# Written by Abiola Obembe\r\n",
        "## Date: 2021-01-21\r\n",
        "## Course: ML masters with deployment and deep learning\r\n",
        "---------------------------------------------------------------------------------------------------------------------------------------------------------------------------------------------------------------------------------------------\r\n",
        "## Assignment starts here \r\n",
        "-------------------------------------------------------------------------------------------------------------------------------------------------------------"
      ]
    },
    {
      "cell_type": "code",
      "metadata": {
        "colab": {
          "base_uri": "https://localhost:8080/"
        },
        "id": "sG1GBTLYZb35",
        "outputId": "0565794f-65c9-4f53-dd69-f02e39a4279c"
      },
      "source": [
        "# Import libraries\r\n",
        "import numpy as np\r\n",
        "import scipy\r\n",
        "import math\r\n",
        "from scipy import  stats\r\n",
        "\r\n",
        "print(\"libraries installed\")"
      ],
      "execution_count": 1,
      "outputs": [
        {
          "output_type": "stream",
          "text": [
            "libraries installed\n"
          ],
          "name": "stdout"
        }
      ]
    },
    {
      "cell_type": "markdown",
      "metadata": {
        "id": "fot5hcAcaZqn"
      },
      "source": [
        "## Question 1"
      ]
    },
    {
      "cell_type": "code",
      "metadata": {
        "colab": {
          "base_uri": "https://localhost:8080/"
        },
        "id": "B8EBOqKvZDYd",
        "outputId": "ed63357c-b28b-4dc5-ec9b-566f3d7806a9"
      },
      "source": [
        "\"\"\"\r\n",
        "Calculate the mean, median, mode and standard deviation for the problem\r\n",
        "statements 1& 2.\r\n",
        "\r\n",
        "\"\"\"\r\n",
        "X = np.array([6 ,7 ,5 ,7, 7, 8, 7, 6, 9, \r\n",
        "              7, 4, 10, 6, 8, 8, 9, 5, 6, 4, 8])\r\n",
        "\r\n",
        "print(\"The mean of the dataset is :\", np.mean(X))\r\n",
        "print(\"The median of the dataset is :\", np.median(X))\r\n",
        "print(\"The mode of the dataset is :\", (stats.mode(X)[0]))\r\n",
        "print(\"The standard deviation of the dataset is :\",np.round( np.std(X),4))\r\n"
      ],
      "execution_count": 2,
      "outputs": [
        {
          "output_type": "stream",
          "text": [
            "The mean of the dataset is : 6.85\n",
            "The median of the dataset is : 7.0\n",
            "The mode of the dataset is : [7]\n",
            "The standard deviation of the dataset is : 1.5898\n"
          ],
          "name": "stdout"
        }
      ]
    },
    {
      "cell_type": "markdown",
      "metadata": {
        "id": "Em2G2trwcRhG"
      },
      "source": [
        "## Question 2"
      ]
    },
    {
      "cell_type": "code",
      "metadata": {
        "colab": {
          "base_uri": "https://localhost:8080/"
        },
        "id": "rlgwGcFIcMMQ",
        "outputId": "82436a90-b46b-41b2-a05a-1bfb3b98269d"
      },
      "source": [
        "\"\"\"\r\n",
        "Problem Statement 2:\r\n",
        "The number of calls from motorists per day for roadside service was recorded for a\r\n",
        "particular month\r\n",
        "\r\n",
        "\"\"\"\r\n",
        "\r\n",
        "X = np.array([28, 122, 217, 130, 120, 86, 80, 90, 140, 120, 70, 40, 145, 113, 90, 68, 174, 194, 170,\r\n",
        "             100, 75, 104, 97, 75,123, 100, 75, 104, 97, 75, 123, 100, 89, 120, 109])\r\n",
        "\r\n",
        "print(\"The mean of the dataset is :\", np.mean(X))\r\n",
        "print(\"The median of the dataset is :\", np.median(X))\r\n",
        "print(\"The mode of the dataset is :\", (stats.mode(X)[0]))\r\n",
        "print(\"The standard deviation of the dataset is :\",np.round( np.std(X),4))\r\n"
      ],
      "execution_count": 3,
      "outputs": [
        {
          "output_type": "stream",
          "text": [
            "The mean of the dataset is : 107.51428571428572\n",
            "The median of the dataset is : 100.0\n",
            "The mode of the dataset is : [75]\n",
            "The standard deviation of the dataset is : 38.7729\n"
          ],
          "name": "stdout"
        }
      ]
    },
    {
      "cell_type": "markdown",
      "metadata": {
        "id": "lTAGanDedS9C"
      },
      "source": [
        "## Question 3"
      ]
    },
    {
      "cell_type": "code",
      "metadata": {
        "id": "zt2iNUBhdVAa",
        "colab": {
          "base_uri": "https://localhost:8080/"
        },
        "outputId": "5975a662-8907-4882-dad5-66e37bbaf510"
      },
      "source": [
        "\"\"\"\r\n",
        "The number of times I go to the gym in weekdays, are given below along with its\r\n",
        "associated probability: \r\n",
        "x = 0, 1, 2, 3, 4, 5\r\n",
        "f(x) = 0.09, 0.15, 0.40, 0.25, 0.10, 0.01\r\n",
        "Calculate the mean no. of workouts in a week. Also evaluate the variance involved in\r\n",
        "it.\r\n",
        "\r\n",
        "\"\"\"\r\n",
        "X = np.array([0, 1, 2, 3, 4, 5])\r\n",
        "p = np.array([0.09, 0.15, 0.40, 0.25, 0.10, 0.01])\r\n",
        "p_x = np.zeros((len(X),1))\r\n",
        "P_x_x = np.zeros((len(X),1))\r\n",
        "\r\n",
        "for i in range(len(X)):\r\n",
        "    p_x[i,:] = np.multiply(X[i],p[i])\r\n",
        "\r\n",
        "\r\n",
        "print(\"The mean no. of workouts in a week is:\", np.sum(p_x))\r\n",
        "\r\n",
        "mui = np.sum(p_x)\r\n",
        "for i in range(len(X)):\r\n",
        "    P_x_x[i,:] = ((X[i] - mui) ** 2) * (p[i]) \r\n",
        "\r\n",
        "print(\"The varaince involved is:\", (np.sum(P_x_x))**2)"
      ],
      "execution_count": 4,
      "outputs": [
        {
          "output_type": "stream",
          "text": [
            "The mean no. of workouts in a week is: 2.15\n",
            "The varaince involved is: 1.50675625\n"
          ],
          "name": "stdout"
        }
      ]
    },
    {
      "cell_type": "markdown",
      "metadata": {
        "id": "u8bb-RmBCnh1"
      },
      "source": [
        "## Question 4"
      ]
    },
    {
      "cell_type": "code",
      "metadata": {
        "id": "BaYL2dRhCjDz",
        "colab": {
          "base_uri": "https://localhost:8080/"
        },
        "outputId": "b8dd3351-525e-408e-efcc-83cd8dd64c94"
      },
      "source": [
        "\"\"\"\r\n",
        "Let the continuous random variable D denote the diameter of the hole drilled in an\r\n",
        "aluminum sheet. The target diameter to be achieved is 12.5mm. Random\r\n",
        "disturbances in the process often result in inaccuracy.\r\n",
        "Historical data shows that the distribution of D can be modelled by the PDF (𝑑) =\r\n",
        "20𝑒−20(𝑑−12.5), 𝑑 ≥ 12.5. If a part with diameter > 12.6 mm needs to be scrapped,\r\n",
        "what is the proportion of those parts? What is the CDF when the diameter is of 11\r\n",
        "mm? What is your conclusion regarding the proportion of scraps?\r\n",
        "\r\n",
        "\"\"\"\r\n",
        "\r\n",
        "# Solution here\r\n",
        "from scipy import integrate \r\n",
        "pdf = lambda d: 20* np.exp(-20*(d-12.5))\r\n",
        "\r\n",
        "# using scipy.integrate.quad() method \r\n",
        "y = integrate.quad(pdf, 12.6, np.inf)\r\n",
        "print(\"The proportion of those part scraped is  :\" , y[0])\r\n",
        "\r\n",
        "# CDF Solution here\r\n",
        "import sympy \r\n",
        "from sympy import *\r\n",
        "u, x = symbols('u x ') \r\n",
        "\r\n",
        "integrate( 20*exp(-20*u +250 )   ,(u, 12.5,x))\r\n",
        "#print(\"The CDF for the region x >= 12.5mm is :\", integrate( 20*exp(-20*u +250 )   ,(u, 12.5,x)))\r\n",
        "print(\"The CDF for diameter (x) = 11mm  is:\", 0)\r\n",
        "\r\n",
        "print(\" I can conclude that percentage of the hole diameter between 12.5-12.6 mm is :\", str(np.round((100*(1-y[0])),2))+\"%\")"
      ],
      "execution_count": 5,
      "outputs": [
        {
          "output_type": "stream",
          "text": [
            "The proportion of those part scraped is  : 0.13533528323661398\n",
            "The CDF for diameter (x) = 11mm  is: 0\n",
            " I can conclude that percentage of the hole diameter between 12.5-12.6 mm is : 86.47%\n"
          ],
          "name": "stdout"
        }
      ]
    },
    {
      "cell_type": "markdown",
      "metadata": {
        "id": "Nx-bMUc-OQlw"
      },
      "source": [
        "## Question 5"
      ]
    },
    {
      "cell_type": "code",
      "metadata": {
        "id": "c6AgRz_IOSlt",
        "colab": {
          "base_uri": "https://localhost:8080/"
        },
        "outputId": "80f960b2-c45f-4f1d-cea7-47f83842f839"
      },
      "source": [
        "\"\"\"\r\n",
        "A company manufactures LED bulbs with a faulty rate of 30%. If I randomly select 6\r\n",
        "chosen LEDs, what is the probability of having 2 faulty LEDs in my sample?\r\n",
        "Calculate the average value of this process. Also evaluate the standard deviation\r\n",
        "associated with it.\r\n",
        "\r\n",
        "\"\"\"\r\n",
        "\r\n",
        "# Code here\r\n",
        "\r\n",
        "# function to solve probability questions based on bionomial distribution\r\n",
        "  \r\n",
        "\"\"\"\r\n",
        "n = number of samples/attempt\r\n",
        "p = probability of success\r\n",
        "x = number of success\r\n",
        "\"\"\"\r\n",
        "def prob_bionmil(n,x,p):\r\n",
        "  C_n_x = scipy.special.binom(n, x)\r\n",
        "  q = 1 -p\r\n",
        "  return  C_n_x* (p**x ) * (q)**(n-x)\r\n",
        "\r\n",
        "# we approach this problem by allowing faulty bulbs to imply success and utilize the Bionimial distribution\r\n",
        "q = 0.3\r\n",
        "p = 1- q\r\n",
        "n = 6\r\n",
        "faulty_led = 2\r\n",
        "x = n- faulty_led\r\n",
        "\r\n",
        "y = prob_bionmil(n , x, p) \r\n",
        "print(\"The probability of havig 2 faulty LEDs in the sample is :\",np.round(y,2))\r\n",
        "\r\n",
        "\r\n",
        "print(\"The average of the process is :\", n * p )\r\n",
        "print(\"The standard deviation of the process is :\",np.sqrt( n * p*(1-p)  ))"
      ],
      "execution_count": 14,
      "outputs": [
        {
          "output_type": "stream",
          "text": [
            "The probability of havig 2 faulty LEDs in the sample is : 0.32\n",
            "The average of the process is : 4.199999999999999\n",
            "The standard deviation of the process is : 1.1224972160321824\n"
          ],
          "name": "stdout"
        }
      ]
    },
    {
      "cell_type": "code",
      "metadata": {
        "id": "hdN94z_9J8g-",
        "colab": {
          "base_uri": "https://localhost:8080/"
        },
        "outputId": "100b488b-95dc-4540-b068-1acecccaab82"
      },
      "source": [
        "20*12.5"
      ],
      "execution_count": 7,
      "outputs": [
        {
          "output_type": "execute_result",
          "data": {
            "text/plain": [
              "250.0"
            ]
          },
          "metadata": {
            "tags": []
          },
          "execution_count": 7
        }
      ]
    }
  ]
}