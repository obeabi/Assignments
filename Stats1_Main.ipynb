{
  "nbformat": 4,
  "nbformat_minor": 0,
  "metadata": {
    "colab": {
      "name": "Stats1_Main.ipynb",
      "provenance": [],
      "authorship_tag": "ABX9TyPCC40Wwl9HxEbxljHfTgZe",
      "include_colab_link": true
    },
    "kernelspec": {
      "name": "python3",
      "display_name": "Python 3"
    }
  },
  "cells": [
    {
      "cell_type": "markdown",
      "metadata": {
        "id": "view-in-github",
        "colab_type": "text"
      },
      "source": [
        "<a href=\"https://colab.research.google.com/github/obeabi/Assignments/blob/master/Stats1_Main.ipynb\" target=\"_parent\"><img src=\"https://colab.research.google.com/assets/colab-badge.svg\" alt=\"Open In Colab\"/></a>"
      ]
    },
    {
      "cell_type": "markdown",
      "metadata": {
        "id": "-jjKTg8UYlcj"
      },
      "source": [
        "# Pyhton Stats Assignment 1\r\n",
        "# Written by Abiola Obembe\r\n",
        "## Date: 2021-01-21\r\n",
        "## Course: ML masters with deployment and deep learning\r\n",
        "---------------------------------------------------------------------------------------------------------------------------------------------------------------------------------------------------------------------------------------------\r\n",
        "## Assignment starts here \r\n",
        "-------------------------------------------------------------------------------------------------------------------------------------------------------------"
      ]
    },
    {
      "cell_type": "code",
      "metadata": {
        "colab": {
          "base_uri": "https://localhost:8080/"
        },
        "id": "sG1GBTLYZb35",
        "outputId": "9b9664b1-97e0-4e24-d22f-25913bf5fbca"
      },
      "source": [
        "# Import libraries\r\n",
        "import numpy as np\r\n",
        "import scipy\r\n",
        "import math\r\n",
        "from scipy import  stats\r\n",
        "print(\"libraries installed\")"
      ],
      "execution_count": 1,
      "outputs": [
        {
          "output_type": "stream",
          "text": [
            "libraries installed\n"
          ],
          "name": "stdout"
        }
      ]
    },
    {
      "cell_type": "markdown",
      "metadata": {
        "id": "fot5hcAcaZqn"
      },
      "source": [
        "## Question 1"
      ]
    },
    {
      "cell_type": "code",
      "metadata": {
        "colab": {
          "base_uri": "https://localhost:8080/"
        },
        "id": "B8EBOqKvZDYd",
        "outputId": "465f147b-46bc-442a-85d5-06dfe4bd4d0c"
      },
      "source": [
        "\"\"\"\r\n",
        "Calculate the mean, median, mode and standard deviation for the problem\r\n",
        "statements 1& 2.\r\n",
        "\r\n",
        "\"\"\"\r\n",
        "X = np.array([6 ,7 ,5 ,7, 7, 8, 7, 6, 9, \r\n",
        "              7, 4, 10, 6, 8, 8, 9, 5, 6, 4, 8])\r\n",
        "\r\n",
        "print(\"The mean of the dataset is :\", np.mean(X))\r\n",
        "print(\"The median of the dataset is :\", np.median(X))\r\n",
        "print(\"The mode of the dataset is :\", (stats.mode(X)[0]))\r\n",
        "print(\"The standard deviation of the dataset is :\",np.round( np.std(X),4))\r\n"
      ],
      "execution_count": 2,
      "outputs": [
        {
          "output_type": "stream",
          "text": [
            "The mean of the dataset is : 6.85\n",
            "The median of the dataset is : 7.0\n",
            "The mode of the dataset is : [7]\n",
            "The standard deviation of the dataset is : 1.5898\n"
          ],
          "name": "stdout"
        }
      ]
    },
    {
      "cell_type": "markdown",
      "metadata": {
        "id": "Em2G2trwcRhG"
      },
      "source": [
        "## Question 2"
      ]
    },
    {
      "cell_type": "code",
      "metadata": {
        "colab": {
          "base_uri": "https://localhost:8080/"
        },
        "id": "rlgwGcFIcMMQ",
        "outputId": "eaad9d0b-dda9-49b3-a7ad-5f37f1c16bae"
      },
      "source": [
        "\"\"\"\r\n",
        "Problem Statement 2:\r\n",
        "The number of calls from motorists per day for roadside service was recorded for a\r\n",
        "particular month\r\n",
        "\r\n",
        "\"\"\"\r\n",
        "\r\n",
        "X = np.array([28, 122, 217, 130, 120, 86, 80, 90, 140, 120, 70, 40, 145, 113, 90, 68, 174, 194, 170,\r\n",
        "             100, 75, 104, 97, 75,123, 100, 75, 104, 97, 75, 123, 100, 89, 120, 109])\r\n",
        "\r\n",
        "print(\"The mean of the dataset is :\", np.mean(X))\r\n",
        "print(\"The median of the dataset is :\", np.median(X))\r\n",
        "print(\"The mode of the dataset is :\", (stats.mode(X)[0]))\r\n",
        "print(\"The standard deviation of the dataset is :\",np.round( np.std(X),4))\r\n"
      ],
      "execution_count": 3,
      "outputs": [
        {
          "output_type": "stream",
          "text": [
            "The mean of the dataset is : 107.51428571428572\n",
            "The median of the dataset is : 100.0\n",
            "The mode of the dataset is : [75]\n",
            "The standard deviation of the dataset is : 38.7729\n"
          ],
          "name": "stdout"
        }
      ]
    },
    {
      "cell_type": "markdown",
      "metadata": {
        "id": "lTAGanDedS9C"
      },
      "source": [
        "## Question 3"
      ]
    },
    {
      "cell_type": "code",
      "metadata": {
        "id": "zt2iNUBhdVAa",
        "outputId": "57989168-2484-41a4-cb96-4f1259318754",
        "colab": {
          "base_uri": "https://localhost:8080/"
        }
      },
      "source": [
        "\"\"\"\r\n",
        "The number of times I go to the gym in weekdays, are given below along with its\r\n",
        "associated probability: \r\n",
        "x = 0, 1, 2, 3, 4, 5\r\n",
        "f(x) = 0.09, 0.15, 0.40, 0.25, 0.10, 0.01\r\n",
        "Calculate the mean no. of workouts in a week. Also evaluate the variance involved in\r\n",
        "it.\r\n",
        "\r\n",
        "\"\"\"\r\n",
        "X = np.array([0, 1, 2, 3, 4, 5])\r\n",
        "p = np.array([0.09, 0.15, 0.40, 0.25, 0.10, 0.01])\r\n",
        "p_x = np.zeros((len(X),1))\r\n",
        "P_x_x = np.zeros((len(X),1))\r\n",
        "\r\n",
        "for i in range(len(X)):\r\n",
        "    p_x[i,:] = np.multiply(X[i],p[i])\r\n",
        "\r\n",
        "\r\n",
        "print(\"The mean no. of workouts in a week is:\", np.sum(p_x))\r\n",
        "\r\n",
        "mui = np.sum(p_x)\r\n",
        "for i in range(len(X)):\r\n",
        "    P_x_x[i,:] = ((X[i] - mui) ** 2) * (p[i]) \r\n",
        "\r\n",
        "print(\"The varaince involved is:\", (np.sum(P_x_x))**2)"
      ],
      "execution_count": 22,
      "outputs": [
        {
          "output_type": "stream",
          "text": [
            "The mean no. of workouts in a week is: 2.15\n",
            "The varaince involved is: 1.50675625\n"
          ],
          "name": "stdout"
        }
      ]
    }
  ]
}