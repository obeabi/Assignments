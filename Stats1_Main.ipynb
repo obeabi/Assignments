{
  "nbformat": 4,
  "nbformat_minor": 0,
  "metadata": {
    "colab": {
      "name": "Stats1_Main.ipynb",
      "provenance": [],
      "authorship_tag": "ABX9TyOdt1xfzp1j0MW6VlmNIcJq",
      "include_colab_link": true
    },
    "kernelspec": {
      "name": "python3",
      "display_name": "Python 3"
    }
  },
  "cells": [
    {
      "cell_type": "markdown",
      "metadata": {
        "id": "view-in-github",
        "colab_type": "text"
      },
      "source": [
        "<a href=\"https://colab.research.google.com/github/obeabi/Assignments/blob/master/Stats1_Main.ipynb\" target=\"_parent\"><img src=\"https://colab.research.google.com/assets/colab-badge.svg\" alt=\"Open In Colab\"/></a>"
      ]
    },
    {
      "cell_type": "markdown",
      "metadata": {
        "id": "-jjKTg8UYlcj"
      },
      "source": [
        "# Pyhton Stats Assignment 1\r\n",
        "# Written by Abiola Obembe\r\n",
        "## Date: 2021-01-21\r\n",
        "## Course: ML masters with deployment and deep learning\r\n",
        "---------------------------------------------------------------------------------------------------------------------------------------------------------------------------------------------------------------------------------------------\r\n",
        "---------- Assignment starts here -------------------------------------------------"
      ]
    },
    {
      "cell_type": "code",
      "metadata": {
        "colab": {
          "base_uri": "https://localhost:8080/"
        },
        "id": "sG1GBTLYZb35",
        "outputId": "1d27a3f6-7463-4feb-adc8-6e0da4df8f81"
      },
      "source": [
        "# Import libraries\r\n",
        "import numpy as np\r\n",
        "import scipy\r\n",
        "import math\r\n",
        "from scipy import  stats\r\n",
        "print(\"libraries installed\")"
      ],
      "execution_count": 2,
      "outputs": [
        {
          "output_type": "stream",
          "text": [
            "libraries installed\n"
          ],
          "name": "stdout"
        }
      ]
    },
    {
      "cell_type": "markdown",
      "metadata": {
        "id": "fot5hcAcaZqn"
      },
      "source": [
        "## Question 1"
      ]
    },
    {
      "cell_type": "code",
      "metadata": {
        "colab": {
          "base_uri": "https://localhost:8080/"
        },
        "id": "B8EBOqKvZDYd",
        "outputId": "00e22ccd-3000-4c6d-88cc-c630c8e571a4"
      },
      "source": [
        "\"\"\"\r\n",
        "Calculate the mean, median, mode and standard deviation for the problem\r\n",
        "statements 1& 2.\r\n",
        "\r\n",
        "\"\"\"\r\n",
        "X = np.array([6 ,7 ,5 ,7, 7, 8, 7, 6, 9, \r\n",
        "              7, 4, 10, 6, 8, 8, 9, 5, 6, 4, 8])\r\n",
        "\r\n",
        "print(\"The mean of the dataset is :\", np.mean(X))\r\n",
        "print(\"The median of the dataset is :\", np.median(X))\r\n",
        "print(\"The mode of the dataset is :\", (stats.mode(X)[0]))\r\n",
        "print(\"The standard deviation of the dataset is :\",np.round( np.std(X),4))\r\n"
      ],
      "execution_count": 10,
      "outputs": [
        {
          "output_type": "stream",
          "text": [
            "The mean of the dataset is : 6.85\n",
            "The median of the dataset is : 7.0\n",
            "The mode of the dataset is : [7]\n",
            "The standard deviation of the dataset is : 1.5898\n"
          ],
          "name": "stdout"
        }
      ]
    }
  ]
}