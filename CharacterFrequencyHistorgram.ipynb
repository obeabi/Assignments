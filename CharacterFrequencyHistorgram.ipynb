{
  "cells": [
    {
      "cell_type": "markdown",
      "metadata": {
        "id": "view-in-github",
        "colab_type": "text"
      },
      "source": [
        "<a href=\"https://colab.research.google.com/github/obeabi/Assignments/blob/master/CharacterFrequencyHistorgram.ipynb\" target=\"_parent\"><img src=\"https://colab.research.google.com/assets/colab-badge.svg\" alt=\"Open In Colab\"/></a>"
      ]
    },
    {
      "cell_type": "markdown",
      "id": "dbe6e650",
      "metadata": {
        "id": "dbe6e650"
      },
      "source": [
        "# Objectives\n",
        "\n",
        "1. improving the student's skills in operating with files (reading)\n",
        "2. using data collections for counting numerous data.\n",
        "\n",
        "\n",
        "## Scenario\n",
        "A text file contains some text (nothing unusual) but we need to know how often (or how rare) each letter appears in the text. Such an analysis may be useful in cryptography, so we want to be able to do that in reference to the Latin alphabet.\n",
        "\n",
        "Your task is to write a program which:\n",
        "\n",
        "1. asks the user for the input file's name;\n",
        "2. reads the file (if possible) and counts all the Latin letters (lower- and upper-case letters are treated as equal)\n",
        "3. prints a simple histogram in alphabetical order (only non-zero counts should be presented)\n",
        "\n",
        "\n",
        "Create a test file for the code, and check if your histogram contains valid results.\n",
        "\n",
        "Assuming that the test file contains just one line filled with:"
      ]
    },
    {
      "cell_type": "code",
      "execution_count": 1,
      "id": "5db40795",
      "metadata": {
        "id": "5db40795"
      },
      "outputs": [],
      "source": [
        "from os import strerror\n",
        "\n",
        "def count_letters(file_name):\n",
        "    try:\n",
        "        stream = open(file_name , 'r', encoding = 'utf-8')\n",
        "        data = stream.read()\n",
        "        stream.close()\n",
        "        letter_count = {}\n",
        "        for char in data:\n",
        "            if char.isalpha() and char.isascii():\n",
        "                char =char.lower()\n",
        "                letter_count[char] = letter_count.get(char,0)+ 1\n",
        "        return letter_count\n",
        "    except IOError as e:\n",
        "        print(f\"Error: File {file_name} not read :\", strerror(e.errno))\n",
        "    except Exception as e:\n",
        "        print(e)\n",
        "\n",
        "\n",
        "def print_histogram(letter_count):\n",
        "    print(\"Letter Histogram:\")\n",
        "    for letter, count in sorted(letter_count.items()):\n",
        "        print(f\"{letter} -> {count }\")\n",
        ""
      ]
    },
    {
      "cell_type": "code",
      "execution_count": 2,
      "id": "f4c6a8bf",
      "metadata": {
        "colab": {
          "base_uri": "https://localhost:8080/"
        },
        "id": "f4c6a8bf",
        "outputId": "c2251bfb-d336-4183-c835-3ee18c70b73a"
      },
      "outputs": [
        {
          "output_type": "stream",
          "name": "stdout",
          "text": [
            "Enter your file name here :character.txt\n",
            "Letter Histogram:\n",
            "a -> 1\n",
            "b -> 1\n",
            "c -> 1\n"
          ]
        }
      ],
      "source": [
        "if __name__ == '__main__':\n",
        "    file_name = input(\"Enter your file name here :\")\n",
        "    letter_count = count_letters(file_name)\n",
        "    if letter_count:\n",
        "        print_histogram(letter_count)\n",
        "\n",
        ""
      ]
    },
    {
      "cell_type": "code",
      "execution_count": 3,
      "id": "7ac759ea",
      "metadata": {
        "colab": {
          "base_uri": "https://localhost:8080/"
        },
        "id": "7ac759ea",
        "outputId": "f5628b9c-241d-4fbb-cd5f-4dfc2e391aa2"
      },
      "outputs": [
        {
          "output_type": "execute_result",
          "data": {
            "text/plain": [
              "dict_items([('a', 1), ('b', 1), ('c', 1)])"
            ]
          },
          "metadata": {},
          "execution_count": 3
        }
      ],
      "source": [
        "letter_count.items()"
      ]
    },
    {
      "cell_type": "code",
      "execution_count": 4,
      "id": "c7537606",
      "metadata": {
        "colab": {
          "base_uri": "https://localhost:8080/"
        },
        "id": "c7537606",
        "outputId": "b10828bb-1c7f-4dc8-cfdc-25c86291bf8c"
      },
      "outputs": [
        {
          "output_type": "execute_result",
          "data": {
            "text/plain": [
              "[('a', 1), ('b', 1), ('c', 1)]"
            ]
          },
          "metadata": {},
          "execution_count": 4
        }
      ],
      "source": [
        "sorted(letter_count.items())"
      ]
    },
    {
      "cell_type": "code",
      "execution_count": 4,
      "id": "3974fe71",
      "metadata": {
        "id": "3974fe71"
      },
      "outputs": [],
      "source": []
    }
  ],
  "metadata": {
    "kernelspec": {
      "display_name": "Python 3 (ipykernel)",
      "language": "python",
      "name": "python3"
    },
    "language_info": {
      "codemirror_mode": {
        "name": "ipython",
        "version": 3
      },
      "file_extension": ".py",
      "mimetype": "text/x-python",
      "name": "python",
      "nbconvert_exporter": "python",
      "pygments_lexer": "ipython3",
      "version": "3.7.9"
    },
    "colab": {
      "provenance": [],
      "include_colab_link": true
    }
  },
  "nbformat": 4,
  "nbformat_minor": 5
}