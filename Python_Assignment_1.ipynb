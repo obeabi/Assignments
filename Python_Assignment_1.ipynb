{
  "nbformat": 4,
  "nbformat_minor": 0,
  "metadata": {
    "colab": {
      "name": "Python_Assignment_1.ipynb",
      "provenance": [],
      "authorship_tag": "ABX9TyMTE5fH99QlgiR20jRra1FF",
      "include_colab_link": true
    },
    "kernelspec": {
      "name": "python3",
      "display_name": "Python 3"
    }
  },
  "cells": [
    {
      "cell_type": "markdown",
      "metadata": {
        "id": "view-in-github",
        "colab_type": "text"
      },
      "source": [
        "<a href=\"https://colab.research.google.com/github/obeabi/Assignments/blob/master/Python_Assignment_1.ipynb\" target=\"_parent\"><img src=\"https://colab.research.google.com/assets/colab-badge.svg\" alt=\"Open In Colab\"/></a>"
      ]
    },
    {
      "cell_type": "markdown",
      "metadata": {
        "id": "pm4SARlVG4BU"
      },
      "source": [
        "# Pyhton Assignment 1 \n",
        "## Written by Abiola Obembe\n",
        "### Date: 2020-10-01\n",
        "### Course: ML masters with deployment and deep learning\n",
        "### ---------------------------------------------------------------------------------------------------------------------------------------------------------------------------------------------------------------------------------------------\n",
        "### ----------  Assignment starts here -------------------------------------------------"
      ]
    },
    {
      "cell_type": "markdown",
      "metadata": {
        "id": "OoMuM6zWJlXY"
      },
      "source": [
        "#### Question 1 : Write a program which will find all such numbers which are divisible by 7 but are not a multiple of 5, between 2000 and 3200 (both included) The numbers obtained should be printed in a comma-separated sequence on a single line."
      ]
    },
    {
      "cell_type": "code",
      "metadata": {
        "id": "MyY-xt7tHHGv",
        "outputId": "a5eb7fd2-25af-440a-91d4-7a2a670ef8a4",
        "colab": {
          "base_uri": "https://localhost:8080/",
          "height": 54
        }
      },
      "source": [
        "# Start Code \n",
        "l = list(range(2000,3201))\n",
        "ans = []\n",
        "\n",
        "for i in l:\n",
        "  if (i % 7 == 0) and ( i % 5 != 0):\n",
        "    ans.append(i)\n",
        "print(ans)\n",
        "\n",
        "# End Code"
      ],
      "execution_count": 3,
      "outputs": [
        {
          "output_type": "stream",
          "text": [
            "[2002, 2009, 2016, 2023, 2037, 2044, 2051, 2058, 2072, 2079, 2086, 2093, 2107, 2114, 2121, 2128, 2142, 2149, 2156, 2163, 2177, 2184, 2191, 2198, 2212, 2219, 2226, 2233, 2247, 2254, 2261, 2268, 2282, 2289, 2296, 2303, 2317, 2324, 2331, 2338, 2352, 2359, 2366, 2373, 2387, 2394, 2401, 2408, 2422, 2429, 2436, 2443, 2457, 2464, 2471, 2478, 2492, 2499, 2506, 2513, 2527, 2534, 2541, 2548, 2562, 2569, 2576, 2583, 2597, 2604, 2611, 2618, 2632, 2639, 2646, 2653, 2667, 2674, 2681, 2688, 2702, 2709, 2716, 2723, 2737, 2744, 2751, 2758, 2772, 2779, 2786, 2793, 2807, 2814, 2821, 2828, 2842, 2849, 2856, 2863, 2877, 2884, 2891, 2898, 2912, 2919, 2926, 2933, 2947, 2954, 2961, 2968, 2982, 2989, 2996, 3003, 3017, 3024, 3031, 3038, 3052, 3059, 3066, 3073, 3087, 3094, 3101, 3108, 3122, 3129, 3136, 3143, 3157, 3164, 3171, 3178, 3192, 3199]\n"
          ],
          "name": "stdout"
        }
      ]
    },
    {
      "cell_type": "markdown",
      "metadata": {
        "id": "2L08_eGF96yb"
      },
      "source": [
        "#### Question 2 : Write a Python program to accept the user's first and last name and then getting them printed in the the reverse order with a space between first name and last name."
      ]
    },
    {
      "cell_type": "code",
      "metadata": {
        "id": "FvY11nOQBcgF",
        "outputId": "f08becbb-baa4-489e-80dc-a435b830db4b",
        "colab": {
          "base_uri": "https://localhost:8080/",
          "height": 67
        }
      },
      "source": [
        "# Start Code\n",
        "first_name = input()\n",
        "last_name = input()\n",
        "full_name = first_name + ' '+ last_name\n",
        "\n",
        "#print(full_name)\n",
        "print(\" The name in reverse order is: \", full_name[len(full_name)::-1])\n",
        "\n",
        "# End Code"
      ],
      "execution_count": 43,
      "outputs": [
        {
          "output_type": "stream",
          "text": [
            "Abiola\n",
            "Obembe\n",
            " The name in reverse order is:  ebmebO aloibA\n"
          ],
          "name": "stdout"
        }
      ]
    },
    {
      "cell_type": "markdown",
      "metadata": {
        "id": "z1iarCVcCEBY"
      },
      "source": [
        "#### Question 3 : Write a Python program to find the volume of a sphere with diameter 12 cm."
      ]
    },
    {
      "cell_type": "code",
      "metadata": {
        "id": "WYioalzJCOoI",
        "outputId": "70b1e21f-4b59-4e68-bcb8-595befe3bdcf",
        "colab": {
          "base_uri": "https://localhost:8080/",
          "height": 34
        }
      },
      "source": [
        "# Start Code\n",
        "import numpy as np\n",
        "d = 12   # diameter of sphere\n",
        "r = d/2  # radius of sphere\n",
        "vol = ((4 * np.pi) * r**3)/ 3\n",
        "print(\" The volume of a sphere with diameter 12 cm is: %.2f\" % vol + \"cm3\")\n",
        " "
      ],
      "execution_count": 53,
      "outputs": [
        {
          "output_type": "stream",
          "text": [
            " The volume of a sphere with diameter 12 cm is: 904.78cm3\n"
          ],
          "name": "stdout"
        }
      ]
    }
  ]
}