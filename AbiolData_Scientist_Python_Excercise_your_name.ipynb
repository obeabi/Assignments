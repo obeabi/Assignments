{
  "nbformat": 4,
  "nbformat_minor": 0,
  "metadata": {
    "kernelspec": {
      "display_name": "Python 3",
      "language": "python",
      "name": "python3"
    },
    "language_info": {
      "codemirror_mode": {
        "name": "ipython",
        "version": 3
      },
      "file_extension": ".py",
      "mimetype": "text/x-python",
      "name": "python",
      "nbconvert_exporter": "python",
      "pygments_lexer": "ipython3",
      "version": "3.7.3"
    },
    "colab": {
      "name": "AbiolData Scientist Python Excercise - your name.ipynb",
      "provenance": [],
      "toc_visible": true,
      "include_colab_link": true
    }
  },
  "cells": [
    {
      "cell_type": "markdown",
      "metadata": {
        "id": "view-in-github",
        "colab_type": "text"
      },
      "source": [
        "<a href=\"https://colab.research.google.com/github/obeabi/Assignments/blob/master/AbiolData_Scientist_Python_Excercise_your_name.ipynb\" target=\"_parent\"><img src=\"https://colab.research.google.com/assets/colab-badge.svg\" alt=\"Open In Colab\"/></a>"
      ]
    },
    {
      "cell_type": "code",
      "metadata": {
        "id": "nRogPv8aNd6w"
      },
      "source": [
        "# 1. Please enter your name\n",
        "# Abiola David Obembe"
      ],
      "execution_count": 38,
      "outputs": []
    },
    {
      "cell_type": "code",
      "metadata": {
        "id": "IvbOyGXbNd61",
        "colab": {
          "base_uri": "https://localhost:8080/"
        },
        "outputId": "e8678d5e-bd21-4b74-f6e0-718f6175e406"
      },
      "source": [
        "# 2. Read the csv files\n",
        "import pandas as pd\n",
        "import numpy as np\n",
        "\n",
        "df_macro = pd.read_csv(\"USDA_Macronutrients.csv\")\n",
        "df_micro = pd.read_csv(\"USDA_Micronutrients.csv\")\n",
        "\n",
        "print(\"The shape of df_macro is:\", df_macro.shape)\n",
        "print(\"The shape of df_micro is:\", df_micro.shape)"
      ],
      "execution_count": 39,
      "outputs": [
        {
          "output_type": "stream",
          "text": [
            "The shape of df_macro is: (7057, 6)\n",
            "The shape of df_micro is: (7057, 10)\n"
          ],
          "name": "stdout"
        }
      ]
    },
    {
      "cell_type": "code",
      "metadata": {
        "id": "l-KgH_BaJE8F",
        "outputId": "22af5c31-92c8-426d-86bd-3d6e70cf5a59",
        "colab": {
          "base_uri": "https://localhost:8080/",
          "height": 195
        }
      },
      "source": [
        "df_macro.head()"
      ],
      "execution_count": 40,
      "outputs": [
        {
          "output_type": "execute_result",
          "data": {
            "text/html": [
              "<div>\n",
              "<style scoped>\n",
              "    .dataframe tbody tr th:only-of-type {\n",
              "        vertical-align: middle;\n",
              "    }\n",
              "\n",
              "    .dataframe tbody tr th {\n",
              "        vertical-align: top;\n",
              "    }\n",
              "\n",
              "    .dataframe thead th {\n",
              "        text-align: right;\n",
              "    }\n",
              "</style>\n",
              "<table border=\"1\" class=\"dataframe\">\n",
              "  <thead>\n",
              "    <tr style=\"text-align: right;\">\n",
              "      <th></th>\n",
              "      <th>ID</th>\n",
              "      <th>Description</th>\n",
              "      <th>Calories</th>\n",
              "      <th>Protein</th>\n",
              "      <th>TotalFat</th>\n",
              "      <th>Carbohydrate</th>\n",
              "    </tr>\n",
              "  </thead>\n",
              "  <tbody>\n",
              "    <tr>\n",
              "      <th>0</th>\n",
              "      <td>2047</td>\n",
              "      <td>SALT,TABLE</td>\n",
              "      <td>0</td>\n",
              "      <td>0.0</td>\n",
              "      <td>0.0</td>\n",
              "      <td>0.00</td>\n",
              "    </tr>\n",
              "    <tr>\n",
              "      <th>1</th>\n",
              "      <td>2048</td>\n",
              "      <td>VINEGAR,CIDER</td>\n",
              "      <td>21</td>\n",
              "      <td>0.0</td>\n",
              "      <td>0.0</td>\n",
              "      <td>0.93</td>\n",
              "    </tr>\n",
              "    <tr>\n",
              "      <th>2</th>\n",
              "      <td>2053</td>\n",
              "      <td>VINEGAR,DISTILLED</td>\n",
              "      <td>18</td>\n",
              "      <td>0.0</td>\n",
              "      <td>0.0</td>\n",
              "      <td>0.04</td>\n",
              "    </tr>\n",
              "    <tr>\n",
              "      <th>3</th>\n",
              "      <td>2073</td>\n",
              "      <td>CAMPBELL SOUP CO,PACE,DRY TACO SEAS MIX</td>\n",
              "      <td>188</td>\n",
              "      <td>0.0</td>\n",
              "      <td>0.0</td>\n",
              "      <td>56.29</td>\n",
              "    </tr>\n",
              "    <tr>\n",
              "      <th>4</th>\n",
              "      <td>6597</td>\n",
              "      <td>CAMPBELL SOUP COMPANY,PACE,CHIPOTLE CHUNKY SALSA</td>\n",
              "      <td>25</td>\n",
              "      <td>0.0</td>\n",
              "      <td>0.0</td>\n",
              "      <td>6.25</td>\n",
              "    </tr>\n",
              "  </tbody>\n",
              "</table>\n",
              "</div>"
            ],
            "text/plain": [
              "     ID  ... Carbohydrate\n",
              "0  2047  ...         0.00\n",
              "1  2048  ...         0.93\n",
              "2  2053  ...         0.04\n",
              "3  2073  ...        56.29\n",
              "4  6597  ...         6.25\n",
              "\n",
              "[5 rows x 6 columns]"
            ]
          },
          "metadata": {
            "tags": []
          },
          "execution_count": 40
        }
      ]
    },
    {
      "cell_type": "code",
      "metadata": {
        "id": "curKswdeJIf2",
        "outputId": "1b9094e3-a21f-4bec-d244-e27e77115249",
        "colab": {
          "base_uri": "https://localhost:8080/",
          "height": 195
        }
      },
      "source": [
        "df_micro.head()"
      ],
      "execution_count": 41,
      "outputs": [
        {
          "output_type": "execute_result",
          "data": {
            "text/html": [
              "<div>\n",
              "<style scoped>\n",
              "    .dataframe tbody tr th:only-of-type {\n",
              "        vertical-align: middle;\n",
              "    }\n",
              "\n",
              "    .dataframe tbody tr th {\n",
              "        vertical-align: top;\n",
              "    }\n",
              "\n",
              "    .dataframe thead th {\n",
              "        text-align: right;\n",
              "    }\n",
              "</style>\n",
              "<table border=\"1\" class=\"dataframe\">\n",
              "  <thead>\n",
              "    <tr style=\"text-align: right;\">\n",
              "      <th></th>\n",
              "      <th>ID</th>\n",
              "      <th>Sodium</th>\n",
              "      <th>Cholesterol</th>\n",
              "      <th>Sugar</th>\n",
              "      <th>Calcium</th>\n",
              "      <th>Iron</th>\n",
              "      <th>Potassium</th>\n",
              "      <th>VitaminC</th>\n",
              "      <th>VitaminE</th>\n",
              "      <th>VitaminD</th>\n",
              "    </tr>\n",
              "  </thead>\n",
              "  <tbody>\n",
              "    <tr>\n",
              "      <th>0</th>\n",
              "      <td>4038</td>\n",
              "      <td>0</td>\n",
              "      <td>0.0</td>\n",
              "      <td>0.00</td>\n",
              "      <td>0.0</td>\n",
              "      <td>0.00</td>\n",
              "      <td>0</td>\n",
              "      <td>0.0</td>\n",
              "      <td>149.40</td>\n",
              "      <td>0.0</td>\n",
              "    </tr>\n",
              "    <tr>\n",
              "      <th>1</th>\n",
              "      <td>8504</td>\n",
              "      <td>813</td>\n",
              "      <td>NaN</td>\n",
              "      <td>17.17</td>\n",
              "      <td>45.0</td>\n",
              "      <td>67.67</td>\n",
              "      <td>630</td>\n",
              "      <td>239.7</td>\n",
              "      <td>80.46</td>\n",
              "      <td>NaN</td>\n",
              "    </tr>\n",
              "    <tr>\n",
              "      <th>2</th>\n",
              "      <td>25021</td>\n",
              "      <td>386</td>\n",
              "      <td>0.0</td>\n",
              "      <td>16.90</td>\n",
              "      <td>886.0</td>\n",
              "      <td>14.20</td>\n",
              "      <td>412</td>\n",
              "      <td>68.0</td>\n",
              "      <td>64.25</td>\n",
              "      <td>3.1</td>\n",
              "    </tr>\n",
              "    <tr>\n",
              "      <th>3</th>\n",
              "      <td>8590</td>\n",
              "      <td>242</td>\n",
              "      <td>0.0</td>\n",
              "      <td>14.30</td>\n",
              "      <td>47.0</td>\n",
              "      <td>8.70</td>\n",
              "      <td>296</td>\n",
              "      <td>89.0</td>\n",
              "      <td>58.96</td>\n",
              "      <td>0.0</td>\n",
              "    </tr>\n",
              "    <tr>\n",
              "      <th>4</th>\n",
              "      <td>4532</td>\n",
              "      <td>0</td>\n",
              "      <td>0.0</td>\n",
              "      <td>0.00</td>\n",
              "      <td>0.0</td>\n",
              "      <td>0.00</td>\n",
              "      <td>0</td>\n",
              "      <td>0.0</td>\n",
              "      <td>47.20</td>\n",
              "      <td>NaN</td>\n",
              "    </tr>\n",
              "  </tbody>\n",
              "</table>\n",
              "</div>"
            ],
            "text/plain": [
              "      ID Sodium  Cholesterol  Sugar  ...  Potassium  VitaminC VitaminE  VitaminD\n",
              "0   4038      0          0.0   0.00  ...          0       0.0   149.40       0.0\n",
              "1   8504    813          NaN  17.17  ...        630     239.7    80.46       NaN\n",
              "2  25021    386          0.0  16.90  ...        412      68.0    64.25       3.1\n",
              "3   8590    242          0.0  14.30  ...        296      89.0    58.96       0.0\n",
              "4   4532      0          0.0   0.00  ...          0       0.0    47.20       NaN\n",
              "\n",
              "[5 rows x 10 columns]"
            ]
          },
          "metadata": {
            "tags": []
          },
          "execution_count": 41
        }
      ]
    },
    {
      "cell_type": "code",
      "metadata": {
        "id": "JILbxGCfNd64",
        "colab": {
          "base_uri": "https://localhost:8080/",
          "height": 598
        },
        "outputId": "d3afa291-c78a-4ef0-a9a7-0e8694685a2e"
      },
      "source": [
        "# 3. Merge the data frames using the variable \"ID\". Name the Merged Data Frame \"USDA\".\n",
        "# For my analysis, I joined both daframes using inner join\n",
        "\n",
        "USDA = pd.merge(df_macro, df_micro, on = 'ID',how= 'inner')\n",
        "USDA.head(10)\n",
        "\n"
      ],
      "execution_count": 42,
      "outputs": [
        {
          "output_type": "execute_result",
          "data": {
            "text/html": [
              "<div>\n",
              "<style scoped>\n",
              "    .dataframe tbody tr th:only-of-type {\n",
              "        vertical-align: middle;\n",
              "    }\n",
              "\n",
              "    .dataframe tbody tr th {\n",
              "        vertical-align: top;\n",
              "    }\n",
              "\n",
              "    .dataframe thead th {\n",
              "        text-align: right;\n",
              "    }\n",
              "</style>\n",
              "<table border=\"1\" class=\"dataframe\">\n",
              "  <thead>\n",
              "    <tr style=\"text-align: right;\">\n",
              "      <th></th>\n",
              "      <th>ID</th>\n",
              "      <th>Description</th>\n",
              "      <th>Calories</th>\n",
              "      <th>Protein</th>\n",
              "      <th>TotalFat</th>\n",
              "      <th>Carbohydrate</th>\n",
              "      <th>Sodium</th>\n",
              "      <th>Cholesterol</th>\n",
              "      <th>Sugar</th>\n",
              "      <th>Calcium</th>\n",
              "      <th>Iron</th>\n",
              "      <th>Potassium</th>\n",
              "      <th>VitaminC</th>\n",
              "      <th>VitaminE</th>\n",
              "      <th>VitaminD</th>\n",
              "    </tr>\n",
              "  </thead>\n",
              "  <tbody>\n",
              "    <tr>\n",
              "      <th>0</th>\n",
              "      <td>2047</td>\n",
              "      <td>SALT,TABLE</td>\n",
              "      <td>0</td>\n",
              "      <td>0.0</td>\n",
              "      <td>0.0</td>\n",
              "      <td>0.00</td>\n",
              "      <td>38,758</td>\n",
              "      <td>0.0</td>\n",
              "      <td>0.00</td>\n",
              "      <td>24.0</td>\n",
              "      <td>0.33</td>\n",
              "      <td>8</td>\n",
              "      <td>0.0</td>\n",
              "      <td>0.0</td>\n",
              "      <td>0.0</td>\n",
              "    </tr>\n",
              "    <tr>\n",
              "      <th>1</th>\n",
              "      <td>2048</td>\n",
              "      <td>VINEGAR,CIDER</td>\n",
              "      <td>21</td>\n",
              "      <td>0.0</td>\n",
              "      <td>0.0</td>\n",
              "      <td>0.93</td>\n",
              "      <td>5</td>\n",
              "      <td>0.0</td>\n",
              "      <td>0.40</td>\n",
              "      <td>7.0</td>\n",
              "      <td>0.20</td>\n",
              "      <td>73</td>\n",
              "      <td>0.0</td>\n",
              "      <td>0.0</td>\n",
              "      <td>0.0</td>\n",
              "    </tr>\n",
              "    <tr>\n",
              "      <th>2</th>\n",
              "      <td>2053</td>\n",
              "      <td>VINEGAR,DISTILLED</td>\n",
              "      <td>18</td>\n",
              "      <td>0.0</td>\n",
              "      <td>0.0</td>\n",
              "      <td>0.04</td>\n",
              "      <td>2</td>\n",
              "      <td>0.0</td>\n",
              "      <td>0.04</td>\n",
              "      <td>6.0</td>\n",
              "      <td>0.03</td>\n",
              "      <td>2</td>\n",
              "      <td>0.0</td>\n",
              "      <td>0.0</td>\n",
              "      <td>0.0</td>\n",
              "    </tr>\n",
              "    <tr>\n",
              "      <th>3</th>\n",
              "      <td>2073</td>\n",
              "      <td>CAMPBELL SOUP CO,PACE,DRY TACO SEAS MIX</td>\n",
              "      <td>188</td>\n",
              "      <td>0.0</td>\n",
              "      <td>0.0</td>\n",
              "      <td>56.29</td>\n",
              "      <td>8,068</td>\n",
              "      <td>0.0</td>\n",
              "      <td>18.76</td>\n",
              "      <td>NaN</td>\n",
              "      <td>6.75</td>\n",
              "      <td>NaN</td>\n",
              "      <td>45.0</td>\n",
              "      <td>NaN</td>\n",
              "      <td>NaN</td>\n",
              "    </tr>\n",
              "    <tr>\n",
              "      <th>4</th>\n",
              "      <td>6597</td>\n",
              "      <td>CAMPBELL SOUP COMPANY,PACE,CHIPOTLE CHUNKY SALSA</td>\n",
              "      <td>25</td>\n",
              "      <td>0.0</td>\n",
              "      <td>0.0</td>\n",
              "      <td>6.25</td>\n",
              "      <td>719</td>\n",
              "      <td>0.0</td>\n",
              "      <td>6.25</td>\n",
              "      <td>0.0</td>\n",
              "      <td>0.00</td>\n",
              "      <td>NaN</td>\n",
              "      <td>0.0</td>\n",
              "      <td>NaN</td>\n",
              "      <td>NaN</td>\n",
              "    </tr>\n",
              "    <tr>\n",
              "      <th>5</th>\n",
              "      <td>6598</td>\n",
              "      <td>CAMPBELL SOUP COMPANY,PACE,CILANTRO CHUNKY SALSA</td>\n",
              "      <td>25</td>\n",
              "      <td>0.0</td>\n",
              "      <td>0.0</td>\n",
              "      <td>6.25</td>\n",
              "      <td>844</td>\n",
              "      <td>0.0</td>\n",
              "      <td>6.25</td>\n",
              "      <td>0.0</td>\n",
              "      <td>0.00</td>\n",
              "      <td>NaN</td>\n",
              "      <td>0.0</td>\n",
              "      <td>NaN</td>\n",
              "      <td>NaN</td>\n",
              "    </tr>\n",
              "    <tr>\n",
              "      <th>6</th>\n",
              "      <td>6600</td>\n",
              "      <td>CAMPBELL SOUP COMPANY,PACE,GRN TACO SAU</td>\n",
              "      <td>25</td>\n",
              "      <td>0.0</td>\n",
              "      <td>0.0</td>\n",
              "      <td>6.25</td>\n",
              "      <td>625</td>\n",
              "      <td>0.0</td>\n",
              "      <td>6.25</td>\n",
              "      <td>NaN</td>\n",
              "      <td>NaN</td>\n",
              "      <td>NaN</td>\n",
              "      <td>NaN</td>\n",
              "      <td>NaN</td>\n",
              "      <td>NaN</td>\n",
              "    </tr>\n",
              "    <tr>\n",
              "      <th>7</th>\n",
              "      <td>6601</td>\n",
              "      <td>CAMPBELL SOUP COMPANY,PACE,LIME &amp; GARLIC CHUNK...</td>\n",
              "      <td>38</td>\n",
              "      <td>0.0</td>\n",
              "      <td>0.0</td>\n",
              "      <td>9.38</td>\n",
              "      <td>656</td>\n",
              "      <td>0.0</td>\n",
              "      <td>6.25</td>\n",
              "      <td>0.0</td>\n",
              "      <td>0.00</td>\n",
              "      <td>NaN</td>\n",
              "      <td>5.6</td>\n",
              "      <td>NaN</td>\n",
              "      <td>NaN</td>\n",
              "    </tr>\n",
              "    <tr>\n",
              "      <th>8</th>\n",
              "      <td>6602</td>\n",
              "      <td>CAMPBELL SOUP COMPANY,PACE,ORGANIC PICANTE SAU</td>\n",
              "      <td>25</td>\n",
              "      <td>0.0</td>\n",
              "      <td>0.0</td>\n",
              "      <td>6.25</td>\n",
              "      <td>688</td>\n",
              "      <td>0.0</td>\n",
              "      <td>6.25</td>\n",
              "      <td>NaN</td>\n",
              "      <td>NaN</td>\n",
              "      <td>NaN</td>\n",
              "      <td>NaN</td>\n",
              "      <td>NaN</td>\n",
              "      <td>NaN</td>\n",
              "    </tr>\n",
              "    <tr>\n",
              "      <th>9</th>\n",
              "      <td>6603</td>\n",
              "      <td>CAMPBELL SOUP COMPANY,PACE,PICANTE SAU</td>\n",
              "      <td>25</td>\n",
              "      <td>0.0</td>\n",
              "      <td>0.0</td>\n",
              "      <td>6.25</td>\n",
              "      <td>781</td>\n",
              "      <td>0.0</td>\n",
              "      <td>6.25</td>\n",
              "      <td>NaN</td>\n",
              "      <td>NaN</td>\n",
              "      <td>NaN</td>\n",
              "      <td>NaN</td>\n",
              "      <td>NaN</td>\n",
              "      <td>NaN</td>\n",
              "    </tr>\n",
              "  </tbody>\n",
              "</table>\n",
              "</div>"
            ],
            "text/plain": [
              "     ID                                        Description  ...  VitaminE  VitaminD\n",
              "0  2047                                         SALT,TABLE  ...       0.0       0.0\n",
              "1  2048                                      VINEGAR,CIDER  ...       0.0       0.0\n",
              "2  2053                                  VINEGAR,DISTILLED  ...       0.0       0.0\n",
              "3  2073            CAMPBELL SOUP CO,PACE,DRY TACO SEAS MIX  ...       NaN       NaN\n",
              "4  6597   CAMPBELL SOUP COMPANY,PACE,CHIPOTLE CHUNKY SALSA  ...       NaN       NaN\n",
              "5  6598   CAMPBELL SOUP COMPANY,PACE,CILANTRO CHUNKY SALSA  ...       NaN       NaN\n",
              "6  6600            CAMPBELL SOUP COMPANY,PACE,GRN TACO SAU  ...       NaN       NaN\n",
              "7  6601  CAMPBELL SOUP COMPANY,PACE,LIME & GARLIC CHUNK...  ...       NaN       NaN\n",
              "8  6602     CAMPBELL SOUP COMPANY,PACE,ORGANIC PICANTE SAU  ...       NaN       NaN\n",
              "9  6603             CAMPBELL SOUP COMPANY,PACE,PICANTE SAU  ...       NaN       NaN\n",
              "\n",
              "[10 rows x 15 columns]"
            ]
          },
          "metadata": {
            "tags": []
          },
          "execution_count": 42
        }
      ]
    },
    {
      "cell_type": "code",
      "metadata": {
        "id": "MOk6M1MHLNqH",
        "outputId": "374f2924-7cbb-413e-9a46-663076d68779",
        "colab": {
          "base_uri": "https://localhost:8080/"
        }
      },
      "source": [
        "print(\"The shape of merged dataframe  is:\", USDA.shape)"
      ],
      "execution_count": 43,
      "outputs": [
        {
          "output_type": "stream",
          "text": [
            "The shape of merged dataframe  is: (7057, 15)\n"
          ],
          "name": "stdout"
        }
      ]
    },
    {
      "cell_type": "code",
      "metadata": {
        "id": "gKjsIeyFNd66",
        "colab": {
          "base_uri": "https://localhost:8080/"
        },
        "outputId": "596383b0-87f9-4aa6-888c-169fb3a1a96c"
      },
      "source": [
        "# 4. Prepare the dataset for analysis.\n",
        "#USDA.replace(\"?\", np.nan, inplace= True)\n",
        "# Check for missing values\n",
        "USDA.isnull().sum()"
      ],
      "execution_count": 44,
      "outputs": [
        {
          "output_type": "execute_result",
          "data": {
            "text/plain": [
              "ID                 0\n",
              "Description        0\n",
              "Calories           0\n",
              "Protein            0\n",
              "TotalFat           0\n",
              "Carbohydrate       0\n",
              "Sodium            83\n",
              "Cholesterol      287\n",
              "Sugar           1909\n",
              "Calcium          135\n",
              "Iron             122\n",
              "Potassium        408\n",
              "VitaminC         331\n",
              "VitaminE        2719\n",
              "VitaminD        2833\n",
              "dtype: int64"
            ]
          },
          "metadata": {
            "tags": []
          },
          "execution_count": 44
        }
      ]
    },
    {
      "cell_type": "code",
      "metadata": {
        "id": "g3UYpfOGLh3K",
        "outputId": "9fcee79d-7ba6-4fd1-f5a6-0fa8c9691574",
        "colab": {
          "base_uri": "https://localhost:8080/"
        }
      },
      "source": [
        "missing_values = USDA.isnull().sum().sum()\r\n",
        "print(\"The number of missing values is:\", missing_values)\r\n"
      ],
      "execution_count": 45,
      "outputs": [
        {
          "output_type": "stream",
          "text": [
            "The number of missing values is: 8827\n"
          ],
          "name": "stdout"
        }
      ]
    },
    {
      "cell_type": "code",
      "metadata": {
        "id": "tr-A4UGqU8L8",
        "colab": {
          "base_uri": "https://localhost:8080/"
        },
        "outputId": "02b4e676-b632-4139-b45e-993eaa03c39f"
      },
      "source": [
        "# Check data type for each column\n",
        "USDA.dtypes"
      ],
      "execution_count": 46,
      "outputs": [
        {
          "output_type": "execute_result",
          "data": {
            "text/plain": [
              "ID                int64\n",
              "Description      object\n",
              "Calories          int64\n",
              "Protein         float64\n",
              "TotalFat        float64\n",
              "Carbohydrate    float64\n",
              "Sodium           object\n",
              "Cholesterol     float64\n",
              "Sugar           float64\n",
              "Calcium         float64\n",
              "Iron            float64\n",
              "Potassium        object\n",
              "VitaminC        float64\n",
              "VitaminE        float64\n",
              "VitaminD        float64\n",
              "dtype: object"
            ]
          },
          "metadata": {
            "tags": []
          },
          "execution_count": 46
        }
      ]
    },
    {
      "cell_type": "code",
      "metadata": {
        "id": "P-ZsRdjBVEtI",
        "colab": {
          "base_uri": "https://localhost:8080/"
        },
        "outputId": "4e84e420-6460-4df8-bdb8-52d23d36c5d6"
      },
      "source": [
        "# Change Potassium column data type to float64\n",
        "cols = ['Sodium','Potassium']\n",
        "\n",
        "USDA[cols]= USDA[cols].replace({',':''}, regex = True)\n",
        "USDA[cols] = USDA[cols].astype(float)\n",
        "USDA.dtypes"
      ],
      "execution_count": 48,
      "outputs": [
        {
          "output_type": "execute_result",
          "data": {
            "text/plain": [
              "ID                int64\n",
              "Description      object\n",
              "Calories          int64\n",
              "Protein         float64\n",
              "TotalFat        float64\n",
              "Carbohydrate    float64\n",
              "Sodium          float64\n",
              "Cholesterol     float64\n",
              "Sugar           float64\n",
              "Calcium         float64\n",
              "Iron            float64\n",
              "Potassium       float64\n",
              "VitaminC        float64\n",
              "VitaminE        float64\n",
              "VitaminD        float64\n",
              "dtype: object"
            ]
          },
          "metadata": {
            "tags": []
          },
          "execution_count": 48
        }
      ]
    },
    {
      "cell_type": "code",
      "metadata": {
        "id": "DpTEZw_bODX2",
        "outputId": "746367c3-77b9-47c7-f8de-06e5c752f1ce",
        "colab": {
          "base_uri": "https://localhost:8080/",
          "height": 282
        }
      },
      "source": [
        "USDA.head()"
      ],
      "execution_count": 49,
      "outputs": [
        {
          "output_type": "execute_result",
          "data": {
            "text/html": [
              "<div>\n",
              "<style scoped>\n",
              "    .dataframe tbody tr th:only-of-type {\n",
              "        vertical-align: middle;\n",
              "    }\n",
              "\n",
              "    .dataframe tbody tr th {\n",
              "        vertical-align: top;\n",
              "    }\n",
              "\n",
              "    .dataframe thead th {\n",
              "        text-align: right;\n",
              "    }\n",
              "</style>\n",
              "<table border=\"1\" class=\"dataframe\">\n",
              "  <thead>\n",
              "    <tr style=\"text-align: right;\">\n",
              "      <th></th>\n",
              "      <th>ID</th>\n",
              "      <th>Description</th>\n",
              "      <th>Calories</th>\n",
              "      <th>Protein</th>\n",
              "      <th>TotalFat</th>\n",
              "      <th>Carbohydrate</th>\n",
              "      <th>Sodium</th>\n",
              "      <th>Cholesterol</th>\n",
              "      <th>Sugar</th>\n",
              "      <th>Calcium</th>\n",
              "      <th>Iron</th>\n",
              "      <th>Potassium</th>\n",
              "      <th>VitaminC</th>\n",
              "      <th>VitaminE</th>\n",
              "      <th>VitaminD</th>\n",
              "    </tr>\n",
              "  </thead>\n",
              "  <tbody>\n",
              "    <tr>\n",
              "      <th>0</th>\n",
              "      <td>2047</td>\n",
              "      <td>SALT,TABLE</td>\n",
              "      <td>0</td>\n",
              "      <td>0.0</td>\n",
              "      <td>0.0</td>\n",
              "      <td>0.00</td>\n",
              "      <td>38758.0</td>\n",
              "      <td>0.0</td>\n",
              "      <td>0.00</td>\n",
              "      <td>24.0</td>\n",
              "      <td>0.33</td>\n",
              "      <td>8.0</td>\n",
              "      <td>0.0</td>\n",
              "      <td>0.0</td>\n",
              "      <td>0.0</td>\n",
              "    </tr>\n",
              "    <tr>\n",
              "      <th>1</th>\n",
              "      <td>2048</td>\n",
              "      <td>VINEGAR,CIDER</td>\n",
              "      <td>21</td>\n",
              "      <td>0.0</td>\n",
              "      <td>0.0</td>\n",
              "      <td>0.93</td>\n",
              "      <td>5.0</td>\n",
              "      <td>0.0</td>\n",
              "      <td>0.40</td>\n",
              "      <td>7.0</td>\n",
              "      <td>0.20</td>\n",
              "      <td>73.0</td>\n",
              "      <td>0.0</td>\n",
              "      <td>0.0</td>\n",
              "      <td>0.0</td>\n",
              "    </tr>\n",
              "    <tr>\n",
              "      <th>2</th>\n",
              "      <td>2053</td>\n",
              "      <td>VINEGAR,DISTILLED</td>\n",
              "      <td>18</td>\n",
              "      <td>0.0</td>\n",
              "      <td>0.0</td>\n",
              "      <td>0.04</td>\n",
              "      <td>2.0</td>\n",
              "      <td>0.0</td>\n",
              "      <td>0.04</td>\n",
              "      <td>6.0</td>\n",
              "      <td>0.03</td>\n",
              "      <td>2.0</td>\n",
              "      <td>0.0</td>\n",
              "      <td>0.0</td>\n",
              "      <td>0.0</td>\n",
              "    </tr>\n",
              "    <tr>\n",
              "      <th>3</th>\n",
              "      <td>2073</td>\n",
              "      <td>CAMPBELL SOUP CO,PACE,DRY TACO SEAS MIX</td>\n",
              "      <td>188</td>\n",
              "      <td>0.0</td>\n",
              "      <td>0.0</td>\n",
              "      <td>56.29</td>\n",
              "      <td>8068.0</td>\n",
              "      <td>0.0</td>\n",
              "      <td>18.76</td>\n",
              "      <td>NaN</td>\n",
              "      <td>6.75</td>\n",
              "      <td>NaN</td>\n",
              "      <td>45.0</td>\n",
              "      <td>NaN</td>\n",
              "      <td>NaN</td>\n",
              "    </tr>\n",
              "    <tr>\n",
              "      <th>4</th>\n",
              "      <td>6597</td>\n",
              "      <td>CAMPBELL SOUP COMPANY,PACE,CHIPOTLE CHUNKY SALSA</td>\n",
              "      <td>25</td>\n",
              "      <td>0.0</td>\n",
              "      <td>0.0</td>\n",
              "      <td>6.25</td>\n",
              "      <td>719.0</td>\n",
              "      <td>0.0</td>\n",
              "      <td>6.25</td>\n",
              "      <td>0.0</td>\n",
              "      <td>0.00</td>\n",
              "      <td>NaN</td>\n",
              "      <td>0.0</td>\n",
              "      <td>NaN</td>\n",
              "      <td>NaN</td>\n",
              "    </tr>\n",
              "  </tbody>\n",
              "</table>\n",
              "</div>"
            ],
            "text/plain": [
              "     ID                                       Description  ...  VitaminE  VitaminD\n",
              "0  2047                                        SALT,TABLE  ...       0.0       0.0\n",
              "1  2048                                     VINEGAR,CIDER  ...       0.0       0.0\n",
              "2  2053                                 VINEGAR,DISTILLED  ...       0.0       0.0\n",
              "3  2073           CAMPBELL SOUP CO,PACE,DRY TACO SEAS MIX  ...       NaN       NaN\n",
              "4  6597  CAMPBELL SOUP COMPANY,PACE,CHIPOTLE CHUNKY SALSA  ...       NaN       NaN\n",
              "\n",
              "[5 rows x 15 columns]"
            ]
          },
          "metadata": {
            "tags": []
          },
          "execution_count": 49
        }
      ]
    },
    {
      "cell_type": "code",
      "metadata": {
        "id": "ptlaUacdNd68",
        "colab": {
          "base_uri": "https://localhost:8080/",
          "height": 282
        },
        "outputId": "6d40569f-a96b-431f-ceca-ea6ece197bc0"
      },
      "source": [
        "# 5. Remove records with missing values in 4 or more vectors.\n",
        "USDA.dropna( axis = 0, thresh= 4, inplace= True)\n",
        "USDA.head()\n"
      ],
      "execution_count": 51,
      "outputs": [
        {
          "output_type": "execute_result",
          "data": {
            "text/html": [
              "<div>\n",
              "<style scoped>\n",
              "    .dataframe tbody tr th:only-of-type {\n",
              "        vertical-align: middle;\n",
              "    }\n",
              "\n",
              "    .dataframe tbody tr th {\n",
              "        vertical-align: top;\n",
              "    }\n",
              "\n",
              "    .dataframe thead th {\n",
              "        text-align: right;\n",
              "    }\n",
              "</style>\n",
              "<table border=\"1\" class=\"dataframe\">\n",
              "  <thead>\n",
              "    <tr style=\"text-align: right;\">\n",
              "      <th></th>\n",
              "      <th>ID</th>\n",
              "      <th>Description</th>\n",
              "      <th>Calories</th>\n",
              "      <th>Protein</th>\n",
              "      <th>TotalFat</th>\n",
              "      <th>Carbohydrate</th>\n",
              "      <th>Sodium</th>\n",
              "      <th>Cholesterol</th>\n",
              "      <th>Sugar</th>\n",
              "      <th>Calcium</th>\n",
              "      <th>Iron</th>\n",
              "      <th>Potassium</th>\n",
              "      <th>VitaminC</th>\n",
              "      <th>VitaminE</th>\n",
              "      <th>VitaminD</th>\n",
              "    </tr>\n",
              "  </thead>\n",
              "  <tbody>\n",
              "    <tr>\n",
              "      <th>0</th>\n",
              "      <td>2047</td>\n",
              "      <td>SALT,TABLE</td>\n",
              "      <td>0</td>\n",
              "      <td>0.0</td>\n",
              "      <td>0.0</td>\n",
              "      <td>0.00</td>\n",
              "      <td>38758.0</td>\n",
              "      <td>0.0</td>\n",
              "      <td>0.00</td>\n",
              "      <td>24.0</td>\n",
              "      <td>0.33</td>\n",
              "      <td>8.0</td>\n",
              "      <td>0.0</td>\n",
              "      <td>0.0</td>\n",
              "      <td>0.0</td>\n",
              "    </tr>\n",
              "    <tr>\n",
              "      <th>1</th>\n",
              "      <td>2048</td>\n",
              "      <td>VINEGAR,CIDER</td>\n",
              "      <td>21</td>\n",
              "      <td>0.0</td>\n",
              "      <td>0.0</td>\n",
              "      <td>0.93</td>\n",
              "      <td>5.0</td>\n",
              "      <td>0.0</td>\n",
              "      <td>0.40</td>\n",
              "      <td>7.0</td>\n",
              "      <td>0.20</td>\n",
              "      <td>73.0</td>\n",
              "      <td>0.0</td>\n",
              "      <td>0.0</td>\n",
              "      <td>0.0</td>\n",
              "    </tr>\n",
              "    <tr>\n",
              "      <th>2</th>\n",
              "      <td>2053</td>\n",
              "      <td>VINEGAR,DISTILLED</td>\n",
              "      <td>18</td>\n",
              "      <td>0.0</td>\n",
              "      <td>0.0</td>\n",
              "      <td>0.04</td>\n",
              "      <td>2.0</td>\n",
              "      <td>0.0</td>\n",
              "      <td>0.04</td>\n",
              "      <td>6.0</td>\n",
              "      <td>0.03</td>\n",
              "      <td>2.0</td>\n",
              "      <td>0.0</td>\n",
              "      <td>0.0</td>\n",
              "      <td>0.0</td>\n",
              "    </tr>\n",
              "    <tr>\n",
              "      <th>3</th>\n",
              "      <td>2073</td>\n",
              "      <td>CAMPBELL SOUP CO,PACE,DRY TACO SEAS MIX</td>\n",
              "      <td>188</td>\n",
              "      <td>0.0</td>\n",
              "      <td>0.0</td>\n",
              "      <td>56.29</td>\n",
              "      <td>8068.0</td>\n",
              "      <td>0.0</td>\n",
              "      <td>18.76</td>\n",
              "      <td>NaN</td>\n",
              "      <td>6.75</td>\n",
              "      <td>NaN</td>\n",
              "      <td>45.0</td>\n",
              "      <td>NaN</td>\n",
              "      <td>NaN</td>\n",
              "    </tr>\n",
              "    <tr>\n",
              "      <th>4</th>\n",
              "      <td>6597</td>\n",
              "      <td>CAMPBELL SOUP COMPANY,PACE,CHIPOTLE CHUNKY SALSA</td>\n",
              "      <td>25</td>\n",
              "      <td>0.0</td>\n",
              "      <td>0.0</td>\n",
              "      <td>6.25</td>\n",
              "      <td>719.0</td>\n",
              "      <td>0.0</td>\n",
              "      <td>6.25</td>\n",
              "      <td>0.0</td>\n",
              "      <td>0.00</td>\n",
              "      <td>NaN</td>\n",
              "      <td>0.0</td>\n",
              "      <td>NaN</td>\n",
              "      <td>NaN</td>\n",
              "    </tr>\n",
              "  </tbody>\n",
              "</table>\n",
              "</div>"
            ],
            "text/plain": [
              "     ID                                       Description  ...  VitaminE  VitaminD\n",
              "0  2047                                        SALT,TABLE  ...       0.0       0.0\n",
              "1  2048                                     VINEGAR,CIDER  ...       0.0       0.0\n",
              "2  2053                                 VINEGAR,DISTILLED  ...       0.0       0.0\n",
              "3  2073           CAMPBELL SOUP CO,PACE,DRY TACO SEAS MIX  ...       NaN       NaN\n",
              "4  6597  CAMPBELL SOUP COMPANY,PACE,CHIPOTLE CHUNKY SALSA  ...       NaN       NaN\n",
              "\n",
              "[5 rows x 15 columns]"
            ]
          },
          "metadata": {
            "tags": []
          },
          "execution_count": 51
        }
      ]
    },
    {
      "cell_type": "code",
      "metadata": {
        "id": "3vtVkRQ3TCQZ",
        "outputId": "0eb6dcb7-30d4-4e47-ec97-5efb47888999",
        "colab": {
          "base_uri": "https://localhost:8080/"
        }
      },
      "source": [
        "USDA.isnull().sum()"
      ],
      "execution_count": 53,
      "outputs": [
        {
          "output_type": "execute_result",
          "data": {
            "text/plain": [
              "ID                 0\n",
              "Description        0\n",
              "Calories           0\n",
              "Protein            0\n",
              "TotalFat           0\n",
              "Carbohydrate       0\n",
              "Sodium            83\n",
              "Cholesterol      287\n",
              "Sugar           1909\n",
              "Calcium          135\n",
              "Iron             122\n",
              "Potassium        408\n",
              "VitaminC         331\n",
              "VitaminE        2719\n",
              "VitaminD        2833\n",
              "dtype: int64"
            ]
          },
          "metadata": {
            "tags": []
          },
          "execution_count": 53
        }
      ]
    },
    {
      "cell_type": "code",
      "metadata": {
        "id": "LG-ACJseNd6-",
        "colab": {
          "base_uri": "https://localhost:8080/",
          "height": 282
        },
        "outputId": "d86526ea-7c3d-4755-c21c-69e446c5ecdd"
      },
      "source": [
        "# 6. For records with missing values for Sugar, Vitamin E and Vitamin D, replace missing values with mean value for the respective vector.\n",
        "null_columns = [col for col in USDA.columns if USDA[col].isnull().sum()>= 1]\n",
        "null_columns\n",
        "\n",
        "treat_cols = ['Sugar','VitaminE','VitaminD']\n",
        "\n",
        "\n",
        "\n",
        "for cols in treat_cols:\n",
        "    USDA[cols].fillna(USDA[cols].mean(), inplace = True)\n",
        "\n",
        "USDA.head()\n"
      ],
      "execution_count": 61,
      "outputs": [
        {
          "output_type": "execute_result",
          "data": {
            "text/html": [
              "<div>\n",
              "<style scoped>\n",
              "    .dataframe tbody tr th:only-of-type {\n",
              "        vertical-align: middle;\n",
              "    }\n",
              "\n",
              "    .dataframe tbody tr th {\n",
              "        vertical-align: top;\n",
              "    }\n",
              "\n",
              "    .dataframe thead th {\n",
              "        text-align: right;\n",
              "    }\n",
              "</style>\n",
              "<table border=\"1\" class=\"dataframe\">\n",
              "  <thead>\n",
              "    <tr style=\"text-align: right;\">\n",
              "      <th></th>\n",
              "      <th>ID</th>\n",
              "      <th>Description</th>\n",
              "      <th>Calories</th>\n",
              "      <th>Protein</th>\n",
              "      <th>TotalFat</th>\n",
              "      <th>Carbohydrate</th>\n",
              "      <th>Sodium</th>\n",
              "      <th>Cholesterol</th>\n",
              "      <th>Sugar</th>\n",
              "      <th>Calcium</th>\n",
              "      <th>Iron</th>\n",
              "      <th>Potassium</th>\n",
              "      <th>VitaminC</th>\n",
              "      <th>VitaminE</th>\n",
              "      <th>VitaminD</th>\n",
              "    </tr>\n",
              "  </thead>\n",
              "  <tbody>\n",
              "    <tr>\n",
              "      <th>0</th>\n",
              "      <td>2047</td>\n",
              "      <td>SALT,TABLE</td>\n",
              "      <td>0</td>\n",
              "      <td>0.0</td>\n",
              "      <td>0.0</td>\n",
              "      <td>0.00</td>\n",
              "      <td>38758.0</td>\n",
              "      <td>0.0</td>\n",
              "      <td>0.00</td>\n",
              "      <td>24.0</td>\n",
              "      <td>0.33</td>\n",
              "      <td>8.0</td>\n",
              "      <td>0.0</td>\n",
              "      <td>0.000000</td>\n",
              "      <td>0.000000</td>\n",
              "    </tr>\n",
              "    <tr>\n",
              "      <th>1</th>\n",
              "      <td>2048</td>\n",
              "      <td>VINEGAR,CIDER</td>\n",
              "      <td>21</td>\n",
              "      <td>0.0</td>\n",
              "      <td>0.0</td>\n",
              "      <td>0.93</td>\n",
              "      <td>5.0</td>\n",
              "      <td>0.0</td>\n",
              "      <td>0.40</td>\n",
              "      <td>7.0</td>\n",
              "      <td>0.20</td>\n",
              "      <td>73.0</td>\n",
              "      <td>0.0</td>\n",
              "      <td>0.000000</td>\n",
              "      <td>0.000000</td>\n",
              "    </tr>\n",
              "    <tr>\n",
              "      <th>2</th>\n",
              "      <td>2053</td>\n",
              "      <td>VINEGAR,DISTILLED</td>\n",
              "      <td>18</td>\n",
              "      <td>0.0</td>\n",
              "      <td>0.0</td>\n",
              "      <td>0.04</td>\n",
              "      <td>2.0</td>\n",
              "      <td>0.0</td>\n",
              "      <td>0.04</td>\n",
              "      <td>6.0</td>\n",
              "      <td>0.03</td>\n",
              "      <td>2.0</td>\n",
              "      <td>0.0</td>\n",
              "      <td>0.000000</td>\n",
              "      <td>0.000000</td>\n",
              "    </tr>\n",
              "    <tr>\n",
              "      <th>3</th>\n",
              "      <td>2073</td>\n",
              "      <td>CAMPBELL SOUP CO,PACE,DRY TACO SEAS MIX</td>\n",
              "      <td>188</td>\n",
              "      <td>0.0</td>\n",
              "      <td>0.0</td>\n",
              "      <td>56.29</td>\n",
              "      <td>8068.0</td>\n",
              "      <td>0.0</td>\n",
              "      <td>18.76</td>\n",
              "      <td>NaN</td>\n",
              "      <td>6.75</td>\n",
              "      <td>NaN</td>\n",
              "      <td>45.0</td>\n",
              "      <td>1.487462</td>\n",
              "      <td>0.576918</td>\n",
              "    </tr>\n",
              "    <tr>\n",
              "      <th>4</th>\n",
              "      <td>6597</td>\n",
              "      <td>CAMPBELL SOUP COMPANY,PACE,CHIPOTLE CHUNKY SALSA</td>\n",
              "      <td>25</td>\n",
              "      <td>0.0</td>\n",
              "      <td>0.0</td>\n",
              "      <td>6.25</td>\n",
              "      <td>719.0</td>\n",
              "      <td>0.0</td>\n",
              "      <td>6.25</td>\n",
              "      <td>0.0</td>\n",
              "      <td>0.00</td>\n",
              "      <td>NaN</td>\n",
              "      <td>0.0</td>\n",
              "      <td>1.487462</td>\n",
              "      <td>0.576918</td>\n",
              "    </tr>\n",
              "  </tbody>\n",
              "</table>\n",
              "</div>"
            ],
            "text/plain": [
              "     ID                                       Description  ...  VitaminE  VitaminD\n",
              "0  2047                                        SALT,TABLE  ...  0.000000  0.000000\n",
              "1  2048                                     VINEGAR,CIDER  ...  0.000000  0.000000\n",
              "2  2053                                 VINEGAR,DISTILLED  ...  0.000000  0.000000\n",
              "3  2073           CAMPBELL SOUP CO,PACE,DRY TACO SEAS MIX  ...  1.487462  0.576918\n",
              "4  6597  CAMPBELL SOUP COMPANY,PACE,CHIPOTLE CHUNKY SALSA  ...  1.487462  0.576918\n",
              "\n",
              "[5 rows x 15 columns]"
            ]
          },
          "metadata": {
            "tags": []
          },
          "execution_count": 61
        }
      ]
    },
    {
      "cell_type": "code",
      "metadata": {
        "id": "OuIqDoUJUQ-7",
        "outputId": "db088998-efdc-47da-d9dc-38dd26ec9506",
        "colab": {
          "base_uri": "https://localhost:8080/"
        }
      },
      "source": [
        "USDA.isnull().sum()"
      ],
      "execution_count": 62,
      "outputs": [
        {
          "output_type": "execute_result",
          "data": {
            "text/plain": [
              "ID                0\n",
              "Description       0\n",
              "Calories          0\n",
              "Protein           0\n",
              "TotalFat          0\n",
              "Carbohydrate      0\n",
              "Sodium           83\n",
              "Cholesterol     287\n",
              "Sugar             0\n",
              "Calcium         135\n",
              "Iron            122\n",
              "Potassium       408\n",
              "VitaminC        331\n",
              "VitaminE          0\n",
              "VitaminD          0\n",
              "dtype: int64"
            ]
          },
          "metadata": {
            "tags": []
          },
          "execution_count": 62
        }
      ]
    },
    {
      "cell_type": "code",
      "metadata": {
        "id": "5tsHtIlRNd7B",
        "colab": {
          "base_uri": "https://localhost:8080/",
          "height": 232
        },
        "outputId": "8cd1fee1-0143-40f9-91e8-aedc92ea9fe3"
      },
      "source": [
        "# 7. With a single line of code, remove all remaining records with missing values. Name the new Data Frame \"USDAclean\"\n",
        "\n",
        "USDAclean = USDA.dropna(axis = 0)\n",
        "USDAclean.reset_index(drop = True, inplace= True)\n",
        "USDAclean.head()\n"
      ],
      "execution_count": 99,
      "outputs": [
        {
          "output_type": "execute_result",
          "data": {
            "text/html": [
              "<div>\n",
              "<style scoped>\n",
              "    .dataframe tbody tr th:only-of-type {\n",
              "        vertical-align: middle;\n",
              "    }\n",
              "\n",
              "    .dataframe tbody tr th {\n",
              "        vertical-align: top;\n",
              "    }\n",
              "\n",
              "    .dataframe thead th {\n",
              "        text-align: right;\n",
              "    }\n",
              "</style>\n",
              "<table border=\"1\" class=\"dataframe\">\n",
              "  <thead>\n",
              "    <tr style=\"text-align: right;\">\n",
              "      <th></th>\n",
              "      <th>ID</th>\n",
              "      <th>Description</th>\n",
              "      <th>Calories</th>\n",
              "      <th>Protein</th>\n",
              "      <th>TotalFat</th>\n",
              "      <th>Carbohydrate</th>\n",
              "      <th>Sodium</th>\n",
              "      <th>Cholesterol</th>\n",
              "      <th>Sugar</th>\n",
              "      <th>Calcium</th>\n",
              "      <th>Iron</th>\n",
              "      <th>Potassium</th>\n",
              "      <th>VitaminC</th>\n",
              "      <th>VitaminE</th>\n",
              "      <th>VitaminD</th>\n",
              "    </tr>\n",
              "  </thead>\n",
              "  <tbody>\n",
              "    <tr>\n",
              "      <th>0</th>\n",
              "      <td>2047</td>\n",
              "      <td>SALT,TABLE</td>\n",
              "      <td>0</td>\n",
              "      <td>0.0</td>\n",
              "      <td>0.0</td>\n",
              "      <td>0.00</td>\n",
              "      <td>38758.0</td>\n",
              "      <td>0.0</td>\n",
              "      <td>0.00000</td>\n",
              "      <td>24.0</td>\n",
              "      <td>0.33</td>\n",
              "      <td>8.0</td>\n",
              "      <td>0.0</td>\n",
              "      <td>0.000000</td>\n",
              "      <td>0.000000</td>\n",
              "    </tr>\n",
              "    <tr>\n",
              "      <th>1</th>\n",
              "      <td>2048</td>\n",
              "      <td>VINEGAR,CIDER</td>\n",
              "      <td>21</td>\n",
              "      <td>0.0</td>\n",
              "      <td>0.0</td>\n",
              "      <td>0.93</td>\n",
              "      <td>5.0</td>\n",
              "      <td>0.0</td>\n",
              "      <td>0.40000</td>\n",
              "      <td>7.0</td>\n",
              "      <td>0.20</td>\n",
              "      <td>73.0</td>\n",
              "      <td>0.0</td>\n",
              "      <td>0.000000</td>\n",
              "      <td>0.000000</td>\n",
              "    </tr>\n",
              "    <tr>\n",
              "      <th>2</th>\n",
              "      <td>2053</td>\n",
              "      <td>VINEGAR,DISTILLED</td>\n",
              "      <td>18</td>\n",
              "      <td>0.0</td>\n",
              "      <td>0.0</td>\n",
              "      <td>0.04</td>\n",
              "      <td>2.0</td>\n",
              "      <td>0.0</td>\n",
              "      <td>0.04000</td>\n",
              "      <td>6.0</td>\n",
              "      <td>0.03</td>\n",
              "      <td>2.0</td>\n",
              "      <td>0.0</td>\n",
              "      <td>0.000000</td>\n",
              "      <td>0.000000</td>\n",
              "    </tr>\n",
              "    <tr>\n",
              "      <th>3</th>\n",
              "      <td>6971</td>\n",
              "      <td>SAUCE,WORCESTERSHIRE</td>\n",
              "      <td>78</td>\n",
              "      <td>0.0</td>\n",
              "      <td>0.0</td>\n",
              "      <td>19.46</td>\n",
              "      <td>980.0</td>\n",
              "      <td>0.0</td>\n",
              "      <td>10.03000</td>\n",
              "      <td>107.0</td>\n",
              "      <td>5.30</td>\n",
              "      <td>800.0</td>\n",
              "      <td>13.0</td>\n",
              "      <td>0.080000</td>\n",
              "      <td>0.000000</td>\n",
              "    </tr>\n",
              "    <tr>\n",
              "      <th>4</th>\n",
              "      <td>14009</td>\n",
              "      <td>ALCOHOLIC BEV,DAIQUIRI,CND</td>\n",
              "      <td>125</td>\n",
              "      <td>0.0</td>\n",
              "      <td>0.0</td>\n",
              "      <td>15.70</td>\n",
              "      <td>40.0</td>\n",
              "      <td>0.0</td>\n",
              "      <td>8.25654</td>\n",
              "      <td>0.0</td>\n",
              "      <td>0.01</td>\n",
              "      <td>11.0</td>\n",
              "      <td>1.3</td>\n",
              "      <td>1.487462</td>\n",
              "      <td>0.576918</td>\n",
              "    </tr>\n",
              "  </tbody>\n",
              "</table>\n",
              "</div>"
            ],
            "text/plain": [
              "      ID                 Description  Calories  ...  VitaminC  VitaminE  VitaminD\n",
              "0   2047                  SALT,TABLE         0  ...       0.0  0.000000  0.000000\n",
              "1   2048               VINEGAR,CIDER        21  ...       0.0  0.000000  0.000000\n",
              "2   2053           VINEGAR,DISTILLED        18  ...       0.0  0.000000  0.000000\n",
              "3   6971        SAUCE,WORCESTERSHIRE        78  ...      13.0  0.080000  0.000000\n",
              "4  14009  ALCOHOLIC BEV,DAIQUIRI,CND       125  ...       1.3  1.487462  0.576918\n",
              "\n",
              "[5 rows x 15 columns]"
            ]
          },
          "metadata": {
            "tags": []
          },
          "execution_count": 99
        }
      ]
    },
    {
      "cell_type": "code",
      "metadata": {
        "id": "SSTbQz89Nd7D",
        "colab": {
          "base_uri": "https://localhost:8080/"
        },
        "outputId": "9122ff84-b013-4d06-ccb4-f3abb40e843c"
      },
      "source": [
        "# 8. Which food has the highest sodium level?\n",
        "USDA_new = USDAclean.copy() \n",
        "USDA.iloc[np.argmax(USDA_new['Sodium']),:2]\n",
        "\n"
      ],
      "execution_count": 100,
      "outputs": [
        {
          "output_type": "execute_result",
          "data": {
            "text/plain": [
              "ID                   2047\n",
              "Description    SALT,TABLE\n",
              "Name: 0, dtype: object"
            ]
          },
          "metadata": {
            "tags": []
          },
          "execution_count": 100
        }
      ]
    },
    {
      "cell_type": "code",
      "metadata": {
        "id": "OCXCvaz_W7P8",
        "outputId": "67243d3f-5d76-49c6-d8dd-2c43a8a3e809",
        "colab": {
          "base_uri": "https://localhost:8080/",
          "height": 878
        }
      },
      "source": [
        "USDA[(USDA['Calcium']== 20) & (USDA['Calories']>= 50) & (USDA.TotalFat >= 20)]"
      ],
      "execution_count": 101,
      "outputs": [
        {
          "output_type": "execute_result",
          "data": {
            "text/html": [
              "<div>\n",
              "<style scoped>\n",
              "    .dataframe tbody tr th:only-of-type {\n",
              "        vertical-align: middle;\n",
              "    }\n",
              "\n",
              "    .dataframe tbody tr th {\n",
              "        vertical-align: top;\n",
              "    }\n",
              "\n",
              "    .dataframe thead th {\n",
              "        text-align: right;\n",
              "    }\n",
              "</style>\n",
              "<table border=\"1\" class=\"dataframe\">\n",
              "  <thead>\n",
              "    <tr style=\"text-align: right;\">\n",
              "      <th></th>\n",
              "      <th>ID</th>\n",
              "      <th>Description</th>\n",
              "      <th>Calories</th>\n",
              "      <th>Protein</th>\n",
              "      <th>TotalFat</th>\n",
              "      <th>Carbohydrate</th>\n",
              "      <th>Sodium</th>\n",
              "      <th>Cholesterol</th>\n",
              "      <th>Sugar</th>\n",
              "      <th>Calcium</th>\n",
              "      <th>Iron</th>\n",
              "      <th>Potassium</th>\n",
              "      <th>VitaminC</th>\n",
              "      <th>VitaminE</th>\n",
              "      <th>VitaminD</th>\n",
              "    </tr>\n",
              "  </thead>\n",
              "  <tbody>\n",
              "    <tr>\n",
              "      <th>6013</th>\n",
              "      <td>5323</td>\n",
              "      <td>CHICKEN PATTY,FRZ,UNCKD</td>\n",
              "      <td>292</td>\n",
              "      <td>14.33</td>\n",
              "      <td>20.04</td>\n",
              "      <td>13.61</td>\n",
              "      <td>518.0</td>\n",
              "      <td>45.0</td>\n",
              "      <td>0.00000</td>\n",
              "      <td>20.0</td>\n",
              "      <td>0.93</td>\n",
              "      <td>248.0</td>\n",
              "      <td>0.0</td>\n",
              "      <td>1.180000</td>\n",
              "      <td>0.576918</td>\n",
              "    </tr>\n",
              "    <tr>\n",
              "      <th>6015</th>\n",
              "      <td>10975</td>\n",
              "      <td>PORK,GROUND,84% LN / 16% FAT,CKD,CRUMBLES</td>\n",
              "      <td>289</td>\n",
              "      <td>26.69</td>\n",
              "      <td>20.04</td>\n",
              "      <td>0.58</td>\n",
              "      <td>89.0</td>\n",
              "      <td>89.0</td>\n",
              "      <td>0.00000</td>\n",
              "      <td>20.0</td>\n",
              "      <td>1.10</td>\n",
              "      <td>354.0</td>\n",
              "      <td>0.0</td>\n",
              "      <td>0.310000</td>\n",
              "      <td>0.500000</td>\n",
              "    </tr>\n",
              "    <tr>\n",
              "      <th>6053</th>\n",
              "      <td>17237</td>\n",
              "      <td>LAMB,DOM,LOIN,LN&amp;FAT,1/8\"FAT,CHOIC,CKD,BRLD</td>\n",
              "      <td>297</td>\n",
              "      <td>26.06</td>\n",
              "      <td>20.61</td>\n",
              "      <td>0.00</td>\n",
              "      <td>78.0</td>\n",
              "      <td>99.0</td>\n",
              "      <td>8.25654</td>\n",
              "      <td>20.0</td>\n",
              "      <td>1.84</td>\n",
              "      <td>336.0</td>\n",
              "      <td>0.0</td>\n",
              "      <td>1.487462</td>\n",
              "      <td>0.576918</td>\n",
              "    </tr>\n",
              "    <tr>\n",
              "      <th>6077</th>\n",
              "      <td>18513</td>\n",
              "      <td>ARCHWAY HOME STYLE COOKIES,SUGAR FREE OATMEAL</td>\n",
              "      <td>442</td>\n",
              "      <td>5.54</td>\n",
              "      <td>20.92</td>\n",
              "      <td>67.20</td>\n",
              "      <td>308.0</td>\n",
              "      <td>0.0</td>\n",
              "      <td>1.26000</td>\n",
              "      <td>20.0</td>\n",
              "      <td>1.96</td>\n",
              "      <td>87.0</td>\n",
              "      <td>0.0</td>\n",
              "      <td>1.487462</td>\n",
              "      <td>0.576918</td>\n",
              "    </tr>\n",
              "    <tr>\n",
              "      <th>6094</th>\n",
              "      <td>25013</td>\n",
              "      <td>SNACKS,FRITOLAY,SUNCHIPS,MULTIGRAIN SNACK,ORIG...</td>\n",
              "      <td>491</td>\n",
              "      <td>7.95</td>\n",
              "      <td>21.11</td>\n",
              "      <td>67.26</td>\n",
              "      <td>423.0</td>\n",
              "      <td>NaN</td>\n",
              "      <td>7.20000</td>\n",
              "      <td>20.0</td>\n",
              "      <td>1.74</td>\n",
              "      <td>232.0</td>\n",
              "      <td>0.0</td>\n",
              "      <td>7.040000</td>\n",
              "      <td>0.576918</td>\n",
              "    </tr>\n",
              "    <tr>\n",
              "      <th>6108</th>\n",
              "      <td>10978</td>\n",
              "      <td>PORK,GROUND,84% LN / 16% FAT,CKD,PAN-BROILED</td>\n",
              "      <td>301</td>\n",
              "      <td>27.14</td>\n",
              "      <td>21.39</td>\n",
              "      <td>0.00</td>\n",
              "      <td>89.0</td>\n",
              "      <td>97.0</td>\n",
              "      <td>0.00000</td>\n",
              "      <td>20.0</td>\n",
              "      <td>1.16</td>\n",
              "      <td>345.0</td>\n",
              "      <td>0.0</td>\n",
              "      <td>0.440000</td>\n",
              "      <td>0.500000</td>\n",
              "    </tr>\n",
              "    <tr>\n",
              "      <th>6130</th>\n",
              "      <td>5101</td>\n",
              "      <td>CHICKEN,BROILERS OR FRYERS,WING,MEAT&amp;SKN,CKD,F...</td>\n",
              "      <td>324</td>\n",
              "      <td>19.87</td>\n",
              "      <td>21.81</td>\n",
              "      <td>10.94</td>\n",
              "      <td>320.0</td>\n",
              "      <td>79.0</td>\n",
              "      <td>8.25654</td>\n",
              "      <td>20.0</td>\n",
              "      <td>1.29</td>\n",
              "      <td>138.0</td>\n",
              "      <td>0.0</td>\n",
              "      <td>1.487462</td>\n",
              "      <td>0.576918</td>\n",
              "    </tr>\n",
              "    <tr>\n",
              "      <th>6212</th>\n",
              "      <td>17024</td>\n",
              "      <td>LAMB,DOM,LOIN,LN&amp;FAT,1/4\"FAT,CHOIC,CKD,BRLD</td>\n",
              "      <td>316</td>\n",
              "      <td>25.17</td>\n",
              "      <td>23.08</td>\n",
              "      <td>0.00</td>\n",
              "      <td>77.0</td>\n",
              "      <td>100.0</td>\n",
              "      <td>0.00000</td>\n",
              "      <td>20.0</td>\n",
              "      <td>1.81</td>\n",
              "      <td>327.0</td>\n",
              "      <td>0.0</td>\n",
              "      <td>0.130000</td>\n",
              "      <td>0.100000</td>\n",
              "    </tr>\n",
              "    <tr>\n",
              "      <th>6282</th>\n",
              "      <td>18399</td>\n",
              "      <td>PIE CRUST,COOKIE-TYPE,PREP FR RECIPE,GRAHAM CR...</td>\n",
              "      <td>484</td>\n",
              "      <td>4.10</td>\n",
              "      <td>24.40</td>\n",
              "      <td>63.90</td>\n",
              "      <td>560.0</td>\n",
              "      <td>0.0</td>\n",
              "      <td>37.57000</td>\n",
              "      <td>20.0</td>\n",
              "      <td>2.12</td>\n",
              "      <td>86.0</td>\n",
              "      <td>0.0</td>\n",
              "      <td>2.280000</td>\n",
              "      <td>0.576918</td>\n",
              "    </tr>\n",
              "    <tr>\n",
              "      <th>6339</th>\n",
              "      <td>19002</td>\n",
              "      <td>BEEF JERKY,CHOPD&amp;FORMED</td>\n",
              "      <td>410</td>\n",
              "      <td>33.20</td>\n",
              "      <td>25.60</td>\n",
              "      <td>11.00</td>\n",
              "      <td>2081.0</td>\n",
              "      <td>48.0</td>\n",
              "      <td>9.00000</td>\n",
              "      <td>20.0</td>\n",
              "      <td>5.42</td>\n",
              "      <td>597.0</td>\n",
              "      <td>0.0</td>\n",
              "      <td>0.490000</td>\n",
              "      <td>0.300000</td>\n",
              "    </tr>\n",
              "    <tr>\n",
              "      <th>6469</th>\n",
              "      <td>43507</td>\n",
              "      <td>FRANKFURTER,LO NA</td>\n",
              "      <td>312</td>\n",
              "      <td>12.00</td>\n",
              "      <td>28.51</td>\n",
              "      <td>1.80</td>\n",
              "      <td>311.0</td>\n",
              "      <td>61.0</td>\n",
              "      <td>0.00000</td>\n",
              "      <td>20.0</td>\n",
              "      <td>1.43</td>\n",
              "      <td>166.0</td>\n",
              "      <td>0.0</td>\n",
              "      <td>0.170000</td>\n",
              "      <td>0.900000</td>\n",
              "    </tr>\n",
              "    <tr>\n",
              "      <th>6482</th>\n",
              "      <td>18945</td>\n",
              "      <td>PIE CRUST,DEEP DISH,FRZ,UNBAKED,MADE W/ ENR FLR</td>\n",
              "      <td>468</td>\n",
              "      <td>5.52</td>\n",
              "      <td>28.74</td>\n",
              "      <td>46.79</td>\n",
              "      <td>353.0</td>\n",
              "      <td>NaN</td>\n",
              "      <td>8.25654</td>\n",
              "      <td>20.0</td>\n",
              "      <td>2.26</td>\n",
              "      <td>91.0</td>\n",
              "      <td>NaN</td>\n",
              "      <td>1.240000</td>\n",
              "      <td>0.576918</td>\n",
              "    </tr>\n",
              "    <tr>\n",
              "      <th>6526</th>\n",
              "      <td>25014</td>\n",
              "      <td>SNACKS,POPCORN,MICROWAVE,REG (BUTTER) FLAVOR, ...</td>\n",
              "      <td>527</td>\n",
              "      <td>8.69</td>\n",
              "      <td>29.97</td>\n",
              "      <td>55.71</td>\n",
              "      <td>771.0</td>\n",
              "      <td>0.0</td>\n",
              "      <td>0.54000</td>\n",
              "      <td>20.0</td>\n",
              "      <td>2.36</td>\n",
              "      <td>219.0</td>\n",
              "      <td>0.0</td>\n",
              "      <td>1.760000</td>\n",
              "      <td>0.000000</td>\n",
              "    </tr>\n",
              "    <tr>\n",
              "      <th>6531</th>\n",
              "      <td>25026</td>\n",
              "      <td>POPCORN,MICROWAVE,REG (BUTTER) FLAVOR,MADE W/ ...</td>\n",
              "      <td>528</td>\n",
              "      <td>8.69</td>\n",
              "      <td>30.00</td>\n",
              "      <td>55.69</td>\n",
              "      <td>771.0</td>\n",
              "      <td>0.0</td>\n",
              "      <td>0.54000</td>\n",
              "      <td>20.0</td>\n",
              "      <td>2.36</td>\n",
              "      <td>219.0</td>\n",
              "      <td>0.0</td>\n",
              "      <td>4.470000</td>\n",
              "      <td>0.000000</td>\n",
              "    </tr>\n",
              "    <tr>\n",
              "      <th>6559</th>\n",
              "      <td>20113</td>\n",
              "      <td>NOODLES,CHINESE,CHOW MEIN</td>\n",
              "      <td>527</td>\n",
              "      <td>8.38</td>\n",
              "      <td>30.76</td>\n",
              "      <td>57.54</td>\n",
              "      <td>439.0</td>\n",
              "      <td>0.0</td>\n",
              "      <td>0.26000</td>\n",
              "      <td>20.0</td>\n",
              "      <td>4.73</td>\n",
              "      <td>120.0</td>\n",
              "      <td>0.0</td>\n",
              "      <td>3.480000</td>\n",
              "      <td>0.000000</td>\n",
              "    </tr>\n",
              "    <tr>\n",
              "      <th>6583</th>\n",
              "      <td>10977</td>\n",
              "      <td>PORK,GROUND,72% LN / 28% FAT,CKD,PAN-BROILED</td>\n",
              "      <td>377</td>\n",
              "      <td>22.59</td>\n",
              "      <td>31.42</td>\n",
              "      <td>1.08</td>\n",
              "      <td>91.0</td>\n",
              "      <td>99.0</td>\n",
              "      <td>0.00000</td>\n",
              "      <td>20.0</td>\n",
              "      <td>1.21</td>\n",
              "      <td>275.0</td>\n",
              "      <td>0.0</td>\n",
              "      <td>0.470000</td>\n",
              "      <td>0.800000</td>\n",
              "    </tr>\n",
              "    <tr>\n",
              "      <th>6622</th>\n",
              "      <td>10974</td>\n",
              "      <td>PORK,GROUND,72% LN / 28% FAT,CKD,CRUMBLES</td>\n",
              "      <td>393</td>\n",
              "      <td>22.83</td>\n",
              "      <td>32.93</td>\n",
              "      <td>1.39</td>\n",
              "      <td>94.0</td>\n",
              "      <td>100.0</td>\n",
              "      <td>0.00000</td>\n",
              "      <td>20.0</td>\n",
              "      <td>1.15</td>\n",
              "      <td>280.0</td>\n",
              "      <td>0.0</td>\n",
              "      <td>0.350000</td>\n",
              "      <td>0.800000</td>\n",
              "    </tr>\n",
              "    <tr>\n",
              "      <th>6632</th>\n",
              "      <td>7229</td>\n",
              "      <td>OSCAR MAYER,SALAMI (GENOA)</td>\n",
              "      <td>388</td>\n",
              "      <td>20.70</td>\n",
              "      <td>33.30</td>\n",
              "      <td>1.20</td>\n",
              "      <td>1826.0</td>\n",
              "      <td>102.0</td>\n",
              "      <td>0.20000</td>\n",
              "      <td>20.0</td>\n",
              "      <td>1.86</td>\n",
              "      <td>334.0</td>\n",
              "      <td>0.0</td>\n",
              "      <td>1.487462</td>\n",
              "      <td>0.576918</td>\n",
              "    </tr>\n",
              "    <tr>\n",
              "      <th>6852</th>\n",
              "      <td>12199</td>\n",
              "      <td>FORMULATED,WHEAT-BASED,FLAV,MACADAMIA FLAV,WO/...</td>\n",
              "      <td>619</td>\n",
              "      <td>11.19</td>\n",
              "      <td>56.50</td>\n",
              "      <td>27.91</td>\n",
              "      <td>47.0</td>\n",
              "      <td>0.0</td>\n",
              "      <td>8.25654</td>\n",
              "      <td>20.0</td>\n",
              "      <td>2.00</td>\n",
              "      <td>261.0</td>\n",
              "      <td>0.1</td>\n",
              "      <td>1.487462</td>\n",
              "      <td>0.000000</td>\n",
              "    </tr>\n",
              "    <tr>\n",
              "      <th>6898</th>\n",
              "      <td>4626</td>\n",
              "      <td>MARGARINE-LIKE SPRD W/ YOGURT,70% FAT,STK,W/ SALT</td>\n",
              "      <td>630</td>\n",
              "      <td>0.30</td>\n",
              "      <td>70.00</td>\n",
              "      <td>0.50</td>\n",
              "      <td>590.0</td>\n",
              "      <td>0.0</td>\n",
              "      <td>0.00000</td>\n",
              "      <td>20.0</td>\n",
              "      <td>0.01</td>\n",
              "      <td>25.0</td>\n",
              "      <td>0.1</td>\n",
              "      <td>5.000000</td>\n",
              "      <td>0.000000</td>\n",
              "    </tr>\n",
              "  </tbody>\n",
              "</table>\n",
              "</div>"
            ],
            "text/plain": [
              "         ID  ...  VitaminD\n",
              "6013   5323  ...  0.576918\n",
              "6015  10975  ...  0.500000\n",
              "6053  17237  ...  0.576918\n",
              "6077  18513  ...  0.576918\n",
              "6094  25013  ...  0.576918\n",
              "6108  10978  ...  0.500000\n",
              "6130   5101  ...  0.576918\n",
              "6212  17024  ...  0.100000\n",
              "6282  18399  ...  0.576918\n",
              "6339  19002  ...  0.300000\n",
              "6469  43507  ...  0.900000\n",
              "6482  18945  ...  0.576918\n",
              "6526  25014  ...  0.000000\n",
              "6531  25026  ...  0.000000\n",
              "6559  20113  ...  0.000000\n",
              "6583  10977  ...  0.800000\n",
              "6622  10974  ...  0.800000\n",
              "6632   7229  ...  0.576918\n",
              "6852  12199  ...  0.000000\n",
              "6898   4626  ...  0.000000\n",
              "\n",
              "[20 rows x 15 columns]"
            ]
          },
          "metadata": {
            "tags": []
          },
          "execution_count": 101
        }
      ]
    },
    {
      "cell_type": "code",
      "metadata": {
        "id": "oOadXdXcNd7F",
        "colab": {
          "base_uri": "https://localhost:8080/",
          "height": 295
        },
        "outputId": "5e4d6e64-078c-48c6-b160-a96fed75b691"
      },
      "source": [
        "# 9. Create a scatter plot using Protein and Fat, with the plot title “Fat vs Protein”, labeling the axes “Fat” and “Protein”, and making the data points red.\n",
        "\n",
        "import matplotlib.pyplot as plt\n",
        "\n",
        "%matplotlib inline\n",
        "\n",
        "\n",
        "plt.scatter(USDAclean[\"Protein\"], USDAclean[\"TotalFat\"])\n",
        "plt.title(\"Scatter plot of Fat vs Protien\")\n",
        "plt.xlabel(\"Fat\")\n",
        "plt.ylabel(\"Protein\")\n",
        "plt.show()"
      ],
      "execution_count": 102,
      "outputs": [
        {
          "output_type": "display_data",
          "data": {
            "image/png": "[encoded data removed]",
            "text/plain": [
              "<Figure size 432x288 with 1 Axes>"
            ]
          },
          "metadata": {
            "tags": [],
            "needs_background": "light"
          }
        }
      ]
    },
    {
      "cell_type": "code",
      "metadata": {
        "id": "BjT9cAveNd7I",
        "colab": {
          "base_uri": "https://localhost:8080/",
          "height": 265
        },
        "outputId": "d36c2082-a12d-4da9-c042-331e27854cc0"
      },
      "source": [
        "# 10. Create a histogram of Vitamin C distribution in foods, with a limit of 0 to 100 on the x-axis and breaks of 100.\n",
        "\n",
        "USDAclean['VitaminC']. plot( kind = 'hist', bins = 100)\n",
        "plt. xlim(0,100)\n",
        "plt.show()"
      ],
      "execution_count": null,
      "outputs": [
        {
          "output_type": "display_data",
          "data": {
            "image/png": "[encoded data removed]",
            "text/plain": [
              "<Figure size 432x288 with 1 Axes>"
            ]
          },
          "metadata": {
            "tags": [],
            "needs_background": "light"
          }
        }
      ]
    },
    {
      "cell_type": "code",
      "metadata": {
        "id": "NYkV1-Q3Nd7J",
        "colab": {
          "base_uri": "https://localhost:8080/",
          "height": 265
        },
        "outputId": "9f0ea53d-41be-4c16-c331-f164e308cff0"
      },
      "source": [
        "# 11. Create a box and whisker plot to illustrate the distribution of values for Total Fat, Protein and Carbohydrate.\n",
        "import seaborn as sns\n",
        "\n",
        "sns.boxplot(data = USDAclean[[\"TotalFat\", \"Protein\", \"Carbohydrate\"]])\n",
        "plt.show()\n"
      ],
      "execution_count": null,
      "outputs": [
        {
          "output_type": "display_data",
          "data": {
            "image/png": "[encoded data removed]",
            "text/plain": [
              "<Figure size 432x288 with 1 Axes>"
            ]
          },
          "metadata": {
            "tags": [],
            "needs_background": "light"
          }
        }
      ]
    },
    {
      "cell_type": "code",
      "metadata": {
        "id": "IbJGNzW7Nd7L"
      },
      "source": [
        "# 12. Based on this visualization alone, would you recommend removing outliers? Why or why not?\n",
        "#  I will recommend using outliers as the boxplot indicates the presence of outliers especially in the TotalFat and Protein Columns"
      ],
      "execution_count": null,
      "outputs": []
    },
    {
      "cell_type": "code",
      "metadata": {
        "id": "D6Ao1j2XNd7N",
        "colab": {
          "base_uri": "https://localhost:8080/",
          "height": 383
        },
        "outputId": "92133b20-9857-4f87-e475-facc0d78f4c3"
      },
      "source": [
        "# 13. Add a new variable to the data frame that takes value 1 if the food has higher calories than average, 0 otherwise. Call this variable HighCals. \n",
        "\n",
        "avg_calories = USDAclean[\"Calories\"].values. mean()\n",
        "avg_calories\n",
        "\n",
        "USDAclean[\"HighCals\"] = (USDAclean['Calories'] > avg_calories).astype('int')\n",
        "\n",
        "USDAclean.head()\n"
      ],
      "execution_count": null,
      "outputs": [
        {
          "output_type": "stream",
          "text": [
            "/usr/local/lib/python3.6/dist-packages/ipykernel_launcher.py:6: SettingWithCopyWarning: \n",
            "A value is trying to be set on a copy of a slice from a DataFrame.\n",
            "Try using .loc[row_indexer,col_indexer] = value instead\n",
            "\n",
            "See the caveats in the documentation: https://pandas.pydata.org/pandas-docs/stable/user_guide/indexing.html#returning-a-view-versus-a-copy\n",
            "  \n"
          ],
          "name": "stderr"
        },
        {
          "output_type": "execute_result",
          "data": {
            "text/html": [
              "<div>\n",
              "<style scoped>\n",
              "    .dataframe tbody tr th:only-of-type {\n",
              "        vertical-align: middle;\n",
              "    }\n",
              "\n",
              "    .dataframe tbody tr th {\n",
              "        vertical-align: top;\n",
              "    }\n",
              "\n",
              "    .dataframe thead th {\n",
              "        text-align: right;\n",
              "    }\n",
              "</style>\n",
              "<table border=\"1\" class=\"dataframe\">\n",
              "  <thead>\n",
              "    <tr style=\"text-align: right;\">\n",
              "      <th></th>\n",
              "      <th>ID</th>\n",
              "      <th>Description</th>\n",
              "      <th>Calories</th>\n",
              "      <th>Protein</th>\n",
              "      <th>TotalFat</th>\n",
              "      <th>Carbohydrate</th>\n",
              "      <th>Sodium</th>\n",
              "      <th>Cholesterol</th>\n",
              "      <th>Sugar</th>\n",
              "      <th>Calcium</th>\n",
              "      <th>Iron</th>\n",
              "      <th>Potassium</th>\n",
              "      <th>VitaminC</th>\n",
              "      <th>VitaminE</th>\n",
              "      <th>VitaminD</th>\n",
              "      <th>HighCals</th>\n",
              "    </tr>\n",
              "  </thead>\n",
              "  <tbody>\n",
              "    <tr>\n",
              "      <th>0</th>\n",
              "      <td>2048</td>\n",
              "      <td>VINEGAR,CIDER</td>\n",
              "      <td>21</td>\n",
              "      <td>0.0</td>\n",
              "      <td>0.0</td>\n",
              "      <td>0.93</td>\n",
              "      <td>5.0</td>\n",
              "      <td>0.0</td>\n",
              "      <td>0.40</td>\n",
              "      <td>7.0</td>\n",
              "      <td>0.20</td>\n",
              "      <td>73.0</td>\n",
              "      <td>0.0</td>\n",
              "      <td>0.00</td>\n",
              "      <td>0.0</td>\n",
              "      <td>0</td>\n",
              "    </tr>\n",
              "    <tr>\n",
              "      <th>1</th>\n",
              "      <td>2053</td>\n",
              "      <td>VINEGAR,DISTILLED</td>\n",
              "      <td>18</td>\n",
              "      <td>0.0</td>\n",
              "      <td>0.0</td>\n",
              "      <td>0.04</td>\n",
              "      <td>2.0</td>\n",
              "      <td>0.0</td>\n",
              "      <td>0.04</td>\n",
              "      <td>6.0</td>\n",
              "      <td>0.03</td>\n",
              "      <td>2.0</td>\n",
              "      <td>0.0</td>\n",
              "      <td>0.00</td>\n",
              "      <td>0.0</td>\n",
              "      <td>0</td>\n",
              "    </tr>\n",
              "    <tr>\n",
              "      <th>2</th>\n",
              "      <td>6971</td>\n",
              "      <td>SAUCE,WORCESTERSHIRE</td>\n",
              "      <td>78</td>\n",
              "      <td>0.0</td>\n",
              "      <td>0.0</td>\n",
              "      <td>19.46</td>\n",
              "      <td>980.0</td>\n",
              "      <td>0.0</td>\n",
              "      <td>10.03</td>\n",
              "      <td>107.0</td>\n",
              "      <td>5.30</td>\n",
              "      <td>800.0</td>\n",
              "      <td>13.0</td>\n",
              "      <td>0.08</td>\n",
              "      <td>0.0</td>\n",
              "      <td>0</td>\n",
              "    </tr>\n",
              "    <tr>\n",
              "      <th>3</th>\n",
              "      <td>14037</td>\n",
              "      <td>ALCOHOLIC BEV,DISTILLED,ALL (GIN,RUM,VODKA,WHI...</td>\n",
              "      <td>231</td>\n",
              "      <td>0.0</td>\n",
              "      <td>0.0</td>\n",
              "      <td>0.00</td>\n",
              "      <td>1.0</td>\n",
              "      <td>0.0</td>\n",
              "      <td>0.00</td>\n",
              "      <td>0.0</td>\n",
              "      <td>0.04</td>\n",
              "      <td>2.0</td>\n",
              "      <td>0.0</td>\n",
              "      <td>0.00</td>\n",
              "      <td>0.0</td>\n",
              "      <td>1</td>\n",
              "    </tr>\n",
              "    <tr>\n",
              "      <th>4</th>\n",
              "      <td>14049</td>\n",
              "      <td>ALCOHOLIC BEV,DISTILLED,GIN,90 PROOF</td>\n",
              "      <td>263</td>\n",
              "      <td>0.0</td>\n",
              "      <td>0.0</td>\n",
              "      <td>0.00</td>\n",
              "      <td>2.0</td>\n",
              "      <td>0.0</td>\n",
              "      <td>0.00</td>\n",
              "      <td>0.0</td>\n",
              "      <td>0.00</td>\n",
              "      <td>0.0</td>\n",
              "      <td>0.0</td>\n",
              "      <td>0.00</td>\n",
              "      <td>0.0</td>\n",
              "      <td>1</td>\n",
              "    </tr>\n",
              "  </tbody>\n",
              "</table>\n",
              "</div>"
            ],
            "text/plain": [
              "      ID                                        Description  ...  VitaminD  HighCals\n",
              "0   2048                                      VINEGAR,CIDER  ...       0.0         0\n",
              "1   2053                                  VINEGAR,DISTILLED  ...       0.0         0\n",
              "2   6971                               SAUCE,WORCESTERSHIRE  ...       0.0         0\n",
              "3  14037  ALCOHOLIC BEV,DISTILLED,ALL (GIN,RUM,VODKA,WHI...  ...       0.0         1\n",
              "4  14049               ALCOHOLIC BEV,DISTILLED,GIN,90 PROOF  ...       0.0         1\n",
              "\n",
              "[5 rows x 16 columns]"
            ]
          },
          "metadata": {
            "tags": []
          },
          "execution_count": 15
        }
      ]
    },
    {
      "cell_type": "code",
      "metadata": {
        "id": "3m0b2yh7ex6c"
      },
      "source": [
        ""
      ],
      "execution_count": null,
      "outputs": []
    },
    {
      "cell_type": "code",
      "metadata": {
        "id": "0FnTi0TjNd7P"
      },
      "source": [
        "# 14. Calculate the average amount of iron by high and low calories (i.e. average amount of iron in foods with high calories and average amount of iron in foods with low calories).  \n"
      ],
      "execution_count": null,
      "outputs": []
    },
    {
      "cell_type": "code",
      "metadata": {
        "id": "CoIamFJINd7R"
      },
      "source": [
        "# 15. Split USDAclean into a training and test set with a 70:30 split ratio.\n",
        "\n",
        "X = USDAclean.iloc[:, 2:-1].values\n",
        "y = USDAclean.iloc[:, -1].values\n",
        "from sklearn.model_selection import train_test_split\n",
        "X_train, X_test, y_train, y_test = train_test_split(  X, y, test_size=0.3)\n"
      ],
      "execution_count": null,
      "outputs": []
    },
    {
      "cell_type": "code",
      "metadata": {
        "id": "tP9DK4amNd7T",
        "colab": {
          "base_uri": "https://localhost:8080/",
          "height": 67
        },
        "outputId": "f8114b81-8a03-46a0-ba79-e3916a42a46a"
      },
      "source": [
        "# 16. Create a logistic regression model, using High Calories as the dependent variable, and Carbohydrate, Protein, Total Fat and Sodium as independent variables. \n",
        "X_new = USDAclean[['Carbohydrate','TotalFat', 'Sodium']].values\n",
        "y_new = USDAclean['HighCals'].values\n",
        "\n",
        "from sklearn.model_selection import train_test_split\n",
        "X_train, X_test, y_train, y_test = train_test_split(  X_new, y_new, test_size=0.3)\n",
        "\n",
        "# Feature Scaling\n",
        "from sklearn.preprocessing import StandardScaler\n",
        "sc = StandardScaler()\n",
        "X_train = sc.fit_transform(X_train)\n",
        "X_test = sc.transform(X_test)\n",
        "\n",
        "\n",
        "from sklearn.linear_model import LogisticRegression\n",
        "model = LogisticRegression()\n",
        "model.fit(X_train, y_train)\n",
        "y_hat = model.predict(X_train)\n",
        "\n",
        "from sklearn.metrics import confusion_matrix, accuracy_score\n",
        "cm = confusion_matrix(y_train, y_hat)\n",
        "print(cm)\n",
        "accuracy_score(y_train, y_hat)\n"
      ],
      "execution_count": null,
      "outputs": [
        {
          "output_type": "stream",
          "text": [
            "[[1193   40]\n",
            " [  66  838]]\n"
          ],
          "name": "stdout"
        },
        {
          "output_type": "execute_result",
          "data": {
            "text/plain": [
              "0.9503977538605521"
            ]
          },
          "metadata": {
            "tags": []
          },
          "execution_count": 19
        }
      ]
    },
    {
      "cell_type": "code",
      "metadata": {
        "id": "L0p1jxCJmrGC",
        "colab": {
          "base_uri": "https://localhost:8080/",
          "height": 390
        },
        "outputId": "e828324f-5873-4662-a439-aaea7479ce37"
      },
      "source": [
        "# Since using Scikit-learn library the p-values are not clear , we use the scipy library\n",
        "import statsmodels.api as sm\n",
        "logit_model=sm.Logit(y_train,X_train)\n",
        "result=logit_model.fit()\n",
        "print(result.summary())\n"
      ],
      "execution_count": null,
      "outputs": [
        {
          "output_type": "stream",
          "text": [
            "/usr/local/lib/python3.6/dist-packages/statsmodels/tools/_testing.py:19: FutureWarning: pandas.util.testing is deprecated. Use the functions in the public API at pandas.testing instead.\n",
            "  import pandas.util.testing as tm\n"
          ],
          "name": "stderr"
        },
        {
          "output_type": "stream",
          "text": [
            "Optimization terminated successfully.\n",
            "         Current function value: 0.157147\n",
            "         Iterations 9\n",
            "                           Logit Regression Results                           \n",
            "==============================================================================\n",
            "Dep. Variable:                      y   No. Observations:                 2137\n",
            "Model:                          Logit   Df Residuals:                     2134\n",
            "Method:                           MLE   Df Model:                            2\n",
            "Date:                Thu, 01 Oct 2020   Pseudo R-squ.:                  0.7693\n",
            "Time:                        23:59:49   Log-Likelihood:                -335.82\n",
            "converged:                       True   LL-Null:                       -1455.8\n",
            "Covariance Type:            nonrobust   LLR p-value:                     0.000\n",
            "==============================================================================\n",
            "                 coef    std err          z      P>|z|      [0.025      0.975]\n",
            "------------------------------------------------------------------------------\n",
            "x1             3.2578      0.164     19.815      0.000       2.936       3.580\n",
            "x2             7.1180      0.404     17.599      0.000       6.325       7.911\n",
            "x3            -0.0463      0.105     -0.440      0.660      -0.253       0.160\n",
            "==============================================================================\n"
          ],
          "name": "stdout"
        }
      ]
    },
    {
      "cell_type": "code",
      "metadata": {
        "id": "zmI474DbNd7V"
      },
      "source": [
        "# 17. Which independent variable is not significant?\n",
        "# Sodium is not significant as the p value is greater than 0.1\n"
      ],
      "execution_count": null,
      "outputs": []
    },
    {
      "cell_type": "code",
      "metadata": {
        "id": "saZM6UyfNd7W"
      },
      "source": [
        "# 18. Which independent variable has the strongest positive predictive power in the model?\n",
        "# Total fat seems to have the strongest positive predictive power in the model"
      ],
      "execution_count": null,
      "outputs": []
    },
    {
      "cell_type": "code",
      "metadata": {
        "id": "hE8qm7IUNd7b",
        "colab": {
          "base_uri": "https://localhost:8080/",
          "height": 50
        },
        "outputId": "cdf25073-134b-4f91-b98d-2cc537fa6844"
      },
      "source": [
        "# 19. Refine the model and then test it using the test dataset to predict High Calories.\n",
        " # Applying Grid Search to find the best model and the best parameters\n",
        "from sklearn.model_selection import GridSearchCV\n",
        "parameters = [{'C': [0.25, 0.5, 0.75, 1]}]\n",
        "grid_search = GridSearchCV(estimator = model,\n",
        "                           param_grid = parameters,\n",
        "                           scoring = 'accuracy',\n",
        "                           cv = 10,\n",
        "                           n_jobs = -1)\n",
        "\n",
        "grid_search.fit(X_train, y_train)\n",
        "best_accuracy = grid_search.best_score_\n",
        "best_parameters = grid_search.best_params_\n",
        "print(\"Best Accuracy: {:.2f} %\".format(best_accuracy*100))\n",
        "print(\"Best Parameters:\", best_parameters)\n"
      ],
      "execution_count": null,
      "outputs": [
        {
          "output_type": "stream",
          "text": [
            "Best Accuracy: 94.99 %\n",
            "Best Parameters: {'C': 0.5}\n"
          ],
          "name": "stdout"
        }
      ]
    },
    {
      "cell_type": "code",
      "metadata": {
        "id": "_F1O7GO9Nd7d",
        "colab": {
          "base_uri": "https://localhost:8080/",
          "height": 67
        },
        "outputId": "43858a38-d593-4857-fea9-5c449aa67122"
      },
      "source": [
        "#  20. Produce a confusion matrix (table) for the predictions on the test set and calculate overall accuracy.\n",
        "from sklearn.metrics import confusion_matrix, accuracy_score\n",
        "y_pred = model.predict(X_test)\n",
        "cm = confusion_matrix(y_test, y_pred)\n",
        "print(cm)\n",
        "accuracy_score(y_test, y_pred)\n"
      ],
      "execution_count": null,
      "outputs": [
        {
          "output_type": "stream",
          "text": [
            "[[519  20]\n",
            " [ 18 359]]\n"
          ],
          "name": "stdout"
        },
        {
          "output_type": "execute_result",
          "data": {
            "text/plain": [
              "0.9585152838427947"
            ]
          },
          "metadata": {
            "tags": []
          },
          "execution_count": 22
        }
      ]
    },
    {
      "cell_type": "markdown",
      "metadata": {
        "id": "1npnKYxaNd7f"
      },
      "source": [
        "Thank you for completing this excercise! Save your notebook and send it back to us."
      ]
    }
  ]
}