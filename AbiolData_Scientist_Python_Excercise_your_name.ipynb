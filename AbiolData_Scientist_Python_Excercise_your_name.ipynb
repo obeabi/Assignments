{
  "nbformat": 4,
  "nbformat_minor": 0,
  "metadata": {
    "kernelspec": {
      "display_name": "Python 3",
      "language": "python",
      "name": "python3"
    },
    "language_info": {
      "codemirror_mode": {
        "name": "ipython",
        "version": 3
      },
      "file_extension": ".py",
      "mimetype": "text/x-python",
      "name": "python",
      "nbconvert_exporter": "python",
      "pygments_lexer": "ipython3",
      "version": "3.7.3"
    },
    "colab": {
      "name": "AbiolData Scientist Python Excercise - your name.ipynb",
      "provenance": [],
      "toc_visible": true,
      "include_colab_link": true
    }
  },
  "cells": [
    {
      "cell_type": "markdown",
      "metadata": {
        "id": "view-in-github",
        "colab_type": "text"
      },
      "source": [
        "<a href=\"https://colab.research.google.com/github/obeabi/Assignments/blob/master/AbiolData_Scientist_Python_Excercise_your_name.ipynb\" target=\"_parent\"><img src=\"https://colab.research.google.com/assets/colab-badge.svg\" alt=\"Open In Colab\"/></a>"
      ]
    },
    {
      "cell_type": "code",
      "metadata": {
        "id": "nRogPv8aNd6w"
      },
      "source": [
        "# 1. Please enter your name\n",
        "# Abiola David Obembe"
      ],
      "execution_count": 1,
      "outputs": []
    },
    {
      "cell_type": "code",
      "metadata": {
        "id": "IvbOyGXbNd61",
        "outputId": "ebaae6d6-e430-4017-a3ef-34397b4c80d6",
        "colab": {
          "base_uri": "https://localhost:8080/",
          "height": 50
        }
      },
      "source": [
        "# 2. Read the csv files\n",
        "import pandas as pd\n",
        "import numpy as np\n",
        "\n",
        "df_macro = pd.read_csv(\"USDA_Macronutrients.csv\")\n",
        "df_micro = pd.read_csv(\"USDA_Micronutrients.csv\")\n",
        "\n",
        "print(\"The shape of df_macro is:\", df_macro.shape)\n",
        "print(\"The shape of df_micro is:\", df_micro.shape)"
      ],
      "execution_count": 2,
      "outputs": [
        {
          "output_type": "stream",
          "text": [
            "The shape of df_macro is: (7057, 6)\n",
            "The shape of df_micro is: (7057, 10)\n"
          ],
          "name": "stdout"
        }
      ]
    },
    {
      "cell_type": "code",
      "metadata": {
        "id": "JILbxGCfNd64",
        "outputId": "bd319bac-8267-4d18-e882-72097e5aa1cd",
        "colab": {
          "base_uri": "https://localhost:8080/",
          "height": 269
        }
      },
      "source": [
        "# 3. Merge the data frames using the variable \"ID\". Name the Merged Data Frame \"USDA\".\n",
        "# For my analysis, I joined both daframes using inner join\n",
        "\n",
        "USDA = pd.merge(df_macro, df_micro, how =\"inner\", on = 'ID') \n",
        "print(USDA)\n",
        "print(\"The shape of merged dataframe  is:\", USDA.shape)\n"
      ],
      "execution_count": 3,
      "outputs": [
        {
          "output_type": "stream",
          "text": [
            "         ID  ... VitaminD\n",
            "0      2047  ...      0.0\n",
            "1      2048  ...      0.0\n",
            "2      2053  ...      0.0\n",
            "3      2073  ...      NaN\n",
            "4      6597  ...      NaN\n",
            "...     ...  ...      ...\n",
            "7052  35014  ...      5.7\n",
            "7053  35084  ...      NaN\n",
            "7054  35087  ...      NaN\n",
            "7055  42289  ...      0.0\n",
            "7056  44005  ...      0.0\n",
            "\n",
            "[7057 rows x 15 columns]\n",
            "The shape of merged dataframe  is: (7057, 15)\n"
          ],
          "name": "stdout"
        }
      ]
    },
    {
      "cell_type": "code",
      "metadata": {
        "id": "gKjsIeyFNd66",
        "outputId": "c6bdaf13-e6f1-4206-82b1-868aaad1e1b8",
        "colab": {
          "base_uri": "https://localhost:8080/",
          "height": 299
        }
      },
      "source": [
        "# 4. Prepare the dataset for analysis.\n",
        "USDA.replace(\"?\", np.nan, inplace= True)\n",
        "# Check for missing values\n",
        "missing_values = USDA.isnull().sum().sum()\n",
        "\n",
        "print(\"The number of missing values is:\", missing_values)\n",
        "USDA.head()"
      ],
      "execution_count": 4,
      "outputs": [
        {
          "output_type": "stream",
          "text": [
            "The number of missing values is: 8827\n"
          ],
          "name": "stdout"
        },
        {
          "output_type": "execute_result",
          "data": {
            "text/html": [
              "<div>\n",
              "<style scoped>\n",
              "    .dataframe tbody tr th:only-of-type {\n",
              "        vertical-align: middle;\n",
              "    }\n",
              "\n",
              "    .dataframe tbody tr th {\n",
              "        vertical-align: top;\n",
              "    }\n",
              "\n",
              "    .dataframe thead th {\n",
              "        text-align: right;\n",
              "    }\n",
              "</style>\n",
              "<table border=\"1\" class=\"dataframe\">\n",
              "  <thead>\n",
              "    <tr style=\"text-align: right;\">\n",
              "      <th></th>\n",
              "      <th>ID</th>\n",
              "      <th>Description</th>\n",
              "      <th>Calories</th>\n",
              "      <th>Protein</th>\n",
              "      <th>TotalFat</th>\n",
              "      <th>Carbohydrate</th>\n",
              "      <th>Sodium</th>\n",
              "      <th>Cholesterol</th>\n",
              "      <th>Sugar</th>\n",
              "      <th>Calcium</th>\n",
              "      <th>Iron</th>\n",
              "      <th>Potassium</th>\n",
              "      <th>VitaminC</th>\n",
              "      <th>VitaminE</th>\n",
              "      <th>VitaminD</th>\n",
              "    </tr>\n",
              "  </thead>\n",
              "  <tbody>\n",
              "    <tr>\n",
              "      <th>0</th>\n",
              "      <td>2047</td>\n",
              "      <td>SALT,TABLE</td>\n",
              "      <td>0</td>\n",
              "      <td>0.0</td>\n",
              "      <td>0.0</td>\n",
              "      <td>0.00</td>\n",
              "      <td>38,758</td>\n",
              "      <td>0.0</td>\n",
              "      <td>0.00</td>\n",
              "      <td>24.0</td>\n",
              "      <td>0.33</td>\n",
              "      <td>8</td>\n",
              "      <td>0.0</td>\n",
              "      <td>0.0</td>\n",
              "      <td>0.0</td>\n",
              "    </tr>\n",
              "    <tr>\n",
              "      <th>1</th>\n",
              "      <td>2048</td>\n",
              "      <td>VINEGAR,CIDER</td>\n",
              "      <td>21</td>\n",
              "      <td>0.0</td>\n",
              "      <td>0.0</td>\n",
              "      <td>0.93</td>\n",
              "      <td>5</td>\n",
              "      <td>0.0</td>\n",
              "      <td>0.40</td>\n",
              "      <td>7.0</td>\n",
              "      <td>0.20</td>\n",
              "      <td>73</td>\n",
              "      <td>0.0</td>\n",
              "      <td>0.0</td>\n",
              "      <td>0.0</td>\n",
              "    </tr>\n",
              "    <tr>\n",
              "      <th>2</th>\n",
              "      <td>2053</td>\n",
              "      <td>VINEGAR,DISTILLED</td>\n",
              "      <td>18</td>\n",
              "      <td>0.0</td>\n",
              "      <td>0.0</td>\n",
              "      <td>0.04</td>\n",
              "      <td>2</td>\n",
              "      <td>0.0</td>\n",
              "      <td>0.04</td>\n",
              "      <td>6.0</td>\n",
              "      <td>0.03</td>\n",
              "      <td>2</td>\n",
              "      <td>0.0</td>\n",
              "      <td>0.0</td>\n",
              "      <td>0.0</td>\n",
              "    </tr>\n",
              "    <tr>\n",
              "      <th>3</th>\n",
              "      <td>2073</td>\n",
              "      <td>CAMPBELL SOUP CO,PACE,DRY TACO SEAS MIX</td>\n",
              "      <td>188</td>\n",
              "      <td>0.0</td>\n",
              "      <td>0.0</td>\n",
              "      <td>56.29</td>\n",
              "      <td>8,068</td>\n",
              "      <td>0.0</td>\n",
              "      <td>18.76</td>\n",
              "      <td>NaN</td>\n",
              "      <td>6.75</td>\n",
              "      <td>NaN</td>\n",
              "      <td>45.0</td>\n",
              "      <td>NaN</td>\n",
              "      <td>NaN</td>\n",
              "    </tr>\n",
              "    <tr>\n",
              "      <th>4</th>\n",
              "      <td>6597</td>\n",
              "      <td>CAMPBELL SOUP COMPANY,PACE,CHIPOTLE CHUNKY SALSA</td>\n",
              "      <td>25</td>\n",
              "      <td>0.0</td>\n",
              "      <td>0.0</td>\n",
              "      <td>6.25</td>\n",
              "      <td>719</td>\n",
              "      <td>0.0</td>\n",
              "      <td>6.25</td>\n",
              "      <td>0.0</td>\n",
              "      <td>0.00</td>\n",
              "      <td>NaN</td>\n",
              "      <td>0.0</td>\n",
              "      <td>NaN</td>\n",
              "      <td>NaN</td>\n",
              "    </tr>\n",
              "  </tbody>\n",
              "</table>\n",
              "</div>"
            ],
            "text/plain": [
              "     ID                                       Description  ...  VitaminE  VitaminD\n",
              "0  2047                                        SALT,TABLE  ...       0.0       0.0\n",
              "1  2048                                     VINEGAR,CIDER  ...       0.0       0.0\n",
              "2  2053                                 VINEGAR,DISTILLED  ...       0.0       0.0\n",
              "3  2073           CAMPBELL SOUP CO,PACE,DRY TACO SEAS MIX  ...       NaN       NaN\n",
              "4  6597  CAMPBELL SOUP COMPANY,PACE,CHIPOTLE CHUNKY SALSA  ...       NaN       NaN\n",
              "\n",
              "[5 rows x 15 columns]"
            ]
          },
          "metadata": {
            "tags": []
          },
          "execution_count": 4
        }
      ]
    },
    {
      "cell_type": "code",
      "metadata": {
        "id": "tr-A4UGqU8L8",
        "outputId": "800b62e4-45dd-43b1-ad9d-a6b77b761574",
        "colab": {
          "base_uri": "https://localhost:8080/",
          "height": 286
        }
      },
      "source": [
        "# Check data type for each column\n",
        "USDA.dtypes"
      ],
      "execution_count": 5,
      "outputs": [
        {
          "output_type": "execute_result",
          "data": {
            "text/plain": [
              "ID                int64\n",
              "Description      object\n",
              "Calories          int64\n",
              "Protein         float64\n",
              "TotalFat        float64\n",
              "Carbohydrate    float64\n",
              "Sodium           object\n",
              "Cholesterol     float64\n",
              "Sugar           float64\n",
              "Calcium         float64\n",
              "Iron            float64\n",
              "Potassium        object\n",
              "VitaminC        float64\n",
              "VitaminE        float64\n",
              "VitaminD        float64\n",
              "dtype: object"
            ]
          },
          "metadata": {
            "tags": []
          },
          "execution_count": 5
        }
      ]
    },
    {
      "cell_type": "code",
      "metadata": {
        "id": "P-ZsRdjBVEtI",
        "outputId": "c48bf594-8ece-4190-9947-72c78ed917e4",
        "colab": {
          "base_uri": "https://localhost:8080/",
          "height": 286
        }
      },
      "source": [
        "# Change Potassium column data type to float64\n",
        "USDA['Sodium'] = pd.to_numeric(USDA['Sodium'],errors='coerce')\n",
        "USDA['Potassium'] = pd.to_numeric(USDA['Potassium'],errors='coerce')\n",
        "USDA.dtypes"
      ],
      "execution_count": 6,
      "outputs": [
        {
          "output_type": "execute_result",
          "data": {
            "text/plain": [
              "ID                int64\n",
              "Description      object\n",
              "Calories          int64\n",
              "Protein         float64\n",
              "TotalFat        float64\n",
              "Carbohydrate    float64\n",
              "Sodium          float64\n",
              "Cholesterol     float64\n",
              "Sugar           float64\n",
              "Calcium         float64\n",
              "Iron            float64\n",
              "Potassium       float64\n",
              "VitaminC        float64\n",
              "VitaminE        float64\n",
              "VitaminD        float64\n",
              "dtype: object"
            ]
          },
          "metadata": {
            "tags": []
          },
          "execution_count": 6
        }
      ]
    },
    {
      "cell_type": "code",
      "metadata": {
        "id": "ptlaUacdNd68",
        "outputId": "ae09f7de-89f0-40c8-ba3d-48151210e6a4",
        "colab": {
          "base_uri": "https://localhost:8080/",
          "height": 282
        }
      },
      "source": [
        "# 5. Remove records with missing values in 4 or more vectors.\n",
        "USDA.dropna( axis = 0, thresh= 3, inplace= True)\n",
        "USDA.head()\n"
      ],
      "execution_count": 7,
      "outputs": [
        {
          "output_type": "execute_result",
          "data": {
            "text/html": [
              "<div>\n",
              "<style scoped>\n",
              "    .dataframe tbody tr th:only-of-type {\n",
              "        vertical-align: middle;\n",
              "    }\n",
              "\n",
              "    .dataframe tbody tr th {\n",
              "        vertical-align: top;\n",
              "    }\n",
              "\n",
              "    .dataframe thead th {\n",
              "        text-align: right;\n",
              "    }\n",
              "</style>\n",
              "<table border=\"1\" class=\"dataframe\">\n",
              "  <thead>\n",
              "    <tr style=\"text-align: right;\">\n",
              "      <th></th>\n",
              "      <th>ID</th>\n",
              "      <th>Description</th>\n",
              "      <th>Calories</th>\n",
              "      <th>Protein</th>\n",
              "      <th>TotalFat</th>\n",
              "      <th>Carbohydrate</th>\n",
              "      <th>Sodium</th>\n",
              "      <th>Cholesterol</th>\n",
              "      <th>Sugar</th>\n",
              "      <th>Calcium</th>\n",
              "      <th>Iron</th>\n",
              "      <th>Potassium</th>\n",
              "      <th>VitaminC</th>\n",
              "      <th>VitaminE</th>\n",
              "      <th>VitaminD</th>\n",
              "    </tr>\n",
              "  </thead>\n",
              "  <tbody>\n",
              "    <tr>\n",
              "      <th>0</th>\n",
              "      <td>2047</td>\n",
              "      <td>SALT,TABLE</td>\n",
              "      <td>0</td>\n",
              "      <td>0.0</td>\n",
              "      <td>0.0</td>\n",
              "      <td>0.00</td>\n",
              "      <td>NaN</td>\n",
              "      <td>0.0</td>\n",
              "      <td>0.00</td>\n",
              "      <td>24.0</td>\n",
              "      <td>0.33</td>\n",
              "      <td>8.0</td>\n",
              "      <td>0.0</td>\n",
              "      <td>0.0</td>\n",
              "      <td>0.0</td>\n",
              "    </tr>\n",
              "    <tr>\n",
              "      <th>1</th>\n",
              "      <td>2048</td>\n",
              "      <td>VINEGAR,CIDER</td>\n",
              "      <td>21</td>\n",
              "      <td>0.0</td>\n",
              "      <td>0.0</td>\n",
              "      <td>0.93</td>\n",
              "      <td>5.0</td>\n",
              "      <td>0.0</td>\n",
              "      <td>0.40</td>\n",
              "      <td>7.0</td>\n",
              "      <td>0.20</td>\n",
              "      <td>73.0</td>\n",
              "      <td>0.0</td>\n",
              "      <td>0.0</td>\n",
              "      <td>0.0</td>\n",
              "    </tr>\n",
              "    <tr>\n",
              "      <th>2</th>\n",
              "      <td>2053</td>\n",
              "      <td>VINEGAR,DISTILLED</td>\n",
              "      <td>18</td>\n",
              "      <td>0.0</td>\n",
              "      <td>0.0</td>\n",
              "      <td>0.04</td>\n",
              "      <td>2.0</td>\n",
              "      <td>0.0</td>\n",
              "      <td>0.04</td>\n",
              "      <td>6.0</td>\n",
              "      <td>0.03</td>\n",
              "      <td>2.0</td>\n",
              "      <td>0.0</td>\n",
              "      <td>0.0</td>\n",
              "      <td>0.0</td>\n",
              "    </tr>\n",
              "    <tr>\n",
              "      <th>3</th>\n",
              "      <td>2073</td>\n",
              "      <td>CAMPBELL SOUP CO,PACE,DRY TACO SEAS MIX</td>\n",
              "      <td>188</td>\n",
              "      <td>0.0</td>\n",
              "      <td>0.0</td>\n",
              "      <td>56.29</td>\n",
              "      <td>NaN</td>\n",
              "      <td>0.0</td>\n",
              "      <td>18.76</td>\n",
              "      <td>NaN</td>\n",
              "      <td>6.75</td>\n",
              "      <td>NaN</td>\n",
              "      <td>45.0</td>\n",
              "      <td>NaN</td>\n",
              "      <td>NaN</td>\n",
              "    </tr>\n",
              "    <tr>\n",
              "      <th>4</th>\n",
              "      <td>6597</td>\n",
              "      <td>CAMPBELL SOUP COMPANY,PACE,CHIPOTLE CHUNKY SALSA</td>\n",
              "      <td>25</td>\n",
              "      <td>0.0</td>\n",
              "      <td>0.0</td>\n",
              "      <td>6.25</td>\n",
              "      <td>719.0</td>\n",
              "      <td>0.0</td>\n",
              "      <td>6.25</td>\n",
              "      <td>0.0</td>\n",
              "      <td>0.00</td>\n",
              "      <td>NaN</td>\n",
              "      <td>0.0</td>\n",
              "      <td>NaN</td>\n",
              "      <td>NaN</td>\n",
              "    </tr>\n",
              "  </tbody>\n",
              "</table>\n",
              "</div>"
            ],
            "text/plain": [
              "     ID                                       Description  ...  VitaminE  VitaminD\n",
              "0  2047                                        SALT,TABLE  ...       0.0       0.0\n",
              "1  2048                                     VINEGAR,CIDER  ...       0.0       0.0\n",
              "2  2053                                 VINEGAR,DISTILLED  ...       0.0       0.0\n",
              "3  2073           CAMPBELL SOUP CO,PACE,DRY TACO SEAS MIX  ...       NaN       NaN\n",
              "4  6597  CAMPBELL SOUP COMPANY,PACE,CHIPOTLE CHUNKY SALSA  ...       NaN       NaN\n",
              "\n",
              "[5 rows x 15 columns]"
            ]
          },
          "metadata": {
            "tags": []
          },
          "execution_count": 7
        }
      ]
    },
    {
      "cell_type": "code",
      "metadata": {
        "id": "LG-ACJseNd6-",
        "outputId": "f3ddb878-4416-42bc-99c5-2264c579ffa4",
        "colab": {
          "base_uri": "https://localhost:8080/",
          "height": 556
        }
      },
      "source": [
        "# 6. For records with missing values for Sugar, Vitamin E and Vitamin D, replace missing values with mean value for the respective vector.\n",
        "USDA.fillna(value= USDA[[\"Sugar\", \"VitaminE\",\"VitaminD\" ]].mean())"
      ],
      "execution_count": 8,
      "outputs": [
        {
          "output_type": "execute_result",
          "data": {
            "text/html": [
              "<div>\n",
              "<style scoped>\n",
              "    .dataframe tbody tr th:only-of-type {\n",
              "        vertical-align: middle;\n",
              "    }\n",
              "\n",
              "    .dataframe tbody tr th {\n",
              "        vertical-align: top;\n",
              "    }\n",
              "\n",
              "    .dataframe thead th {\n",
              "        text-align: right;\n",
              "    }\n",
              "</style>\n",
              "<table border=\"1\" class=\"dataframe\">\n",
              "  <thead>\n",
              "    <tr style=\"text-align: right;\">\n",
              "      <th></th>\n",
              "      <th>ID</th>\n",
              "      <th>Description</th>\n",
              "      <th>Calories</th>\n",
              "      <th>Protein</th>\n",
              "      <th>TotalFat</th>\n",
              "      <th>Carbohydrate</th>\n",
              "      <th>Sodium</th>\n",
              "      <th>Cholesterol</th>\n",
              "      <th>Sugar</th>\n",
              "      <th>Calcium</th>\n",
              "      <th>Iron</th>\n",
              "      <th>Potassium</th>\n",
              "      <th>VitaminC</th>\n",
              "      <th>VitaminE</th>\n",
              "      <th>VitaminD</th>\n",
              "    </tr>\n",
              "  </thead>\n",
              "  <tbody>\n",
              "    <tr>\n",
              "      <th>0</th>\n",
              "      <td>2047</td>\n",
              "      <td>SALT,TABLE</td>\n",
              "      <td>0</td>\n",
              "      <td>0.0</td>\n",
              "      <td>0.0</td>\n",
              "      <td>0.00</td>\n",
              "      <td>NaN</td>\n",
              "      <td>0.0</td>\n",
              "      <td>0.00000</td>\n",
              "      <td>24.0</td>\n",
              "      <td>0.33</td>\n",
              "      <td>8.0</td>\n",
              "      <td>0.0</td>\n",
              "      <td>0.000000</td>\n",
              "      <td>0.000000</td>\n",
              "    </tr>\n",
              "    <tr>\n",
              "      <th>1</th>\n",
              "      <td>2048</td>\n",
              "      <td>VINEGAR,CIDER</td>\n",
              "      <td>21</td>\n",
              "      <td>0.0</td>\n",
              "      <td>0.0</td>\n",
              "      <td>0.93</td>\n",
              "      <td>5.0</td>\n",
              "      <td>0.0</td>\n",
              "      <td>0.40000</td>\n",
              "      <td>7.0</td>\n",
              "      <td>0.20</td>\n",
              "      <td>73.0</td>\n",
              "      <td>0.0</td>\n",
              "      <td>0.000000</td>\n",
              "      <td>0.000000</td>\n",
              "    </tr>\n",
              "    <tr>\n",
              "      <th>2</th>\n",
              "      <td>2053</td>\n",
              "      <td>VINEGAR,DISTILLED</td>\n",
              "      <td>18</td>\n",
              "      <td>0.0</td>\n",
              "      <td>0.0</td>\n",
              "      <td>0.04</td>\n",
              "      <td>2.0</td>\n",
              "      <td>0.0</td>\n",
              "      <td>0.04000</td>\n",
              "      <td>6.0</td>\n",
              "      <td>0.03</td>\n",
              "      <td>2.0</td>\n",
              "      <td>0.0</td>\n",
              "      <td>0.000000</td>\n",
              "      <td>0.000000</td>\n",
              "    </tr>\n",
              "    <tr>\n",
              "      <th>3</th>\n",
              "      <td>2073</td>\n",
              "      <td>CAMPBELL SOUP CO,PACE,DRY TACO SEAS MIX</td>\n",
              "      <td>188</td>\n",
              "      <td>0.0</td>\n",
              "      <td>0.0</td>\n",
              "      <td>56.29</td>\n",
              "      <td>NaN</td>\n",
              "      <td>0.0</td>\n",
              "      <td>18.76000</td>\n",
              "      <td>NaN</td>\n",
              "      <td>6.75</td>\n",
              "      <td>NaN</td>\n",
              "      <td>45.0</td>\n",
              "      <td>1.487462</td>\n",
              "      <td>0.576918</td>\n",
              "    </tr>\n",
              "    <tr>\n",
              "      <th>4</th>\n",
              "      <td>6597</td>\n",
              "      <td>CAMPBELL SOUP COMPANY,PACE,CHIPOTLE CHUNKY SALSA</td>\n",
              "      <td>25</td>\n",
              "      <td>0.0</td>\n",
              "      <td>0.0</td>\n",
              "      <td>6.25</td>\n",
              "      <td>719.0</td>\n",
              "      <td>0.0</td>\n",
              "      <td>6.25000</td>\n",
              "      <td>0.0</td>\n",
              "      <td>0.00</td>\n",
              "      <td>NaN</td>\n",
              "      <td>0.0</td>\n",
              "      <td>1.487462</td>\n",
              "      <td>0.576918</td>\n",
              "    </tr>\n",
              "    <tr>\n",
              "      <th>...</th>\n",
              "      <td>...</td>\n",
              "      <td>...</td>\n",
              "      <td>...</td>\n",
              "      <td>...</td>\n",
              "      <td>...</td>\n",
              "      <td>...</td>\n",
              "      <td>...</td>\n",
              "      <td>...</td>\n",
              "      <td>...</td>\n",
              "      <td>...</td>\n",
              "      <td>...</td>\n",
              "      <td>...</td>\n",
              "      <td>...</td>\n",
              "      <td>...</td>\n",
              "      <td>...</td>\n",
              "    </tr>\n",
              "    <tr>\n",
              "      <th>7052</th>\n",
              "      <td>35014</td>\n",
              "      <td>OIL,BELUGA,WHALE (ALASKA NATIVE)</td>\n",
              "      <td>900</td>\n",
              "      <td>0.0</td>\n",
              "      <td>100.0</td>\n",
              "      <td>0.00</td>\n",
              "      <td>0.0</td>\n",
              "      <td>NaN</td>\n",
              "      <td>0.00000</td>\n",
              "      <td>0.0</td>\n",
              "      <td>0.00</td>\n",
              "      <td>0.0</td>\n",
              "      <td>NaN</td>\n",
              "      <td>8.270000</td>\n",
              "      <td>5.700000</td>\n",
              "    </tr>\n",
              "    <tr>\n",
              "      <th>7053</th>\n",
              "      <td>35084</td>\n",
              "      <td>OIL,WALRUS (ALASKA NATIVE)</td>\n",
              "      <td>900</td>\n",
              "      <td>0.0</td>\n",
              "      <td>100.0</td>\n",
              "      <td>0.00</td>\n",
              "      <td>NaN</td>\n",
              "      <td>120.0</td>\n",
              "      <td>8.25654</td>\n",
              "      <td>0.0</td>\n",
              "      <td>NaN</td>\n",
              "      <td>NaN</td>\n",
              "      <td>NaN</td>\n",
              "      <td>1.487462</td>\n",
              "      <td>0.576918</td>\n",
              "    </tr>\n",
              "    <tr>\n",
              "      <th>7054</th>\n",
              "      <td>35087</td>\n",
              "      <td>OIL,WHALE,BOWHEAD (ALASKA NATIVE)</td>\n",
              "      <td>900</td>\n",
              "      <td>0.0</td>\n",
              "      <td>100.0</td>\n",
              "      <td>0.00</td>\n",
              "      <td>NaN</td>\n",
              "      <td>NaN</td>\n",
              "      <td>8.25654</td>\n",
              "      <td>0.0</td>\n",
              "      <td>0.00</td>\n",
              "      <td>NaN</td>\n",
              "      <td>NaN</td>\n",
              "      <td>1.487462</td>\n",
              "      <td>0.576918</td>\n",
              "    </tr>\n",
              "    <tr>\n",
              "      <th>7055</th>\n",
              "      <td>42289</td>\n",
              "      <td>OIL,CORN AND CANOLA</td>\n",
              "      <td>884</td>\n",
              "      <td>0.0</td>\n",
              "      <td>100.0</td>\n",
              "      <td>0.00</td>\n",
              "      <td>0.0</td>\n",
              "      <td>0.0</td>\n",
              "      <td>0.00000</td>\n",
              "      <td>0.0</td>\n",
              "      <td>0.00</td>\n",
              "      <td>0.0</td>\n",
              "      <td>0.0</td>\n",
              "      <td>14.840000</td>\n",
              "      <td>0.000000</td>\n",
              "    </tr>\n",
              "    <tr>\n",
              "      <th>7056</th>\n",
              "      <td>44005</td>\n",
              "      <td>OIL,CORN,PEANUT,AND OLIVE</td>\n",
              "      <td>884</td>\n",
              "      <td>0.0</td>\n",
              "      <td>100.0</td>\n",
              "      <td>0.00</td>\n",
              "      <td>0.0</td>\n",
              "      <td>0.0</td>\n",
              "      <td>0.00000</td>\n",
              "      <td>0.0</td>\n",
              "      <td>0.13</td>\n",
              "      <td>0.0</td>\n",
              "      <td>0.0</td>\n",
              "      <td>14.780000</td>\n",
              "      <td>0.000000</td>\n",
              "    </tr>\n",
              "  </tbody>\n",
              "</table>\n",
              "<p>7057 rows × 15 columns</p>\n",
              "</div>"
            ],
            "text/plain": [
              "         ID  ...  VitaminD\n",
              "0      2047  ...  0.000000\n",
              "1      2048  ...  0.000000\n",
              "2      2053  ...  0.000000\n",
              "3      2073  ...  0.576918\n",
              "4      6597  ...  0.576918\n",
              "...     ...  ...       ...\n",
              "7052  35014  ...  5.700000\n",
              "7053  35084  ...  0.576918\n",
              "7054  35087  ...  0.576918\n",
              "7055  42289  ...  0.000000\n",
              "7056  44005  ...  0.000000\n",
              "\n",
              "[7057 rows x 15 columns]"
            ]
          },
          "metadata": {
            "tags": []
          },
          "execution_count": 8
        }
      ]
    },
    {
      "cell_type": "code",
      "metadata": {
        "id": "5tsHtIlRNd7B",
        "outputId": "646e928d-a005-45f2-d773-05e795096537",
        "colab": {
          "base_uri": "https://localhost:8080/",
          "height": 282
        }
      },
      "source": [
        "# 7. With a single line of code, remove all remaining records with missing values. Name the new Data Frame \"USDAclean\"\n",
        "\n",
        "USDAclean = USDA.dropna(axis = 0)\n",
        "USDAclean.reset_index(drop = True, inplace= True)\n",
        "USDAclean.head()\n"
      ],
      "execution_count": 9,
      "outputs": [
        {
          "output_type": "execute_result",
          "data": {
            "text/html": [
              "<div>\n",
              "<style scoped>\n",
              "    .dataframe tbody tr th:only-of-type {\n",
              "        vertical-align: middle;\n",
              "    }\n",
              "\n",
              "    .dataframe tbody tr th {\n",
              "        vertical-align: top;\n",
              "    }\n",
              "\n",
              "    .dataframe thead th {\n",
              "        text-align: right;\n",
              "    }\n",
              "</style>\n",
              "<table border=\"1\" class=\"dataframe\">\n",
              "  <thead>\n",
              "    <tr style=\"text-align: right;\">\n",
              "      <th></th>\n",
              "      <th>ID</th>\n",
              "      <th>Description</th>\n",
              "      <th>Calories</th>\n",
              "      <th>Protein</th>\n",
              "      <th>TotalFat</th>\n",
              "      <th>Carbohydrate</th>\n",
              "      <th>Sodium</th>\n",
              "      <th>Cholesterol</th>\n",
              "      <th>Sugar</th>\n",
              "      <th>Calcium</th>\n",
              "      <th>Iron</th>\n",
              "      <th>Potassium</th>\n",
              "      <th>VitaminC</th>\n",
              "      <th>VitaminE</th>\n",
              "      <th>VitaminD</th>\n",
              "    </tr>\n",
              "  </thead>\n",
              "  <tbody>\n",
              "    <tr>\n",
              "      <th>0</th>\n",
              "      <td>2048</td>\n",
              "      <td>VINEGAR,CIDER</td>\n",
              "      <td>21</td>\n",
              "      <td>0.0</td>\n",
              "      <td>0.0</td>\n",
              "      <td>0.93</td>\n",
              "      <td>5.0</td>\n",
              "      <td>0.0</td>\n",
              "      <td>0.40</td>\n",
              "      <td>7.0</td>\n",
              "      <td>0.20</td>\n",
              "      <td>73.0</td>\n",
              "      <td>0.0</td>\n",
              "      <td>0.00</td>\n",
              "      <td>0.0</td>\n",
              "    </tr>\n",
              "    <tr>\n",
              "      <th>1</th>\n",
              "      <td>2053</td>\n",
              "      <td>VINEGAR,DISTILLED</td>\n",
              "      <td>18</td>\n",
              "      <td>0.0</td>\n",
              "      <td>0.0</td>\n",
              "      <td>0.04</td>\n",
              "      <td>2.0</td>\n",
              "      <td>0.0</td>\n",
              "      <td>0.04</td>\n",
              "      <td>6.0</td>\n",
              "      <td>0.03</td>\n",
              "      <td>2.0</td>\n",
              "      <td>0.0</td>\n",
              "      <td>0.00</td>\n",
              "      <td>0.0</td>\n",
              "    </tr>\n",
              "    <tr>\n",
              "      <th>2</th>\n",
              "      <td>6971</td>\n",
              "      <td>SAUCE,WORCESTERSHIRE</td>\n",
              "      <td>78</td>\n",
              "      <td>0.0</td>\n",
              "      <td>0.0</td>\n",
              "      <td>19.46</td>\n",
              "      <td>980.0</td>\n",
              "      <td>0.0</td>\n",
              "      <td>10.03</td>\n",
              "      <td>107.0</td>\n",
              "      <td>5.30</td>\n",
              "      <td>800.0</td>\n",
              "      <td>13.0</td>\n",
              "      <td>0.08</td>\n",
              "      <td>0.0</td>\n",
              "    </tr>\n",
              "    <tr>\n",
              "      <th>3</th>\n",
              "      <td>14037</td>\n",
              "      <td>ALCOHOLIC BEV,DISTILLED,ALL (GIN,RUM,VODKA,WHI...</td>\n",
              "      <td>231</td>\n",
              "      <td>0.0</td>\n",
              "      <td>0.0</td>\n",
              "      <td>0.00</td>\n",
              "      <td>1.0</td>\n",
              "      <td>0.0</td>\n",
              "      <td>0.00</td>\n",
              "      <td>0.0</td>\n",
              "      <td>0.04</td>\n",
              "      <td>2.0</td>\n",
              "      <td>0.0</td>\n",
              "      <td>0.00</td>\n",
              "      <td>0.0</td>\n",
              "    </tr>\n",
              "    <tr>\n",
              "      <th>4</th>\n",
              "      <td>14049</td>\n",
              "      <td>ALCOHOLIC BEV,DISTILLED,GIN,90 PROOF</td>\n",
              "      <td>263</td>\n",
              "      <td>0.0</td>\n",
              "      <td>0.0</td>\n",
              "      <td>0.00</td>\n",
              "      <td>2.0</td>\n",
              "      <td>0.0</td>\n",
              "      <td>0.00</td>\n",
              "      <td>0.0</td>\n",
              "      <td>0.00</td>\n",
              "      <td>0.0</td>\n",
              "      <td>0.0</td>\n",
              "      <td>0.00</td>\n",
              "      <td>0.0</td>\n",
              "    </tr>\n",
              "  </tbody>\n",
              "</table>\n",
              "</div>"
            ],
            "text/plain": [
              "      ID                                        Description  ...  VitaminE  VitaminD\n",
              "0   2048                                      VINEGAR,CIDER  ...      0.00       0.0\n",
              "1   2053                                  VINEGAR,DISTILLED  ...      0.00       0.0\n",
              "2   6971                               SAUCE,WORCESTERSHIRE  ...      0.08       0.0\n",
              "3  14037  ALCOHOLIC BEV,DISTILLED,ALL (GIN,RUM,VODKA,WHI...  ...      0.00       0.0\n",
              "4  14049               ALCOHOLIC BEV,DISTILLED,GIN,90 PROOF  ...      0.00       0.0\n",
              "\n",
              "[5 rows x 15 columns]"
            ]
          },
          "metadata": {
            "tags": []
          },
          "execution_count": 9
        }
      ]
    },
    {
      "cell_type": "code",
      "metadata": {
        "id": "SSTbQz89Nd7D",
        "outputId": "15b903e8-f9f8-4736-bad1-1cfb2bf6b0e5",
        "colab": {
          "base_uri": "https://localhost:8080/",
          "height": 269
        }
      },
      "source": [
        "# 8. Which food has the highest sodium level?\n",
        "USDA_new = USDAclean.copy() \n",
        "USDA_new.set_index('Description', inplace= True)\n",
        "ID = np.argmax(USDA_new['Sodium'].values)\n",
        "\n",
        "print(\" The food with the highest sodium level is :\", USDA_new.iloc[ID])\n",
        "\n"
      ],
      "execution_count": 10,
      "outputs": [
        {
          "output_type": "stream",
          "text": [
            " The food with the highest sodium level is : ID              43391.00\n",
            "Calories          162.00\n",
            "Protein            29.30\n",
            "TotalFat            5.00\n",
            "Carbohydrate        0.00\n",
            "Sodium            996.00\n",
            "Cholesterol        76.00\n",
            "Sugar               0.00\n",
            "Calcium            25.00\n",
            "Iron                1.78\n",
            "Potassium         298.00\n",
            "VitaminC            0.00\n",
            "VitaminE            0.33\n",
            "VitaminD            0.10\n",
            "Name: TURKEY,LT OR DK MEAT,SMOKED,CKD,SKN & BONE REMOVED, dtype: float64\n"
          ],
          "name": "stdout"
        }
      ]
    },
    {
      "cell_type": "code",
      "metadata": {
        "id": "oOadXdXcNd7F",
        "outputId": "c9ee2f25-589a-4a65-8a0e-fbaa71007cde",
        "colab": {
          "base_uri": "https://localhost:8080/",
          "height": 295
        }
      },
      "source": [
        "# 9. Create a scatter plot using Protein and Fat, with the plot title “Fat vs Protein”, labeling the axes “Fat” and “Protein”, and making the data points red.\n",
        "\n",
        "import matplotlib.pyplot as plt\n",
        "\n",
        "%matplotlib inline\n",
        "\n",
        "\n",
        "plt.scatter(USDAclean[\"Protein\"], USDAclean[\"TotalFat\"])\n",
        "plt.title(\"Scatter plot of Fat vs Protien\")\n",
        "plt.xlabel(\"Fat\")\n",
        "plt.ylabel(\"Protein\")\n",
        "plt.show()"
      ],
      "execution_count": 11,
      "outputs": [
        {
          "output_type": "display_data",
          "data": {
            "image/png": "[encoded data removed]",
            "text/plain": [
              "<Figure size 432x288 with 1 Axes>"
            ]
          },
          "metadata": {
            "tags": [],
            "needs_background": "light"
          }
        }
      ]
    },
    {
      "cell_type": "code",
      "metadata": {
        "id": "BjT9cAveNd7I",
        "outputId": "d36c2082-a12d-4da9-c042-331e27854cc0",
        "colab": {
          "base_uri": "https://localhost:8080/",
          "height": 265
        }
      },
      "source": [
        "# 10. Create a histogram of Vitamin C distribution in foods, with a limit of 0 to 100 on the x-axis and breaks of 100.\n",
        "\n",
        "USDAclean['VitaminC']. plot( kind = 'hist', bins = 100)\n",
        "plt. xlim(0,100)\n",
        "plt.show()"
      ],
      "execution_count": 12,
      "outputs": [
        {
          "output_type": "display_data",
          "data": {
            "image/png": "[encoded data removed]",
            "text/plain": [
              "<Figure size 432x288 with 1 Axes>"
            ]
          },
          "metadata": {
            "tags": [],
            "needs_background": "light"
          }
        }
      ]
    },
    {
      "cell_type": "code",
      "metadata": {
        "id": "NYkV1-Q3Nd7J",
        "outputId": "9f0ea53d-41be-4c16-c331-f164e308cff0",
        "colab": {
          "base_uri": "https://localhost:8080/",
          "height": 265
        }
      },
      "source": [
        "# 11. Create a box and whisker plot to illustrate the distribution of values for Total Fat, Protein and Carbohydrate.\n",
        "import seaborn as sns\n",
        "\n",
        "sns.boxplot(data = USDAclean[[\"TotalFat\", \"Protein\", \"Carbohydrate\"]])\n",
        "plt.show()\n"
      ],
      "execution_count": 13,
      "outputs": [
        {
          "output_type": "display_data",
          "data": {
            "image/png": "[encoded data removed]",
            "text/plain": [
              "<Figure size 432x288 with 1 Axes>"
            ]
          },
          "metadata": {
            "tags": [],
            "needs_background": "light"
          }
        }
      ]
    },
    {
      "cell_type": "code",
      "metadata": {
        "id": "IbJGNzW7Nd7L"
      },
      "source": [
        "# 12. Based on this visualization alone, would you recommend removing outliers? Why or why not?\n",
        "#  I will recommend using outliers as the boxplot indicates the presence of outliers especially in the TotalFat and Protein Columns"
      ],
      "execution_count": 14,
      "outputs": []
    },
    {
      "cell_type": "code",
      "metadata": {
        "id": "D6Ao1j2XNd7N",
        "outputId": "92133b20-9857-4f87-e475-facc0d78f4c3",
        "colab": {
          "base_uri": "https://localhost:8080/",
          "height": 383
        }
      },
      "source": [
        "# 13. Add a new variable to the data frame that takes value 1 if the food has higher calories than average, 0 otherwise. Call this variable HighCals. \n",
        "\n",
        "avg_calories = USDAclean[\"Calories\"].values. mean()\n",
        "avg_calories\n",
        "\n",
        "USDAclean[\"HighCals\"] = (USDAclean['Calories'] > avg_calories).astype('int')\n",
        "\n",
        "USDAclean.head()\n"
      ],
      "execution_count": 15,
      "outputs": [
        {
          "output_type": "stream",
          "text": [
            "/usr/local/lib/python3.6/dist-packages/ipykernel_launcher.py:6: SettingWithCopyWarning: \n",
            "A value is trying to be set on a copy of a slice from a DataFrame.\n",
            "Try using .loc[row_indexer,col_indexer] = value instead\n",
            "\n",
            "See the caveats in the documentation: https://pandas.pydata.org/pandas-docs/stable/user_guide/indexing.html#returning-a-view-versus-a-copy\n",
            "  \n"
          ],
          "name": "stderr"
        },
        {
          "output_type": "execute_result",
          "data": {
            "text/html": [
              "<div>\n",
              "<style scoped>\n",
              "    .dataframe tbody tr th:only-of-type {\n",
              "        vertical-align: middle;\n",
              "    }\n",
              "\n",
              "    .dataframe tbody tr th {\n",
              "        vertical-align: top;\n",
              "    }\n",
              "\n",
              "    .dataframe thead th {\n",
              "        text-align: right;\n",
              "    }\n",
              "</style>\n",
              "<table border=\"1\" class=\"dataframe\">\n",
              "  <thead>\n",
              "    <tr style=\"text-align: right;\">\n",
              "      <th></th>\n",
              "      <th>ID</th>\n",
              "      <th>Description</th>\n",
              "      <th>Calories</th>\n",
              "      <th>Protein</th>\n",
              "      <th>TotalFat</th>\n",
              "      <th>Carbohydrate</th>\n",
              "      <th>Sodium</th>\n",
              "      <th>Cholesterol</th>\n",
              "      <th>Sugar</th>\n",
              "      <th>Calcium</th>\n",
              "      <th>Iron</th>\n",
              "      <th>Potassium</th>\n",
              "      <th>VitaminC</th>\n",
              "      <th>VitaminE</th>\n",
              "      <th>VitaminD</th>\n",
              "      <th>HighCals</th>\n",
              "    </tr>\n",
              "  </thead>\n",
              "  <tbody>\n",
              "    <tr>\n",
              "      <th>0</th>\n",
              "      <td>2048</td>\n",
              "      <td>VINEGAR,CIDER</td>\n",
              "      <td>21</td>\n",
              "      <td>0.0</td>\n",
              "      <td>0.0</td>\n",
              "      <td>0.93</td>\n",
              "      <td>5.0</td>\n",
              "      <td>0.0</td>\n",
              "      <td>0.40</td>\n",
              "      <td>7.0</td>\n",
              "      <td>0.20</td>\n",
              "      <td>73.0</td>\n",
              "      <td>0.0</td>\n",
              "      <td>0.00</td>\n",
              "      <td>0.0</td>\n",
              "      <td>0</td>\n",
              "    </tr>\n",
              "    <tr>\n",
              "      <th>1</th>\n",
              "      <td>2053</td>\n",
              "      <td>VINEGAR,DISTILLED</td>\n",
              "      <td>18</td>\n",
              "      <td>0.0</td>\n",
              "      <td>0.0</td>\n",
              "      <td>0.04</td>\n",
              "      <td>2.0</td>\n",
              "      <td>0.0</td>\n",
              "      <td>0.04</td>\n",
              "      <td>6.0</td>\n",
              "      <td>0.03</td>\n",
              "      <td>2.0</td>\n",
              "      <td>0.0</td>\n",
              "      <td>0.00</td>\n",
              "      <td>0.0</td>\n",
              "      <td>0</td>\n",
              "    </tr>\n",
              "    <tr>\n",
              "      <th>2</th>\n",
              "      <td>6971</td>\n",
              "      <td>SAUCE,WORCESTERSHIRE</td>\n",
              "      <td>78</td>\n",
              "      <td>0.0</td>\n",
              "      <td>0.0</td>\n",
              "      <td>19.46</td>\n",
              "      <td>980.0</td>\n",
              "      <td>0.0</td>\n",
              "      <td>10.03</td>\n",
              "      <td>107.0</td>\n",
              "      <td>5.30</td>\n",
              "      <td>800.0</td>\n",
              "      <td>13.0</td>\n",
              "      <td>0.08</td>\n",
              "      <td>0.0</td>\n",
              "      <td>0</td>\n",
              "    </tr>\n",
              "    <tr>\n",
              "      <th>3</th>\n",
              "      <td>14037</td>\n",
              "      <td>ALCOHOLIC BEV,DISTILLED,ALL (GIN,RUM,VODKA,WHI...</td>\n",
              "      <td>231</td>\n",
              "      <td>0.0</td>\n",
              "      <td>0.0</td>\n",
              "      <td>0.00</td>\n",
              "      <td>1.0</td>\n",
              "      <td>0.0</td>\n",
              "      <td>0.00</td>\n",
              "      <td>0.0</td>\n",
              "      <td>0.04</td>\n",
              "      <td>2.0</td>\n",
              "      <td>0.0</td>\n",
              "      <td>0.00</td>\n",
              "      <td>0.0</td>\n",
              "      <td>1</td>\n",
              "    </tr>\n",
              "    <tr>\n",
              "      <th>4</th>\n",
              "      <td>14049</td>\n",
              "      <td>ALCOHOLIC BEV,DISTILLED,GIN,90 PROOF</td>\n",
              "      <td>263</td>\n",
              "      <td>0.0</td>\n",
              "      <td>0.0</td>\n",
              "      <td>0.00</td>\n",
              "      <td>2.0</td>\n",
              "      <td>0.0</td>\n",
              "      <td>0.00</td>\n",
              "      <td>0.0</td>\n",
              "      <td>0.00</td>\n",
              "      <td>0.0</td>\n",
              "      <td>0.0</td>\n",
              "      <td>0.00</td>\n",
              "      <td>0.0</td>\n",
              "      <td>1</td>\n",
              "    </tr>\n",
              "  </tbody>\n",
              "</table>\n",
              "</div>"
            ],
            "text/plain": [
              "      ID                                        Description  ...  VitaminD  HighCals\n",
              "0   2048                                      VINEGAR,CIDER  ...       0.0         0\n",
              "1   2053                                  VINEGAR,DISTILLED  ...       0.0         0\n",
              "2   6971                               SAUCE,WORCESTERSHIRE  ...       0.0         0\n",
              "3  14037  ALCOHOLIC BEV,DISTILLED,ALL (GIN,RUM,VODKA,WHI...  ...       0.0         1\n",
              "4  14049               ALCOHOLIC BEV,DISTILLED,GIN,90 PROOF  ...       0.0         1\n",
              "\n",
              "[5 rows x 16 columns]"
            ]
          },
          "metadata": {
            "tags": []
          },
          "execution_count": 15
        }
      ]
    },
    {
      "cell_type": "code",
      "metadata": {
        "id": "3m0b2yh7ex6c"
      },
      "source": [
        ""
      ],
      "execution_count": 15,
      "outputs": []
    },
    {
      "cell_type": "code",
      "metadata": {
        "id": "0FnTi0TjNd7P"
      },
      "source": [
        "# 14. Calculate the average amount of iron by high and low calories (i.e. average amount of iron in foods with high calories and average amount of iron in foods with low calories).  \n"
      ],
      "execution_count": 16,
      "outputs": []
    },
    {
      "cell_type": "code",
      "metadata": {
        "id": "CoIamFJINd7R"
      },
      "source": [
        "# 15. Split USDAclean into a training and test set with a 70:30 split ratio.\n",
        "\n",
        "X = USDAclean.iloc[:, 2:-1].values\n",
        "y = USDAclean.iloc[:, -1].values\n",
        "from sklearn.model_selection import train_test_split\n",
        "X_train, X_test, y_train, y_test = train_test_split(  X, y, test_size=0.3)\n"
      ],
      "execution_count": 17,
      "outputs": []
    },
    {
      "cell_type": "code",
      "metadata": {
        "id": "tP9DK4amNd7T",
        "outputId": "f8114b81-8a03-46a0-ba79-e3916a42a46a",
        "colab": {
          "base_uri": "https://localhost:8080/",
          "height": 67
        }
      },
      "source": [
        "# 16. Create a logistic regression model, using High Calories as the dependent variable, and Carbohydrate, Protein, Total Fat and Sodium as independent variables. \n",
        "X_new = USDAclean[['Carbohydrate','TotalFat', 'Sodium']].values\n",
        "y_new = USDAclean['HighCals'].values\n",
        "\n",
        "from sklearn.model_selection import train_test_split\n",
        "X_train, X_test, y_train, y_test = train_test_split(  X_new, y_new, test_size=0.3)\n",
        "\n",
        "# Feature Scaling\n",
        "from sklearn.preprocessing import StandardScaler\n",
        "sc = StandardScaler()\n",
        "X_train = sc.fit_transform(X_train)\n",
        "X_test = sc.transform(X_test)\n",
        "\n",
        "\n",
        "from sklearn.linear_model import LogisticRegression\n",
        "model = LogisticRegression()\n",
        "model.fit(X_train, y_train)\n",
        "y_hat = model.predict(X_train)\n",
        "\n",
        "from sklearn.metrics import confusion_matrix, accuracy_score\n",
        "cm = confusion_matrix(y_train, y_hat)\n",
        "print(cm)\n",
        "accuracy_score(y_train, y_hat)\n"
      ],
      "execution_count": 19,
      "outputs": [
        {
          "output_type": "stream",
          "text": [
            "[[1193   40]\n",
            " [  66  838]]\n"
          ],
          "name": "stdout"
        },
        {
          "output_type": "execute_result",
          "data": {
            "text/plain": [
              "0.9503977538605521"
            ]
          },
          "metadata": {
            "tags": []
          },
          "execution_count": 19
        }
      ]
    },
    {
      "cell_type": "code",
      "metadata": {
        "id": "L0p1jxCJmrGC",
        "outputId": "e828324f-5873-4662-a439-aaea7479ce37",
        "colab": {
          "base_uri": "https://localhost:8080/",
          "height": 390
        }
      },
      "source": [
        "# Since using Scikit-learn library the p-values are not clear , we use the scipy library\n",
        "import statsmodels.api as sm\n",
        "logit_model=sm.Logit(y_train,X_train)\n",
        "result=logit_model.fit()\n",
        "print(result.summary())\n"
      ],
      "execution_count": 20,
      "outputs": [
        {
          "output_type": "stream",
          "text": [
            "/usr/local/lib/python3.6/dist-packages/statsmodels/tools/_testing.py:19: FutureWarning: pandas.util.testing is deprecated. Use the functions in the public API at pandas.testing instead.\n",
            "  import pandas.util.testing as tm\n"
          ],
          "name": "stderr"
        },
        {
          "output_type": "stream",
          "text": [
            "Optimization terminated successfully.\n",
            "         Current function value: 0.157147\n",
            "         Iterations 9\n",
            "                           Logit Regression Results                           \n",
            "==============================================================================\n",
            "Dep. Variable:                      y   No. Observations:                 2137\n",
            "Model:                          Logit   Df Residuals:                     2134\n",
            "Method:                           MLE   Df Model:                            2\n",
            "Date:                Thu, 01 Oct 2020   Pseudo R-squ.:                  0.7693\n",
            "Time:                        23:59:49   Log-Likelihood:                -335.82\n",
            "converged:                       True   LL-Null:                       -1455.8\n",
            "Covariance Type:            nonrobust   LLR p-value:                     0.000\n",
            "==============================================================================\n",
            "                 coef    std err          z      P>|z|      [0.025      0.975]\n",
            "------------------------------------------------------------------------------\n",
            "x1             3.2578      0.164     19.815      0.000       2.936       3.580\n",
            "x2             7.1180      0.404     17.599      0.000       6.325       7.911\n",
            "x3            -0.0463      0.105     -0.440      0.660      -0.253       0.160\n",
            "==============================================================================\n"
          ],
          "name": "stdout"
        }
      ]
    },
    {
      "cell_type": "code",
      "metadata": {
        "id": "zmI474DbNd7V"
      },
      "source": [
        "# 17. Which independent variable is not significant?\n",
        "# Sodium is not significant as the p value is greater than 0.1\n"
      ],
      "execution_count": null,
      "outputs": []
    },
    {
      "cell_type": "code",
      "metadata": {
        "id": "saZM6UyfNd7W"
      },
      "source": [
        "# 18. Which independent variable has the strongest positive predictive power in the model?\n",
        "# Total fat seems to have the strongest positive predictive power in the model"
      ],
      "execution_count": null,
      "outputs": []
    },
    {
      "cell_type": "code",
      "metadata": {
        "id": "hE8qm7IUNd7b",
        "outputId": "cdf25073-134b-4f91-b98d-2cc537fa6844",
        "colab": {
          "base_uri": "https://localhost:8080/",
          "height": 50
        }
      },
      "source": [
        "# 19. Refine the model and then test it using the test dataset to predict High Calories.\n",
        " # Applying Grid Search to find the best model and the best parameters\n",
        "from sklearn.model_selection import GridSearchCV\n",
        "parameters = [{'C': [0.25, 0.5, 0.75, 1]}]\n",
        "grid_search = GridSearchCV(estimator = model,\n",
        "                           param_grid = parameters,\n",
        "                           scoring = 'accuracy',\n",
        "                           cv = 10,\n",
        "                           n_jobs = -1)\n",
        "\n",
        "grid_search.fit(X_train, y_train)\n",
        "best_accuracy = grid_search.best_score_\n",
        "best_parameters = grid_search.best_params_\n",
        "print(\"Best Accuracy: {:.2f} %\".format(best_accuracy*100))\n",
        "print(\"Best Parameters:\", best_parameters)\n"
      ],
      "execution_count": 21,
      "outputs": [
        {
          "output_type": "stream",
          "text": [
            "Best Accuracy: 94.99 %\n",
            "Best Parameters: {'C': 0.5}\n"
          ],
          "name": "stdout"
        }
      ]
    },
    {
      "cell_type": "code",
      "metadata": {
        "id": "_F1O7GO9Nd7d",
        "outputId": "43858a38-d593-4857-fea9-5c449aa67122",
        "colab": {
          "base_uri": "https://localhost:8080/",
          "height": 67
        }
      },
      "source": [
        "#  20. Produce a confusion matrix (table) for the predictions on the test set and calculate overall accuracy.\n",
        "from sklearn.metrics import confusion_matrix, accuracy_score\n",
        "y_pred = model.predict(X_test)\n",
        "cm = confusion_matrix(y_test, y_pred)\n",
        "print(cm)\n",
        "accuracy_score(y_test, y_pred)\n"
      ],
      "execution_count": 22,
      "outputs": [
        {
          "output_type": "stream",
          "text": [
            "[[519  20]\n",
            " [ 18 359]]\n"
          ],
          "name": "stdout"
        },
        {
          "output_type": "execute_result",
          "data": {
            "text/plain": [
              "0.9585152838427947"
            ]
          },
          "metadata": {
            "tags": []
          },
          "execution_count": 22
        }
      ]
    },
    {
      "cell_type": "markdown",
      "metadata": {
        "id": "1npnKYxaNd7f"
      },
      "source": [
        "Thank you for completing this excercise! Save your notebook and send it back to us."
      ]
    }
  ]
}