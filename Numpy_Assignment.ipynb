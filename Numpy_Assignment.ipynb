{
  "nbformat": 4,
  "nbformat_minor": 0,
  "metadata": {
    "colab": {
      "name": "Numpy_Assignment.ipynb",
      "provenance": [],
      "authorship_tag": "ABX9TyNl/FMpVcu4d7ZH9Zz+ahCn",
      "include_colab_link": true
    },
    "kernelspec": {
      "name": "python3",
      "display_name": "Python 3"
    }
  },
  "cells": [
    {
      "cell_type": "markdown",
      "metadata": {
        "id": "view-in-github",
        "colab_type": "text"
      },
      "source": [
        "<a href=\"https://colab.research.google.com/github/obeabi/Assignments/blob/master/Numpy_Assignment.ipynb\" target=\"_parent\"><img src=\"https://colab.research.google.com/assets/colab-badge.svg\" alt=\"Open In Colab\"/></a>"
      ]
    },
    {
      "cell_type": "markdown",
      "metadata": {
        "id": "aqHco9yfOa9k"
      },
      "source": [
        "# NumPy Assignment \r\n",
        "# Written by Abiola Obembe\r\n",
        "## Date: 2020-12-26\r\n",
        "## Course: ML masters with deployment and deep learning\r\n"
      ]
    },
    {
      "cell_type": "code",
      "metadata": {
        "id": "nMlfto5GUt-2"
      },
      "source": [
        "import numpy as np"
      ],
      "execution_count": 3,
      "outputs": []
    },
    {
      "cell_type": "markdown",
      "metadata": {
        "id": "J44JhVXIRt6e"
      },
      "source": [
        "## Question 1\r\n",
        "\r\n",
        "Write a function so that the columns of the output matrix are powers of the input\r\n",
        "vector.\r\n",
        "The order of the powers is determined by the increasing boolean argument. Specifically, when\r\n",
        "increasing is False, the i-th output column is the input vector raised element-wise to the power\r\n",
        "of N - i - 1.\r\n",
        "\r\n",
        "HINT: Such a matrix with a geometric progression in each row is named for AlexandreTheophile Vandermonde"
      ]
    },
    {
      "cell_type": "code",
      "metadata": {
        "id": "OIZGXQ6sSzB9"
      },
      "source": [
        "# Write code here\r\n",
        "\r\n",
        "def geom_progression(x,N= 3, increasing= False):\r\n",
        " # where n is the number of columns in output, \r\n",
        " # increasing is a bool argument: True or False\r\n",
        " # X : output of function\r\n",
        "  H = len(x)\r\n",
        "  X = np.zeros((H,N))\r\n",
        "\r\n",
        "  for i in range(N):\r\n",
        "    for h in range(H):\r\n",
        "\r\n",
        "        if increasing is False:\r\n",
        "          order = N -i - 1\r\n",
        "          X[h,i] = x[h]**order\r\n",
        "        else:\r\n",
        "          order = i\r\n",
        "          X[h,i] = x[h]**order         \r\n",
        "  return X"
      ],
      "execution_count": 108,
      "outputs": []
    },
    {
      "cell_type": "code",
      "metadata": {
        "colab": {
          "base_uri": "https://localhost:8080/"
        },
        "id": "q_Gy7wrnUa23",
        "outputId": "dcad99a5-dc8e-47b2-8327-730c3936278a"
      },
      "source": [
        "# test function here\r\n",
        "Z = np.array([1,2,3])\r\n",
        "X = geom_progression(Z, N= 4, increasing= False)\r\n",
        "\r\n",
        "print(X)"
      ],
      "execution_count": 111,
      "outputs": [
        {
          "output_type": "stream",
          "text": [
            "[[ 1.  1.  1.  1.]\n",
            " [ 8.  4.  2.  1.]\n",
            " [27.  9.  3.  1.]]\n"
          ],
          "name": "stdout"
        }
      ]
    },
    {
      "cell_type": "markdown",
      "metadata": {
        "id": "bDaagrfNSzvt"
      },
      "source": [
        "## Question 2\r\n",
        "\r\n",
        "Write a function to find moving average in an array over a window:\r\n",
        " Test it over [3, 5, 7, 2, 8, 10, 11, 65, 72, 81, 99, 100, 150] and window of 3."
      ]
    },
    {
      "cell_type": "code",
      "metadata": {
        "id": "GcfuPTjKfLoo"
      },
      "source": [
        "# Write function here\r\n",
        "def moving_average(x,k=4):\r\n",
        "  n_seq = len(x)\r\n",
        "  n_mavg = n_seq-k+1\r\n",
        "  y = np.zeros((n_mavg, 1))\r\n",
        "\r\n",
        "  for i in range(n_mavg):\r\n",
        "      y[i] = (x[i:i+k].sum())/k\r\n",
        "\r\n",
        "  return  y"
      ],
      "execution_count": 98,
      "outputs": []
    },
    {
      "cell_type": "code",
      "metadata": {
        "colab": {
          "base_uri": "https://localhost:8080/"
        },
        "id": "zMIduRYVhhAy",
        "outputId": "14e1921b-ef5d-4ed1-cbcc-e2361974f762"
      },
      "source": [
        "# test code here\r\n",
        "x= np.array([3, 5, 7, 2, 8, 10, 11, 65, 72, 81, 99, 100, 150])\r\n",
        "#x = np.linspace(10,100,10)\r\n",
        "\r\n",
        "print(\"The moving average of array x is \\n\", np.squeeze(moving_average(x, k = 3)))"
      ],
      "execution_count": 114,
      "outputs": [
        {
          "output_type": "stream",
          "text": [
            "The moving average of array x is \n",
            " [  5.           4.66666667   5.66666667   6.66666667   9.66666667\n",
            "  28.66666667  49.33333333  72.66666667  84.          93.33333333\n",
            " 116.33333333]\n"
          ],
          "name": "stdout"
        }
      ]
    }
  ]
}