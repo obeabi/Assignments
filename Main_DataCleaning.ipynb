{
  "nbformat": 4,
  "nbformat_minor": 0,
  "metadata": {
    "colab": {
      "name": "Main_DataCleaning.ipynb",
      "provenance": [],
      "authorship_tag": "ABX9TyO+9SHfHZidvijMFNniFwRn",
      "include_colab_link": true
    },
    "kernelspec": {
      "name": "python3",
      "display_name": "Python 3"
    }
  },
  "cells": [
    {
      "cell_type": "markdown",
      "metadata": {
        "id": "view-in-github",
        "colab_type": "text"
      },
      "source": [
        "<a href=\"https://colab.research.google.com/github/obeabi/Assignments/blob/master/Main_DataCleaning.ipynb\" target=\"_parent\"><img src=\"https://colab.research.google.com/assets/colab-badge.svg\" alt=\"Open In Colab\"/></a>"
      ]
    },
    {
      "cell_type": "markdown",
      "metadata": {
        "id": "s2yrgXnuzA5j"
      },
      "source": [
        "# Pyhton Assignment : Data cleaning assignment\r\n",
        "# Written by Abiola Obembe\r\n",
        "## Date: 2020-12-21\r\n",
        "## Course: ML masters with deployment and deep learning"
      ]
    },
    {
      "cell_type": "markdown",
      "metadata": {
        "id": "GtOk05LczNP5"
      },
      "source": [
        "Problem Statement\r\n",
        "It happens all the time: someone gives you data containing malformed strings,\r\n",
        "Python, lists and missing data. How do you tidy it up so you can get on with the\r\n",
        "analysis?\r\n",
        "Take this monstrosity as the DataFrame to use in the following puzzles:\r\n",
        "df = pd.DataFrame({'From_To': ['LoNDon_paris', 'MAdrid_miLAN',\r\n",
        "'londON_StockhOlm',\r\n",
        "'Budapest_PaRis', 'Brussels_londOn'],\r\n",
        "'FlightNumber': [10045, np.nan, 10065, np.nan, 10085],\r\n",
        "'RecentDelays': [[23, 47], [], [24, 43, 87], [13], [67, 32]],\r\n",
        "'Airline': ['KLM(!)', '<Air France> (12)', '(British Airways. )',\r\n",
        "'12. Air France', '\"Swiss Air\"']})"
      ]
    },
    {
      "cell_type": "markdown",
      "metadata": {
        "id": "IJrFelxtzXQw"
      },
      "source": [
        "## Question 1\r\n",
        "\r\n",
        "1. Some values in the the FlightNumber column are missing. These numbers are\r\n",
        "meant to increase by 10 with each row so 10055 and 10075 need to be put in\r\n",
        "place. Fill in these missing numbers and make the column an integer column\r\n",
        "(instead of a float column)"
      ]
    }
  ]
}