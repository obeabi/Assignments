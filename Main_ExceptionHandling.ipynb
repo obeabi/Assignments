{
  "nbformat": 4,
  "nbformat_minor": 0,
  "metadata": {
    "colab": {
      "name": "Main_ExceptionHandling.ipynb",
      "provenance": [],
      "toc_visible": true,
      "authorship_tag": "ABX9TyNLUgJoGcCXlJHa9+rSG/7Y",
      "include_colab_link": true
    },
    "kernelspec": {
      "name": "python3",
      "display_name": "Python 3"
    }
  },
  "cells": [
    {
      "cell_type": "markdown",
      "metadata": {
        "id": "view-in-github",
        "colab_type": "text"
      },
      "source": [
        "<a href=\"https://colab.research.google.com/github/obeabi/Assignments/blob/master/Main_ExceptionHandling.ipynb\" target=\"_parent\"><img src=\"https://colab.research.google.com/assets/colab-badge.svg\" alt=\"Open In Colab\"/></a>"
      ]
    },
    {
      "cell_type": "markdown",
      "metadata": {
        "id": "RJzu0qYVLav0"
      },
      "source": [
        "# Exception handling Assignment\r\n",
        "# Written by Abiola Obembe\r\n",
        "## Date: 2020-12-15\r\n",
        "Course: ML masters with deployment and deep learning"
      ]
    },
    {
      "cell_type": "markdown",
      "metadata": {
        "id": "GqTEkiRALoOu"
      },
      "source": [
        "## Question 1\r\n",
        "\r\n",
        "Write a function to compute 5/0 and use try/except to catch the exceptions."
      ]
    },
    {
      "cell_type": "code",
      "metadata": {
        "id": "sv9rKjlzLuch"
      },
      "source": [
        "# Write function here\r\n",
        "def compute_div(a=5):\r\n",
        "  try:\r\n",
        "    y =  a/0\r\n",
        "    print(y) \r\n",
        "  except Exception as e:\r\n",
        "    print(\"There is an error\",e)\r\n",
        "  else:\r\n",
        "    print('Computation successful!')\r\n",
        "  finally:\r\n",
        "    print(\"Function excecuted!\")\r\n"
      ],
      "execution_count": 54,
      "outputs": []
    },
    {
      "cell_type": "code",
      "metadata": {
        "id": "4pIANNpEJI0m",
        "outputId": "cc2b0388-8c5b-4b57-9803-c103295979cf",
        "colab": {
          "base_uri": "https://localhost:8080/"
        }
      },
      "source": [
        "# test function\r\n",
        "compute_div()"
      ],
      "execution_count": 55,
      "outputs": [
        {
          "output_type": "stream",
          "text": [
            "There is an error division by zero\n",
            "Function excecuted!\n"
          ],
          "name": "stdout"
        }
      ]
    },
    {
      "cell_type": "markdown",
      "metadata": {
        "id": "TM4nOeB3NTeR"
      },
      "source": [
        "## Question 2\r\n",
        "Implement a Python program to generate all sentences where subject is in\r\n",
        "[\"Americans\", \"Indians\"] and verb is in [\"Play\", \"watch\"] and the object is in\r\n",
        "[\"Baseball\",\"cricket\"].\r\n",
        "\r\n"
      ]
    },
    {
      "cell_type": "code",
      "metadata": {
        "id": "CZPuA0VONsc5",
        "outputId": "31424c7e-40b3-4135-e00c-0e4273ff61c3",
        "colab": {
          "base_uri": "https://localhost:8080/"
        }
      },
      "source": [
        "# program here\r\n",
        "list_subject = [\"Americans\", \"Indians\"]\r\n",
        "list_verb = [\"Play\", \"watch\"]\r\n",
        "list_object = [\"Baseball\", \"cricket\"]\r\n",
        "\r\n",
        "for subject in list_subject:\r\n",
        "    for verb in list_verb:\r\n",
        "        for objects in list_object:\r\n",
        "          try:\r\n",
        "              print(subject, '' + verb, '' + objects  )\r\n",
        "          except Exception as e:\r\n",
        "            print(\"There is an errror in the print statement\", e)"
      ],
      "execution_count": 56,
      "outputs": [
        {
          "output_type": "stream",
          "text": [
            "Americans Play Baseball\n",
            "Americans Play cricket\n",
            "Americans watch Baseball\n",
            "Americans watch cricket\n",
            "Indians Play Baseball\n",
            "Indians Play cricket\n",
            "Indians watch Baseball\n",
            "Indians watch cricket\n"
          ],
          "name": "stdout"
        }
      ]
    }
  ]
}