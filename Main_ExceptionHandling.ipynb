{
  "nbformat": 4,
  "nbformat_minor": 0,
  "metadata": {
    "colab": {
      "name": "Main_ExceptionHandling.ipynb",
      "provenance": [],
      "authorship_tag": "ABX9TyPfd3ecWoz0CqfKoE0UznYl",
      "include_colab_link": true
    },
    "kernelspec": {
      "name": "python3",
      "display_name": "Python 3"
    }
  },
  "cells": [
    {
      "cell_type": "markdown",
      "metadata": {
        "id": "view-in-github",
        "colab_type": "text"
      },
      "source": [
        "<a href=\"https://colab.research.google.com/github/obeabi/Assignments/blob/master/Main_ExceptionHandling.ipynb\" target=\"_parent\"><img src=\"https://colab.research.google.com/assets/colab-badge.svg\" alt=\"Open In Colab\"/></a>"
      ]
    },
    {
      "cell_type": "markdown",
      "metadata": {
        "id": "RJzu0qYVLav0"
      },
      "source": [
        "# Exception handling Assignment\r\n",
        "# Written by Abiola Obembe\r\n",
        "## Date: 2020-12-15\r\n",
        "Course: ML masters with deployment and deep learning"
      ]
    },
    {
      "cell_type": "markdown",
      "metadata": {
        "id": "GqTEkiRALoOu"
      },
      "source": [
        "## Question 1\r\n",
        "\r\n",
        "Write a function to compute 5/0 and use try/except to catch the exceptions."
      ]
    },
    {
      "cell_type": "code",
      "metadata": {
        "id": "sv9rKjlzLuch"
      },
      "source": [
        "def compute_div():\r\n",
        "  try:\r\n",
        "    y =  5/0\r\n",
        "    print(y)\r\n",
        "  except Exception as e:\r\n",
        "    print(\"There is an error\",e)\r\n",
        "  finally:\r\n",
        "    print(\"Function excecuted!\")"
      ],
      "execution_count": 7,
      "outputs": []
    },
    {
      "cell_type": "markdown",
      "metadata": {
        "id": "TM4nOeB3NTeR"
      },
      "source": [
        "## Question 2\r\n",
        "Implement a Python program to generate all sentences where subject is in\r\n",
        "[\"Americans\", \"Indians\"] and verb is in [\"Play\", \"watch\"] and the object is in\r\n",
        "[\"Baseball\",\"cricket\"].\r\n",
        "\r\n"
      ]
    },
    {
      "cell_type": "code",
      "metadata": {
        "id": "CZPuA0VONsc5"
      },
      "source": [
        ""
      ],
      "execution_count": null,
      "outputs": []
    },
    {
      "cell_type": "code",
      "metadata": {
        "colab": {
          "base_uri": "https://localhost:8080/"
        },
        "id": "9lGbIaySMVOA",
        "outputId": "62bdcd5d-ee59-479d-97dd-535e12bd85d5"
      },
      "source": [
        "print(compute_div)"
      ],
      "execution_count": 8,
      "outputs": [
        {
          "output_type": "stream",
          "text": [
            "<function compute_div at 0x7f7166331c80>\n"
          ],
          "name": "stdout"
        }
      ]
    }
  ]
}