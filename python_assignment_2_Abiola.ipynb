{
  "nbformat": 4,
  "nbformat_minor": 0,
  "metadata": {
    "colab": {
      "name": "python assignment 2_Abiola.ipynb",
      "provenance": [],
      "authorship_tag": "ABX9TyP90D7RgvL2w/DNgXrE+HYz",
      "include_colab_link": true
    },
    "kernelspec": {
      "name": "python3",
      "display_name": "Python 3"
    }
  },
  "cells": [
    {
      "cell_type": "markdown",
      "metadata": {
        "id": "view-in-github",
        "colab_type": "text"
      },
      "source": [
        "<a href=\"https://colab.research.google.com/github/obeabi/Assignments/blob/master/python_assignment_2_Abiola.ipynb\" target=\"_parent\"><img src=\"https://colab.research.google.com/assets/colab-badge.svg\" alt=\"Open In Colab\"/></a>"
      ]
    },
    {
      "cell_type": "markdown",
      "metadata": {
        "id": "OXnF6lp_pP4n"
      },
      "source": [
        "# Pyhton Assignment 2\n",
        "## Written by Abiola Obembe\n",
        "### Date: 2020-10-17\n",
        "### Course: ML masters with deployment and deep learning\n",
        "### ---------------------------------------------------------------------------------------------------------------------------------------------------------------------------------------------------------------------------------------------\n",
        "### ----------  Assignment starts here -------------------------------------------------"
      ]
    },
    {
      "cell_type": "markdown",
      "metadata": {
        "id": "yk9srrMfqxYE"
      },
      "source": [
        "## Question 1\n",
        "\n",
        "Create the below pattern using nested for loop in Python.\n",
        "\n",
        "###*\n",
        "###**\n",
        "###***\n",
        "###****\n",
        "###*****\n",
        "###****\n",
        "###***\n",
        "###**\n",
        "###*"
      ]
    },
    {
      "cell_type": "code",
      "metadata": {
        "id": "J7Vd5bjkpTU3",
        "outputId": "d5ff9c26-0eeb-435a-e8c6-40eedcb280d4",
        "colab": {
          "base_uri": "https://localhost:8080/",
          "height": 185
        }
      },
      "source": [
        "\n",
        "l = 6\n",
        "for i in range(l):\n",
        "  print(i*'*')\n",
        "for j in range(l-2,0,-1):\n",
        "  print(j*'*')\n",
        "  "
      ],
      "execution_count": 11,
      "outputs": [
        {
          "output_type": "stream",
          "text": [
            "\n",
            "*\n",
            "**\n",
            "***\n",
            "****\n",
            "*****\n",
            "****\n",
            "***\n",
            "**\n",
            "*\n"
          ],
          "name": "stdout"
        }
      ]
    },
    {
      "cell_type": "markdown",
      "metadata": {
        "id": "OBn1A7Z1rVc0"
      },
      "source": [
        "## Question 2\n",
        "Write a Python program to reverse a word after accepting the input from the user.\n",
        "\n",
        "Sample Output\n",
        "\n",
        "Input word: ineuron\n",
        "\n",
        "Output: norueni"
      ]
    },
    {
      "cell_type": "code",
      "metadata": {
        "id": "_Y0sKWRbrZeX",
        "outputId": "2e170836-3db3-456e-bbde-6350e99fb898",
        "colab": {
          "base_uri": "https://localhost:8080/",
          "height": 50
        }
      },
      "source": [
        "input = input()\n",
        "output = input[::-1]\n",
        "print(output)"
      ],
      "execution_count": 3,
      "outputs": [
        {
          "output_type": "stream",
          "text": [
            "ineuron\n",
            "norueni\n"
          ],
          "name": "stdout"
        }
      ]
    }
  ]
}