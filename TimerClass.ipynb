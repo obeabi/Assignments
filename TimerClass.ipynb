{
  "nbformat": 4,
  "nbformat_minor": 0,
  "metadata": {
    "colab": {
      "provenance": [],
      "authorship_tag": "ABX9TyP/uDUBZSVjvEFsqJTo7ijz",
      "include_colab_link": true
    },
    "kernelspec": {
      "name": "python3",
      "display_name": "Python 3"
    },
    "language_info": {
      "name": "python"
    }
  },
  "cells": [
    {
      "cell_type": "markdown",
      "metadata": {
        "id": "view-in-github",
        "colab_type": "text"
      },
      "source": [
        "<a href=\"https://colab.research.google.com/github/obeabi/Assignments/blob/master/TimerClass.ipynb\" target=\"_parent\"><img src=\"https://colab.research.google.com/assets/colab-badge.svg\" alt=\"Open In Colab\"/></a>"
      ]
    },
    {
      "cell_type": "markdown",
      "source": [
        "# Scenario\n",
        "\n",
        "We need a class able to count seconds. Easy? Not as much as you may think as we're going to have some specific expectations.\n",
        "\n",
        "Read them carefully as the class you're about write will be used to launch rockets carrying international missions to Mars. It's a great responsibility. We're counting on you!\n",
        "\n",
        "Your class will be called Timer. Its constructor accepts three arguments representing hours (a value from range [0..23] - we will be using the military time), minutes (from range [0..59]) and seconds (from range [0..59]).\n",
        "\n",
        "Zero is the default value for all of the above parameters. There is no need to perform any validation checks.\n",
        "\n",
        "The class itself should provide the following facilities:\n",
        "\n",
        "1. objects of the class should be \"printable\", i.e. they should be able to implicitly convert themselves into strings of the following form: \"hh:mm:ss\", with leading zeros added when any of the values is less than 10;\n",
        "\n",
        "2. the class should be equipped with parameterless methods called next_second() and previous_second(), incrementing the time stored inside objects by +1/-1 second respectively.\n",
        "\n",
        "## Use the following hints:\n",
        "\n",
        "* all object's properties should be private;\n",
        "\n",
        "\n",
        "\n"
      ],
      "metadata": {
        "id": "Oa_1bOTwYKJM"
      }
    },
    {
      "cell_type": "code",
      "execution_count": 1,
      "metadata": {
        "id": "tWsCM6diYHLG"
      },
      "outputs": [],
      "source": [
        "class Timer:\n",
        "    def __init__( self, hours = 0, minutes= 0,seconds= 0 ):\n",
        "        #\n",
        "        # Write code here\n",
        "        self.__hours   = hours\n",
        "        self.__minutes = minutes\n",
        "        self.__seconds = seconds\n",
        "\n",
        "\n",
        "\n",
        "    def __str__(self):\n",
        "        #\n",
        "        # Write code here\n",
        "        output = str(self.__hours).zfill(2) + ':' \\\n",
        "                 + str(self.__minutes).zfill(2) \\\n",
        "                 + ':' + str(self.__seconds).zfill(2)\n",
        "        return output\n",
        "\n",
        "    def next_second(self):\n",
        "        #\n",
        "        # Write code here\n",
        "        if self.__seconds == 59:\n",
        "           self.__seconds = 0\n",
        "           if self.__minutes == 59:\n",
        "             self.__minutes = 0\n",
        "           if self.__hours == 23:\n",
        "            self.__hours = 0\n",
        "        else:\n",
        "          self.__seconds += 1\n",
        "\n",
        "\n",
        "    def prev_second(self):\n",
        "        #\n",
        "        # Write code here\n",
        "        if self.__seconds == 0:\n",
        "          self.__seconds = 59\n",
        "          if self.__minutes == 0:\n",
        "            self.__minutes = 59\n",
        "          if self.__hours == 0:\n",
        "            self.__hours = 23\n",
        "        else:\n",
        "          self.__seconds -= 1\n",
        "\n"
      ]
    },
    {
      "cell_type": "code",
      "source": [
        "try:\n",
        "  if __name__ == '__main__':\n",
        "    timer = Timer(23,59,59)\n",
        "    print(timer)\n",
        "    timer.next_second()\n",
        "    print()\n",
        "    print(timer)\n",
        "    timer.prev_second()\n",
        "    print()\n",
        "    print(timer)\n",
        "except Exception as E:\n",
        "  print(e)\n",
        "finally:\n",
        "  print(\"\\nPython has now successfully parsed your script\")"
      ],
      "metadata": {
        "colab": {
          "base_uri": "https://localhost:8080/"
        },
        "id": "iJ6FWRR-Y8i_",
        "outputId": "5cc6ee97-fc2d-426d-83bf-6536286b6e8e"
      },
      "execution_count": 4,
      "outputs": [
        {
          "output_type": "stream",
          "name": "stdout",
          "text": [
            "23:59:59\n",
            "\n",
            "00:00:00\n",
            "\n",
            "23:59:59\n",
            "\n",
            "Python has now successfully parsed your script\n"
          ]
        }
      ]
    },
    {
      "cell_type": "code",
      "source": [],
      "metadata": {
        "id": "kf_OrkhBZC_E"
      },
      "execution_count": null,
      "outputs": []
    }
  ]
}