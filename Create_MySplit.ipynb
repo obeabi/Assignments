{
  "nbformat": 4,
  "nbformat_minor": 0,
  "metadata": {
    "colab": {
      "provenance": [],
      "authorship_tag": "ABX9TyOSxnCLkz5npEU4OzRQ730C",
      "include_colab_link": true
    },
    "kernelspec": {
      "name": "python3",
      "display_name": "Python 3"
    },
    "language_info": {
      "name": "python"
    }
  },
  "cells": [
    {
      "cell_type": "markdown",
      "metadata": {
        "id": "view-in-github",
        "colab_type": "text"
      },
      "source": [
        "<a href=\"https://colab.research.google.com/github/obeabi/Assignments/blob/master/Create_MySplit.ipynb\" target=\"_parent\"><img src=\"https://colab.research.google.com/assets/colab-badge.svg\" alt=\"Open In Colab\"/></a>"
      ]
    },
    {
      "cell_type": "markdown",
      "source": [
        "# Scenario\n",
        "\n",
        "You already know how split() works. Now we want you to prove it.\n",
        "\n",
        "Your task is to write your own function, which behaves almost exactly like the original split() method, i.e.:\n",
        "\n",
        "1. it should accept exactly one argument - a string;\n",
        "2. it should return a list of words created from the string, divided in the     places where the string contains whitespaces;\n",
        "3. if the string is empty, the function should return an empty list;\n",
        "4. its name should be mysplit()\n"
      ],
      "metadata": {
        "id": "ZbM2bLR-vqDC"
      }
    },
    {
      "cell_type": "code",
      "source": [
        "def mysplit(strng):\n",
        "    '''\n",
        "      This function splits a string by whitespaces and returns a list of elements\n",
        "    '''\n",
        "    l =[]\n",
        "    start = 0\n",
        "    strng = strng.strip()\n",
        "    if len(strng)>= 1:\n",
        "        fnd = strng.find(' ')\n",
        "        while fnd != -1:\n",
        "            \n",
        "            l.append(strng[start:fnd].strip())\n",
        "            start, fnd = fnd, strng.find( ' ', fnd+1)\n",
        "        else:\n",
        "            l.append(strng[start:].strip())\n",
        "            \n",
        "        return l\n",
        "    else:\n",
        "        return \n",
        "        \n",
        "if __name__ == '__main__':\n",
        "  print(mysplit(\"To be or not to be, that is the question\"))\n",
        "  print(mysplit(\"To be or not to be,that is the question\"))\n",
        "  print(mysplit(\"   \"))\n",
        "  print(mysplit(\" abc \"))\n",
        "  print(mysplit(\"\"))\n"
      ],
      "metadata": {
        "colab": {
          "base_uri": "https://localhost:8080/"
        },
        "id": "PYjmLIPBwMrR",
        "outputId": "3b954e7a-3615-4206-bb60-f5a5ae842cb6"
      },
      "execution_count": 1,
      "outputs": [
        {
          "output_type": "stream",
          "name": "stdout",
          "text": [
            "['To', 'be', 'or', 'not', 'to', 'be,', 'that', 'is', 'the', 'question']\n",
            "['To', 'be', 'or', 'not', 'to', 'be,that', 'is', 'the', 'question']\n",
            "None\n",
            "['abc']\n",
            "None\n"
          ]
        }
      ]
    }
  ]
}