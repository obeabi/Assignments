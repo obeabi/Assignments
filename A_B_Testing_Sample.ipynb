{
  "nbformat": 4,
  "nbformat_minor": 0,
  "metadata": {
    "colab": {
      "name": "A_B_Testing_Sample.ipynb",
      "provenance": [],
      "authorship_tag": "ABX9TyNHy88m8US6mUGK2I++d+QH",
      "include_colab_link": true
    },
    "kernelspec": {
      "name": "python3",
      "display_name": "Python 3"
    },
    "language_info": {
      "name": "python"
    }
  },
  "cells": [
    {
      "cell_type": "markdown",
      "metadata": {
        "id": "view-in-github",
        "colab_type": "text"
      },
      "source": [
        "<a href=\"https://colab.research.google.com/github/obeabi/Assignments/blob/master/A_B_Testing_Sample.ipynb\" target=\"_parent\"><img src=\"https://colab.research.google.com/assets/colab-badge.svg\" alt=\"Open In Colab\"/></a>"
      ]
    },
    {
      "cell_type": "markdown",
      "metadata": {
        "id": "UOa31ey0QjwU"
      },
      "source": [
        "# Written by Abiola Obembe\n",
        "## Case study on CTR for two advertisement campaigns\n",
        "## Objective:  A-B Testing \n",
        "## Date: 2021-03-18\n",
        "\n",
        "### Problem Description\n",
        "In this blog, I would try my best to work through AB testing by examining the advertisment dataset which provides data on the result of two marketing campaigns (A & B) to establish if one campaign was more succesfully than the other based on the customer's action. The action is classified as either 0 or 1 where if: \n",
        "\n",
        "0  customer saw the advert and did not click\n",
        "1 customer saw the advert and clicked\n",
        "\n"
      ]
    },
    {
      "cell_type": "code",
      "metadata": {
        "colab": {
          "base_uri": "https://localhost:8080/"
        },
        "id": "CBxAb14VQkkq",
        "outputId": "fbd5629f-3f5e-481b-ca21-035bcbcb0858"
      },
      "source": [
        "# Load libraries\n",
        "import numpy as np\n",
        "import pandas as pd\n",
        "import seaborn as sns\n",
        "import matplotlib.pyplot as plt\n",
        "from scipy.stats import norm, t, ttest_1samp, ttest_ind\n",
        "from statsmodels.stats.weightstats import ztest\n",
        "\n",
        "print('libraries installed successfully!')"
      ],
      "execution_count": 56,
      "outputs": [
        {
          "output_type": "stream",
          "text": [
            "libraries installed successfully!\n"
          ],
          "name": "stdout"
        }
      ]
    },
    {
      "cell_type": "code",
      "metadata": {
        "colab": {
          "base_uri": "https://localhost:8080/",
          "height": 195
        },
        "id": "M25XhO8xPTR0",
        "outputId": "c240e8fe-f694-474e-a802-a8cf9f514142"
      },
      "source": [
        "# Load dataset\n",
        "df = pd.read_csv('advertisement_clicks.csv')\n",
        "df.head()\n"
      ],
      "execution_count": 39,
      "outputs": [
        {
          "output_type": "execute_result",
          "data": {
            "text/html": [
              "<div>\n",
              "<style scoped>\n",
              "    .dataframe tbody tr th:only-of-type {\n",
              "        vertical-align: middle;\n",
              "    }\n",
              "\n",
              "    .dataframe tbody tr th {\n",
              "        vertical-align: top;\n",
              "    }\n",
              "\n",
              "    .dataframe thead th {\n",
              "        text-align: right;\n",
              "    }\n",
              "</style>\n",
              "<table border=\"1\" class=\"dataframe\">\n",
              "  <thead>\n",
              "    <tr style=\"text-align: right;\">\n",
              "      <th></th>\n",
              "      <th>advertisement_id</th>\n",
              "      <th>action</th>\n",
              "    </tr>\n",
              "  </thead>\n",
              "  <tbody>\n",
              "    <tr>\n",
              "      <th>0</th>\n",
              "      <td>B</td>\n",
              "      <td>1</td>\n",
              "    </tr>\n",
              "    <tr>\n",
              "      <th>1</th>\n",
              "      <td>B</td>\n",
              "      <td>1</td>\n",
              "    </tr>\n",
              "    <tr>\n",
              "      <th>2</th>\n",
              "      <td>A</td>\n",
              "      <td>0</td>\n",
              "    </tr>\n",
              "    <tr>\n",
              "      <th>3</th>\n",
              "      <td>B</td>\n",
              "      <td>0</td>\n",
              "    </tr>\n",
              "    <tr>\n",
              "      <th>4</th>\n",
              "      <td>A</td>\n",
              "      <td>1</td>\n",
              "    </tr>\n",
              "  </tbody>\n",
              "</table>\n",
              "</div>"
            ],
            "text/plain": [
              "  advertisement_id  action\n",
              "0                B       1\n",
              "1                B       1\n",
              "2                A       0\n",
              "3                B       0\n",
              "4                A       1"
            ]
          },
          "metadata": {
            "tags": []
          },
          "execution_count": 39
        }
      ]
    },
    {
      "cell_type": "code",
      "metadata": {
        "colab": {
          "base_uri": "https://localhost:8080/"
        },
        "id": "w9GDfHOEP1sY",
        "outputId": "441d6748-edf1-44d5-9c56-232ea7d9942d"
      },
      "source": [
        "# Check for missing values\n",
        "df.isna().sum()"
      ],
      "execution_count": 40,
      "outputs": [
        {
          "output_type": "execute_result",
          "data": {
            "text/plain": [
              "advertisement_id    0\n",
              "action              0\n",
              "dtype: int64"
            ]
          },
          "metadata": {
            "tags": []
          },
          "execution_count": 40
        }
      ]
    },
    {
      "cell_type": "code",
      "metadata": {
        "colab": {
          "base_uri": "https://localhost:8080/",
          "height": 136
        },
        "id": "FwZAa0OBP8_o",
        "outputId": "670ebf79-91d2-4a41-9aeb-a67d91793ae6"
      },
      "source": [
        "# Group BY advertisment I_D and aggregrate by the mean\n",
        "df.groupby(['advertisement_id']).mean()"
      ],
      "execution_count": 41,
      "outputs": [
        {
          "output_type": "execute_result",
          "data": {
            "text/html": [
              "<div>\n",
              "<style scoped>\n",
              "    .dataframe tbody tr th:only-of-type {\n",
              "        vertical-align: middle;\n",
              "    }\n",
              "\n",
              "    .dataframe tbody tr th {\n",
              "        vertical-align: top;\n",
              "    }\n",
              "\n",
              "    .dataframe thead th {\n",
              "        text-align: right;\n",
              "    }\n",
              "</style>\n",
              "<table border=\"1\" class=\"dataframe\">\n",
              "  <thead>\n",
              "    <tr style=\"text-align: right;\">\n",
              "      <th></th>\n",
              "      <th>action</th>\n",
              "    </tr>\n",
              "    <tr>\n",
              "      <th>advertisement_id</th>\n",
              "      <th></th>\n",
              "    </tr>\n",
              "  </thead>\n",
              "  <tbody>\n",
              "    <tr>\n",
              "      <th>A</th>\n",
              "      <td>0.304</td>\n",
              "    </tr>\n",
              "    <tr>\n",
              "      <th>B</th>\n",
              "      <td>0.372</td>\n",
              "    </tr>\n",
              "  </tbody>\n",
              "</table>\n",
              "</div>"
            ],
            "text/plain": [
              "                  action\n",
              "advertisement_id        \n",
              "A                  0.304\n",
              "B                  0.372"
            ]
          },
          "metadata": {
            "tags": []
          },
          "execution_count": 41
        }
      ]
    },
    {
      "cell_type": "code",
      "metadata": {
        "colab": {
          "base_uri": "https://localhost:8080/",
          "height": 136
        },
        "id": "UZCH3KUbbhfw",
        "outputId": "22c20ed1-5c08-4879-939a-4f16eb9c5e21"
      },
      "source": [
        "# We could also choose to group by the advertisment I_D but aggregrate by sum\n",
        "df.groupby(['advertisement_id']).sum()"
      ],
      "execution_count": 42,
      "outputs": [
        {
          "output_type": "execute_result",
          "data": {
            "text/html": [
              "<div>\n",
              "<style scoped>\n",
              "    .dataframe tbody tr th:only-of-type {\n",
              "        vertical-align: middle;\n",
              "    }\n",
              "\n",
              "    .dataframe tbody tr th {\n",
              "        vertical-align: top;\n",
              "    }\n",
              "\n",
              "    .dataframe thead th {\n",
              "        text-align: right;\n",
              "    }\n",
              "</style>\n",
              "<table border=\"1\" class=\"dataframe\">\n",
              "  <thead>\n",
              "    <tr style=\"text-align: right;\">\n",
              "      <th></th>\n",
              "      <th>action</th>\n",
              "    </tr>\n",
              "    <tr>\n",
              "      <th>advertisement_id</th>\n",
              "      <th></th>\n",
              "    </tr>\n",
              "  </thead>\n",
              "  <tbody>\n",
              "    <tr>\n",
              "      <th>A</th>\n",
              "      <td>304</td>\n",
              "    </tr>\n",
              "    <tr>\n",
              "      <th>B</th>\n",
              "      <td>372</td>\n",
              "    </tr>\n",
              "  </tbody>\n",
              "</table>\n",
              "</div>"
            ],
            "text/plain": [
              "                  action\n",
              "advertisement_id        \n",
              "A                    304\n",
              "B                    372"
            ]
          },
          "metadata": {
            "tags": []
          },
          "execution_count": 42
        }
      ]
    },
    {
      "cell_type": "markdown",
      "metadata": {
        "id": "Q9E87UcRRLMB"
      },
      "source": [
        "We observe that both the mean and total number of clicks from advertisment B is larger than that from advertisment A. Thus one may be quick to infer that campaign B is more successfull than that of campaign A- I hope we all did not fall for this conclusion!\n",
        "\n",
        "Other important factors that need to be consirdered before making a business decision include  the varaince and the number of samples taken. Specifically, is the sample size (n) a true reflection of my population (N)? These type of questions are addressed through A-B testing.\n",
        "\n",
        "A-B testing is a statistical approach that provides us a strong basis of making a business decison (i.e. we a recomemnding A or B beacuse there is a statistical significance). Additionally, the strong basis implies we set a significance threshold (i.e. 1% or 5% depending on the business problem) that meet the business requirements.\n",
        "\n",
        "For this use case, we have a 2-sample test (A vs. B) and we may want to perform a 1-sided test to establish if adverstiment id B is more successful that advertisment id A. Similarly, we maydecide to perform a 2-sided experiment to establish if the diffrence in the number of clicks for advertistment id A is statistically different from that of adverstisment id B.\n",
        "\n",
        "It is important to note that performing a A-B testing provides us with a tool to either reject a null hypothesis (H0) or fail to reject our null hypothesis. You should never accept an alternative hypothesis (H1).We simply conclude that we don't have enough evidence to reject the null hypothesis.\n",
        "\n",
        "Therefore to adress this problem we set our significance level  what is my null hypothesis (H0) and what is my alternative hypothesis (H1).\n",
        "\n",
        "\n",
        "\n",
        "*   H0 : mean of A = mean of B\n",
        "*   H1 : mean of A ~= mean of B (2-sided test)\n",
        "*   H1 : mean of B > mean of A (1-sided test)\n",
        "*   H1 : mean of B < mean of A (1-sided test)\n",
        "\n",
        "\n"
      ]
    },
    {
      "cell_type": "code",
      "metadata": {
        "colab": {
          "base_uri": "https://localhost:8080/"
        },
        "id": "01EalcM_QfzL",
        "outputId": "1966a8db-1779-4765-a777-7df24aa805ad"
      },
      "source": [
        "# Obtain the different advertisement dataset\n",
        "df_A = df[df.advertisement_id == \"A\"].reset_index(drop = True)\n",
        "df_B = df[df.advertisement_id == \"B\"].reset_index(drop = True)\n",
        "\n",
        "# Let's print the number of samples in A and B respectively\n",
        "print(\"The number of samples for campaign A is :\",df_A.shape[0])\n",
        "print(\"The number of samples for campaign B is :\",df_B.shape[0])"
      ],
      "execution_count": 43,
      "outputs": [
        {
          "output_type": "stream",
          "text": [
            "The number of samples for campaign A is : 1000\n",
            "The number of samples for campaign B is : 1000\n"
          ],
          "name": "stdout"
        }
      ]
    },
    {
      "cell_type": "code",
      "metadata": {
        "colab": {
          "base_uri": "https://localhost:8080/",
          "height": 195
        },
        "id": "EU8aP6A-XiD4",
        "outputId": "75f15961-9b92-4399-d92e-0dd7abeae24a"
      },
      "source": [
        "# Let's inspect dataframe for campaign A\n",
        "df_A.head()"
      ],
      "execution_count": 44,
      "outputs": [
        {
          "output_type": "execute_result",
          "data": {
            "text/html": [
              "<div>\n",
              "<style scoped>\n",
              "    .dataframe tbody tr th:only-of-type {\n",
              "        vertical-align: middle;\n",
              "    }\n",
              "\n",
              "    .dataframe tbody tr th {\n",
              "        vertical-align: top;\n",
              "    }\n",
              "\n",
              "    .dataframe thead th {\n",
              "        text-align: right;\n",
              "    }\n",
              "</style>\n",
              "<table border=\"1\" class=\"dataframe\">\n",
              "  <thead>\n",
              "    <tr style=\"text-align: right;\">\n",
              "      <th></th>\n",
              "      <th>advertisement_id</th>\n",
              "      <th>action</th>\n",
              "    </tr>\n",
              "  </thead>\n",
              "  <tbody>\n",
              "    <tr>\n",
              "      <th>0</th>\n",
              "      <td>A</td>\n",
              "      <td>0</td>\n",
              "    </tr>\n",
              "    <tr>\n",
              "      <th>1</th>\n",
              "      <td>A</td>\n",
              "      <td>1</td>\n",
              "    </tr>\n",
              "    <tr>\n",
              "      <th>2</th>\n",
              "      <td>A</td>\n",
              "      <td>0</td>\n",
              "    </tr>\n",
              "    <tr>\n",
              "      <th>3</th>\n",
              "      <td>A</td>\n",
              "      <td>1</td>\n",
              "    </tr>\n",
              "    <tr>\n",
              "      <th>4</th>\n",
              "      <td>A</td>\n",
              "      <td>0</td>\n",
              "    </tr>\n",
              "  </tbody>\n",
              "</table>\n",
              "</div>"
            ],
            "text/plain": [
              "  advertisement_id  action\n",
              "0                A       0\n",
              "1                A       1\n",
              "2                A       0\n",
              "3                A       1\n",
              "4                A       0"
            ]
          },
          "metadata": {
            "tags": []
          },
          "execution_count": 44
        }
      ]
    },
    {
      "cell_type": "code",
      "metadata": {
        "colab": {
          "base_uri": "https://localhost:8080/",
          "height": 195
        },
        "id": "5KHC0FBnYYck",
        "outputId": "68a4d0c3-59b6-4dd6-e26f-d0d855ede69d"
      },
      "source": [
        "# Let's inspect dataframe for campaign B\n",
        "df_B.head()"
      ],
      "execution_count": 45,
      "outputs": [
        {
          "output_type": "execute_result",
          "data": {
            "text/html": [
              "<div>\n",
              "<style scoped>\n",
              "    .dataframe tbody tr th:only-of-type {\n",
              "        vertical-align: middle;\n",
              "    }\n",
              "\n",
              "    .dataframe tbody tr th {\n",
              "        vertical-align: top;\n",
              "    }\n",
              "\n",
              "    .dataframe thead th {\n",
              "        text-align: right;\n",
              "    }\n",
              "</style>\n",
              "<table border=\"1\" class=\"dataframe\">\n",
              "  <thead>\n",
              "    <tr style=\"text-align: right;\">\n",
              "      <th></th>\n",
              "      <th>advertisement_id</th>\n",
              "      <th>action</th>\n",
              "    </tr>\n",
              "  </thead>\n",
              "  <tbody>\n",
              "    <tr>\n",
              "      <th>0</th>\n",
              "      <td>B</td>\n",
              "      <td>1</td>\n",
              "    </tr>\n",
              "    <tr>\n",
              "      <th>1</th>\n",
              "      <td>B</td>\n",
              "      <td>1</td>\n",
              "    </tr>\n",
              "    <tr>\n",
              "      <th>2</th>\n",
              "      <td>B</td>\n",
              "      <td>0</td>\n",
              "    </tr>\n",
              "    <tr>\n",
              "      <th>3</th>\n",
              "      <td>B</td>\n",
              "      <td>0</td>\n",
              "    </tr>\n",
              "    <tr>\n",
              "      <th>4</th>\n",
              "      <td>B</td>\n",
              "      <td>0</td>\n",
              "    </tr>\n",
              "  </tbody>\n",
              "</table>\n",
              "</div>"
            ],
            "text/plain": [
              "  advertisement_id  action\n",
              "0                B       1\n",
              "1                B       1\n",
              "2                B       0\n",
              "3                B       0\n",
              "4                B       0"
            ]
          },
          "metadata": {
            "tags": []
          },
          "execution_count": 45
        }
      ]
    },
    {
      "cell_type": "code",
      "metadata": {
        "colab": {
          "base_uri": "https://localhost:8080/"
        },
        "id": "PuQu3IIVY8mz",
        "outputId": "3e21c289-f02c-48d5-b8de-a4f5a524d59f"
      },
      "source": [
        "# Let's convert our dataframe to a numpy array since this would be our input to the scipy/statsmodel module\n",
        "x_a = df_A.action.to_numpy()\n",
        "x_b = df_B.action.to_numpy()\n",
        "\n",
        "# Inpsect new data types\n",
        "\n",
        "print(type(x_a))\n",
        "print(type(x_b))"
      ],
      "execution_count": 46,
      "outputs": [
        {
          "output_type": "stream",
          "text": [
            "<class 'numpy.ndarray'>\n",
            "<class 'numpy.ndarray'>\n"
          ],
          "name": "stdout"
        }
      ]
    },
    {
      "cell_type": "code",
      "metadata": {
        "colab": {
          "base_uri": "https://localhost:8080/",
          "height": 267
        },
        "id": "uIhq_4ryekge",
        "outputId": "ddb411e1-872d-419a-c063-1a7dd83e88de"
      },
      "source": [
        "# Let's check if the datastet for campaign A and B are normally distributed\n",
        "sns.kdeplot(x_a, label= 'Campaign A')\n",
        "sns.kdeplot(x_b, label = 'Campaign B')\n",
        "plt.legend()\n",
        "plt.show()"
      ],
      "execution_count": 51,
      "outputs": [
        {
          "output_type": "display_data",
          "data": {
            "image/png": "[encoded data removed]",
            "text/plain": [
              "<Figure size 432x288 with 1 Axes>"
            ]
          },
          "metadata": {
            "tags": [],
            "needs_background": "light"
          }
        }
      ]
    },
    {
      "cell_type": "markdown",
      "metadata": {
        "id": "tokm7ug3p5kW"
      },
      "source": [
        "We observe the dataset is bi-modal but normally distributed at 0 and 1 respectively"
      ]
    },
    {
      "cell_type": "markdown",
      "metadata": {
        "id": "rIH6EQ5VuWrx"
      },
      "source": [
        "## Two-Tail Test"
      ]
    },
    {
      "cell_type": "code",
      "metadata": {
        "colab": {
          "base_uri": "https://localhost:8080/"
        },
        "id": "uym_z5Y2qCIO",
        "outputId": "19b55ad2-fb6f-407a-c575-800afc7de2a1"
      },
      "source": [
        "# Let's calculate the p value using statsmodel\n",
        "p_value_sm = ztest(x_a, x_b)\n",
        "print(p_value_sm)\n",
        "print(\"The p-value in terms of percentage is :\", str(p_value_sm[1]*100)+\"%\")"
      ],
      "execution_count": 55,
      "outputs": [
        {
          "output_type": "stream",
          "text": [
            "(-3.2211732138019786, 0.0012766696301529544)\n",
            "The p-value in terms of percentage is : 0.12766696301529543%\n"
          ],
          "name": "stdout"
        }
      ]
    },
    {
      "cell_type": "code",
      "metadata": {
        "colab": {
          "base_uri": "https://localhost:8080/"
        },
        "id": "OZdiSV-KtEku",
        "outputId": "8bf54b71-ccc9-4eff-ed93-cb1790cd520c"
      },
      "source": [
        "# Let's calculate the p value using scipy\n",
        "p_value_sc = ttest_ind(x_a, x_b)\n",
        "print(p_value_sc)\n",
        "print(\"The p-value in terms of percentage is :\", str(p_value_sc[1]*100)+\"%\")"
      ],
      "execution_count": 57,
      "outputs": [
        {
          "output_type": "stream",
          "text": [
            "Ttest_indResult(statistic=-3.2211732138019786, pvalue=0.0012971905467125246)\n",
            "The p-value in terms of percentage is : 0.12971905467125247%\n"
          ],
          "name": "stdout"
        }
      ]
    },
    {
      "cell_type": "markdown",
      "metadata": {
        "id": "EO_xbzkkq8MS"
      },
      "source": [
        "Clearly since the p_value is less than our threshold (5%) we have enough evidence to reject the null hypothesis and conclude that the difference in clicks between both campaigns is statistically significant. "
      ]
    }
  ]
}