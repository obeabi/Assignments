{
  "nbformat": 4,
  "nbformat_minor": 0,
  "metadata": {
    "colab": {
      "name": "Visualization.ipynb",
      "provenance": [],
      "authorship_tag": "ABX9TyNIR4DktrSDecjN4pHowi9I",
      "include_colab_link": true
    },
    "kernelspec": {
      "name": "python3",
      "display_name": "Python 3"
    }
  },
  "cells": [
    {
      "cell_type": "markdown",
      "metadata": {
        "id": "view-in-github",
        "colab_type": "text"
      },
      "source": [
        "<a href=\"https://colab.research.google.com/github/obeabi/Assignments/blob/master/Visualization_TalentBurst.ipynb\" target=\"_parent\"><img src=\"https://colab.research.google.com/assets/colab-badge.svg\" alt=\"Open In Colab\"/></a>"
      ]
    },
    {
      "cell_type": "code",
      "metadata": {
        "colab": {
          "base_uri": "https://localhost:8080/"
        },
        "id": "DpzXZwiXiCb8",
        "outputId": "d45ef72a-ee4a-4073-ba9d-45d813f66b7a"
      },
      "source": [
        "# Importing the libraries\r\n",
        "import numpy as np\r\n",
        "import matplotlib.pyplot as plt\r\n",
        "import pandas as pd\r\n",
        "import seaborn as sns\r\n",
        "\r\n",
        "import warnings\r\n",
        "warnings.filterwarnings(\"ignore\", category= FutureWarning)\r\n",
        "warnings.filterwarnings(\"ignore\", category = DeprecationWarning)\r\n",
        "\r\n",
        "%matplotlib inline\r\n",
        "plt.rcParams['figure.figsize'] = (10.0, 8.0) # set default size of plots\r\n",
        "plt.rcParams['image.interpolation'] = 'nearest'\r\n",
        "plt.rcParams['image.cmap'] = 'gray'\r\n",
        "\r\n",
        "print('Libraries installed successfully!')\r\n",
        "\r\n",
        "np.random.seed(0)"
      ],
      "execution_count": 101,
      "outputs": [
        {
          "output_type": "stream",
          "text": [
            "Libraries installed successfully!\n"
          ],
          "name": "stdout"
        }
      ]
    },
    {
      "cell_type": "code",
      "metadata": {
        "colab": {
          "base_uri": "https://localhost:8080/",
          "height": 318
        },
        "id": "as4CoakNiYJO",
        "outputId": "a3a37ce3-4c49-48b8-9304-fe7dbdc37341"
      },
      "source": [
        "\r\n",
        "# Importing the channel dataset\r\n",
        "\r\n",
        "channel_data = pd.read_csv('Channel_data.csv', engine= 'python', encoding= 'latin1',nrows=8)\r\n",
        "\r\n",
        "channel_data.head(10)"
      ],
      "execution_count": 102,
      "outputs": [
        {
          "output_type": "execute_result",
          "data": {
            "text/html": [
              "<div>\n",
              "<style scoped>\n",
              "    .dataframe tbody tr th:only-of-type {\n",
              "        vertical-align: middle;\n",
              "    }\n",
              "\n",
              "    .dataframe tbody tr th {\n",
              "        vertical-align: top;\n",
              "    }\n",
              "\n",
              "    .dataframe thead th {\n",
              "        text-align: right;\n",
              "    }\n",
              "</style>\n",
              "<table border=\"1\" class=\"dataframe\">\n",
              "  <thead>\n",
              "    <tr style=\"text-align: right;\">\n",
              "      <th></th>\n",
              "      <th>Default Channel Grouping</th>\n",
              "      <th>Users</th>\n",
              "      <th>New Users</th>\n",
              "      <th>Sessions</th>\n",
              "      <th>Bounce Rate</th>\n",
              "      <th>Pages / Session</th>\n",
              "      <th>Avg. Session Duration</th>\n",
              "      <th>Purchase Completed (Goal 1 Conversion Rate)</th>\n",
              "      <th>Purchase Completed (Goal 1 Completions)</th>\n",
              "      <th>Purchase Completed (Goal 1 Value)</th>\n",
              "    </tr>\n",
              "  </thead>\n",
              "  <tbody>\n",
              "    <tr>\n",
              "      <th>0</th>\n",
              "      <td>Organic Search</td>\n",
              "      <td>83,027</td>\n",
              "      <td>76,644</td>\n",
              "      <td>100,845</td>\n",
              "      <td>53.43%</td>\n",
              "      <td>3.59</td>\n",
              "      <td>0:02:22</td>\n",
              "      <td>0.13%</td>\n",
              "      <td>136</td>\n",
              "      <td>$0.00</td>\n",
              "    </tr>\n",
              "    <tr>\n",
              "      <th>1</th>\n",
              "      <td>Direct</td>\n",
              "      <td>23,405</td>\n",
              "      <td>22,890</td>\n",
              "      <td>29,027</td>\n",
              "      <td>36.16%</td>\n",
              "      <td>4.86</td>\n",
              "      <td>0:03:21</td>\n",
              "      <td>0.20%</td>\n",
              "      <td>59</td>\n",
              "      <td>$0.00</td>\n",
              "    </tr>\n",
              "    <tr>\n",
              "      <th>2</th>\n",
              "      <td>Paid Search</td>\n",
              "      <td>2,283</td>\n",
              "      <td>1,690</td>\n",
              "      <td>3,049</td>\n",
              "      <td>30.86%</td>\n",
              "      <td>6.03</td>\n",
              "      <td>0:03:40</td>\n",
              "      <td>0.30%</td>\n",
              "      <td>9</td>\n",
              "      <td>$0.00</td>\n",
              "    </tr>\n",
              "    <tr>\n",
              "      <th>3</th>\n",
              "      <td>Other</td>\n",
              "      <td>3,932</td>\n",
              "      <td>2,825</td>\n",
              "      <td>4,595</td>\n",
              "      <td>32.38%</td>\n",
              "      <td>4.70</td>\n",
              "      <td>0:02:50</td>\n",
              "      <td>0.17%</td>\n",
              "      <td>8</td>\n",
              "      <td>$0.00</td>\n",
              "    </tr>\n",
              "    <tr>\n",
              "      <th>4</th>\n",
              "      <td>Social</td>\n",
              "      <td>5,091</td>\n",
              "      <td>4,840</td>\n",
              "      <td>5,459</td>\n",
              "      <td>58.20%</td>\n",
              "      <td>3.42</td>\n",
              "      <td>0:01:25</td>\n",
              "      <td>0.05%</td>\n",
              "      <td>3</td>\n",
              "      <td>$0.00</td>\n",
              "    </tr>\n",
              "    <tr>\n",
              "      <th>5</th>\n",
              "      <td>Referral</td>\n",
              "      <td>18,041</td>\n",
              "      <td>14,133</td>\n",
              "      <td>25,885</td>\n",
              "      <td>32.10%</td>\n",
              "      <td>6.06</td>\n",
              "      <td>0:04:03</td>\n",
              "      <td>&lt;0.01%</td>\n",
              "      <td>2</td>\n",
              "      <td>$0.00</td>\n",
              "    </tr>\n",
              "    <tr>\n",
              "      <th>6</th>\n",
              "      <td>Affiliates</td>\n",
              "      <td>4,463</td>\n",
              "      <td>4,071</td>\n",
              "      <td>5,190</td>\n",
              "      <td>60.33%</td>\n",
              "      <td>2.38</td>\n",
              "      <td>0:02:12</td>\n",
              "      <td>0.00%</td>\n",
              "      <td>0</td>\n",
              "      <td>$0.00</td>\n",
              "    </tr>\n",
              "    <tr>\n",
              "      <th>7</th>\n",
              "      <td>Display</td>\n",
              "      <td>2,099</td>\n",
              "      <td>1,871</td>\n",
              "      <td>2,359</td>\n",
              "      <td>76.64%</td>\n",
              "      <td>2.13</td>\n",
              "      <td>0:00:43</td>\n",
              "      <td>0.00%</td>\n",
              "      <td>0</td>\n",
              "      <td>$0.00</td>\n",
              "    </tr>\n",
              "  </tbody>\n",
              "</table>\n",
              "</div>"
            ],
            "text/plain": [
              "  Default Channel Grouping  ... Purchase Completed (Goal 1 Value)\n",
              "0           Organic Search  ...                             $0.00\n",
              "1                   Direct  ...                             $0.00\n",
              "2              Paid Search  ...                             $0.00\n",
              "3                    Other  ...                             $0.00\n",
              "4                   Social  ...                             $0.00\n",
              "5                 Referral  ...                             $0.00\n",
              "6               Affiliates  ...                             $0.00\n",
              "7                  Display  ...                             $0.00\n",
              "\n",
              "[8 rows x 10 columns]"
            ]
          },
          "metadata": {
            "tags": []
          },
          "execution_count": 102
        }
      ]
    },
    {
      "cell_type": "code",
      "metadata": {
        "colab": {
          "base_uri": "https://localhost:8080/"
        },
        "id": "-uBc_O2tkayi",
        "outputId": "455b9fe0-1617-4fe6-cf7d-fb7503379a4f"
      },
      "source": [
        "channel_data.dtypes"
      ],
      "execution_count": 103,
      "outputs": [
        {
          "output_type": "execute_result",
          "data": {
            "text/plain": [
              "Default Channel Grouping                        object\n",
              "Users                                           object\n",
              "New Users                                       object\n",
              "Sessions                                        object\n",
              "Bounce Rate                                     object\n",
              "Pages / Session                                float64\n",
              "Avg. Session Duration                           object\n",
              "Purchase Completed (Goal 1 Conversion Rate)     object\n",
              "Purchase Completed (Goal 1 Completions)          int64\n",
              "Purchase Completed (Goal 1 Value)               object\n",
              "dtype: object"
            ]
          },
          "metadata": {
            "tags": []
          },
          "execution_count": 103
        }
      ]
    },
    {
      "cell_type": "code",
      "metadata": {
        "colab": {
          "base_uri": "https://localhost:8080/",
          "height": 229
        },
        "id": "aUQuZIeNkwcp",
        "outputId": "bb40225c-84e2-4dcd-e171-042a13e6354d"
      },
      "source": [
        "channel_data.columns = [col.replace(',', '') for col in channel_data.columns]\r\n",
        "\r\n",
        "channel_data.head()"
      ],
      "execution_count": 104,
      "outputs": [
        {
          "output_type": "execute_result",
          "data": {
            "text/html": [
              "<div>\n",
              "<style scoped>\n",
              "    .dataframe tbody tr th:only-of-type {\n",
              "        vertical-align: middle;\n",
              "    }\n",
              "\n",
              "    .dataframe tbody tr th {\n",
              "        vertical-align: top;\n",
              "    }\n",
              "\n",
              "    .dataframe thead th {\n",
              "        text-align: right;\n",
              "    }\n",
              "</style>\n",
              "<table border=\"1\" class=\"dataframe\">\n",
              "  <thead>\n",
              "    <tr style=\"text-align: right;\">\n",
              "      <th></th>\n",
              "      <th>Default Channel Grouping</th>\n",
              "      <th>Users</th>\n",
              "      <th>New Users</th>\n",
              "      <th>Sessions</th>\n",
              "      <th>Bounce Rate</th>\n",
              "      <th>Pages / Session</th>\n",
              "      <th>Avg. Session Duration</th>\n",
              "      <th>Purchase Completed (Goal 1 Conversion Rate)</th>\n",
              "      <th>Purchase Completed (Goal 1 Completions)</th>\n",
              "      <th>Purchase Completed (Goal 1 Value)</th>\n",
              "    </tr>\n",
              "  </thead>\n",
              "  <tbody>\n",
              "    <tr>\n",
              "      <th>0</th>\n",
              "      <td>Organic Search</td>\n",
              "      <td>83,027</td>\n",
              "      <td>76,644</td>\n",
              "      <td>100,845</td>\n",
              "      <td>53.43%</td>\n",
              "      <td>3.59</td>\n",
              "      <td>0:02:22</td>\n",
              "      <td>0.13%</td>\n",
              "      <td>136</td>\n",
              "      <td>$0.00</td>\n",
              "    </tr>\n",
              "    <tr>\n",
              "      <th>1</th>\n",
              "      <td>Direct</td>\n",
              "      <td>23,405</td>\n",
              "      <td>22,890</td>\n",
              "      <td>29,027</td>\n",
              "      <td>36.16%</td>\n",
              "      <td>4.86</td>\n",
              "      <td>0:03:21</td>\n",
              "      <td>0.20%</td>\n",
              "      <td>59</td>\n",
              "      <td>$0.00</td>\n",
              "    </tr>\n",
              "    <tr>\n",
              "      <th>2</th>\n",
              "      <td>Paid Search</td>\n",
              "      <td>2,283</td>\n",
              "      <td>1,690</td>\n",
              "      <td>3,049</td>\n",
              "      <td>30.86%</td>\n",
              "      <td>6.03</td>\n",
              "      <td>0:03:40</td>\n",
              "      <td>0.30%</td>\n",
              "      <td>9</td>\n",
              "      <td>$0.00</td>\n",
              "    </tr>\n",
              "    <tr>\n",
              "      <th>3</th>\n",
              "      <td>Other</td>\n",
              "      <td>3,932</td>\n",
              "      <td>2,825</td>\n",
              "      <td>4,595</td>\n",
              "      <td>32.38%</td>\n",
              "      <td>4.70</td>\n",
              "      <td>0:02:50</td>\n",
              "      <td>0.17%</td>\n",
              "      <td>8</td>\n",
              "      <td>$0.00</td>\n",
              "    </tr>\n",
              "    <tr>\n",
              "      <th>4</th>\n",
              "      <td>Social</td>\n",
              "      <td>5,091</td>\n",
              "      <td>4,840</td>\n",
              "      <td>5,459</td>\n",
              "      <td>58.20%</td>\n",
              "      <td>3.42</td>\n",
              "      <td>0:01:25</td>\n",
              "      <td>0.05%</td>\n",
              "      <td>3</td>\n",
              "      <td>$0.00</td>\n",
              "    </tr>\n",
              "  </tbody>\n",
              "</table>\n",
              "</div>"
            ],
            "text/plain": [
              "  Default Channel Grouping  ... Purchase Completed (Goal 1 Value)\n",
              "0           Organic Search  ...                             $0.00\n",
              "1                   Direct  ...                             $0.00\n",
              "2              Paid Search  ...                             $0.00\n",
              "3                    Other  ...                             $0.00\n",
              "4                   Social  ...                             $0.00\n",
              "\n",
              "[5 rows x 10 columns]"
            ]
          },
          "metadata": {
            "tags": []
          },
          "execution_count": 104
        }
      ]
    },
    {
      "cell_type": "code",
      "metadata": {
        "id": "MxtDCuOYjkgW"
      },
      "source": [
        "# all the string surgery goes in here\r\n",
        "# if you want to operate on multiple columns, put them in a list like so:\r\n",
        "cols = ['Users', 'New Users','Sessions', 'Purchase Completed (Goal 1 Value)']\r\n",
        "\r\n",
        "# pass them to df.replace(), specifying each char and it's replacement:\r\n",
        "channel_data[cols] = channel_data[cols].replace({'\\$': '', ',' : ''}, regex=True)\r\n",
        "channel_data[cols] = channel_data[cols].astype(float)"
      ],
      "execution_count": 105,
      "outputs": []
    },
    {
      "cell_type": "code",
      "metadata": {
        "colab": {
          "base_uri": "https://localhost:8080/",
          "height": 318
        },
        "id": "WMXjLhY5mjpH",
        "outputId": "8e5129c7-6b9c-4f4a-8b05-2c7cb39ec9f9"
      },
      "source": [
        "channel_data.head(10)"
      ],
      "execution_count": 106,
      "outputs": [
        {
          "output_type": "execute_result",
          "data": {
            "text/html": [
              "<div>\n",
              "<style scoped>\n",
              "    .dataframe tbody tr th:only-of-type {\n",
              "        vertical-align: middle;\n",
              "    }\n",
              "\n",
              "    .dataframe tbody tr th {\n",
              "        vertical-align: top;\n",
              "    }\n",
              "\n",
              "    .dataframe thead th {\n",
              "        text-align: right;\n",
              "    }\n",
              "</style>\n",
              "<table border=\"1\" class=\"dataframe\">\n",
              "  <thead>\n",
              "    <tr style=\"text-align: right;\">\n",
              "      <th></th>\n",
              "      <th>Default Channel Grouping</th>\n",
              "      <th>Users</th>\n",
              "      <th>New Users</th>\n",
              "      <th>Sessions</th>\n",
              "      <th>Bounce Rate</th>\n",
              "      <th>Pages / Session</th>\n",
              "      <th>Avg. Session Duration</th>\n",
              "      <th>Purchase Completed (Goal 1 Conversion Rate)</th>\n",
              "      <th>Purchase Completed (Goal 1 Completions)</th>\n",
              "      <th>Purchase Completed (Goal 1 Value)</th>\n",
              "    </tr>\n",
              "  </thead>\n",
              "  <tbody>\n",
              "    <tr>\n",
              "      <th>0</th>\n",
              "      <td>Organic Search</td>\n",
              "      <td>83027.0</td>\n",
              "      <td>76644.0</td>\n",
              "      <td>100845.0</td>\n",
              "      <td>53.43%</td>\n",
              "      <td>3.59</td>\n",
              "      <td>0:02:22</td>\n",
              "      <td>0.13%</td>\n",
              "      <td>136</td>\n",
              "      <td>0.0</td>\n",
              "    </tr>\n",
              "    <tr>\n",
              "      <th>1</th>\n",
              "      <td>Direct</td>\n",
              "      <td>23405.0</td>\n",
              "      <td>22890.0</td>\n",
              "      <td>29027.0</td>\n",
              "      <td>36.16%</td>\n",
              "      <td>4.86</td>\n",
              "      <td>0:03:21</td>\n",
              "      <td>0.20%</td>\n",
              "      <td>59</td>\n",
              "      <td>0.0</td>\n",
              "    </tr>\n",
              "    <tr>\n",
              "      <th>2</th>\n",
              "      <td>Paid Search</td>\n",
              "      <td>2283.0</td>\n",
              "      <td>1690.0</td>\n",
              "      <td>3049.0</td>\n",
              "      <td>30.86%</td>\n",
              "      <td>6.03</td>\n",
              "      <td>0:03:40</td>\n",
              "      <td>0.30%</td>\n",
              "      <td>9</td>\n",
              "      <td>0.0</td>\n",
              "    </tr>\n",
              "    <tr>\n",
              "      <th>3</th>\n",
              "      <td>Other</td>\n",
              "      <td>3932.0</td>\n",
              "      <td>2825.0</td>\n",
              "      <td>4595.0</td>\n",
              "      <td>32.38%</td>\n",
              "      <td>4.70</td>\n",
              "      <td>0:02:50</td>\n",
              "      <td>0.17%</td>\n",
              "      <td>8</td>\n",
              "      <td>0.0</td>\n",
              "    </tr>\n",
              "    <tr>\n",
              "      <th>4</th>\n",
              "      <td>Social</td>\n",
              "      <td>5091.0</td>\n",
              "      <td>4840.0</td>\n",
              "      <td>5459.0</td>\n",
              "      <td>58.20%</td>\n",
              "      <td>3.42</td>\n",
              "      <td>0:01:25</td>\n",
              "      <td>0.05%</td>\n",
              "      <td>3</td>\n",
              "      <td>0.0</td>\n",
              "    </tr>\n",
              "    <tr>\n",
              "      <th>5</th>\n",
              "      <td>Referral</td>\n",
              "      <td>18041.0</td>\n",
              "      <td>14133.0</td>\n",
              "      <td>25885.0</td>\n",
              "      <td>32.10%</td>\n",
              "      <td>6.06</td>\n",
              "      <td>0:04:03</td>\n",
              "      <td>&lt;0.01%</td>\n",
              "      <td>2</td>\n",
              "      <td>0.0</td>\n",
              "    </tr>\n",
              "    <tr>\n",
              "      <th>6</th>\n",
              "      <td>Affiliates</td>\n",
              "      <td>4463.0</td>\n",
              "      <td>4071.0</td>\n",
              "      <td>5190.0</td>\n",
              "      <td>60.33%</td>\n",
              "      <td>2.38</td>\n",
              "      <td>0:02:12</td>\n",
              "      <td>0.00%</td>\n",
              "      <td>0</td>\n",
              "      <td>0.0</td>\n",
              "    </tr>\n",
              "    <tr>\n",
              "      <th>7</th>\n",
              "      <td>Display</td>\n",
              "      <td>2099.0</td>\n",
              "      <td>1871.0</td>\n",
              "      <td>2359.0</td>\n",
              "      <td>76.64%</td>\n",
              "      <td>2.13</td>\n",
              "      <td>0:00:43</td>\n",
              "      <td>0.00%</td>\n",
              "      <td>0</td>\n",
              "      <td>0.0</td>\n",
              "    </tr>\n",
              "  </tbody>\n",
              "</table>\n",
              "</div>"
            ],
            "text/plain": [
              "  Default Channel Grouping  ...  Purchase Completed (Goal 1 Value)\n",
              "0           Organic Search  ...                                0.0\n",
              "1                   Direct  ...                                0.0\n",
              "2              Paid Search  ...                                0.0\n",
              "3                    Other  ...                                0.0\n",
              "4                   Social  ...                                0.0\n",
              "5                 Referral  ...                                0.0\n",
              "6               Affiliates  ...                                0.0\n",
              "7                  Display  ...                                0.0\n",
              "\n",
              "[8 rows x 10 columns]"
            ]
          },
          "metadata": {
            "tags": []
          },
          "execution_count": 106
        }
      ]
    },
    {
      "cell_type": "code",
      "metadata": {
        "colab": {
          "base_uri": "https://localhost:8080/",
          "height": 579
        },
        "id": "2T-g_v8Li5U0",
        "outputId": "2f592ad9-ed2a-4b52-fce0-497e393292c4"
      },
      "source": [
        "# Plot default grouping by Total Users\r\n",
        "channel_data.plot(x= 'Default Channel Grouping', y = 'Users', kind = 'bar')\r\n",
        "plt.xlabel('Default Channel Grouping')\r\n",
        "plt.ylabel('Users')\r\n",
        "plt.title('Users Distribution by Default Channel Grouping')\r\n",
        "plt.show()"
      ],
      "execution_count": 107,
      "outputs": [
        {
          "output_type": "display_data",
          "data": {
            "image/png": "[encoded data removed]",
            "text/plain": [
              "<Figure size 720x576 with 1 Axes>"
            ]
          },
          "metadata": {
            "tags": [],
            "needs_background": "light"
          }
        }
      ]
    },
    {
      "cell_type": "code",
      "metadata": {
        "colab": {
          "base_uri": "https://localhost:8080/",
          "height": 513
        },
        "id": "7QYmfDnSqbQW",
        "outputId": "25b363dd-69ce-4d9d-dd82-fd481a683b98"
      },
      "source": [
        "# plot vertical barplot for users by default grouping channel\r\n",
        "ax = sns.barplot(x= 'Default Channel Grouping', y= 'Users', data=channel_data)\r\n",
        "ax.set(title= 'Users Distribution by Default Channel Grouping') # title barplot\r\n",
        "\r\n",
        "\r\n",
        "# label each bar in barplot\r\n",
        "for p in ax.patches:\r\n",
        " # get the height of each bar\r\n",
        " height = p.get_height()\r\n",
        " # adding text to each bar\r\n",
        " ax.text(x = p.get_x()+(p.get_width()/2), y = height+100, s = '{:.0f}'.format(height), ha = 'center') \r\n",
        " "
      ],
      "execution_count": 108,
      "outputs": [
        {
          "output_type": "display_data",
          "data": {
            "image/png": "[encoded data removed]",
            "text/plain": [
              "<Figure size 720x576 with 1 Axes>"
            ]
          },
          "metadata": {
            "tags": [],
            "needs_background": "light"
          }
        }
      ]
    },
    {
      "cell_type": "code",
      "metadata": {
        "colab": {
          "base_uri": "https://localhost:8080/",
          "height": 513
        },
        "id": "cx2pwWzJqBpA",
        "outputId": "ac4a2d6b-41ae-4432-d34b-a5d546f2d19d"
      },
      "source": [
        "# Plot default grouping by Purchase Completed\r\n",
        "\r\n",
        "# plot vertical barplot\r\n",
        "ax = sns.barplot(x= 'Default Channel Grouping', y=  'Purchase Completed (Goal 1 Completions)', data=channel_data)\r\n",
        "ax.set(title= 'Purchase Completed (Goal 1 Completions) Distribution by Default Channel Grouping') # title barplot\r\n",
        "\r\n",
        "\r\n",
        "# label each bar in barplot\r\n",
        "for p in ax.patches:\r\n",
        " # get the height of each bar\r\n",
        " height = p.get_height()\r\n",
        " # adding text to each bar\r\n",
        " ax.text(x = p.get_x()+(p.get_width()/2), y = height+2, s = '{:.0f}'.format(height), ha = 'center') "
      ],
      "execution_count": 109,
      "outputs": [
        {
          "output_type": "display_data",
          "data": {
            "image/png": "[encoded data removed]",
            "text/plain": [
              "<Figure size 720x576 with 1 Axes>"
            ]
          },
          "metadata": {
            "tags": [],
            "needs_background": "light"
          }
        }
      ]
    },
    {
      "cell_type": "code",
      "metadata": {
        "colab": {
          "base_uri": "https://localhost:8080/",
          "height": 229
        },
        "id": "uCj64V3RwmWF",
        "outputId": "5111d9ff-31bf-40ee-cb21-6612b96fce83"
      },
      "source": [
        "# Importing the source and medium dataset\r\n",
        "\r\n",
        "sm_data = pd.read_csv('SourceMedium.csv', engine= 'python', encoding= 'latin1',nrows=5)\r\n",
        "\r\n",
        "sm_data.head(10)"
      ],
      "execution_count": 110,
      "outputs": [
        {
          "output_type": "execute_result",
          "data": {
            "text/html": [
              "<div>\n",
              "<style scoped>\n",
              "    .dataframe tbody tr th:only-of-type {\n",
              "        vertical-align: middle;\n",
              "    }\n",
              "\n",
              "    .dataframe tbody tr th {\n",
              "        vertical-align: top;\n",
              "    }\n",
              "\n",
              "    .dataframe thead th {\n",
              "        text-align: right;\n",
              "    }\n",
              "</style>\n",
              "<table border=\"1\" class=\"dataframe\">\n",
              "  <thead>\n",
              "    <tr style=\"text-align: right;\">\n",
              "      <th></th>\n",
              "      <th>Source / Medium</th>\n",
              "      <th>Users</th>\n",
              "      <th>New Users</th>\n",
              "      <th>Sessions</th>\n",
              "      <th>Bounce Rate</th>\n",
              "      <th>Pages / Session</th>\n",
              "      <th>Avg. Session Duration</th>\n",
              "      <th>Ecommerce Conversion Rate</th>\n",
              "      <th>Transactions</th>\n",
              "      <th>Revenue</th>\n",
              "    </tr>\n",
              "  </thead>\n",
              "  <tbody>\n",
              "    <tr>\n",
              "      <th>0</th>\n",
              "      <td>google / organic</td>\n",
              "      <td>78,500</td>\n",
              "      <td>72,248</td>\n",
              "      <td>96,043</td>\n",
              "      <td>52.34%</td>\n",
              "      <td>3.68</td>\n",
              "      <td>0:02:26</td>\n",
              "      <td>0.14%</td>\n",
              "      <td>131</td>\n",
              "      <td>$7,288.59</td>\n",
              "    </tr>\n",
              "    <tr>\n",
              "      <th>1</th>\n",
              "      <td>(direct) / (none)</td>\n",
              "      <td>23,405</td>\n",
              "      <td>22,890</td>\n",
              "      <td>29,027</td>\n",
              "      <td>36.16%</td>\n",
              "      <td>4.86</td>\n",
              "      <td>0:03:21</td>\n",
              "      <td>0.20%</td>\n",
              "      <td>57</td>\n",
              "      <td>$3,213.65</td>\n",
              "    </tr>\n",
              "    <tr>\n",
              "      <th>2</th>\n",
              "      <td>(not set) / (not set)</td>\n",
              "      <td>3,930</td>\n",
              "      <td>2,824</td>\n",
              "      <td>4,592</td>\n",
              "      <td>32.40%</td>\n",
              "      <td>4.70</td>\n",
              "      <td>0:02:50</td>\n",
              "      <td>0.17%</td>\n",
              "      <td>8</td>\n",
              "      <td>$648.65</td>\n",
              "    </tr>\n",
              "    <tr>\n",
              "      <th>3</th>\n",
              "      <td>google / cpc</td>\n",
              "      <td>2,283</td>\n",
              "      <td>1,690</td>\n",
              "      <td>3,049</td>\n",
              "      <td>30.86%</td>\n",
              "      <td>6.03</td>\n",
              "      <td>0:03:40</td>\n",
              "      <td>0.30%</td>\n",
              "      <td>9</td>\n",
              "      <td>$489.70</td>\n",
              "    </tr>\n",
              "    <tr>\n",
              "      <th>4</th>\n",
              "      <td>m.facebook.com / referral</td>\n",
              "      <td>248</td>\n",
              "      <td>243</td>\n",
              "      <td>284</td>\n",
              "      <td>57.75%</td>\n",
              "      <td>3.03</td>\n",
              "      <td>0:02:14</td>\n",
              "      <td>0.35%</td>\n",
              "      <td>1</td>\n",
              "      <td>$115.00</td>\n",
              "    </tr>\n",
              "  </tbody>\n",
              "</table>\n",
              "</div>"
            ],
            "text/plain": [
              "             Source / Medium   Users  ... Transactions    Revenue\n",
              "0           google / organic  78,500  ...          131  $7,288.59\n",
              "1          (direct) / (none)  23,405  ...           57  $3,213.65\n",
              "2      (not set) / (not set)   3,930  ...            8    $648.65\n",
              "3               google / cpc   2,283  ...            9    $489.70\n",
              "4  m.facebook.com / referral     248  ...            1    $115.00\n",
              "\n",
              "[5 rows x 10 columns]"
            ]
          },
          "metadata": {
            "tags": []
          },
          "execution_count": 110
        }
      ]
    },
    {
      "cell_type": "code",
      "metadata": {
        "colab": {
          "base_uri": "https://localhost:8080/",
          "height": 229
        },
        "id": "jZHQb-bdw4KK",
        "outputId": "274edd04-ba90-4112-ddae-2c744037fecd"
      },
      "source": [
        "# all the string surgery goes in here\r\n",
        "# if you want to operate on multiple columns, put them in a list like so:\r\n",
        "cols = ['Users', 'New Users','Sessions', 'Revenue', 'Transactions']\r\n",
        "\r\n",
        "# pass them to df.replace(), specifying each char and it's replacement:\r\n",
        "sm_data[cols] = sm_data[cols].replace({'\\$': '', ',' : ''}, regex=True)\r\n",
        "sm_data[cols] = sm_data[cols].astype(float)\r\n",
        "\r\n",
        "# Plot dataset\r\n",
        "sm_data.head()"
      ],
      "execution_count": 111,
      "outputs": [
        {
          "output_type": "execute_result",
          "data": {
            "text/html": [
              "<div>\n",
              "<style scoped>\n",
              "    .dataframe tbody tr th:only-of-type {\n",
              "        vertical-align: middle;\n",
              "    }\n",
              "\n",
              "    .dataframe tbody tr th {\n",
              "        vertical-align: top;\n",
              "    }\n",
              "\n",
              "    .dataframe thead th {\n",
              "        text-align: right;\n",
              "    }\n",
              "</style>\n",
              "<table border=\"1\" class=\"dataframe\">\n",
              "  <thead>\n",
              "    <tr style=\"text-align: right;\">\n",
              "      <th></th>\n",
              "      <th>Source / Medium</th>\n",
              "      <th>Users</th>\n",
              "      <th>New Users</th>\n",
              "      <th>Sessions</th>\n",
              "      <th>Bounce Rate</th>\n",
              "      <th>Pages / Session</th>\n",
              "      <th>Avg. Session Duration</th>\n",
              "      <th>Ecommerce Conversion Rate</th>\n",
              "      <th>Transactions</th>\n",
              "      <th>Revenue</th>\n",
              "    </tr>\n",
              "  </thead>\n",
              "  <tbody>\n",
              "    <tr>\n",
              "      <th>0</th>\n",
              "      <td>google / organic</td>\n",
              "      <td>78500.0</td>\n",
              "      <td>72248.0</td>\n",
              "      <td>96043.0</td>\n",
              "      <td>52.34%</td>\n",
              "      <td>3.68</td>\n",
              "      <td>0:02:26</td>\n",
              "      <td>0.14%</td>\n",
              "      <td>131.0</td>\n",
              "      <td>7288.59</td>\n",
              "    </tr>\n",
              "    <tr>\n",
              "      <th>1</th>\n",
              "      <td>(direct) / (none)</td>\n",
              "      <td>23405.0</td>\n",
              "      <td>22890.0</td>\n",
              "      <td>29027.0</td>\n",
              "      <td>36.16%</td>\n",
              "      <td>4.86</td>\n",
              "      <td>0:03:21</td>\n",
              "      <td>0.20%</td>\n",
              "      <td>57.0</td>\n",
              "      <td>3213.65</td>\n",
              "    </tr>\n",
              "    <tr>\n",
              "      <th>2</th>\n",
              "      <td>(not set) / (not set)</td>\n",
              "      <td>3930.0</td>\n",
              "      <td>2824.0</td>\n",
              "      <td>4592.0</td>\n",
              "      <td>32.40%</td>\n",
              "      <td>4.70</td>\n",
              "      <td>0:02:50</td>\n",
              "      <td>0.17%</td>\n",
              "      <td>8.0</td>\n",
              "      <td>648.65</td>\n",
              "    </tr>\n",
              "    <tr>\n",
              "      <th>3</th>\n",
              "      <td>google / cpc</td>\n",
              "      <td>2283.0</td>\n",
              "      <td>1690.0</td>\n",
              "      <td>3049.0</td>\n",
              "      <td>30.86%</td>\n",
              "      <td>6.03</td>\n",
              "      <td>0:03:40</td>\n",
              "      <td>0.30%</td>\n",
              "      <td>9.0</td>\n",
              "      <td>489.70</td>\n",
              "    </tr>\n",
              "    <tr>\n",
              "      <th>4</th>\n",
              "      <td>m.facebook.com / referral</td>\n",
              "      <td>248.0</td>\n",
              "      <td>243.0</td>\n",
              "      <td>284.0</td>\n",
              "      <td>57.75%</td>\n",
              "      <td>3.03</td>\n",
              "      <td>0:02:14</td>\n",
              "      <td>0.35%</td>\n",
              "      <td>1.0</td>\n",
              "      <td>115.00</td>\n",
              "    </tr>\n",
              "  </tbody>\n",
              "</table>\n",
              "</div>"
            ],
            "text/plain": [
              "             Source / Medium    Users  ...  Transactions  Revenue\n",
              "0           google / organic  78500.0  ...         131.0  7288.59\n",
              "1          (direct) / (none)  23405.0  ...          57.0  3213.65\n",
              "2      (not set) / (not set)   3930.0  ...           8.0   648.65\n",
              "3               google / cpc   2283.0  ...           9.0   489.70\n",
              "4  m.facebook.com / referral    248.0  ...           1.0   115.00\n",
              "\n",
              "[5 rows x 10 columns]"
            ]
          },
          "metadata": {
            "tags": []
          },
          "execution_count": 111
        }
      ]
    },
    {
      "cell_type": "code",
      "metadata": {
        "colab": {
          "base_uri": "https://localhost:8080/"
        },
        "id": "op0eDGPwyay7",
        "outputId": "cf8b3b0b-b77d-445a-9f10-21b92f909075"
      },
      "source": [
        "sm_data.dtypes"
      ],
      "execution_count": 112,
      "outputs": [
        {
          "output_type": "execute_result",
          "data": {
            "text/plain": [
              "Source / Medium               object\n",
              "Users                        float64\n",
              "New Users                    float64\n",
              "Sessions                     float64\n",
              "Bounce Rate                   object\n",
              "Pages / Session              float64\n",
              "Avg. Session Duration         object\n",
              "Ecommerce Conversion Rate     object\n",
              "Transactions                 float64\n",
              "Revenue                      float64\n",
              "dtype: object"
            ]
          },
          "metadata": {
            "tags": []
          },
          "execution_count": 112
        }
      ]
    },
    {
      "cell_type": "code",
      "metadata": {
        "colab": {
          "base_uri": "https://localhost:8080/",
          "height": 513
        },
        "id": "u7L0BGMIyQMW",
        "outputId": "59fc1b50-94ea-4496-a02d-f7cd6be4f830"
      },
      "source": [
        "# plot vertical barplot for users by default grouping channel\r\n",
        "ax = sns.barplot(x= 'Source / Medium', y= 'Transactions', data=sm_data)\r\n",
        "ax.set(title= 'Transactions Distribution by Top performing Source/Medium groupings') # title barplot\r\n",
        "\r\n",
        "\r\n",
        "# label each bar in barplot\r\n",
        "for p in ax.patches:\r\n",
        " # get the height of each bar\r\n",
        " height = p.get_height()\r\n",
        " # adding text to each bar\r\n",
        " ax.text(x = p.get_x()+(p.get_width()/2), y = height+2, s = '{:.0f}'.format(height), ha = 'center') "
      ],
      "execution_count": 120,
      "outputs": [
        {
          "output_type": "display_data",
          "data": {
            "image/png": "[encoded data removed]",
            "text/plain": [
              "<Figure size 720x576 with 1 Axes>"
            ]
          },
          "metadata": {
            "tags": [],
            "needs_background": "light"
          }
        }
      ]
    },
    {
      "cell_type": "code",
      "metadata": {
        "colab": {
          "base_uri": "https://localhost:8080/",
          "height": 513
        },
        "id": "3p2TwqArzNW8",
        "outputId": "a35807dc-bedd-4813-d7e8-6b62ecd1f6da"
      },
      "source": [
        "# plot vertical barplot for users by default grouping channel\r\n",
        "ax = sns.barplot(x= 'Source / Medium', y= 'Revenue', data=sm_data)\r\n",
        "ax.set(title= 'Revenue Distribution by Top performing Source/Medium groupings') # title barplot\r\n",
        "\r\n",
        "\r\n",
        "# label each bar in barplot\r\n",
        "for p in ax.patches:\r\n",
        " # get the height of each bar\r\n",
        " height = p.get_height()\r\n",
        " # adding text to each bar\r\n",
        " ax.text(x = p.get_x()+(p.get_width()/2), y = height+100, s = '{:.0f}'.format(height), ha = 'center') "
      ],
      "execution_count": 121,
      "outputs": [
        {
          "output_type": "display_data",
          "data": {
            "image/png": "[encoded data removed]",
            "text/plain": [
              "<Figure size 720x576 with 1 Axes>"
            ]
          },
          "metadata": {
            "tags": [],
            "needs_background": "light"
          }
        }
      ]
    },
    {
      "cell_type": "code",
      "metadata": {
        "colab": {
          "base_uri": "https://localhost:8080/",
          "height": 195
        },
        "id": "vtbLTElr69ak",
        "outputId": "70ca4c5b-609d-48e0-8f04-8c0c250b2f8f"
      },
      "source": [
        "# Importing the age dataset\r\n",
        "\r\n",
        "age_data = pd.read_csv('Age.csv', engine= 'python', encoding= 'latin1',nrows=5)\r\n",
        "\r\n",
        "age_data.head(10)"
      ],
      "execution_count": 122,
      "outputs": [
        {
          "output_type": "execute_result",
          "data": {
            "text/html": [
              "<div>\n",
              "<style scoped>\n",
              "    .dataframe tbody tr th:only-of-type {\n",
              "        vertical-align: middle;\n",
              "    }\n",
              "\n",
              "    .dataframe tbody tr th {\n",
              "        vertical-align: top;\n",
              "    }\n",
              "\n",
              "    .dataframe thead th {\n",
              "        text-align: right;\n",
              "    }\n",
              "</style>\n",
              "<table border=\"1\" class=\"dataframe\">\n",
              "  <thead>\n",
              "    <tr style=\"text-align: right;\">\n",
              "      <th></th>\n",
              "      <th>Age</th>\n",
              "      <th>Users</th>\n",
              "      <th>New Users</th>\n",
              "      <th>Sessions</th>\n",
              "      <th>Bounce Rate</th>\n",
              "      <th>Pages / Session</th>\n",
              "      <th>Avg. Session Duration</th>\n",
              "      <th>Transactions</th>\n",
              "      <th>Revenue</th>\n",
              "      <th>Ecommerce Conversion Rate</th>\n",
              "    </tr>\n",
              "  </thead>\n",
              "  <tbody>\n",
              "    <tr>\n",
              "      <th>0</th>\n",
              "      <td>25-34</td>\n",
              "      <td>20,085</td>\n",
              "      <td>19,274</td>\n",
              "      <td>26,938</td>\n",
              "      <td>46.87%</td>\n",
              "      <td>4.14</td>\n",
              "      <td>0:02:52</td>\n",
              "      <td>10</td>\n",
              "      <td>$619.05</td>\n",
              "      <td>0.04%</td>\n",
              "    </tr>\n",
              "    <tr>\n",
              "      <th>1</th>\n",
              "      <td>35-44</td>\n",
              "      <td>8,047</td>\n",
              "      <td>7,585</td>\n",
              "      <td>10,864</td>\n",
              "      <td>43.83%</td>\n",
              "      <td>4.42</td>\n",
              "      <td>0:03:07</td>\n",
              "      <td>5</td>\n",
              "      <td>$341.55</td>\n",
              "      <td>0.05%</td>\n",
              "    </tr>\n",
              "    <tr>\n",
              "      <th>2</th>\n",
              "      <td>55-64</td>\n",
              "      <td>2,223</td>\n",
              "      <td>2,108</td>\n",
              "      <td>2,834</td>\n",
              "      <td>46.72%</td>\n",
              "      <td>4.34</td>\n",
              "      <td>0:02:45</td>\n",
              "      <td>3</td>\n",
              "      <td>$267.00</td>\n",
              "      <td>0.11%</td>\n",
              "    </tr>\n",
              "    <tr>\n",
              "      <th>3</th>\n",
              "      <td>65+</td>\n",
              "      <td>1,618</td>\n",
              "      <td>1,538</td>\n",
              "      <td>2,007</td>\n",
              "      <td>47.73%</td>\n",
              "      <td>4.40</td>\n",
              "      <td>0:02:49</td>\n",
              "      <td>3</td>\n",
              "      <td>$143.00</td>\n",
              "      <td>0.15%</td>\n",
              "    </tr>\n",
              "    <tr>\n",
              "      <th>4</th>\n",
              "      <td>45-54</td>\n",
              "      <td>4,009</td>\n",
              "      <td>3,756</td>\n",
              "      <td>5,248</td>\n",
              "      <td>43.39%</td>\n",
              "      <td>4.63</td>\n",
              "      <td>0:03:15</td>\n",
              "      <td>1</td>\n",
              "      <td>$89.00</td>\n",
              "      <td>0.02%</td>\n",
              "    </tr>\n",
              "  </tbody>\n",
              "</table>\n",
              "</div>"
            ],
            "text/plain": [
              "     Age   Users New Users  ... Transactions  Revenue  Ecommerce Conversion Rate\n",
              "0  25-34  20,085    19,274  ...           10  $619.05                      0.04%\n",
              "1  35-44   8,047     7,585  ...            5  $341.55                      0.05%\n",
              "2  55-64   2,223     2,108  ...            3  $267.00                      0.11%\n",
              "3    65+   1,618     1,538  ...            3  $143.00                      0.15%\n",
              "4  45-54   4,009     3,756  ...            1   $89.00                      0.02%\n",
              "\n",
              "[5 rows x 10 columns]"
            ]
          },
          "metadata": {
            "tags": []
          },
          "execution_count": 122
        }
      ]
    },
    {
      "cell_type": "code",
      "metadata": {
        "colab": {
          "base_uri": "https://localhost:8080/",
          "height": 195
        },
        "id": "hmAFXv1W7IAw",
        "outputId": "b5a69695-1aa8-4345-c927-01a8f1726244"
      },
      "source": [
        "# all the string surgery goes in here\r\n",
        "# if you want to operate on multiple columns, put them in a list like so:\r\n",
        "cols = ['Users', 'New Users','Sessions', 'Revenue', 'Transactions']\r\n",
        "\r\n",
        "# pass them to df.replace(), specifying each char and it's replacement:\r\n",
        "age_data[cols] = age_data[cols].replace({'\\$': '', ',' : ''}, regex=True)\r\n",
        "age_data[cols] = age_data[cols].astype(float)\r\n",
        "\r\n",
        "# Plot dataset\r\n",
        "age_data.head()"
      ],
      "execution_count": 123,
      "outputs": [
        {
          "output_type": "execute_result",
          "data": {
            "text/html": [
              "<div>\n",
              "<style scoped>\n",
              "    .dataframe tbody tr th:only-of-type {\n",
              "        vertical-align: middle;\n",
              "    }\n",
              "\n",
              "    .dataframe tbody tr th {\n",
              "        vertical-align: top;\n",
              "    }\n",
              "\n",
              "    .dataframe thead th {\n",
              "        text-align: right;\n",
              "    }\n",
              "</style>\n",
              "<table border=\"1\" class=\"dataframe\">\n",
              "  <thead>\n",
              "    <tr style=\"text-align: right;\">\n",
              "      <th></th>\n",
              "      <th>Age</th>\n",
              "      <th>Users</th>\n",
              "      <th>New Users</th>\n",
              "      <th>Sessions</th>\n",
              "      <th>Bounce Rate</th>\n",
              "      <th>Pages / Session</th>\n",
              "      <th>Avg. Session Duration</th>\n",
              "      <th>Transactions</th>\n",
              "      <th>Revenue</th>\n",
              "      <th>Ecommerce Conversion Rate</th>\n",
              "    </tr>\n",
              "  </thead>\n",
              "  <tbody>\n",
              "    <tr>\n",
              "      <th>0</th>\n",
              "      <td>25-34</td>\n",
              "      <td>20085.0</td>\n",
              "      <td>19274.0</td>\n",
              "      <td>26938.0</td>\n",
              "      <td>46.87%</td>\n",
              "      <td>4.14</td>\n",
              "      <td>0:02:52</td>\n",
              "      <td>10.0</td>\n",
              "      <td>619.05</td>\n",
              "      <td>0.04%</td>\n",
              "    </tr>\n",
              "    <tr>\n",
              "      <th>1</th>\n",
              "      <td>35-44</td>\n",
              "      <td>8047.0</td>\n",
              "      <td>7585.0</td>\n",
              "      <td>10864.0</td>\n",
              "      <td>43.83%</td>\n",
              "      <td>4.42</td>\n",
              "      <td>0:03:07</td>\n",
              "      <td>5.0</td>\n",
              "      <td>341.55</td>\n",
              "      <td>0.05%</td>\n",
              "    </tr>\n",
              "    <tr>\n",
              "      <th>2</th>\n",
              "      <td>55-64</td>\n",
              "      <td>2223.0</td>\n",
              "      <td>2108.0</td>\n",
              "      <td>2834.0</td>\n",
              "      <td>46.72%</td>\n",
              "      <td>4.34</td>\n",
              "      <td>0:02:45</td>\n",
              "      <td>3.0</td>\n",
              "      <td>267.00</td>\n",
              "      <td>0.11%</td>\n",
              "    </tr>\n",
              "    <tr>\n",
              "      <th>3</th>\n",
              "      <td>65+</td>\n",
              "      <td>1618.0</td>\n",
              "      <td>1538.0</td>\n",
              "      <td>2007.0</td>\n",
              "      <td>47.73%</td>\n",
              "      <td>4.40</td>\n",
              "      <td>0:02:49</td>\n",
              "      <td>3.0</td>\n",
              "      <td>143.00</td>\n",
              "      <td>0.15%</td>\n",
              "    </tr>\n",
              "    <tr>\n",
              "      <th>4</th>\n",
              "      <td>45-54</td>\n",
              "      <td>4009.0</td>\n",
              "      <td>3756.0</td>\n",
              "      <td>5248.0</td>\n",
              "      <td>43.39%</td>\n",
              "      <td>4.63</td>\n",
              "      <td>0:03:15</td>\n",
              "      <td>1.0</td>\n",
              "      <td>89.00</td>\n",
              "      <td>0.02%</td>\n",
              "    </tr>\n",
              "  </tbody>\n",
              "</table>\n",
              "</div>"
            ],
            "text/plain": [
              "     Age    Users  New Users  ...  Transactions Revenue  Ecommerce Conversion Rate\n",
              "0  25-34  20085.0    19274.0  ...          10.0  619.05                      0.04%\n",
              "1  35-44   8047.0     7585.0  ...           5.0  341.55                      0.05%\n",
              "2  55-64   2223.0     2108.0  ...           3.0  267.00                      0.11%\n",
              "3    65+   1618.0     1538.0  ...           3.0  143.00                      0.15%\n",
              "4  45-54   4009.0     3756.0  ...           1.0   89.00                      0.02%\n",
              "\n",
              "[5 rows x 10 columns]"
            ]
          },
          "metadata": {
            "tags": []
          },
          "execution_count": 123
        }
      ]
    },
    {
      "cell_type": "code",
      "metadata": {
        "colab": {
          "base_uri": "https://localhost:8080/"
        },
        "id": "9RjHxYoE7W2B",
        "outputId": "1a9eadee-3ddd-4f1c-f9f4-a3b1190fc36c"
      },
      "source": [
        "age_data.dtypes"
      ],
      "execution_count": 124,
      "outputs": [
        {
          "output_type": "execute_result",
          "data": {
            "text/plain": [
              "Age                           object\n",
              "Users                        float64\n",
              "New Users                    float64\n",
              "Sessions                     float64\n",
              "Bounce Rate                   object\n",
              "Pages / Session              float64\n",
              "Avg. Session Duration         object\n",
              "Transactions                 float64\n",
              "Revenue                      float64\n",
              "Ecommerce Conversion Rate     object\n",
              "dtype: object"
            ]
          },
          "metadata": {
            "tags": []
          },
          "execution_count": 124
        }
      ]
    },
    {
      "cell_type": "code",
      "metadata": {
        "colab": {
          "base_uri": "https://localhost:8080/",
          "height": 513
        },
        "id": "9GDnmV6Q7cOr",
        "outputId": "aaebe1f4-206d-4915-f3b6-f86e05ba561f"
      },
      "source": [
        "# plot vertical barplot for users by default grouping channel\r\n",
        "ax = sns.barplot(x= 'Age', y= 'Users', data=age_data)\r\n",
        "ax.set(title= 'Users Distribution by Top spending Age groupings') # title barplot\r\n",
        "\r\n",
        "\r\n",
        "# label each bar in barplot\r\n",
        "for p in ax.patches:\r\n",
        " # get the height of each bar\r\n",
        " height = p.get_height()\r\n",
        " # adding text to each bar\r\n",
        " ax.text(x = p.get_x()+(p.get_width()/2), y = height+0.2, s = '{:.0f}'.format(height), ha = 'center') "
      ],
      "execution_count": 134,
      "outputs": [
        {
          "output_type": "display_data",
          "data": {
            "image/png": "[encoded data removed]",
            "text/plain": [
              "<Figure size 720x576 with 1 Axes>"
            ]
          },
          "metadata": {
            "tags": [],
            "needs_background": "light"
          }
        }
      ]
    },
    {
      "cell_type": "code",
      "metadata": {
        "colab": {
          "base_uri": "https://localhost:8080/",
          "height": 513
        },
        "id": "wYIFMU8r8hlP",
        "outputId": "9b41dc42-f3a9-4683-b3ef-41444a4518fc"
      },
      "source": [
        "# plot vertical barplot for users by default grouping channel\r\n",
        "ax = sns.barplot(x= 'Age', y= 'Revenue', data=age_data)\r\n",
        "ax.set(title= 'Revenue ($) Distribution by Top spending age groupings') # title barplot\r\n",
        "\r\n",
        "\r\n",
        "# label each bar in barplot\r\n",
        "for p in ax.patches:\r\n",
        " # get the height of each bar\r\n",
        " height = p.get_height()\r\n",
        " # adding text to each bar\r\n",
        " ax.text(x = p.get_x()+(p.get_width()/2), y = height+10, s = '{:.0f}'.format(height), ha = 'center')"
      ],
      "execution_count": 132,
      "outputs": [
        {
          "output_type": "display_data",
          "data": {
            "image/png": "[encoded data removed]",
            "text/plain": [
              "<Figure size 720x576 with 1 Axes>"
            ]
          },
          "metadata": {
            "tags": [],
            "needs_background": "light"
          }
        }
      ]
    },
    {
      "cell_type": "code",
      "metadata": {
        "colab": {
          "base_uri": "https://localhost:8080/",
          "height": 106
        },
        "id": "Itkw7q9vAKkl",
        "outputId": "fbabda35-5f27-44f1-b790-8bc755ad5cc1"
      },
      "source": [
        "# Importing the age dataset\r\n",
        "\r\n",
        "gender_data = pd.read_csv('Gender.csv', engine= 'python', encoding= 'latin1',nrows=2)\r\n",
        "\r\n",
        "gender_data.head(10)"
      ],
      "execution_count": 136,
      "outputs": [
        {
          "output_type": "execute_result",
          "data": {
            "text/html": [
              "<div>\n",
              "<style scoped>\n",
              "    .dataframe tbody tr th:only-of-type {\n",
              "        vertical-align: middle;\n",
              "    }\n",
              "\n",
              "    .dataframe tbody tr th {\n",
              "        vertical-align: top;\n",
              "    }\n",
              "\n",
              "    .dataframe thead th {\n",
              "        text-align: right;\n",
              "    }\n",
              "</style>\n",
              "<table border=\"1\" class=\"dataframe\">\n",
              "  <thead>\n",
              "    <tr style=\"text-align: right;\">\n",
              "      <th></th>\n",
              "      <th>Gender</th>\n",
              "      <th>Users</th>\n",
              "      <th>New Users</th>\n",
              "      <th>Sessions</th>\n",
              "      <th>Bounce Rate</th>\n",
              "      <th>Pages / Session</th>\n",
              "      <th>Avg. Session Duration</th>\n",
              "      <th>Transactions</th>\n",
              "      <th>Revenue</th>\n",
              "      <th>Ecommerce Conversion Rate</th>\n",
              "    </tr>\n",
              "  </thead>\n",
              "  <tbody>\n",
              "    <tr>\n",
              "      <th>0</th>\n",
              "      <td>male</td>\n",
              "      <td>31,944</td>\n",
              "      <td>30,740</td>\n",
              "      <td>41,704</td>\n",
              "      <td>46.12%</td>\n",
              "      <td>4.23</td>\n",
              "      <td>0:02:44</td>\n",
              "      <td>16</td>\n",
              "      <td>$775.05</td>\n",
              "      <td>0.04%</td>\n",
              "    </tr>\n",
              "    <tr>\n",
              "      <th>1</th>\n",
              "      <td>female</td>\n",
              "      <td>19,732</td>\n",
              "      <td>18,900</td>\n",
              "      <td>26,742</td>\n",
              "      <td>48.24%</td>\n",
              "      <td>4.03</td>\n",
              "      <td>0:02:58</td>\n",
              "      <td>11</td>\n",
              "      <td>$782.50</td>\n",
              "      <td>0.04%</td>\n",
              "    </tr>\n",
              "  </tbody>\n",
              "</table>\n",
              "</div>"
            ],
            "text/plain": [
              "   Gender   Users New Users  ... Transactions  Revenue  Ecommerce Conversion Rate\n",
              "0    male  31,944    30,740  ...           16  $775.05                      0.04%\n",
              "1  female  19,732    18,900  ...           11  $782.50                      0.04%\n",
              "\n",
              "[2 rows x 10 columns]"
            ]
          },
          "metadata": {
            "tags": []
          },
          "execution_count": 136
        }
      ]
    },
    {
      "cell_type": "code",
      "metadata": {
        "colab": {
          "base_uri": "https://localhost:8080/",
          "height": 106
        },
        "id": "qFWtANNWAYS6",
        "outputId": "ff50e099-3a6a-4664-a744-4d85781a19e8"
      },
      "source": [
        "# all the string surgery goes in here\r\n",
        "# if you want to operate on multiple columns, put them in a list like so:\r\n",
        "cols = ['Users', 'New Users','Sessions', 'Revenue', 'Transactions']\r\n",
        "\r\n",
        "# pass them to df.replace(), specifying each char and it's replacement:\r\n",
        "gender_data[cols] = gender_data[cols].replace({'\\$': '', ',' : ''}, regex=True)\r\n",
        "gender_data[cols] = gender_data[cols].astype(float)\r\n",
        "\r\n",
        "# Plot dataset\r\n",
        "gender_data.head()"
      ],
      "execution_count": 137,
      "outputs": [
        {
          "output_type": "execute_result",
          "data": {
            "text/html": [
              "<div>\n",
              "<style scoped>\n",
              "    .dataframe tbody tr th:only-of-type {\n",
              "        vertical-align: middle;\n",
              "    }\n",
              "\n",
              "    .dataframe tbody tr th {\n",
              "        vertical-align: top;\n",
              "    }\n",
              "\n",
              "    .dataframe thead th {\n",
              "        text-align: right;\n",
              "    }\n",
              "</style>\n",
              "<table border=\"1\" class=\"dataframe\">\n",
              "  <thead>\n",
              "    <tr style=\"text-align: right;\">\n",
              "      <th></th>\n",
              "      <th>Gender</th>\n",
              "      <th>Users</th>\n",
              "      <th>New Users</th>\n",
              "      <th>Sessions</th>\n",
              "      <th>Bounce Rate</th>\n",
              "      <th>Pages / Session</th>\n",
              "      <th>Avg. Session Duration</th>\n",
              "      <th>Transactions</th>\n",
              "      <th>Revenue</th>\n",
              "      <th>Ecommerce Conversion Rate</th>\n",
              "    </tr>\n",
              "  </thead>\n",
              "  <tbody>\n",
              "    <tr>\n",
              "      <th>0</th>\n",
              "      <td>male</td>\n",
              "      <td>31944.0</td>\n",
              "      <td>30740.0</td>\n",
              "      <td>41704.0</td>\n",
              "      <td>46.12%</td>\n",
              "      <td>4.23</td>\n",
              "      <td>0:02:44</td>\n",
              "      <td>16.0</td>\n",
              "      <td>775.05</td>\n",
              "      <td>0.04%</td>\n",
              "    </tr>\n",
              "    <tr>\n",
              "      <th>1</th>\n",
              "      <td>female</td>\n",
              "      <td>19732.0</td>\n",
              "      <td>18900.0</td>\n",
              "      <td>26742.0</td>\n",
              "      <td>48.24%</td>\n",
              "      <td>4.03</td>\n",
              "      <td>0:02:58</td>\n",
              "      <td>11.0</td>\n",
              "      <td>782.50</td>\n",
              "      <td>0.04%</td>\n",
              "    </tr>\n",
              "  </tbody>\n",
              "</table>\n",
              "</div>"
            ],
            "text/plain": [
              "   Gender    Users  New Users  ...  Transactions Revenue  Ecommerce Conversion Rate\n",
              "0    male  31944.0    30740.0  ...          16.0  775.05                      0.04%\n",
              "1  female  19732.0    18900.0  ...          11.0  782.50                      0.04%\n",
              "\n",
              "[2 rows x 10 columns]"
            ]
          },
          "metadata": {
            "tags": []
          },
          "execution_count": 137
        }
      ]
    },
    {
      "cell_type": "code",
      "metadata": {
        "colab": {
          "base_uri": "https://localhost:8080/",
          "height": 513
        },
        "id": "atWQC6FhAiHP",
        "outputId": "3fb0a869-1661-4ab6-d64e-0313c8008845"
      },
      "source": [
        "# plot vertical barplot for users by default grouping channel\r\n",
        "ax = sns.barplot(x= 'Gender', y= 'Users', data=gender_data)\r\n",
        "ax.set(title= 'Users Distribution by Gender groupings') # title barplot\r\n",
        "\r\n",
        "\r\n",
        "# label each bar in barplot\r\n",
        "for p in ax.patches:\r\n",
        " # get the height of each bar\r\n",
        " height = p.get_height()\r\n",
        " # adding text to each bar\r\n",
        " ax.text(x = p.get_x()+(p.get_width()/2), y = height+2, s = '{:.0f}'.format(height), ha = 'center') "
      ],
      "execution_count": 138,
      "outputs": [
        {
          "output_type": "display_data",
          "data": {
            "image/png": "[encoded data removed]",
            "text/plain": [
              "<Figure size 720x576 with 1 Axes>"
            ]
          },
          "metadata": {
            "tags": [],
            "needs_background": "light"
          }
        }
      ]
    },
    {
      "cell_type": "code",
      "metadata": {
        "colab": {
          "base_uri": "https://localhost:8080/",
          "height": 513
        },
        "id": "KJh-sUIRArVC",
        "outputId": "89a55064-2735-4a53-fa44-060f1ea16b84"
      },
      "source": [
        "# plot vertical barplot for users by default grouping channel\r\n",
        "ax = sns.barplot(x= 'Gender', y= 'Revenue', data=gender_data)\r\n",
        "ax.set(title= 'Revenue ($) Distribution by Gender groupings') # title barplot\r\n",
        "\r\n",
        "\r\n",
        "# label each bar in barplot\r\n",
        "for p in ax.patches:\r\n",
        " # get the height of each bar\r\n",
        " height = p.get_height()\r\n",
        " # adding text to each bar\r\n",
        " ax.text(x = p.get_x()+(p.get_width()/2), y = height+10, s = '{:.0f}'.format(height), ha = 'center')"
      ],
      "execution_count": 139,
      "outputs": [
        {
          "output_type": "display_data",
          "data": {
            "image/png": "[encoded data removed]",
            "text/plain": [
              "<Figure size 720x576 with 1 Axes>"
            ]
          },
          "metadata": {
            "tags": [],
            "needs_background": "light"
          }
        }
      ]
    }
  ]
}