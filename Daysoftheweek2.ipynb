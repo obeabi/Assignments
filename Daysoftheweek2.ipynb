{
  "nbformat": 4,
  "nbformat_minor": 0,
  "metadata": {
    "colab": {
      "provenance": [],
      "authorship_tag": "ABX9TyOwdb5KsaOsJUVG9j2rw76a",
      "include_colab_link": true
    },
    "kernelspec": {
      "name": "python3",
      "display_name": "Python 3"
    },
    "language_info": {
      "name": "python"
    }
  },
  "cells": [
    {
      "cell_type": "markdown",
      "metadata": {
        "id": "view-in-github",
        "colab_type": "text"
      },
      "source": [
        "<a href=\"https://colab.research.google.com/github/obeabi/Assignments/blob/master/Daysoftheweek2.ipynb\" target=\"_parent\"><img src=\"https://colab.research.google.com/assets/colab-badge.svg\" alt=\"Open In Colab\"/></a>"
      ]
    },
    {
      "cell_type": "markdown",
      "source": [
        "# Scenario\n",
        "\n",
        "Your task is to implement a class called Weeker. Yes, your eyes don't deceive you – this name comes from the fact that objects of that class will be able to store and to manipulate the days of the week.\n",
        "\n",
        "The class constructor accepts one argument – a string. The string represents the name of the day of the week and the only acceptable values must come from the following set:\n",
        "\n",
        "Mon Tue Wed Thu Fri Sat Sun\n",
        "\n",
        "Invoking the constructor with an argument from outside this set should raise the WeekDayError exception (define it yourself; don't worry, we'll talk about the objective nature of exceptions soon). The class should provide the following facilities:\n",
        "\n",
        "* objects of the class should be \"printable\", i.e. they should be able to implicitly convert themselves into strings of the same form as the constructor arguments;\n",
        "* the class should be equipped with one-parameter methods called add_days(n) and subtract_days(n), with n being an integer number and updating the day of week stored inside the object in the way reflecting the change of date by the indicated number of days, forward or backward.\n",
        "* all object's properties should be private;"
      ],
      "metadata": {
        "id": "Yu6G8MfWcvNb"
      }
    },
    {
      "cell_type": "code",
      "execution_count": 49,
      "metadata": {
        "id": "8mb1p_Uect19"
      },
      "outputs": [],
      "source": [
        "class WeekDayError(Exception):\n",
        "    pass\n",
        "\n",
        "\n",
        "class Weeker:\n",
        "    #\n",
        "    # Write code here.\n",
        "    mydict = { 'Mon': 0, 'Tue': 1, 'Wed': 2, 'Thu': 3, 'Fri': 4, 'Sat': 5, 'Sun': 6}\n",
        "\n",
        "    def __init__(self, day):\n",
        "        #\n",
        "        # Write code here.\n",
        "        if day not in self.mydict.keys():\n",
        "          raise WeekDayError(\"The input is not appropriate\")\n",
        "        else :\n",
        "           self.__day = day\n",
        "\n",
        "    def __str__(self):\n",
        "      return self.__day\n",
        "\n",
        "\n",
        "    def add_days(self, n):\n",
        "        #\n",
        "        # Write code here.\n",
        "        if isinstance(n, int):\n",
        "          new_index = (self.mydict[self.__day] + n)%7\n",
        "\n",
        "          for key, value in self.mydict.items():\n",
        "            if value == new_index:\n",
        "               self.__day = key\n",
        "        else :\n",
        "          return None\n",
        "\n",
        "\n",
        "    def subtract_days(self, n):\n",
        "        #\n",
        "        # Write code here.\n",
        "        if isinstance(n, int):\n",
        "          new_index = (self.mydict[self.__day] - n)%7\n",
        "          for key, value in self.mydict.items():\n",
        "            if value == new_index:\n",
        "              self.__day = key\n",
        "        else:\n",
        "          return None"
      ]
    },
    {
      "cell_type": "code",
      "source": [
        "try:\n",
        "    weekday = Weeker('Mon')\n",
        "    print(weekday)\n",
        "    weekday.add_days(15)\n",
        "    print(weekday)\n",
        "    weekday.subtract_days(23)\n",
        "    print(weekday)\n",
        "    weekday = Weeker('Monday')\n",
        "except WeekDayError:\n",
        "    print(\"Sorry, I can't serve your request.\")"
      ],
      "metadata": {
        "colab": {
          "base_uri": "https://localhost:8080/"
        },
        "id": "zx0Buxn9ebKL",
        "outputId": "c9bd8f33-26f1-4e63-8208-168d99f4dbb8"
      },
      "execution_count": 50,
      "outputs": [
        {
          "output_type": "stream",
          "name": "stdout",
          "text": [
            "Mon\n",
            "Tue\n",
            "Sun\n",
            "Sorry, I can't serve your request.\n"
          ]
        }
      ]
    },
    {
      "cell_type": "code",
      "source": [
        "  valid_days = [\"Mon\", \"Tue\", \"Wed\", \"Thu\", \"Fri\", \"Sat\", \"Sun\"]\n",
        "\n",
        "  valid_days.index('Mon')"
      ],
      "metadata": {
        "colab": {
          "base_uri": "https://localhost:8080/"
        },
        "id": "fhwA8Bd6n71T",
        "outputId": "80af719d-a0a9-4a61-eb57-8e54360b2415"
      },
      "execution_count": 35,
      "outputs": [
        {
          "output_type": "execute_result",
          "data": {
            "text/plain": [
              "0"
            ]
          },
          "metadata": {},
          "execution_count": 35
        }
      ]
    }
  ]
}