{
  "nbformat": 4,
  "nbformat_minor": 0,
  "metadata": {
    "colab": {
      "name": "Main_Milk.ipynb",
      "provenance": [],
      "authorship_tag": "ABX9TyOZewrNfaDl0SrxL4C7HVIu",
      "include_colab_link": true
    },
    "kernelspec": {
      "name": "python3",
      "display_name": "Python 3"
    }
  },
  "cells": [
    {
      "cell_type": "markdown",
      "metadata": {
        "id": "view-in-github",
        "colab_type": "text"
      },
      "source": [
        "<a href=\"https://colab.research.google.com/github/obeabi/Assignments/blob/master/Main_Milk.ipynb\" target=\"_parent\"><img src=\"https://colab.research.google.com/assets/colab-badge.svg\" alt=\"Open In Colab\"/></a>"
      ]
    },
    {
      "cell_type": "markdown",
      "metadata": {
        "id": "vnysncb5SkwO"
      },
      "source": [
        "# Forecasting monthly milk production Using RNN/LSTM\n",
        "## Written by Abiola Obembe\n",
        "## Date : 2020-10-23"
      ]
    },
    {
      "cell_type": "code",
      "metadata": {
        "id": "6fSSceUIMZH0"
      },
      "source": [
        "# Import libarries\n",
        "import pandas as pd\n",
        "import numpy as np\n",
        "import dtale\n",
        "import matplotlib.pyplot as plt\n",
        "%matplotlib inline"
      ],
      "execution_count": 33,
      "outputs": []
    },
    {
      "cell_type": "markdown",
      "metadata": {
        "id": "h8SfbccYQczS"
      },
      "source": [
        "## Step 1 : Data Preprocessing"
      ]
    },
    {
      "cell_type": "code",
      "metadata": {
        "id": "-Vf5g91VNFVS",
        "outputId": "1e602a4d-d90a-440a-d5ab-f51da704325a",
        "colab": {
          "base_uri": "https://localhost:8080/",
          "height": 639
        }
      },
      "source": [
        "# Import training set \n",
        "dataset_train = pd.read_csv('monthly-milk-production-pounds.csv')\n",
        "dataset_train.head(20)\n",
        "\n",
        "\n"
      ],
      "execution_count": 34,
      "outputs": [
        {
          "output_type": "execute_result",
          "data": {
            "text/html": [
              "<div>\n",
              "<style scoped>\n",
              "    .dataframe tbody tr th:only-of-type {\n",
              "        vertical-align: middle;\n",
              "    }\n",
              "\n",
              "    .dataframe tbody tr th {\n",
              "        vertical-align: top;\n",
              "    }\n",
              "\n",
              "    .dataframe thead th {\n",
              "        text-align: right;\n",
              "    }\n",
              "</style>\n",
              "<table border=\"1\" class=\"dataframe\">\n",
              "  <thead>\n",
              "    <tr style=\"text-align: right;\">\n",
              "      <th></th>\n",
              "      <th>Month</th>\n",
              "      <th>Monthly milk production: pounds per cow. Jan 62 ? Dec 75</th>\n",
              "    </tr>\n",
              "  </thead>\n",
              "  <tbody>\n",
              "    <tr>\n",
              "      <th>0</th>\n",
              "      <td>1962-01</td>\n",
              "      <td>589.0</td>\n",
              "    </tr>\n",
              "    <tr>\n",
              "      <th>1</th>\n",
              "      <td>1962-02</td>\n",
              "      <td>561.0</td>\n",
              "    </tr>\n",
              "    <tr>\n",
              "      <th>2</th>\n",
              "      <td>1962-03</td>\n",
              "      <td>640.0</td>\n",
              "    </tr>\n",
              "    <tr>\n",
              "      <th>3</th>\n",
              "      <td>1962-04</td>\n",
              "      <td>656.0</td>\n",
              "    </tr>\n",
              "    <tr>\n",
              "      <th>4</th>\n",
              "      <td>1962-05</td>\n",
              "      <td>727.0</td>\n",
              "    </tr>\n",
              "    <tr>\n",
              "      <th>5</th>\n",
              "      <td>1962-06</td>\n",
              "      <td>697.0</td>\n",
              "    </tr>\n",
              "    <tr>\n",
              "      <th>6</th>\n",
              "      <td>1962-07</td>\n",
              "      <td>640.0</td>\n",
              "    </tr>\n",
              "    <tr>\n",
              "      <th>7</th>\n",
              "      <td>1962-08</td>\n",
              "      <td>599.0</td>\n",
              "    </tr>\n",
              "    <tr>\n",
              "      <th>8</th>\n",
              "      <td>1962-09</td>\n",
              "      <td>568.0</td>\n",
              "    </tr>\n",
              "    <tr>\n",
              "      <th>9</th>\n",
              "      <td>1962-10</td>\n",
              "      <td>577.0</td>\n",
              "    </tr>\n",
              "    <tr>\n",
              "      <th>10</th>\n",
              "      <td>1962-11</td>\n",
              "      <td>553.0</td>\n",
              "    </tr>\n",
              "    <tr>\n",
              "      <th>11</th>\n",
              "      <td>1962-12</td>\n",
              "      <td>582.0</td>\n",
              "    </tr>\n",
              "    <tr>\n",
              "      <th>12</th>\n",
              "      <td>1963-01</td>\n",
              "      <td>600.0</td>\n",
              "    </tr>\n",
              "    <tr>\n",
              "      <th>13</th>\n",
              "      <td>1963-02</td>\n",
              "      <td>566.0</td>\n",
              "    </tr>\n",
              "    <tr>\n",
              "      <th>14</th>\n",
              "      <td>1963-03</td>\n",
              "      <td>653.0</td>\n",
              "    </tr>\n",
              "    <tr>\n",
              "      <th>15</th>\n",
              "      <td>1963-04</td>\n",
              "      <td>673.0</td>\n",
              "    </tr>\n",
              "    <tr>\n",
              "      <th>16</th>\n",
              "      <td>1963-05</td>\n",
              "      <td>742.0</td>\n",
              "    </tr>\n",
              "    <tr>\n",
              "      <th>17</th>\n",
              "      <td>1963-06</td>\n",
              "      <td>716.0</td>\n",
              "    </tr>\n",
              "    <tr>\n",
              "      <th>18</th>\n",
              "      <td>1963-07</td>\n",
              "      <td>660.0</td>\n",
              "    </tr>\n",
              "    <tr>\n",
              "      <th>19</th>\n",
              "      <td>1963-08</td>\n",
              "      <td>617.0</td>\n",
              "    </tr>\n",
              "  </tbody>\n",
              "</table>\n",
              "</div>"
            ],
            "text/plain": [
              "      Month  Monthly milk production: pounds per cow. Jan 62 ? Dec 75\n",
              "0   1962-01                                              589.0       \n",
              "1   1962-02                                              561.0       \n",
              "2   1962-03                                              640.0       \n",
              "3   1962-04                                              656.0       \n",
              "4   1962-05                                              727.0       \n",
              "5   1962-06                                              697.0       \n",
              "6   1962-07                                              640.0       \n",
              "7   1962-08                                              599.0       \n",
              "8   1962-09                                              568.0       \n",
              "9   1962-10                                              577.0       \n",
              "10  1962-11                                              553.0       \n",
              "11  1962-12                                              582.0       \n",
              "12  1963-01                                              600.0       \n",
              "13  1963-02                                              566.0       \n",
              "14  1963-03                                              653.0       \n",
              "15  1963-04                                              673.0       \n",
              "16  1963-05                                              742.0       \n",
              "17  1963-06                                              716.0       \n",
              "18  1963-07                                              660.0       \n",
              "19  1963-08                                              617.0       "
            ]
          },
          "metadata": {
            "tags": []
          },
          "execution_count": 34
        }
      ]
    },
    {
      "cell_type": "code",
      "metadata": {
        "id": "7Q681leqOmV2",
        "outputId": "8aec05ba-7650-4b04-fcea-9eb498428ca5",
        "colab": {
          "base_uri": "https://localhost:8080/",
          "height": 34
        }
      },
      "source": [
        "# Check dataframe shape\n",
        "dataset_train.shape"
      ],
      "execution_count": 35,
      "outputs": [
        {
          "output_type": "execute_result",
          "data": {
            "text/plain": [
              "(169, 2)"
            ]
          },
          "metadata": {
            "tags": []
          },
          "execution_count": 35
        }
      ]
    },
    {
      "cell_type": "code",
      "metadata": {
        "id": "gwvjbmIYOvvJ",
        "outputId": "cef9c3c1-0652-47f7-8bac-8db7774dda5f",
        "colab": {
          "base_uri": "https://localhost:8080/",
          "height": 67
        }
      },
      "source": [
        "# Check data structures\n",
        "dataset_train.dtypes"
      ],
      "execution_count": 36,
      "outputs": [
        {
          "output_type": "execute_result",
          "data": {
            "text/plain": [
              "Month                                                        object\n",
              "Monthly milk production: pounds per cow. Jan 62 ? Dec 75    float64\n",
              "dtype: object"
            ]
          },
          "metadata": {
            "tags": []
          },
          "execution_count": 36
        }
      ]
    },
    {
      "cell_type": "code",
      "metadata": {
        "id": "p4t9msqQOXnt",
        "outputId": "200b9928-d278-44cc-ac18-c705beecd2fa",
        "colab": {
          "base_uri": "https://localhost:8080/",
          "height": 34
        }
      },
      "source": [
        "# check for missing values\n",
        "missing_values = dataset_train.isnull().sum().sum()\n",
        "print(\"The number of missing values in the dataframe is\", missing_values)"
      ],
      "execution_count": 37,
      "outputs": [
        {
          "output_type": "stream",
          "text": [
            "The number of missing values in the dataframe is 1\n"
          ],
          "name": "stdout"
        }
      ]
    },
    {
      "cell_type": "code",
      "metadata": {
        "id": "x5-8KLBiPEQU",
        "outputId": "2a44d5b5-ec31-46b1-f9f8-0ab1f78963f8",
        "colab": {
          "base_uri": "https://localhost:8080/",
          "height": 34
        }
      },
      "source": [
        "# Drop missing values\n",
        "dataset_train = dataset_train.dropna(axis = 0)\n",
        "\n",
        "# check for missing values in new dataframe\n",
        "missing_values = dataset_train.isnull().sum().sum()\n",
        "print(\"The number of missing values in the new dataframe is\", missing_values)\n"
      ],
      "execution_count": 38,
      "outputs": [
        {
          "output_type": "stream",
          "text": [
            "The number of missing values in the new dataframe is 0\n"
          ],
          "name": "stdout"
        }
      ]
    },
    {
      "cell_type": "code",
      "metadata": {
        "id": "YyuW2WNePqa0",
        "outputId": "b368281a-fc3f-4a14-d7d5-b2a7d672be81",
        "colab": {
          "base_uri": "https://localhost:8080/",
          "height": 34
        }
      },
      "source": [
        "# Print column headers\n",
        "dataset_train.columns"
      ],
      "execution_count": 39,
      "outputs": [
        {
          "output_type": "execute_result",
          "data": {
            "text/plain": [
              "Index(['Month', 'Monthly milk production: pounds per cow. Jan 62 ? Dec 75'], dtype='object')"
            ]
          },
          "metadata": {
            "tags": []
          },
          "execution_count": 39
        }
      ]
    },
    {
      "cell_type": "code",
      "metadata": {
        "id": "WyKI8B73P4WF",
        "outputId": "beee84c4-f8e9-4b7a-fbe4-f5e7eb8dea7a",
        "colab": {
          "base_uri": "https://localhost:8080/",
          "height": 195
        }
      },
      "source": [
        "# Change column headers to something more meaningful\n",
        "dataset_train.columns = ['Time', 'Production']\n",
        "dataset_train.head()"
      ],
      "execution_count": 40,
      "outputs": [
        {
          "output_type": "execute_result",
          "data": {
            "text/html": [
              "<div>\n",
              "<style scoped>\n",
              "    .dataframe tbody tr th:only-of-type {\n",
              "        vertical-align: middle;\n",
              "    }\n",
              "\n",
              "    .dataframe tbody tr th {\n",
              "        vertical-align: top;\n",
              "    }\n",
              "\n",
              "    .dataframe thead th {\n",
              "        text-align: right;\n",
              "    }\n",
              "</style>\n",
              "<table border=\"1\" class=\"dataframe\">\n",
              "  <thead>\n",
              "    <tr style=\"text-align: right;\">\n",
              "      <th></th>\n",
              "      <th>Time</th>\n",
              "      <th>Production</th>\n",
              "    </tr>\n",
              "  </thead>\n",
              "  <tbody>\n",
              "    <tr>\n",
              "      <th>0</th>\n",
              "      <td>1962-01</td>\n",
              "      <td>589.0</td>\n",
              "    </tr>\n",
              "    <tr>\n",
              "      <th>1</th>\n",
              "      <td>1962-02</td>\n",
              "      <td>561.0</td>\n",
              "    </tr>\n",
              "    <tr>\n",
              "      <th>2</th>\n",
              "      <td>1962-03</td>\n",
              "      <td>640.0</td>\n",
              "    </tr>\n",
              "    <tr>\n",
              "      <th>3</th>\n",
              "      <td>1962-04</td>\n",
              "      <td>656.0</td>\n",
              "    </tr>\n",
              "    <tr>\n",
              "      <th>4</th>\n",
              "      <td>1962-05</td>\n",
              "      <td>727.0</td>\n",
              "    </tr>\n",
              "  </tbody>\n",
              "</table>\n",
              "</div>"
            ],
            "text/plain": [
              "      Time  Production\n",
              "0  1962-01       589.0\n",
              "1  1962-02       561.0\n",
              "2  1962-03       640.0\n",
              "3  1962-04       656.0\n",
              "4  1962-05       727.0"
            ]
          },
          "metadata": {
            "tags": []
          },
          "execution_count": 40
        }
      ]
    },
    {
      "cell_type": "code",
      "metadata": {
        "id": "_dk95faYPi12",
        "outputId": "c3520cf3-9499-4b81-cc4c-38e9ec444e65",
        "colab": {
          "base_uri": "https://localhost:8080/",
          "height": 265
        }
      },
      "source": [
        "# Plot dataset\n",
        "\n",
        "dataset_train.plot()\n",
        "plt.show()"
      ],
      "execution_count": 41,
      "outputs": [
        {
          "output_type": "display_data",
          "data": {
            "image/png": "[encoded data removed]",
            "text/plain": [
              "<Figure size 432x288 with 1 Axes>"
            ]
          },
          "metadata": {
            "tags": [],
            "needs_background": "light"
          }
        }
      ]
    },
    {
      "cell_type": "code",
      "metadata": {
        "id": "aTRuqm6-Qzp5",
        "outputId": "d995f573-fdbf-41dc-95b2-2693801a4afb",
        "colab": {
          "base_uri": "https://localhost:8080/",
          "height": 195
        }
      },
      "source": [
        "# Convert time column values to date time format\n",
        "dataset_train['Time'] = pd.to_datetime(dataset_train['Time'])\n",
        "dataset_train.head()"
      ],
      "execution_count": 42,
      "outputs": [
        {
          "output_type": "execute_result",
          "data": {
            "text/html": [
              "<div>\n",
              "<style scoped>\n",
              "    .dataframe tbody tr th:only-of-type {\n",
              "        vertical-align: middle;\n",
              "    }\n",
              "\n",
              "    .dataframe tbody tr th {\n",
              "        vertical-align: top;\n",
              "    }\n",
              "\n",
              "    .dataframe thead th {\n",
              "        text-align: right;\n",
              "    }\n",
              "</style>\n",
              "<table border=\"1\" class=\"dataframe\">\n",
              "  <thead>\n",
              "    <tr style=\"text-align: right;\">\n",
              "      <th></th>\n",
              "      <th>Time</th>\n",
              "      <th>Production</th>\n",
              "    </tr>\n",
              "  </thead>\n",
              "  <tbody>\n",
              "    <tr>\n",
              "      <th>0</th>\n",
              "      <td>1962-01-01</td>\n",
              "      <td>589.0</td>\n",
              "    </tr>\n",
              "    <tr>\n",
              "      <th>1</th>\n",
              "      <td>1962-02-01</td>\n",
              "      <td>561.0</td>\n",
              "    </tr>\n",
              "    <tr>\n",
              "      <th>2</th>\n",
              "      <td>1962-03-01</td>\n",
              "      <td>640.0</td>\n",
              "    </tr>\n",
              "    <tr>\n",
              "      <th>3</th>\n",
              "      <td>1962-04-01</td>\n",
              "      <td>656.0</td>\n",
              "    </tr>\n",
              "    <tr>\n",
              "      <th>4</th>\n",
              "      <td>1962-05-01</td>\n",
              "      <td>727.0</td>\n",
              "    </tr>\n",
              "  </tbody>\n",
              "</table>\n",
              "</div>"
            ],
            "text/plain": [
              "        Time  Production\n",
              "0 1962-01-01       589.0\n",
              "1 1962-02-01       561.0\n",
              "2 1962-03-01       640.0\n",
              "3 1962-04-01       656.0\n",
              "4 1962-05-01       727.0"
            ]
          },
          "metadata": {
            "tags": []
          },
          "execution_count": 42
        }
      ]
    },
    {
      "cell_type": "code",
      "metadata": {
        "id": "-_xR3yzLN9jU",
        "outputId": "7f9c3dc8-465d-48bb-a79b-c6e28c17e6e6",
        "colab": {
          "base_uri": "https://localhost:8080/",
          "height": 101
        }
      },
      "source": [
        "# Obtain training set for analysis\n",
        "train_set = dataset_train.iloc[:,1:2].values\n",
        "train_set[0:5]"
      ],
      "execution_count": 43,
      "outputs": [
        {
          "output_type": "execute_result",
          "data": {
            "text/plain": [
              "array([[589.],\n",
              "       [561.],\n",
              "       [640.],\n",
              "       [656.],\n",
              "       [727.]])"
            ]
          },
          "metadata": {
            "tags": []
          },
          "execution_count": 43
        }
      ]
    },
    {
      "cell_type": "code",
      "metadata": {
        "id": "wbeKaSDHRQfj"
      },
      "source": [
        "# Feature scaling by normalization\n",
        "from sklearn.preprocessing import MinMaxScaler\n",
        "sc = MinMaxScaler(feature_range=(0,1))\n",
        "train_set_sc = sc.fit_transform(train_set)"
      ],
      "execution_count": 44,
      "outputs": []
    },
    {
      "cell_type": "code",
      "metadata": {
        "id": "OXkdO0jDXppA",
        "outputId": "9facb418-3c5c-4191-aeca-9788e0c5423c",
        "colab": {
          "base_uri": "https://localhost:8080/",
          "height": 101
        }
      },
      "source": [
        "# print train set\n",
        "train_set_sc[0:5]"
      ],
      "execution_count": 45,
      "outputs": [
        {
          "output_type": "execute_result",
          "data": {
            "text/plain": [
              "array([[0.08653846],\n",
              "       [0.01923077],\n",
              "       [0.20913462],\n",
              "       [0.24759615],\n",
              "       [0.41826923]])"
            ]
          },
          "metadata": {
            "tags": []
          },
          "execution_count": 45
        }
      ]
    },
    {
      "cell_type": "code",
      "metadata": {
        "id": "8iZRMwdVTSkz"
      },
      "source": [
        "# Create data structure using history (Tx) and 1 output for training set\n",
        "Tx = 10\n",
        "X_train = []\n",
        "y_train = []\n",
        "m = len(train_set_sc)\n",
        "\n",
        "for i in range(Tx, m):\n",
        "    X_train.append(train_set_sc[i-Tx : i, 0])\n",
        "    y_train.append(train_set_sc[i,0])\n",
        "    \n",
        "X_train, y_train = np.array(X_train) , np.array(y_train)"
      ],
      "execution_count": 46,
      "outputs": []
    },
    {
      "cell_type": "code",
      "metadata": {
        "id": "gHcVZCpxUAHi",
        "outputId": "89b748ff-c1fa-47fc-a003-c96302920f96",
        "colab": {
          "base_uri": "https://localhost:8080/",
          "height": 269
        }
      },
      "source": [
        "# Examine data structure for training set\n",
        "print(X_train.shape)\n",
        "print(y_train.shape)\n",
        "X_train"
      ],
      "execution_count": 47,
      "outputs": [
        {
          "output_type": "stream",
          "text": [
            "(158, 10)\n",
            "(158,)\n"
          ],
          "name": "stdout"
        },
        {
          "output_type": "execute_result",
          "data": {
            "text/plain": [
              "array([[0.08653846, 0.01923077, 0.20913462, ..., 0.11057692, 0.03605769,\n",
              "        0.05769231],\n",
              "       [0.01923077, 0.20913462, 0.24759615, ..., 0.03605769, 0.05769231,\n",
              "        0.        ],\n",
              "       [0.20913462, 0.24759615, 0.41826923, ..., 0.05769231, 0.        ,\n",
              "        0.06971154],\n",
              "       ...,\n",
              "       [0.625     , 0.67548077, 0.55048077, ..., 0.82451923, 0.73317308,\n",
              "        0.63461538],\n",
              "       [0.67548077, 0.55048077, 0.81490385, ..., 0.73317308, 0.63461538,\n",
              "        0.65865385],\n",
              "       [0.55048077, 0.81490385, 0.84134615, ..., 0.63461538, 0.65865385,\n",
              "        0.58653846]])"
            ]
          },
          "metadata": {
            "tags": []
          },
          "execution_count": 47
        }
      ]
    },
    {
      "cell_type": "code",
      "metadata": {
        "id": "ECa0eXJjVxhW"
      },
      "source": [
        "# Reshape to RNN Input shape including adding new indicators\n",
        "\n",
        "X_train = np.reshape(X_train, newshape= (X_train.shape[0], X_train.shape[1], 1))\n"
      ],
      "execution_count": 48,
      "outputs": []
    },
    {
      "cell_type": "markdown",
      "metadata": {
        "id": "LroD-f13UYIQ"
      },
      "source": [
        "## Part 2 - Building the RNN / LSTM / GRU"
      ]
    },
    {
      "cell_type": "code",
      "metadata": {
        "id": "A06y18WtWsz9"
      },
      "source": [
        "# Import the libraries from keras\n",
        "from keras.models import Sequential\n",
        "from keras.layers import Dense\n",
        "from keras.layers import Dropout\n",
        "from keras.layers import LSTM, GRU\n",
        "from keras.layers import BatchNormalization"
      ],
      "execution_count": 49,
      "outputs": []
    },
    {
      "cell_type": "code",
      "metadata": {
        "id": "lyLGepoXam2-"
      },
      "source": [
        "# Initalize the GRU\n",
        "\n",
        "gru = Sequential()"
      ],
      "execution_count": 50,
      "outputs": []
    },
    {
      "cell_type": "code",
      "metadata": {
        "id": "rmwV5_PLa3nL"
      },
      "source": [
        "# Add the first layer and dropout regularization\n",
        "gru.add(GRU(units = 50, return_sequences= True, input_shape= (X_train.shape[1],1))) # the 1 in input-shape corresponds to no of indicators\n",
        "gru.add(BatchNormalization())\n",
        "gru.add(Dropout((0.2)))"
      ],
      "execution_count": 51,
      "outputs": []
    },
    {
      "cell_type": "code",
      "metadata": {
        "id": "malHarKCcrH6"
      },
      "source": [
        "# Add the Second layer and dropout regularization\n",
        "gru.add(GRU(units = 50, return_sequences=True))\n",
        "gru.add(BatchNormalization())\n",
        "gru.add(Dropout((0.2)))"
      ],
      "execution_count": 52,
      "outputs": []
    },
    {
      "cell_type": "code",
      "metadata": {
        "id": "rvboYPXicxzL"
      },
      "source": [
        "# Add the Third layer and dropout regularization\n",
        "gru.add(GRU(units = 50, return_sequences=True))\n",
        "gru.add(BatchNormalization())\n",
        "gru.add(Dropout((0.2)))"
      ],
      "execution_count": 53,
      "outputs": []
    },
    {
      "cell_type": "code",
      "metadata": {
        "id": "FD4WbGM-c36P"
      },
      "source": [
        "# Add the Fourth layer and dropout regularization\n",
        "gru.add(GRU(units = 50, return_sequences=False))\n",
        "gru.add(BatchNormalization())\n",
        "gru.add(Dropout((0.2)))"
      ],
      "execution_count": 54,
      "outputs": []
    },
    {
      "cell_type": "code",
      "metadata": {
        "id": "NrSg80gdc9rO"
      },
      "source": [
        "# Add the output layer\n",
        "gru.add(Dense(units = 1))"
      ],
      "execution_count": 55,
      "outputs": []
    },
    {
      "cell_type": "code",
      "metadata": {
        "id": "LZE5LWTzdNk1",
        "outputId": "dd330f13-2425-4287-e381-77d3c07ae056",
        "colab": {
          "base_uri": "https://localhost:8080/",
          "height": 588
        }
      },
      "source": [
        "# Compile the GRU\n",
        "gru.compile(optimizer = 'adam', loss = 'mean_squared_error')\n",
        "gru.summary()"
      ],
      "execution_count": 56,
      "outputs": [
        {
          "output_type": "stream",
          "text": [
            "Model: \"sequential_1\"\n",
            "_________________________________________________________________\n",
            "Layer (type)                 Output Shape              Param #   \n",
            "=================================================================\n",
            "gru_4 (GRU)                  (None, 10, 50)            7950      \n",
            "_________________________________________________________________\n",
            "batch_normalization_4 (Batch (None, 10, 50)            200       \n",
            "_________________________________________________________________\n",
            "dropout_4 (Dropout)          (None, 10, 50)            0         \n",
            "_________________________________________________________________\n",
            "gru_5 (GRU)                  (None, 10, 50)            15300     \n",
            "_________________________________________________________________\n",
            "batch_normalization_5 (Batch (None, 10, 50)            200       \n",
            "_________________________________________________________________\n",
            "dropout_5 (Dropout)          (None, 10, 50)            0         \n",
            "_________________________________________________________________\n",
            "gru_6 (GRU)                  (None, 10, 50)            15300     \n",
            "_________________________________________________________________\n",
            "batch_normalization_6 (Batch (None, 10, 50)            200       \n",
            "_________________________________________________________________\n",
            "dropout_6 (Dropout)          (None, 10, 50)            0         \n",
            "_________________________________________________________________\n",
            "gru_7 (GRU)                  (None, 50)                15300     \n",
            "_________________________________________________________________\n",
            "batch_normalization_7 (Batch (None, 50)                200       \n",
            "_________________________________________________________________\n",
            "dropout_7 (Dropout)          (None, 50)                0         \n",
            "_________________________________________________________________\n",
            "dense_1 (Dense)              (None, 1)                 51        \n",
            "=================================================================\n",
            "Total params: 54,701\n",
            "Trainable params: 54,301\n",
            "Non-trainable params: 400\n",
            "_________________________________________________________________\n"
          ],
          "name": "stdout"
        }
      ]
    },
    {
      "cell_type": "code",
      "metadata": {
        "id": "eKEwT0vKdQWF",
        "outputId": "c0c5920a-7884-415d-f8ef-b9e8e9f37eca",
        "colab": {
          "base_uri": "https://localhost:8080/",
          "height": 1000
        }
      },
      "source": [
        "# Fitting the gru to the training set\n",
        "gru.fit(X_train, y_train, epochs = 200, batch_size=16)"
      ],
      "execution_count": 57,
      "outputs": [
        {
          "output_type": "stream",
          "text": [
            "Epoch 1/200\n",
            "10/10 [==============================] - 0s 18ms/step - loss: 1.9336\n",
            "Epoch 2/200\n",
            "10/10 [==============================] - 0s 18ms/step - loss: 1.3209\n",
            "Epoch 3/200\n",
            "10/10 [==============================] - 0s 20ms/step - loss: 1.2805\n",
            "Epoch 4/200\n",
            "10/10 [==============================] - 0s 20ms/step - loss: 0.7760\n",
            "Epoch 5/200\n",
            "10/10 [==============================] - 0s 18ms/step - loss: 0.7789\n",
            "Epoch 6/200\n",
            "10/10 [==============================] - 0s 18ms/step - loss: 0.5030\n",
            "Epoch 7/200\n",
            "10/10 [==============================] - 0s 19ms/step - loss: 0.5757\n",
            "Epoch 8/200\n",
            "10/10 [==============================] - 0s 19ms/step - loss: 0.7127\n",
            "Epoch 9/200\n",
            "10/10 [==============================] - 0s 19ms/step - loss: 0.5427\n",
            "Epoch 10/200\n",
            "10/10 [==============================] - 0s 19ms/step - loss: 0.5924\n",
            "Epoch 11/200\n",
            "10/10 [==============================] - 0s 20ms/step - loss: 0.4081\n",
            "Epoch 12/200\n",
            "10/10 [==============================] - 0s 18ms/step - loss: 0.5440\n",
            "Epoch 13/200\n",
            "10/10 [==============================] - 0s 20ms/step - loss: 0.5270\n",
            "Epoch 14/200\n",
            "10/10 [==============================] - 0s 19ms/step - loss: 0.4700\n",
            "Epoch 15/200\n",
            "10/10 [==============================] - 0s 19ms/step - loss: 0.5465\n",
            "Epoch 16/200\n",
            "10/10 [==============================] - 0s 19ms/step - loss: 0.5253\n",
            "Epoch 17/200\n",
            "10/10 [==============================] - 0s 18ms/step - loss: 0.5074\n",
            "Epoch 18/200\n",
            "10/10 [==============================] - 0s 21ms/step - loss: 0.4643\n",
            "Epoch 19/200\n",
            "10/10 [==============================] - 0s 19ms/step - loss: 0.4369\n",
            "Epoch 20/200\n",
            "10/10 [==============================] - 0s 19ms/step - loss: 0.3323\n",
            "Epoch 21/200\n",
            "10/10 [==============================] - 0s 22ms/step - loss: 0.3178\n",
            "Epoch 22/200\n",
            "10/10 [==============================] - 0s 21ms/step - loss: 0.3677\n",
            "Epoch 23/200\n",
            "10/10 [==============================] - 0s 19ms/step - loss: 0.3446\n",
            "Epoch 24/200\n",
            "10/10 [==============================] - 0s 18ms/step - loss: 0.3022\n",
            "Epoch 25/200\n",
            "10/10 [==============================] - 0s 20ms/step - loss: 0.3823\n",
            "Epoch 26/200\n",
            "10/10 [==============================] - 0s 22ms/step - loss: 0.3320\n",
            "Epoch 27/200\n",
            "10/10 [==============================] - 0s 20ms/step - loss: 0.3790\n",
            "Epoch 28/200\n",
            "10/10 [==============================] - 0s 19ms/step - loss: 0.2984\n",
            "Epoch 29/200\n",
            "10/10 [==============================] - 0s 21ms/step - loss: 0.2778\n",
            "Epoch 30/200\n",
            "10/10 [==============================] - 0s 19ms/step - loss: 0.2923\n",
            "Epoch 31/200\n",
            "10/10 [==============================] - 0s 19ms/step - loss: 0.3123\n",
            "Epoch 32/200\n",
            "10/10 [==============================] - 0s 22ms/step - loss: 0.3458\n",
            "Epoch 33/200\n",
            "10/10 [==============================] - 0s 19ms/step - loss: 0.3226\n",
            "Epoch 34/200\n",
            "10/10 [==============================] - 0s 19ms/step - loss: 0.2900\n",
            "Epoch 35/200\n",
            "10/10 [==============================] - 0s 20ms/step - loss: 0.3228\n",
            "Epoch 36/200\n",
            "10/10 [==============================] - 0s 20ms/step - loss: 0.2471\n",
            "Epoch 37/200\n",
            "10/10 [==============================] - 0s 19ms/step - loss: 0.3139\n",
            "Epoch 38/200\n",
            "10/10 [==============================] - 0s 19ms/step - loss: 0.3671\n",
            "Epoch 39/200\n",
            "10/10 [==============================] - 0s 19ms/step - loss: 0.1888\n",
            "Epoch 40/200\n",
            "10/10 [==============================] - 0s 21ms/step - loss: 0.2513\n",
            "Epoch 41/200\n",
            "10/10 [==============================] - 0s 20ms/step - loss: 0.2686\n",
            "Epoch 42/200\n",
            "10/10 [==============================] - 0s 20ms/step - loss: 0.2085\n",
            "Epoch 43/200\n",
            "10/10 [==============================] - 0s 19ms/step - loss: 0.2048\n",
            "Epoch 44/200\n",
            "10/10 [==============================] - 0s 20ms/step - loss: 0.1882\n",
            "Epoch 45/200\n",
            "10/10 [==============================] - 0s 21ms/step - loss: 0.2056\n",
            "Epoch 46/200\n",
            "10/10 [==============================] - 0s 21ms/step - loss: 0.2565\n",
            "Epoch 47/200\n",
            "10/10 [==============================] - 0s 23ms/step - loss: 0.1753\n",
            "Epoch 48/200\n",
            "10/10 [==============================] - 0s 25ms/step - loss: 0.1809\n",
            "Epoch 49/200\n",
            "10/10 [==============================] - 0s 22ms/step - loss: 0.2296\n",
            "Epoch 50/200\n",
            "10/10 [==============================] - 0s 19ms/step - loss: 0.2255\n",
            "Epoch 51/200\n",
            "10/10 [==============================] - 0s 19ms/step - loss: 0.1762\n",
            "Epoch 52/200\n",
            "10/10 [==============================] - 0s 21ms/step - loss: 0.2359\n",
            "Epoch 53/200\n",
            "10/10 [==============================] - 0s 21ms/step - loss: 0.2078\n",
            "Epoch 54/200\n",
            "10/10 [==============================] - 0s 21ms/step - loss: 0.1569\n",
            "Epoch 55/200\n",
            "10/10 [==============================] - 0s 20ms/step - loss: 0.2428\n",
            "Epoch 56/200\n",
            "10/10 [==============================] - 0s 20ms/step - loss: 0.1559\n",
            "Epoch 57/200\n",
            "10/10 [==============================] - 0s 25ms/step - loss: 0.1970\n",
            "Epoch 58/200\n",
            "10/10 [==============================] - 0s 22ms/step - loss: 0.1772\n",
            "Epoch 59/200\n",
            "10/10 [==============================] - 0s 25ms/step - loss: 0.1795\n",
            "Epoch 60/200\n",
            "10/10 [==============================] - 0s 22ms/step - loss: 0.1539\n",
            "Epoch 61/200\n",
            "10/10 [==============================] - 0s 21ms/step - loss: 0.1611\n",
            "Epoch 62/200\n",
            "10/10 [==============================] - 0s 22ms/step - loss: 0.2132\n",
            "Epoch 63/200\n",
            "10/10 [==============================] - 0s 20ms/step - loss: 0.1839\n",
            "Epoch 64/200\n",
            "10/10 [==============================] - 0s 19ms/step - loss: 0.1218\n",
            "Epoch 65/200\n",
            "10/10 [==============================] - 0s 20ms/step - loss: 0.1189\n",
            "Epoch 66/200\n",
            "10/10 [==============================] - 0s 22ms/step - loss: 0.1485\n",
            "Epoch 67/200\n",
            "10/10 [==============================] - 0s 22ms/step - loss: 0.1601\n",
            "Epoch 68/200\n",
            "10/10 [==============================] - 0s 22ms/step - loss: 0.1400\n",
            "Epoch 69/200\n",
            "10/10 [==============================] - 0s 20ms/step - loss: 0.1550\n",
            "Epoch 70/200\n",
            "10/10 [==============================] - 0s 24ms/step - loss: 0.1266\n",
            "Epoch 71/200\n",
            "10/10 [==============================] - 0s 25ms/step - loss: 0.1024\n",
            "Epoch 72/200\n",
            "10/10 [==============================] - 0s 21ms/step - loss: 0.1027\n",
            "Epoch 73/200\n",
            "10/10 [==============================] - 0s 20ms/step - loss: 0.1235\n",
            "Epoch 74/200\n",
            "10/10 [==============================] - 0s 20ms/step - loss: 0.1314\n",
            "Epoch 75/200\n",
            "10/10 [==============================] - 0s 24ms/step - loss: 0.1205\n",
            "Epoch 76/200\n",
            "10/10 [==============================] - 0s 21ms/step - loss: 0.1081\n",
            "Epoch 77/200\n",
            "10/10 [==============================] - 0s 23ms/step - loss: 0.1127\n",
            "Epoch 78/200\n",
            "10/10 [==============================] - 0s 22ms/step - loss: 0.1012\n",
            "Epoch 79/200\n",
            "10/10 [==============================] - 0s 20ms/step - loss: 0.1191\n",
            "Epoch 80/200\n",
            "10/10 [==============================] - 0s 23ms/step - loss: 0.1049\n",
            "Epoch 81/200\n",
            "10/10 [==============================] - 0s 21ms/step - loss: 0.0806\n",
            "Epoch 82/200\n",
            "10/10 [==============================] - 0s 21ms/step - loss: 0.1104\n",
            "Epoch 83/200\n",
            "10/10 [==============================] - 0s 20ms/step - loss: 0.1145\n",
            "Epoch 84/200\n",
            "10/10 [==============================] - 0s 23ms/step - loss: 0.0950\n",
            "Epoch 85/200\n",
            "10/10 [==============================] - 0s 22ms/step - loss: 0.0804\n",
            "Epoch 86/200\n",
            "10/10 [==============================] - 0s 22ms/step - loss: 0.0902\n",
            "Epoch 87/200\n",
            "10/10 [==============================] - 0s 21ms/step - loss: 0.0844\n",
            "Epoch 88/200\n",
            "10/10 [==============================] - 0s 21ms/step - loss: 0.0872\n",
            "Epoch 89/200\n",
            "10/10 [==============================] - 0s 22ms/step - loss: 0.1036\n",
            "Epoch 90/200\n",
            "10/10 [==============================] - 0s 23ms/step - loss: 0.1085\n",
            "Epoch 91/200\n",
            "10/10 [==============================] - 0s 23ms/step - loss: 0.0916\n",
            "Epoch 92/200\n",
            "10/10 [==============================] - 0s 21ms/step - loss: 0.0905\n",
            "Epoch 93/200\n",
            "10/10 [==============================] - 0s 20ms/step - loss: 0.0742\n",
            "Epoch 94/200\n",
            "10/10 [==============================] - 0s 22ms/step - loss: 0.0931\n",
            "Epoch 95/200\n",
            "10/10 [==============================] - 0s 22ms/step - loss: 0.0833\n",
            "Epoch 96/200\n",
            "10/10 [==============================] - 0s 19ms/step - loss: 0.0615\n",
            "Epoch 97/200\n",
            "10/10 [==============================] - 0s 19ms/step - loss: 0.0741\n",
            "Epoch 98/200\n",
            "10/10 [==============================] - 0s 19ms/step - loss: 0.0703\n",
            "Epoch 99/200\n",
            "10/10 [==============================] - 0s 19ms/step - loss: 0.0644\n",
            "Epoch 100/200\n",
            "10/10 [==============================] - 0s 21ms/step - loss: 0.0787\n",
            "Epoch 101/200\n",
            "10/10 [==============================] - 0s 20ms/step - loss: 0.0704\n",
            "Epoch 102/200\n",
            "10/10 [==============================] - 0s 21ms/step - loss: 0.0654\n",
            "Epoch 103/200\n",
            "10/10 [==============================] - 0s 21ms/step - loss: 0.0559\n",
            "Epoch 104/200\n",
            "10/10 [==============================] - 0s 21ms/step - loss: 0.0793\n",
            "Epoch 105/200\n",
            "10/10 [==============================] - 0s 19ms/step - loss: 0.0618\n",
            "Epoch 106/200\n",
            "10/10 [==============================] - 0s 19ms/step - loss: 0.0613\n",
            "Epoch 107/200\n",
            "10/10 [==============================] - 0s 19ms/step - loss: 0.0717\n",
            "Epoch 108/200\n",
            "10/10 [==============================] - 0s 21ms/step - loss: 0.0802\n",
            "Epoch 109/200\n",
            "10/10 [==============================] - 0s 21ms/step - loss: 0.0717\n",
            "Epoch 110/200\n",
            "10/10 [==============================] - 0s 19ms/step - loss: 0.0594\n",
            "Epoch 111/200\n",
            "10/10 [==============================] - 0s 20ms/step - loss: 0.0599\n",
            "Epoch 112/200\n",
            "10/10 [==============================] - 0s 19ms/step - loss: 0.0615\n",
            "Epoch 113/200\n",
            "10/10 [==============================] - 0s 26ms/step - loss: 0.0402\n",
            "Epoch 114/200\n",
            "10/10 [==============================] - 0s 19ms/step - loss: 0.0560\n",
            "Epoch 115/200\n",
            "10/10 [==============================] - 0s 19ms/step - loss: 0.0443\n",
            "Epoch 116/200\n",
            "10/10 [==============================] - 0s 21ms/step - loss: 0.0590\n",
            "Epoch 117/200\n",
            "10/10 [==============================] - 0s 25ms/step - loss: 0.0553\n",
            "Epoch 118/200\n",
            "10/10 [==============================] - 0s 19ms/step - loss: 0.0411\n",
            "Epoch 119/200\n",
            "10/10 [==============================] - 0s 20ms/step - loss: 0.0554\n",
            "Epoch 120/200\n",
            "10/10 [==============================] - 0s 24ms/step - loss: 0.0556\n",
            "Epoch 121/200\n",
            "10/10 [==============================] - 0s 20ms/step - loss: 0.0465\n",
            "Epoch 122/200\n",
            "10/10 [==============================] - 0s 19ms/step - loss: 0.0496\n",
            "Epoch 123/200\n",
            "10/10 [==============================] - 0s 21ms/step - loss: 0.0508\n",
            "Epoch 124/200\n",
            "10/10 [==============================] - 0s 21ms/step - loss: 0.0482\n",
            "Epoch 125/200\n",
            "10/10 [==============================] - 0s 19ms/step - loss: 0.0399\n",
            "Epoch 126/200\n",
            "10/10 [==============================] - 0s 24ms/step - loss: 0.0329\n",
            "Epoch 127/200\n",
            "10/10 [==============================] - 0s 19ms/step - loss: 0.0391\n",
            "Epoch 128/200\n",
            "10/10 [==============================] - 0s 19ms/step - loss: 0.0355\n",
            "Epoch 129/200\n",
            "10/10 [==============================] - 0s 20ms/step - loss: 0.0351\n",
            "Epoch 130/200\n",
            "10/10 [==============================] - 0s 20ms/step - loss: 0.0460\n",
            "Epoch 131/200\n",
            "10/10 [==============================] - 0s 20ms/step - loss: 0.0467\n",
            "Epoch 132/200\n",
            "10/10 [==============================] - 0s 19ms/step - loss: 0.0440\n",
            "Epoch 133/200\n",
            "10/10 [==============================] - 0s 20ms/step - loss: 0.0428\n",
            "Epoch 134/200\n",
            "10/10 [==============================] - 0s 19ms/step - loss: 0.0347\n",
            "Epoch 135/200\n",
            "10/10 [==============================] - 0s 21ms/step - loss: 0.0447\n",
            "Epoch 136/200\n",
            "10/10 [==============================] - 0s 19ms/step - loss: 0.0303\n",
            "Epoch 137/200\n",
            "10/10 [==============================] - 0s 19ms/step - loss: 0.0387\n",
            "Epoch 138/200\n",
            "10/10 [==============================] - 0s 21ms/step - loss: 0.0410\n",
            "Epoch 139/200\n",
            "10/10 [==============================] - 0s 26ms/step - loss: 0.0330\n",
            "Epoch 140/200\n",
            "10/10 [==============================] - 0s 20ms/step - loss: 0.0324\n",
            "Epoch 141/200\n",
            "10/10 [==============================] - 0s 19ms/step - loss: 0.0447\n",
            "Epoch 142/200\n",
            "10/10 [==============================] - 0s 20ms/step - loss: 0.0356\n",
            "Epoch 143/200\n",
            "10/10 [==============================] - 0s 28ms/step - loss: 0.0332\n",
            "Epoch 144/200\n",
            "10/10 [==============================] - 0s 19ms/step - loss: 0.0353\n",
            "Epoch 145/200\n",
            "10/10 [==============================] - 0s 19ms/step - loss: 0.0278\n",
            "Epoch 146/200\n",
            "10/10 [==============================] - 0s 21ms/step - loss: 0.0276\n",
            "Epoch 147/200\n",
            "10/10 [==============================] - 0s 19ms/step - loss: 0.0326\n",
            "Epoch 148/200\n",
            "10/10 [==============================] - 0s 20ms/step - loss: 0.0278\n",
            "Epoch 149/200\n",
            "10/10 [==============================] - 0s 20ms/step - loss: 0.0318\n",
            "Epoch 150/200\n",
            "10/10 [==============================] - 0s 23ms/step - loss: 0.0326\n",
            "Epoch 151/200\n",
            "10/10 [==============================] - 0s 20ms/step - loss: 0.0312\n",
            "Epoch 152/200\n",
            "10/10 [==============================] - 0s 20ms/step - loss: 0.0293\n",
            "Epoch 153/200\n",
            "10/10 [==============================] - 0s 19ms/step - loss: 0.0297\n",
            "Epoch 154/200\n",
            "10/10 [==============================] - 0s 20ms/step - loss: 0.0296\n",
            "Epoch 155/200\n",
            "10/10 [==============================] - 0s 20ms/step - loss: 0.0305\n",
            "Epoch 156/200\n",
            "10/10 [==============================] - 0s 21ms/step - loss: 0.0304\n",
            "Epoch 157/200\n",
            "10/10 [==============================] - 0s 21ms/step - loss: 0.0288\n",
            "Epoch 158/200\n",
            "10/10 [==============================] - 0s 19ms/step - loss: 0.0221\n",
            "Epoch 159/200\n",
            "10/10 [==============================] - 0s 24ms/step - loss: 0.0244\n",
            "Epoch 160/200\n",
            "10/10 [==============================] - 0s 25ms/step - loss: 0.0278\n",
            "Epoch 161/200\n",
            "10/10 [==============================] - 0s 22ms/step - loss: 0.0265\n",
            "Epoch 162/200\n",
            "10/10 [==============================] - 0s 19ms/step - loss: 0.0236\n",
            "Epoch 163/200\n",
            "10/10 [==============================] - 0s 22ms/step - loss: 0.0278\n",
            "Epoch 164/200\n",
            "10/10 [==============================] - 0s 20ms/step - loss: 0.0223\n",
            "Epoch 165/200\n",
            "10/10 [==============================] - 0s 22ms/step - loss: 0.0210\n",
            "Epoch 166/200\n",
            "10/10 [==============================] - 0s 25ms/step - loss: 0.0224\n",
            "Epoch 167/200\n",
            "10/10 [==============================] - 0s 20ms/step - loss: 0.0253\n",
            "Epoch 168/200\n",
            "10/10 [==============================] - 0s 20ms/step - loss: 0.0194\n",
            "Epoch 169/200\n",
            "10/10 [==============================] - 0s 22ms/step - loss: 0.0207\n",
            "Epoch 170/200\n",
            "10/10 [==============================] - 0s 20ms/step - loss: 0.0270\n",
            "Epoch 171/200\n",
            "10/10 [==============================] - 0s 19ms/step - loss: 0.0190\n",
            "Epoch 172/200\n",
            "10/10 [==============================] - 0s 21ms/step - loss: 0.0262\n",
            "Epoch 173/200\n",
            "10/10 [==============================] - 0s 20ms/step - loss: 0.0266\n",
            "Epoch 174/200\n",
            "10/10 [==============================] - 0s 21ms/step - loss: 0.0276\n",
            "Epoch 175/200\n",
            "10/10 [==============================] - 0s 19ms/step - loss: 0.0224\n",
            "Epoch 176/200\n",
            "10/10 [==============================] - 0s 22ms/step - loss: 0.0194\n",
            "Epoch 177/200\n",
            "10/10 [==============================] - 0s 20ms/step - loss: 0.0232\n",
            "Epoch 178/200\n",
            "10/10 [==============================] - 0s 21ms/step - loss: 0.0221\n",
            "Epoch 179/200\n",
            "10/10 [==============================] - 0s 19ms/step - loss: 0.0223\n",
            "Epoch 180/200\n",
            "10/10 [==============================] - 0s 22ms/step - loss: 0.0180\n",
            "Epoch 181/200\n",
            "10/10 [==============================] - 0s 20ms/step - loss: 0.0176\n",
            "Epoch 182/200\n",
            "10/10 [==============================] - 0s 21ms/step - loss: 0.0199\n",
            "Epoch 183/200\n",
            "10/10 [==============================] - 0s 21ms/step - loss: 0.0167\n",
            "Epoch 184/200\n",
            "10/10 [==============================] - 0s 20ms/step - loss: 0.0128\n",
            "Epoch 185/200\n",
            "10/10 [==============================] - 0s 19ms/step - loss: 0.0194\n",
            "Epoch 186/200\n",
            "10/10 [==============================] - 0s 19ms/step - loss: 0.0247\n",
            "Epoch 187/200\n",
            "10/10 [==============================] - 0s 22ms/step - loss: 0.0134\n",
            "Epoch 188/200\n",
            "10/10 [==============================] - 0s 22ms/step - loss: 0.0212\n",
            "Epoch 189/200\n",
            "10/10 [==============================] - 0s 20ms/step - loss: 0.0156\n",
            "Epoch 190/200\n",
            "10/10 [==============================] - 0s 19ms/step - loss: 0.0255\n",
            "Epoch 191/200\n",
            "10/10 [==============================] - 0s 22ms/step - loss: 0.0221\n",
            "Epoch 192/200\n",
            "10/10 [==============================] - 0s 21ms/step - loss: 0.0191\n",
            "Epoch 193/200\n",
            "10/10 [==============================] - 0s 26ms/step - loss: 0.0157\n",
            "Epoch 194/200\n",
            "10/10 [==============================] - 0s 21ms/step - loss: 0.0162\n",
            "Epoch 195/200\n",
            "10/10 [==============================] - 0s 22ms/step - loss: 0.0136\n",
            "Epoch 196/200\n",
            "10/10 [==============================] - 0s 25ms/step - loss: 0.0171\n",
            "Epoch 197/200\n",
            "10/10 [==============================] - 0s 19ms/step - loss: 0.0188\n",
            "Epoch 198/200\n",
            "10/10 [==============================] - 0s 20ms/step - loss: 0.0178\n",
            "Epoch 199/200\n",
            "10/10 [==============================] - 0s 20ms/step - loss: 0.0196\n",
            "Epoch 200/200\n",
            "10/10 [==============================] - 0s 20ms/step - loss: 0.0193\n"
          ],
          "name": "stdout"
        },
        {
          "output_type": "execute_result",
          "data": {
            "text/plain": [
              "<tensorflow.python.keras.callbacks.History at 0x7f0deae9be10>"
            ]
          },
          "metadata": {
            "tags": []
          },
          "execution_count": 57
        }
      ]
    },
    {
      "cell_type": "markdown",
      "metadata": {
        "id": "Uy3jPUNzd47p"
      },
      "source": [
        "## Step 3: Making Predictions and visualizing the results"
      ]
    },
    {
      "cell_type": "code",
      "metadata": {
        "id": "aVAYymhvhGBc"
      },
      "source": [
        "# Save the model\n",
        "gru.save('MilkProduction_Model1_200Epochs.h5')"
      ],
      "execution_count": 58,
      "outputs": []
    },
    {
      "cell_type": "code",
      "metadata": {
        "id": "FJeazn0aiPqj",
        "outputId": "843bdd66-6252-41bc-fccf-f0fdf0365e30",
        "colab": {
          "base_uri": "https://localhost:8080/",
          "height": 281
        }
      },
      "source": [
        "predicted_y = gru.predict(X_train)\n",
        "predicted_y = sc.inverse_transform(predicted_y)\n",
        "\n",
        "#%%\n",
        "# Visualising the result\n",
        "plt.plot(train_set, color = 'red', label = 'Real Milk Production')\n",
        "plt.plot(predicted_y, color = 'blue', label = 'Predicted Milk Production')\n",
        "plt.title(\"Milk Production Prediction\")\n",
        "plt.show()"
      ],
      "execution_count": 59,
      "outputs": [
        {
          "output_type": "display_data",
          "data": {
            "image/png": "[encoded data removed]",
            "text/plain": [
              "<Figure size 432x288 with 1 Axes>"
            ]
          },
          "metadata": {
            "tags": [],
            "needs_background": "light"
          }
        }
      ]
    }
  ]
}